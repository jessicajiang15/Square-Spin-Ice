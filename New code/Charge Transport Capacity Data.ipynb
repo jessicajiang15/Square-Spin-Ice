{
 "cells": [
  {
   "cell_type": "code",
   "execution_count": 1,
   "id": "469e8f23-d5c3-4913-ae13-0e177b3e99f0",
   "metadata": {},
   "outputs": [
    {
     "name": "stderr",
     "output_type": "stream",
     "text": [
      "WARNING: using ITensors.delta in module Main conflicts with an existing identifier.\n"
     ]
    },
    {
     "data": {
      "text/plain": [
       "testtttt (generic function with 1 method)"
      ]
     },
     "execution_count": 1,
     "metadata": {},
     "output_type": "execute_result"
    }
   ],
   "source": [
    "using Plots\n",
    "using SparseArrays\n",
    "using Random\n",
    "using Combinatorics\n",
    "using LinearAlgebra, Test\n",
    "using Arpack\n",
    "using LaTeXStrings\n",
    "include(\"unitTests.jl\")"
   ]
  },
  {
   "cell_type": "code",
   "execution_count": 2,
   "id": "4701fd6d-2505-4d07-95c8-17bf046f39fe",
   "metadata": {},
   "outputs": [
    {
     "data": {
      "text/plain": [
       "construct_disordered_interacting_hamiltonian_nearest_neighbor (generic function with 3 methods)"
      ]
     },
     "execution_count": 2,
     "metadata": {},
     "output_type": "execute_result"
    }
   ],
   "source": [
    "# Method to construct 1D Hamiltonian of spinless hardcore bosons with nearest neighbor interactions, hoppings, and onsite potentials h\n",
    "# N is the number of sites\n",
    "# J is the interaction energies (size N-1 if pbc=false, otherwise size N). J[j] is the interaction between j, j+1\n",
    "# t: hoppings at each link, size N-1 if pbc=false, otherwise size N. t[j] is hopping between j and j+1\n",
    "# computational basis\n",
    "# pbc= true by default\n",
    "# need to return list of largest off diagonal elements\n",
    "# build a sparse Hamiltonian\n",
    "function construct_disordered_interacting_hamiltonian_nearest_neighbor(N, J, h, t, pbc=true, method=\"full\")\n",
    "    cols::Vector{Int}=Int[];\n",
    "    rows::Vector{Int}=Int[];\n",
    "    values::Vector{Float64}=Float64[];\n",
    "\n",
    "    # get the off-diagonal terms with the largest coefficient\n",
    "    max_index = argmax(t)\n",
    "\n",
    "    if(method==\"full\")\n",
    "        H=zeros(Float64, 2^(N), 2^(N));\n",
    "    end\n",
    "\n",
    "    off_diags = zeros(Float64, N)\n",
    "\n",
    "    # need to find all states that correspond to a particular hopping, and also store the largest of-diagonal element\n",
    "    index_list = [[] for i=1:N]\n",
    "\n",
    "    # Loop through all the states in the computational basis\n",
    "    for i=0:2^(N)-1\n",
    "        # Loop through all the sites\n",
    "        # Keep track of the digaonal energy terms associated with this particular state \n",
    "        energy_of_i = 0\n",
    "        for j=1:N\n",
    "            # First we deal with interactions\n",
    "            # get the occupation at the jth position for the state i\n",
    "            next_site=0\n",
    "\n",
    "            # occupation at current site\n",
    "            occupation=getTi(j-1, i)\n",
    "\n",
    "            # occupation at the neighboring site\n",
    "            occupation_next=0\n",
    "            # get its neighbors occupation. If not PBC and last site, there's no neighbor. If PBC, it's neighbors with the first site\n",
    "            if(j<N)\n",
    "                occupation_next=getTi(j, i)\n",
    "            else\n",
    "                # if periodic boundary conditions, we get the first site\n",
    "                if(pbc)\n",
    "                    occupation_next=getTi(0, i)               \n",
    "                end\n",
    "            end\n",
    "\n",
    "            # the nearest neighbor interaction is the multiplication of the occupations and the interaction strength at link i J[i]\n",
    "            energy_of_i += J[j]*occupation*occupation_next\n",
    "\n",
    "            # We add onsite potentials\n",
    "            energy_of_i += + h[j]*occupation\n",
    "\n",
    "            # We now deal with hopping\n",
    "            next_site = 0\n",
    "            if(!pbc && j==N)\n",
    "                continue\n",
    "            end\n",
    "            # flip the occupation at site j, then i\n",
    "            if(occupation + occupation_next == 1)\n",
    "                next_ind = j == N ? 0 : j\n",
    "                hopping_state = flipBit(next_ind, flipBit(j-1, i))        \n",
    "                # push the hopping energy to the off-diagonal element\n",
    "                push!(rows, i+1)\n",
    "                push!(cols, hopping_state+1)\n",
    "                push!(values, -t[j]/2)\n",
    "\n",
    "                push!(rows, hopping_state+1)\n",
    "                push!(cols, i+1)\n",
    "                push!(values, -t[j]/2)\n",
    "\n",
    "\n",
    "                if(i<hopping_state)\n",
    "                    push!(index_list[j], (i+1, hopping_state+1))\n",
    "                end\n",
    "                \n",
    "                # and the hermitian conjugate\n",
    "                if(method==\"full\")\n",
    "                    H[hopping_state+1, i+1]-=t[j]/2;\n",
    "                    H[i+1,hopping_state+1]-=t[j]/2;\n",
    "                end\n",
    "            end\n",
    "        end\n",
    "        push!(rows, i+1);\n",
    "        push!(cols, i+1);\n",
    "        push!(values, energy_of_i)\n",
    "        if(method==\"full\")\n",
    "            H[i+1, i+1]=energy_of_i;\n",
    "        end\n",
    "    end\n",
    "    \n",
    "    if(method==\"sparse\")\n",
    "            H=sparse(rows, cols, values);\n",
    "    end\n",
    "\n",
    "    return (H, index_list);\n",
    "end"
   ]
  },
  {
   "cell_type": "code",
   "execution_count": 3,
   "id": "f590dc7f-8d97-4513-a8f3-2179f85f1d22",
   "metadata": {},
   "outputs": [
    {
     "data": {
      "text/plain": [
       "construct_disordered_interacting_hamiltonian_next_nearest_neighbor (generic function with 3 methods)"
      ]
     },
     "execution_count": 3,
     "metadata": {},
     "output_type": "execute_result"
    }
   ],
   "source": [
    "# Method to construct 1D Hamiltonian of spinless hardcore bosons with nearest neighbor interactions, hoppings, and onsite potentials h\n",
    "# N is the number of sites\n",
    "# J is the interaction energies (size N-1 if pbc=false, otherwise size N). J[j] is the interaction between j, j+1\n",
    "# t: hoppings at each link, size N-1 if pbc=false, otherwise size N. t[j] is hopping between j and j+1\n",
    "# computational basis\n",
    "# pbc= true by default\n",
    "# need to return list of largest off diagonal elements\n",
    "# build a sparse Hamiltonian\n",
    "function construct_disordered_interacting_hamiltonian_next_nearest_neighbor(N, J, h, t, pbc=true, method=\"full\")\n",
    "    cols::Vector{Int}=Int[];\n",
    "    rows::Vector{Int}=Int[];\n",
    "    values::Vector{Float64}=Float64[];\n",
    "\n",
    "    # get the off-diagonal terms with the largest coefficient\n",
    "    max_index = argmax(t)\n",
    "\n",
    "    if(method==\"full\")\n",
    "        H=zeros(Float64, 2^(N), 2^(N));\n",
    "    end\n",
    "\n",
    "    off_diags = zeros(Float64, N)\n",
    "\n",
    "    # need to find all states that correspond to a particular hopping, and also store the largest of-diagonal element\n",
    "    index_list = [[] for i=1:N]\n",
    "\n",
    "    # Loop through all the states in the computational basis\n",
    "    for i=0:2^(N)-1\n",
    "        # Loop through all the sites\n",
    "        # Keep track of the digaonal energy terms associated with this particular state \n",
    "        energy_of_i = 0\n",
    "        for j=1:N\n",
    "            # First we deal with interactions\n",
    "            # get the occupation at the jth position for the state i\n",
    "            next_site=0\n",
    "\n",
    "            # occupation at current site\n",
    "            occupation=getTi(j-1, i)\n",
    "\n",
    "            # occupation at the neighboring site\n",
    "            occupation_next=0\n",
    "            # get its neighbors occupation. If not PBC and last site, there's no neighbor. If PBC, it's neighbors with the first site\n",
    "\n",
    "            occupation_next=getTi(j+1 , i)\n",
    "            if(j+2<=N)\n",
    "                # note that j is index 1 while getTi takes index 0\n",
    "                occupation_next=getTi(j+1, i)\n",
    "            else\n",
    "                # if periodic boundary conditions, we get the first site\n",
    "                if(pbc)\n",
    "                    occupation_next=getTi((j+2)%(N+1) , i)               \n",
    "                end\n",
    "            end\n",
    "\n",
    "            # the nearest neighbor interaction is the multiplication of the occupations and the interaction strength at link i J[i]\n",
    "            energy_of_i += J[j]*occupation*occupation_next\n",
    "\n",
    "            # We add onsite potentials\n",
    "            energy_of_i += + h[j]*occupation\n",
    "\n",
    "            # We now deal with hopping\n",
    "            next_site = 0\n",
    "            if(!pbc && j==N)\n",
    "                continue\n",
    "            end\n",
    "\n",
    "            # occupation at the neighboring site\n",
    "            occupation_next_hopping=0\n",
    "            # get its neighbors occupation. If not PBC and last site, there's no neighbor. If PBC, it's neighbors with the first site\n",
    "            if(j<N)\n",
    "                occupation_next_hopping=getTi(j, i)\n",
    "            else\n",
    "                # if periodic boundary conditions, we get the first site\n",
    "                if(pbc)\n",
    "                    occupation_next_hopping=getTi(0, i)               \n",
    "                end\n",
    "            end\n",
    "            \n",
    "            # flip the occupation at site j, then i\n",
    "            if(occupation + occupation_next_hopping == 1)\n",
    "                next_ind = j == N ? 0 : j\n",
    "                hopping_state = flipBit(next_ind, flipBit(j-1, i))        \n",
    "                # push the hopping energy to the off-diagonal element\n",
    "                push!(rows, i+1)\n",
    "                push!(cols, hopping_state+1)\n",
    "                push!(values, -t[j]/2)\n",
    "\n",
    "                push!(rows, hopping_state+1)\n",
    "                push!(cols, i+1)\n",
    "                push!(values, -t[j]/2)\n",
    "\n",
    "                if(i<hopping_state)\n",
    "                    push!(index_list[j], (i+1, hopping_state+1))\n",
    "                end\n",
    "                \n",
    "                # and the hermitian conjugate\n",
    "                if(method==\"full\")\n",
    "                    H[hopping_state+1, i+1]-=t[j]/2;\n",
    "                    H[i+1,hopping_state+1]-=t[j]/2;\n",
    "                end\n",
    "            end\n",
    "        end\n",
    "        push!(rows, i+1);\n",
    "        push!(cols, i+1);\n",
    "        push!(values, energy_of_i)\n",
    "        if(method==\"full\")\n",
    "            H[i+1, i+1]=energy_of_i;\n",
    "        end\n",
    "    end\n",
    "    \n",
    "    if(method==\"sparse\")\n",
    "            H=sparse(rows, cols, values);\n",
    "    end\n",
    "\n",
    "    return (H, index_list);\n",
    "end"
   ]
  },
  {
   "cell_type": "code",
   "execution_count": 4,
   "id": "b05aa494-9b98-40dd-9276-6a75f860dc10",
   "metadata": {},
   "outputs": [
    {
     "data": {
      "text/plain": [
       "construct_disordered_interacting_hamiltonian_nearest_neighbor_half_filling (generic function with 3 methods)"
      ]
     },
     "execution_count": 4,
     "metadata": {},
     "output_type": "execute_result"
    }
   ],
   "source": [
    "function kbits(n::Int, k::Int)\n",
    "    result = String[]\n",
    "    for bits in combinations(1:n, k)\n",
    "        s = fill('0', n)\n",
    "        for bit in bits\n",
    "            s[bit] = '1'\n",
    "        end\n",
    "        push!(result, join(s))\n",
    "    end\n",
    "    return result\n",
    "end\n",
    "\n",
    "# \n",
    "function construct_map_of_half_filling_states(L)\n",
    "    temp=sort([parse(Int, x; base=2) for x in kbits(L, div(L, 2))], rev=false)\n",
    "    dict=Dict{Int, Int}()\n",
    "    count=1\n",
    "    for t in temp\n",
    "        dict[t]=count\n",
    "        count+=1\n",
    "    end\n",
    "    return dict\n",
    "end\n",
    "\n",
    "# \n",
    "function construct_map_of_n_filling_states(L, n)\n",
    "    temp=([parse(Int, x; base=2) for x in kbits(L, n)])\n",
    "    dict=Dict{Int, Int}()\n",
    "    count=1\n",
    "    for t in temp\n",
    "        dict[t]=count\n",
    "        count+=1\n",
    "    end\n",
    "    return dict\n",
    "end\n",
    "\n",
    "# Method to construct 1D Hamiltonian of spinless hardcore bosons with nearest neighbor interactions, hoppings, and onsite potentials h\n",
    "# N is the number of sites\n",
    "# J is the interaction energies (size N-1 if pbc=false, otherwise size N). J[j] is the interaction between j, j+1\n",
    "# t: hoppings at each link, size N-1 if pbc=false, otherwise size N. t[j] is hopping between j and j+1\n",
    "# computational basis\n",
    "# pbc= true by default\n",
    "# need to return list of largest off diagonal elements\n",
    "# build a sparse Hamiltonian\n",
    "function construct_disordered_interacting_hamiltonian_nearest_neighbor_half_filling(N, J, h, t, map_half_filling_states, pbc=true, method=\"full\")\n",
    "    cols::Vector{Int}=Int[];\n",
    "    rows::Vector{Int}=Int[];\n",
    "    values::Vector{Float64}=Float64[];\n",
    "\n",
    "    # get the off-diagonal terms with the largest coefficient\n",
    "    max_index = argmax(t)\n",
    "    all_states=collect(Base.keys(map_half_filling_states))\n",
    "    #println(all_states)\n",
    "\n",
    "    if(method==\"full\")\n",
    "        H=zeros(Float64, (length(all_states)), (length(all_states)));\n",
    "    end\n",
    "\n",
    "    off_diags = zeros(Float64, N)\n",
    "\n",
    "    # need to find all states that correspond to a particular hopping, and also store the largest of-diagonal element\n",
    "    index_list = [[] for i=1:N]\n",
    "\n",
    "    # Loop through all the computational basis states in the half-filling sector\n",
    "    for i in all_states\n",
    "        # Loop through all the sites\n",
    "        # Keep track of the digaonal energy terms associated with this particular state \n",
    "        energy_of_i = 0\n",
    "        i_index=map_half_filling_states[i]\n",
    "        for j=1:N\n",
    "            # First we deal with interactions\n",
    "            # get the occupation at the jth position for the state i\n",
    "            next_site=0\n",
    "\n",
    "            # occupation at current site\n",
    "            occupation=getTi(j-1, i)\n",
    "\n",
    "            # occupation at the neighboring site\n",
    "            occupation_next=0\n",
    "            # get its neighbors occupation. If not PBC and last site, there's no neighbor. If PBC, it's neighbors with the first site\n",
    "            if(j<N)\n",
    "                occupation_next=getTi(j, i)\n",
    "            else\n",
    "                # if periodic boundary conditions, we get the first site\n",
    "                if(pbc)\n",
    "                    occupation_next=getTi(0, i)               \n",
    "                end\n",
    "            end\n",
    "\n",
    "            # the nearest neighbor interaction is the multiplication of the occupations and the interaction strength at link i J[i]\n",
    "            energy_of_i += J[j]*occupation*occupation_next\n",
    "\n",
    "            # We add onsite potentials\n",
    "            energy_of_i += + h[j]*occupation\n",
    "\n",
    "            # We now deal with hopping\n",
    "            next_site = 0\n",
    "\n",
    "            if(!pbc && j==N)\n",
    "                continue\n",
    "            end\n",
    "            # flip the occupation at site j, then i\n",
    "            if(occupation + occupation_next == 1)\n",
    "                # note that j is the next site\n",
    "                next_ind = j == N ? 0 : j\n",
    "                hopping_state = flipBit(next_ind, flipBit(j-1, i)) \n",
    "\n",
    "                hopping_state_index=map_half_filling_states[hopping_state]\n",
    "                # push the hopping energy to the off-diagonal element\n",
    "                push!(rows, i_index)\n",
    "                push!(cols, hopping_state_index)\n",
    "                push!(values, -t[j]/2)\n",
    "\n",
    "                push!(rows, hopping_state_index)\n",
    "                push!(cols, i_index)\n",
    "                push!(values, -t[j]/2)\n",
    "\n",
    "                if(i<hopping_state)\n",
    "                    push!(index_list[j], (i_index, hopping_state_index))\n",
    "                end\n",
    "                \n",
    "                # and the hermitian conjugate\n",
    "                if(method==\"full\")\n",
    "                    H[hopping_state_index, i_index]-=t[j]/2;\n",
    "                    H[i_index,hopping_state_index]-=t[j]/2;\n",
    "                end\n",
    "            end\n",
    "        end\n",
    "        push!(rows, i_index);\n",
    "        push!(cols, i_index);\n",
    "        push!(values, energy_of_i)\n",
    "        if(method==\"full\")\n",
    "            H[i_index, i_index]=energy_of_i;\n",
    "        end\n",
    "    end\n",
    "    \n",
    "    if(method==\"sparse\")\n",
    "            H=sparse(rows, cols, values);\n",
    "    end\n",
    "\n",
    "    return (H, index_list);\n",
    "end"
   ]
  },
  {
   "cell_type": "code",
   "execution_count": 5,
   "id": "5b240929-248c-437f-9931-ab9c14d3292f",
   "metadata": {},
   "outputs": [
    {
     "data": {
      "text/plain": [
       "construct_disordered_interacting_hamiltonian_next_nearest_neighbor_half_filling (generic function with 3 methods)"
      ]
     },
     "execution_count": 5,
     "metadata": {},
     "output_type": "execute_result"
    }
   ],
   "source": [
    "# Method to construct 1D Hamiltonian of spinless hardcore bosons with NEXT nearest neighbor interactions, hoppings, and onsite potentials h\n",
    "# N is the number of sites\n",
    "# J is the interaction energies (size N-1 if pbc=false, otherwise size N). J[j] is the interaction between j, j+1\n",
    "# t: hoppings at each link, size N-1 if pbc=false, otherwise size N. t[j] is hopping between j and j+1\n",
    "# computational basis\n",
    "# pbc= true by default\n",
    "# need to return list of largest off diagonal elements\n",
    "# build a sparse Hamiltonian\n",
    "function construct_disordered_interacting_hamiltonian_next_nearest_neighbor_half_filling(N, J, h, t, map_half_filling_states, pbc=true, method=\"full\")\n",
    "    cols::Vector{Int}=Int[];\n",
    "    rows::Vector{Int}=Int[];\n",
    "    values::Vector{Float64}=Float64[];\n",
    "\n",
    "    # get the off-diagonal terms with the largest coefficient\n",
    "    max_index = argmax(t)\n",
    "    all_states=collect(Base.keys(map_half_filling_states))\n",
    "    #println(all_states)\n",
    "\n",
    "    if(method==\"full\")\n",
    "        H=zeros(Float64, (length(all_states)), (length(all_states)));\n",
    "    end\n",
    "\n",
    "    off_diags = zeros(Float64, N)\n",
    "\n",
    "    # need to find all states that correspond to a particular hopping, and also store the largest of-diagonal element\n",
    "    index_list = [[] for i=1:N]\n",
    "\n",
    "    # Loop through all the computational basis states in the half-filling sector\n",
    "    for i in all_states\n",
    "        # Loop through all the sites\n",
    "        # Keep track of the digaonal energy terms associated with this particular state \n",
    "        energy_of_i = 0\n",
    "        i_index=map_half_filling_states[i]\n",
    "        for j=1:N\n",
    "            # First we deal with interactions\n",
    "            # get the occupation at the jth position for the state i\n",
    "            next_site=0\n",
    "\n",
    "            # occupation at current site\n",
    "            occupation=getTi(j-1, i)\n",
    "\n",
    "            # occupation at the neighboring site\n",
    "            occupation_next=0\n",
    "            # get its neighbors occupation. If not PBC and last site, there's no neighbor. If PBC, it's neighbors with the first site\n",
    "\n",
    "            occupation_next=getTi(j+1 , i)\n",
    "            if(j+2<=N)\n",
    "                # note that j is index 1 while getTi takes index 0\n",
    "                occupation_next=getTi(j+1, i)\n",
    "            else\n",
    "                # if periodic boundary conditions, we get the first site\n",
    "                if(pbc)\n",
    "                    occupation_next=getTi((j+2)%(N+1) , i)               \n",
    "                end\n",
    "            end\n",
    "\n",
    "            # the nearest neighbor interaction is the multiplication of the occupations and the interaction strength at link i J[i]\n",
    "            energy_of_i += J[j]*occupation*occupation_next\n",
    "\n",
    "            # We add onsite potentials\n",
    "            energy_of_i += + h[j]*occupation\n",
    "\n",
    "            # We now deal with hopping\n",
    "            next_site = 0\n",
    "            if(!pbc && j==N)\n",
    "                continue\n",
    "            end\n",
    "\n",
    "            # occupation at the neighboring site\n",
    "            occupation_next_hopping=0\n",
    "            # get its neighbors occupation. If not PBC and last site, there's no neighbor. If PBC, it's neighbors with the first site\n",
    "            if(j<N)\n",
    "                occupation_next_hopping=getTi(j, i)\n",
    "            else\n",
    "                # if periodic boundary conditions, we get the first site\n",
    "                if(pbc)\n",
    "                    occupation_next_hopping=getTi(0, i)               \n",
    "                end\n",
    "            end\n",
    "            \n",
    "            # flip the occupation at site j, then i\n",
    "            if(occupation + occupation_next_hopping == 1)\n",
    "                # note that j is the next site\n",
    "                next_ind = j == N ? 0 : j\n",
    "                hopping_state = flipBit(next_ind, flipBit(j-1, i)) \n",
    "\n",
    "                hopping_state_index=map_half_filling_states[hopping_state]\n",
    "                # push the hopping energy to the off-diagonal element\n",
    "                push!(rows, i_index)\n",
    "                push!(cols, hopping_state_index)\n",
    "                push!(values, -t[j]/2)\n",
    "\n",
    "                push!(rows, hopping_state_index)\n",
    "                push!(cols, i_index)\n",
    "                push!(values, -t[j]/2)\n",
    "\n",
    "                if(i<hopping_state)\n",
    "                    push!(index_list[j], (i_index, hopping_state_index))\n",
    "                end\n",
    "                \n",
    "                # and the hermitian conjugate\n",
    "                if(method==\"full\")\n",
    "                    H[hopping_state_index, i_index]-=t[j]/2;\n",
    "                    H[i_index,hopping_state_index]-=t[j]/2;\n",
    "                end\n",
    "            end\n",
    "        end\n",
    "        push!(rows, i_index);\n",
    "        push!(cols, i_index);\n",
    "        push!(values, energy_of_i)\n",
    "        if(method==\"full\")\n",
    "            H[i_index, i_index]=energy_of_i;\n",
    "        end\n",
    "    end\n",
    "    \n",
    "    if(method==\"sparse\")\n",
    "            H=sparse(rows, cols, values);\n",
    "    end\n",
    "\n",
    "    return (H, index_list);\n",
    "end"
   ]
  },
  {
   "cell_type": "code",
   "execution_count": 6,
   "id": "d76aea32-3282-4107-914e-159431c349ec",
   "metadata": {},
   "outputs": [
    {
     "data": {
      "text/plain": [
       "get_N_R_operator_computational_basis (generic function with 1 method)"
      ]
     },
     "execution_count": 6,
     "metadata": {},
     "output_type": "execute_result"
    }
   ],
   "source": [
    "# number operator at site j, j=1...N\n",
    "# can rotate back to the original basis to see its structure\n",
    "function get_number_operator(j, L)\n",
    "    cols::Vector{Int}=Int[];\n",
    "    rows::Vector{Int}=Int[];\n",
    "    values::Vector{Float64}=Float64[];\n",
    "    for i=0:2^L-1\n",
    "        occupation=getTi(j-1, i)\n",
    "        if(occupation==1)\n",
    "            push!(cols, i+1)\n",
    "            push!(rows, i+1)\n",
    "            push!(values, 1)\n",
    "        end\n",
    "    end\n",
    "    return sparse(rows, cols, values)\n",
    "end\n",
    "\n",
    "function get_number_operator_dense(j, L)\n",
    "    N=zeros(Float64, 2^L, 2^L)\n",
    "    for i=0:2^L-1\n",
    "        occupation=getTi(j-1, i)\n",
    "        if(occupation==1)\n",
    "            N[i+1, i+1] = 1\n",
    "        end\n",
    "    end\n",
    "    return N\n",
    "end\n",
    "\n",
    "function get_total_number_operator(L)\n",
    "    cols::Vector{Int}=Int[];\n",
    "    rows::Vector{Int}=Int[];\n",
    "    values::Vector{Float64}=Float64[];\n",
    "    for i=0:2^L-1\n",
    "        push!(cols, i+1)\n",
    "        push!(rows, i+1)\n",
    "        push!(values, countBits(n))\n",
    "    end\n",
    "    return sparse(rows, cols, values)\n",
    "end\n",
    "\n",
    "function get_total_number_operator_dense(L)\n",
    "    N=zeros(Float64, 2^L, 2^L)\n",
    "    for i=0:2^L-1\n",
    "        N[i+1, i+1] = countBits(i)\n",
    "    end\n",
    "    return N\n",
    "end\n",
    "\n",
    "# includes the site at i_0\n",
    "function get_N_R_operator(L, i_0)\n",
    "    N=zeros(Float64, 2^L, 2^L)\n",
    "    for i=0:2^L-1\n",
    "        N[i+1, i+1] = countBits(i & (2^i_0 - 1))\n",
    "    end\n",
    "    return N\n",
    "end\n",
    "\n",
    "function get_N_R_operator(L, map, i_0)\n",
    "    the_values=(collect(keys(map)))\n",
    "    N=zeros(Float64, length(the_values), length(the_values))\n",
    "    for i in the_values\n",
    "        index=map[i]\n",
    "        N[index, index] = countBits(i & (2^i_0 - 1))\n",
    "    end\n",
    "    return N\n",
    "end\n",
    "\n",
    "function get_N_L_operator(L, i_0)\n",
    "    N=zeros(Float64, 2^L, 2^L)\n",
    "    for i=0:2^L-1\n",
    "        N[i+1, i+1] = countBits(i & ((2^i_0 - 1) << i_0 ))\n",
    "    end\n",
    "    return N\n",
    "end\n",
    "\n",
    "function get_N_L_operator(L, map, i_0)\n",
    "    the_values=(collect(keys(map)))\n",
    "    N=zeros(Float64, length(the_values), length(the_values))\n",
    "    for i in the_values\n",
    "        index=map[i]\n",
    "        N[index, index] = countBits(i & ((2^i_0 - 1) << i_0 ))\n",
    "    end\n",
    "    return N\n",
    "end\n",
    "\n",
    "function get_N_R_operator_non_interacting(L, i_0)\n",
    "    N=zeros(Float64, L, L)\n",
    "    for i=1:L\n",
    "        N[i, i] = i<=i_0 ? 1 : 0\n",
    "    end\n",
    "    return N\n",
    "end\n",
    "\n",
    "function get_N_R_operator_eigenstate_basis(L, eigenstates, i_0)\n",
    "    N_R=get_N_R_operator(L, i_0)\n",
    "    N_R=eigenstates'*N_R*eigenstates\n",
    "    N_R=N_R-Diagonal(diag(N_R))\n",
    "    return N_R\n",
    "end\n",
    "\n",
    "function get_N_R_operator_eigenstate_basis(L, the_map,eigenstates, i_0)\n",
    "    N_R=get_N_R_operator(L,the_map, i_0)\n",
    "    N_R=eigenstates'*N_R*eigenstates\n",
    "    N_R=N_R-Diagonal(diag(N_R))\n",
    "    return N_R\n",
    "end\n",
    "\n",
    "\n",
    "function get_N_R_operator_computational_basis(L, eigenstates, i_0)\n",
    "        return\n",
    "end"
   ]
  },
  {
   "cell_type": "code",
   "execution_count": null,
   "id": "0da2f907-0235-43ac-a31a-a3e661f2df53",
   "metadata": {},
   "outputs": [],
   "source": []
  },
  {
   "cell_type": "markdown",
   "id": "08301d94-fec4-4526-bd8f-52cf9ea8a329",
   "metadata": {},
   "source": [
    "# Helpers for quench experiment"
   ]
  },
  {
   "cell_type": "code",
   "execution_count": 7,
   "id": "254bdbff-c0e2-400e-991a-98890e7eed6a",
   "metadata": {},
   "outputs": [
    {
     "data": {
      "text/plain": [
       "measure_number_particles_left_of_i_0 (generic function with 1 method)"
      ]
     },
     "execution_count": 7,
     "metadata": {},
     "output_type": "execute_result"
    }
   ],
   "source": [
    "# assume the eigenstates are in the computational basis for the half-filling sector\n",
    "# prepares the state with all particles on the right in the eigenstate basis\n",
    "function prepare_half_filling_state(eigenstates, map_states, L, i_0)\n",
    "    # the binary number corresponding to 111...00\n",
    "    half_filling_binary_no=2^(i_0)-1\n",
    "    \n",
    "    # the half filling state but rewritten in the eigenstate basis\n",
    "    half_filling_state=[]\n",
    "    index=map_states[half_filling_binary_no]\n",
    "    for i=1:length(eigenstates[:, 1])\n",
    "        push!(half_filling_state,eigenstates[index,i])\n",
    "    end\n",
    "    return half_filling_state\n",
    "end\n",
    "\n",
    "# prepares a state 000...111\n",
    "function prepare_half_filling_state(eigenstates, map_states, L, i_0)\n",
    "    # the binary number corresponding to 111...00\n",
    "    half_filling_binary_no=2^(i_0)-1\n",
    "\n",
    "    # index 1    \n",
    "    # the half filling state but rewritten in the eigenstate basis\n",
    "    half_filling_state=[]\n",
    "    index=map_states[half_filling_binary_no]\n",
    "    for i=1:length(eigenstates[:, 1])\n",
    "        push!(half_filling_state,eigenstates[index,i])\n",
    "    end\n",
    "    return half_filling_state\n",
    "end\n",
    "\n",
    "# assumes \"state\" is written in the eigenbasis\n",
    "# map_states is a map from state -> index. Fine as long as its consistent\n",
    "function measure_number_particles_right_of_i_0(state, the_map, eigenstates, L, i_0)\n",
    "    N_R=get_N_R_operator(L,the_map, i_0)\n",
    "    N_R=eigenstates'*N_R*eigenstates\n",
    "    return state' * N_R * state\n",
    "end\n",
    "\n",
    "function measure_number_particles_left_of_i_0(state, the_map, eigenstates, L, i_0)\n",
    "    N_R=get_N_L_operator(L,the_map, i_0)\n",
    "    N_R=eigenstates'*N_R*eigenstates\n",
    "    return state' * N_R * state\n",
    "end"
   ]
  },
  {
   "cell_type": "markdown",
   "id": "f543023b-4c31-4163-a8c4-5b852d13e0db",
   "metadata": {},
   "source": [
    "# Quench Experiment"
   ]
  },
  {
   "cell_type": "code",
   "execution_count": 36,
   "id": "5a9ae357-aab5-483b-8827-858e00469a0e",
   "metadata": {},
   "outputs": [
    {
     "ename": "LoadError",
     "evalue": "InterruptException:",
     "output_type": "error",
     "traceback": [
      "InterruptException:",
      "",
      "Stacktrace:",
      " [1] _generic_matvecmul!(C::Vector{Any}, tA::Char, A::Matrix{Float64}, B::Vector{Any}, _add::LinearAlgebra.MulAddMul{true, true, Bool, Bool})",
      "   @ LinearAlgebra ~/.julia/juliaup/julia-1.10.2+0.aarch64.apple.darwin14/share/julia/stdlib/v1.10/LinearAlgebra/src/matmul.jl:716",
      " [2] generic_matvecmul!",
      "   @ ~/.julia/juliaup/julia-1.10.2+0.aarch64.apple.darwin14/share/julia/stdlib/v1.10/LinearAlgebra/src/matmul.jl:687 [inlined]",
      " [3] mul!",
      "   @ ~/.julia/juliaup/julia-1.10.2+0.aarch64.apple.darwin14/share/julia/stdlib/v1.10/LinearAlgebra/src/matmul.jl:66 [inlined]",
      " [4] mul!",
      "   @ ~/.julia/juliaup/julia-1.10.2+0.aarch64.apple.darwin14/share/julia/stdlib/v1.10/LinearAlgebra/src/matmul.jl:237 [inlined]",
      " [5] *(A::Adjoint{Float64, Matrix{Float64}}, x::Vector{Any})",
      "   @ LinearAlgebra ~/.julia/juliaup/julia-1.10.2+0.aarch64.apple.darwin14/share/julia/stdlib/v1.10/LinearAlgebra/src/matmul.jl:57",
      " [6] *",
      "   @ ~/.julia/juliaup/julia-1.10.2+0.aarch64.apple.darwin14/share/julia/stdlib/v1.10/LinearAlgebra/src/matmul.jl:87 [inlined]",
      " [7] *",
      "   @ ~/.julia/juliaup/julia-1.10.2+0.aarch64.apple.darwin14/share/julia/stdlib/v1.10/LinearAlgebra/src/matmul.jl:1146 [inlined]",
      " [8] measure_number_particles_left_of_i_0(state::Vector{Any}, the_map::Dict{Int64, Int64}, eigenstates::Matrix{Float64}, L::Int64, i_0::Int64)",
      "   @ Main ./In[7]:54",
      " [9] top-level scope",
      "   @ ./In[36]:27"
     ]
    }
   ],
   "source": [
    "# 500 disorder realizations\n",
    "iterations=1\n",
    "L= 12; # system size\n",
    "T = 1 # random hopping strength\n",
    "t = T*ones(Float64, L); #hopping\n",
    "#t = ones(L)\n",
    "W = 10; # disorder strength\n",
    "the_map=construct_map_of_n_filling_states(L, div(L,2))\n",
    "d=Uniform(-1,1)\n",
    "J_mag=0.2\n",
    "i_0=div(L,2)\n",
    "J = J_mag*ones(Float64, L); # interactions\n",
    "all_data=[]\n",
    "max_time=10000\n",
    "\n",
    "for i=1:iterations\n",
    "    h=W*rand(d, L)\n",
    "    H_half_filling, max_index_half=construct_disordered_interacting_hamiltonian_nearest_neighbor_half_filling(L, J, h, t,the_map, false, \"full\")\n",
    "    eigtemp=eigen(H_half_filling);\n",
    "    N_L=get_N_L_operator(L,the_map, i_0)\n",
    "    N_L=eigtemp.vectors'*N_L*eigtemp.vectors\n",
    "    particle_number=[]\n",
    "    the_states=prepare_half_filling_state(eigtemp.vectors, the_map, L, i_0)\n",
    "    \n",
    "    for t=0:max_time\n",
    "        time_evolved=time_evolve_state(the_states, eigtemp.values, t)\n",
    "        number_particles_left=measure_number_particles_left_of_i_0(time_evolved, the_map,eigtemp.vectors, L, i_0).re\n",
    "        push!(particle_number, number_particles_left)\n",
    "    end\n",
    "    println(particle_number)\n",
    "    push!(all_data, particle_number) \n",
    "end\n",
    "\n",
    "#save_object(\"8_11_quench_experiment=\"*string(W)*\", J=\"*string(J_mag)*\", t=\"*string(T)*\".jld2\", all_data)"
   ]
  },
  {
   "cell_type": "markdown",
   "id": "c68e7ad3-63ce-433e-9b30-c3fa2e745d0a",
   "metadata": {},
   "source": [
    "# Testing purposes"
   ]
  },
  {
   "cell_type": "code",
   "execution_count": 27,
   "id": "4377be32-9a22-4aa4-b595-40f92a5a9828",
   "metadata": {},
   "outputs": [
    {
     "data": {
      "image/png": "[encoded data removed]",
      "image/svg+xml": [
       "<?xml version=\"1.0\" encoding=\"utf-8\"?>\n",
       "<svg xmlns=\"http://www.w3.org/2000/svg\" xmlns:xlink=\"http://www.w3.org/1999/xlink\" width=\"600\" height=\"400\" viewBox=\"0 0 2400 1600\">\n",
       "<defs>\n",
       "  <clipPath id=\"clip410\">\n",
       "    <rect x=\"0\" y=\"0\" width=\"2400\" height=\"1600\"/>\n",
       "  </clipPath>\n",
       "</defs>\n",
       "<path clip-path=\"url(#clip410)\" d=\"M0 1600 L2400 1600 L2400 8.88178e-14 L0 8.88178e-14  Z\" fill=\"#ffffff\" fill-rule=\"evenodd\" fill-opacity=\"1\"/>\n",
       "<defs>\n",
       "  <clipPath id=\"clip411\">\n",
       "    <rect x=\"480\" y=\"0\" width=\"1681\" height=\"1600\"/>\n",
       "  </clipPath>\n",
       "</defs>\n",
       "<path clip-path=\"url(#clip410)\" d=\"M219.38 1423.18 L2352.76 1423.18 L2352.76 47.2441 L219.38 47.2441  Z\" fill=\"#ffffff\" fill-rule=\"evenodd\" fill-opacity=\"1\"/>\n",
       "<defs>\n",
       "  <clipPath id=\"clip412\">\n",
       "    <rect x=\"219\" y=\"47\" width=\"2134\" height=\"1377\"/>\n",
       "  </clipPath>\n",
       "</defs>\n",
       "<polyline clip-path=\"url(#clip412)\" style=\"stroke:#000000; stroke-linecap:round; stroke-linejoin:round; stroke-width:2; stroke-opacity:0.1; fill:none\" points=\"279.759,1423.18 279.759,47.2441 \"/>\n",
       "<polyline clip-path=\"url(#clip412)\" style=\"stroke:#000000; stroke-linecap:round; stroke-linejoin:round; stroke-width:2; stroke-opacity:0.1; fill:none\" points=\"615.195,1423.18 615.195,47.2441 \"/>\n",
       "<polyline clip-path=\"url(#clip412)\" style=\"stroke:#000000; stroke-linecap:round; stroke-linejoin:round; stroke-width:2; stroke-opacity:0.1; fill:none\" points=\"950.632,1423.18 950.632,47.2441 \"/>\n",
       "<polyline clip-path=\"url(#clip412)\" style=\"stroke:#000000; stroke-linecap:round; stroke-linejoin:round; stroke-width:2; stroke-opacity:0.1; fill:none\" points=\"1286.07,1423.18 1286.07,47.2441 \"/>\n",
       "<polyline clip-path=\"url(#clip412)\" style=\"stroke:#000000; stroke-linecap:round; stroke-linejoin:round; stroke-width:2; stroke-opacity:0.1; fill:none\" points=\"1621.5,1423.18 1621.5,47.2441 \"/>\n",
       "<polyline clip-path=\"url(#clip412)\" style=\"stroke:#000000; stroke-linecap:round; stroke-linejoin:round; stroke-width:2; stroke-opacity:0.1; fill:none\" points=\"1956.94,1423.18 1956.94,47.2441 \"/>\n",
       "<polyline clip-path=\"url(#clip412)\" style=\"stroke:#000000; stroke-linecap:round; stroke-linejoin:round; stroke-width:2; stroke-opacity:0.1; fill:none\" points=\"2292.38,1423.18 2292.38,47.2441 \"/>\n",
       "<polyline clip-path=\"url(#clip410)\" style=\"stroke:#000000; stroke-linecap:round; stroke-linejoin:round; stroke-width:4; stroke-opacity:1; fill:none\" points=\"219.38,1423.18 2352.76,1423.18 \"/>\n",
       "<polyline clip-path=\"url(#clip410)\" style=\"stroke:#000000; stroke-linecap:round; stroke-linejoin:round; stroke-width:4; stroke-opacity:1; fill:none\" points=\"279.759,1423.18 279.759,1404.28 \"/>\n",
       "<polyline clip-path=\"url(#clip410)\" style=\"stroke:#000000; stroke-linecap:round; stroke-linejoin:round; stroke-width:4; stroke-opacity:1; fill:none\" points=\"615.195,1423.18 615.195,1404.28 \"/>\n",
       "<polyline clip-path=\"url(#clip410)\" style=\"stroke:#000000; stroke-linecap:round; stroke-linejoin:round; stroke-width:4; stroke-opacity:1; fill:none\" points=\"950.632,1423.18 950.632,1404.28 \"/>\n",
       "<polyline clip-path=\"url(#clip410)\" style=\"stroke:#000000; stroke-linecap:round; stroke-linejoin:round; stroke-width:4; stroke-opacity:1; fill:none\" points=\"1286.07,1423.18 1286.07,1404.28 \"/>\n",
       "<polyline clip-path=\"url(#clip410)\" style=\"stroke:#000000; stroke-linecap:round; stroke-linejoin:round; stroke-width:4; stroke-opacity:1; fill:none\" points=\"1621.5,1423.18 1621.5,1404.28 \"/>\n",
       "<polyline clip-path=\"url(#clip410)\" style=\"stroke:#000000; stroke-linecap:round; stroke-linejoin:round; stroke-width:4; stroke-opacity:1; fill:none\" points=\"1956.94,1423.18 1956.94,1404.28 \"/>\n",
       "<polyline clip-path=\"url(#clip410)\" style=\"stroke:#000000; stroke-linecap:round; stroke-linejoin:round; stroke-width:4; stroke-opacity:1; fill:none\" points=\"2292.38,1423.18 2292.38,1404.28 \"/>\n",
       "<path clip-path=\"url(#clip410)\" d=\"M270.141 1481.64 L277.78 1481.64 L277.78 1455.28 L269.469 1456.95 L269.469 1452.69 L277.733 1451.02 L282.409 1451.02 L282.409 1481.64 L290.048 1481.64 L290.048 1485.58 L270.141 1485.58 L270.141 1481.64 Z\" fill=\"#000000\" fill-rule=\"nonzero\" fill-opacity=\"1\" /><path clip-path=\"url(#clip410)\" d=\"M609.848 1481.64 L626.167 1481.64 L626.167 1485.58 L604.223 1485.58 L604.223 1481.64 Q606.885 1478.89 611.468 1474.26 Q616.075 1469.61 617.255 1468.27 Q619.501 1465.74 620.38 1464.01 Q621.283 1462.25 621.283 1460.56 Q621.283 1457.8 619.339 1456.07 Q617.417 1454.33 614.316 1454.33 Q612.116 1454.33 609.663 1455.09 Q607.232 1455.86 604.454 1457.41 L604.454 1452.69 Q607.279 1451.55 609.732 1450.97 Q612.186 1450.39 614.223 1450.39 Q619.593 1450.39 622.788 1453.08 Q625.982 1455.77 625.982 1460.26 Q625.982 1462.39 625.172 1464.31 Q624.385 1466.2 622.278 1468.8 Q621.7 1469.47 618.598 1472.69 Q615.496 1475.88 609.848 1481.64 Z\" fill=\"#000000\" fill-rule=\"nonzero\" fill-opacity=\"1\" /><path clip-path=\"url(#clip410)\" d=\"M954.879 1466.95 Q958.236 1467.66 960.111 1469.93 Q962.009 1472.2 962.009 1475.53 Q962.009 1480.65 958.49 1483.45 Q954.972 1486.25 948.49 1486.25 Q946.314 1486.25 944 1485.81 Q941.708 1485.39 939.254 1484.54 L939.254 1480.02 Q941.199 1481.16 943.514 1481.74 Q945.828 1482.32 948.352 1482.32 Q952.75 1482.32 955.041 1480.58 Q957.356 1478.84 957.356 1475.53 Q957.356 1472.48 955.203 1470.77 Q953.074 1469.03 949.254 1469.03 L945.227 1469.03 L945.227 1465.19 L949.439 1465.19 Q952.889 1465.19 954.717 1463.82 Q956.546 1462.43 956.546 1459.84 Q956.546 1457.18 954.648 1455.77 Q952.773 1454.33 949.254 1454.33 Q947.333 1454.33 945.134 1454.75 Q942.935 1455.16 940.296 1456.04 L940.296 1451.88 Q942.958 1451.14 945.273 1450.77 Q947.611 1450.39 949.671 1450.39 Q954.995 1450.39 958.097 1452.83 Q961.199 1455.23 961.199 1459.35 Q961.199 1462.22 959.555 1464.21 Q957.912 1466.18 954.879 1466.95 Z\" fill=\"#000000\" fill-rule=\"nonzero\" fill-opacity=\"1\" /><path clip-path=\"url(#clip410)\" d=\"M1289.08 1455.09 L1277.27 1473.54 L1289.08 1473.54 L1289.08 1455.09 M1287.85 1451.02 L1293.73 1451.02 L1293.73 1473.54 L1298.66 1473.54 L1298.66 1477.43 L1293.73 1477.43 L1293.73 1485.58 L1289.08 1485.58 L1289.08 1477.43 L1273.48 1477.43 L1273.48 1472.92 L1287.85 1451.02 Z\" fill=\"#000000\" fill-rule=\"nonzero\" fill-opacity=\"1\" /><path clip-path=\"url(#clip410)\" d=\"M1611.78 1451.02 L1630.14 1451.02 L1630.14 1454.96 L1616.06 1454.96 L1616.06 1463.43 Q1617.08 1463.08 1618.1 1462.92 Q1619.12 1462.73 1620.14 1462.73 Q1625.93 1462.73 1629.31 1465.9 Q1632.68 1469.08 1632.68 1474.49 Q1632.68 1480.07 1629.21 1483.17 Q1625.74 1486.25 1619.42 1486.25 Q1617.25 1486.25 1614.98 1485.88 Q1612.73 1485.51 1610.32 1484.77 L1610.32 1480.07 Q1612.41 1481.2 1614.63 1481.76 Q1616.85 1482.32 1619.33 1482.32 Q1623.33 1482.32 1625.67 1480.21 Q1628.01 1478.1 1628.01 1474.49 Q1628.01 1470.88 1625.67 1468.77 Q1623.33 1466.67 1619.33 1466.67 Q1617.45 1466.67 1615.58 1467.08 Q1613.73 1467.5 1611.78 1468.38 L1611.78 1451.02 Z\" fill=\"#000000\" fill-rule=\"nonzero\" fill-opacity=\"1\" /><path clip-path=\"url(#clip410)\" d=\"M1957.35 1466.44 Q1954.2 1466.44 1952.35 1468.59 Q1950.52 1470.74 1950.52 1474.49 Q1950.52 1478.22 1952.35 1480.39 Q1954.2 1482.55 1957.35 1482.55 Q1960.49 1482.55 1962.32 1480.39 Q1964.17 1478.22 1964.17 1474.49 Q1964.17 1470.74 1962.32 1468.59 Q1960.49 1466.44 1957.35 1466.44 M1966.63 1451.78 L1966.63 1456.04 Q1964.87 1455.21 1963.06 1454.77 Q1961.28 1454.33 1959.52 1454.33 Q1954.89 1454.33 1952.44 1457.45 Q1950.01 1460.58 1949.66 1466.9 Q1951.03 1464.89 1953.09 1463.82 Q1955.15 1462.73 1957.62 1462.73 Q1962.83 1462.73 1965.84 1465.9 Q1968.87 1469.05 1968.87 1474.49 Q1968.87 1479.82 1965.73 1483.03 Q1962.58 1486.25 1957.35 1486.25 Q1951.35 1486.25 1948.18 1481.67 Q1945.01 1477.06 1945.01 1468.33 Q1945.01 1460.14 1948.9 1455.28 Q1952.79 1450.39 1959.34 1450.39 Q1961.1 1450.39 1962.88 1450.74 Q1964.68 1451.09 1966.63 1451.78 Z\" fill=\"#000000\" fill-rule=\"nonzero\" fill-opacity=\"1\" /><path clip-path=\"url(#clip410)\" d=\"M2281.27 1451.02 L2303.49 1451.02 L2303.49 1453.01 L2290.94 1485.58 L2286.06 1485.58 L2297.86 1454.96 L2281.27 1454.96 L2281.27 1451.02 Z\" fill=\"#000000\" fill-rule=\"nonzero\" fill-opacity=\"1\" /><path clip-path=\"url(#clip410)\" d=\"M924.018 1526.86 L915.297 1550.51 L932.771 1550.51 L924.018 1526.86 M920.39 1520.52 L927.679 1520.52 L945.789 1568.04 L939.105 1568.04 L934.777 1555.85 L913.356 1555.85 L909.027 1568.04 L902.248 1568.04 L920.39 1520.52 Z\" fill=\"#000000\" fill-rule=\"nonzero\" fill-opacity=\"1\" /><path clip-path=\"url(#clip410)\" d=\"M944.452 1532.4 L950.659 1532.4 L961.799 1562.31 L972.939 1532.4 L979.145 1532.4 L965.778 1568.04 L957.82 1568.04 L944.452 1532.4 Z\" fill=\"#000000\" fill-rule=\"nonzero\" fill-opacity=\"1\" /><path clip-path=\"url(#clip410)\" d=\"M1017.72 1548.76 L1017.72 1551.62 L990.795 1551.62 Q991.177 1557.67 994.423 1560.85 Q997.702 1564 1003.53 1564 Q1006.9 1564 1010.05 1563.17 Q1013.23 1562.35 1016.35 1560.69 L1016.35 1566.23 Q1013.2 1567.57 1009.89 1568.27 Q1006.58 1568.97 1003.18 1568.97 Q994.646 1568.97 989.649 1564 Q984.684 1559.04 984.684 1550.57 Q984.684 1541.82 989.394 1536.69 Q994.137 1531.54 1002.16 1531.54 Q1009.35 1531.54 1013.52 1536.18 Q1017.72 1540.8 1017.72 1548.76 M1011.87 1547.04 Q1011.8 1542.23 1009.16 1539.37 Q1006.55 1536.5 1002.22 1536.5 Q997.32 1536.5 994.36 1539.27 Q991.431 1542.04 990.986 1547.07 L1011.87 1547.04 Z\" fill=\"#000000\" fill-rule=\"nonzero\" fill-opacity=\"1\" /><path clip-path=\"url(#clip410)\" d=\"M1047.99 1537.87 Q1047 1537.3 1045.83 1537.04 Q1044.68 1536.76 1043.28 1536.76 Q1038.31 1536.76 1035.64 1540 Q1033 1543.22 1033 1549.27 L1033 1568.04 L1027.11 1568.04 L1027.11 1532.4 L1033 1532.4 L1033 1537.93 Q1034.85 1534.69 1037.81 1533.13 Q1040.77 1531.54 1045 1531.54 Q1045.6 1531.54 1046.34 1531.63 Q1047.07 1531.7 1047.96 1531.85 L1047.99 1537.87 Z\" fill=\"#000000\" fill-rule=\"nonzero\" fill-opacity=\"1\" /><path clip-path=\"url(#clip410)\" d=\"M1070.33 1550.12 Q1063.24 1550.12 1060.5 1551.75 Q1057.76 1553.37 1057.76 1557.29 Q1057.76 1560.4 1059.8 1562.25 Q1061.87 1564.07 1065.4 1564.07 Q1070.27 1564.07 1073.2 1560.63 Q1076.16 1557.16 1076.16 1551.43 L1076.16 1550.12 L1070.33 1550.12 M1082.02 1547.71 L1082.02 1568.04 L1076.16 1568.04 L1076.16 1562.63 Q1074.15 1565.88 1071.16 1567.44 Q1068.17 1568.97 1063.84 1568.97 Q1058.37 1568.97 1055.12 1565.91 Q1051.91 1562.82 1051.91 1557.67 Q1051.91 1551.65 1055.92 1548.6 Q1059.96 1545.54 1067.95 1545.54 L1076.16 1545.54 L1076.16 1544.97 Q1076.16 1540.93 1073.49 1538.73 Q1070.84 1536.5 1066.04 1536.5 Q1062.98 1536.5 1060.09 1537.23 Q1057.19 1537.97 1054.52 1539.43 L1054.52 1534.02 Q1057.73 1532.78 1060.75 1532.17 Q1063.78 1531.54 1066.64 1531.54 Q1074.38 1531.54 1078.2 1535.55 Q1082.02 1539.56 1082.02 1547.71 Z\" fill=\"#000000\" fill-rule=\"nonzero\" fill-opacity=\"1\" /><path clip-path=\"url(#clip410)\" d=\"M1117.54 1549.81 Q1117.54 1543.44 1114.89 1539.94 Q1112.28 1536.44 1107.54 1536.44 Q1102.83 1536.44 1100.19 1539.94 Q1097.58 1543.44 1097.58 1549.81 Q1097.58 1556.14 1100.19 1559.64 Q1102.83 1563.14 1107.54 1563.14 Q1112.28 1563.14 1114.89 1559.64 Q1117.54 1556.14 1117.54 1549.81 M1123.39 1563.62 Q1123.39 1572.72 1119.35 1577.15 Q1115.31 1581.6 1106.97 1581.6 Q1103.88 1581.6 1101.14 1581.13 Q1098.41 1580.68 1095.83 1579.72 L1095.83 1574.03 Q1098.41 1575.43 1100.92 1576.1 Q1103.44 1576.76 1106.05 1576.76 Q1111.81 1576.76 1114.67 1573.74 Q1117.54 1570.75 1117.54 1564.67 L1117.54 1561.77 Q1115.72 1564.92 1112.89 1566.48 Q1110.06 1568.04 1106.11 1568.04 Q1099.55 1568.04 1095.54 1563.05 Q1091.53 1558.05 1091.53 1549.81 Q1091.53 1541.53 1095.54 1536.53 Q1099.55 1531.54 1106.11 1531.54 Q1110.06 1531.54 1112.89 1533.1 Q1115.72 1534.66 1117.54 1537.81 L1117.54 1532.4 L1123.39 1532.4 L1123.39 1563.62 Z\" fill=\"#000000\" fill-rule=\"nonzero\" fill-opacity=\"1\" /><path clip-path=\"url(#clip410)\" d=\"M1165.95 1548.76 L1165.95 1551.62 L1139.02 1551.62 Q1139.4 1557.67 1142.65 1560.85 Q1145.93 1564 1151.75 1564 Q1155.13 1564 1158.28 1563.17 Q1161.46 1562.35 1164.58 1560.69 L1164.58 1566.23 Q1161.43 1567.57 1158.12 1568.27 Q1154.81 1568.97 1151.4 1568.97 Q1142.87 1568.97 1137.87 1564 Q1132.91 1559.04 1132.91 1550.57 Q1132.91 1541.82 1137.62 1536.69 Q1142.36 1531.54 1150.38 1531.54 Q1157.58 1531.54 1161.75 1536.18 Q1165.95 1540.8 1165.95 1548.76 M1160.09 1547.04 Q1160.03 1542.23 1157.39 1539.37 Q1154.78 1536.5 1150.45 1536.5 Q1145.55 1536.5 1142.59 1539.27 Q1139.66 1542.04 1139.21 1547.07 L1160.09 1547.04 Z\" fill=\"#000000\" fill-rule=\"nonzero\" fill-opacity=\"1\" /><path clip-path=\"url(#clip410)\" d=\"M1202.96 1525.81 L1202.96 1562.76 L1210.73 1562.76 Q1220.56 1562.76 1225.12 1558.3 Q1229.7 1553.85 1229.7 1544.24 Q1229.7 1534.69 1225.12 1530.26 Q1220.56 1525.81 1210.73 1525.81 L1202.96 1525.81 M1196.53 1520.52 L1209.74 1520.52 Q1223.56 1520.52 1230.02 1526.28 Q1236.48 1532.01 1236.48 1544.24 Q1236.48 1556.52 1229.99 1562.28 Q1223.49 1568.04 1209.74 1568.04 L1196.53 1568.04 L1196.53 1520.52 Z\" fill=\"#000000\" fill-rule=\"nonzero\" fill-opacity=\"1\" /><path clip-path=\"url(#clip410)\" d=\"M1246.47 1532.4 L1252.33 1532.4 L1252.33 1568.04 L1246.47 1568.04 L1246.47 1532.4 M1246.47 1518.52 L1252.33 1518.52 L1252.33 1525.93 L1246.47 1525.93 L1246.47 1518.52 Z\" fill=\"#000000\" fill-rule=\"nonzero\" fill-opacity=\"1\" /><path clip-path=\"url(#clip410)\" d=\"M1287.31 1533.45 L1287.31 1538.98 Q1284.83 1537.71 1282.15 1537.07 Q1279.48 1536.44 1276.61 1536.44 Q1272.25 1536.44 1270.06 1537.77 Q1267.89 1539.11 1267.89 1541.79 Q1267.89 1543.82 1269.45 1545 Q1271.01 1546.15 1275.72 1547.2 L1277.73 1547.64 Q1283.97 1548.98 1286.58 1551.43 Q1289.22 1553.85 1289.22 1558.21 Q1289.22 1563.17 1285.27 1566.07 Q1281.36 1568.97 1274.48 1568.97 Q1271.62 1568.97 1268.5 1568.39 Q1265.41 1567.85 1261.97 1566.74 L1261.97 1560.69 Q1265.22 1562.38 1268.37 1563.24 Q1271.52 1564.07 1274.61 1564.07 Q1278.75 1564.07 1280.98 1562.66 Q1283.2 1561.23 1283.2 1558.65 Q1283.2 1556.27 1281.58 1554.99 Q1279.99 1553.72 1274.55 1552.54 L1272.51 1552.07 Q1267.07 1550.92 1264.65 1548.56 Q1262.23 1546.18 1262.23 1542.04 Q1262.23 1537.01 1265.79 1534.27 Q1269.36 1531.54 1275.91 1531.54 Q1279.16 1531.54 1282.03 1532.01 Q1284.89 1532.49 1287.31 1533.45 Z\" fill=\"#000000\" fill-rule=\"nonzero\" fill-opacity=\"1\" /><path clip-path=\"url(#clip410)\" d=\"M1304.34 1522.27 L1304.34 1532.4 L1316.4 1532.4 L1316.4 1536.95 L1304.34 1536.95 L1304.34 1556.3 Q1304.34 1560.66 1305.52 1561.9 Q1306.72 1563.14 1310.39 1563.14 L1316.4 1563.14 L1316.4 1568.04 L1310.39 1568.04 Q1303.61 1568.04 1301.03 1565.53 Q1298.45 1562.98 1298.45 1556.3 L1298.45 1536.95 L1294.15 1536.95 L1294.15 1532.4 L1298.45 1532.4 L1298.45 1522.27 L1304.34 1522.27 Z\" fill=\"#000000\" fill-rule=\"nonzero\" fill-opacity=\"1\" /><path clip-path=\"url(#clip410)\" d=\"M1340.3 1550.12 Q1333.21 1550.12 1330.47 1551.75 Q1327.73 1553.37 1327.73 1557.29 Q1327.73 1560.4 1329.77 1562.25 Q1331.84 1564.07 1335.37 1564.07 Q1340.24 1564.07 1343.17 1560.63 Q1346.13 1557.16 1346.13 1551.43 L1346.13 1550.12 L1340.3 1550.12 M1351.98 1547.71 L1351.98 1568.04 L1346.13 1568.04 L1346.13 1562.63 Q1344.12 1565.88 1341.13 1567.44 Q1338.14 1568.97 1333.81 1568.97 Q1328.34 1568.97 1325.09 1565.91 Q1321.88 1562.82 1321.88 1557.67 Q1321.88 1551.65 1325.89 1548.6 Q1329.93 1545.54 1337.92 1545.54 L1346.13 1545.54 L1346.13 1544.97 Q1346.13 1540.93 1343.45 1538.73 Q1340.81 1536.5 1336.01 1536.5 Q1332.95 1536.5 1330.06 1537.23 Q1327.16 1537.97 1324.49 1539.43 L1324.49 1534.02 Q1327.7 1532.78 1330.72 1532.17 Q1333.75 1531.54 1336.61 1531.54 Q1344.35 1531.54 1348.17 1535.55 Q1351.98 1539.56 1351.98 1547.71 Z\" fill=\"#000000\" fill-rule=\"nonzero\" fill-opacity=\"1\" /><path clip-path=\"url(#clip410)\" d=\"M1393.68 1546.53 L1393.68 1568.04 L1387.82 1568.04 L1387.82 1546.72 Q1387.82 1541.66 1385.85 1539.14 Q1383.88 1536.63 1379.93 1536.63 Q1375.19 1536.63 1372.45 1539.65 Q1369.71 1542.68 1369.71 1547.9 L1369.71 1568.04 L1363.83 1568.04 L1363.83 1532.4 L1369.71 1532.4 L1369.71 1537.93 Q1371.81 1534.72 1374.65 1533.13 Q1377.51 1531.54 1381.24 1531.54 Q1387.38 1531.54 1390.53 1535.36 Q1393.68 1539.14 1393.68 1546.53 Z\" fill=\"#000000\" fill-rule=\"nonzero\" fill-opacity=\"1\" /><path clip-path=\"url(#clip410)\" d=\"M1431.02 1533.76 L1431.02 1539.24 Q1428.53 1537.87 1426.02 1537.2 Q1423.54 1536.5 1420.99 1536.5 Q1415.29 1536.5 1412.14 1540.13 Q1408.99 1543.73 1408.99 1550.25 Q1408.99 1556.78 1412.14 1560.4 Q1415.29 1564 1420.99 1564 Q1423.54 1564 1426.02 1563.33 Q1428.53 1562.63 1431.02 1561.26 L1431.02 1566.68 Q1428.56 1567.82 1425.92 1568.39 Q1423.31 1568.97 1420.35 1568.97 Q1412.3 1568.97 1407.56 1563.91 Q1402.82 1558.85 1402.82 1550.25 Q1402.82 1541.53 1407.59 1536.53 Q1412.4 1531.54 1420.73 1531.54 Q1423.44 1531.54 1426.02 1532.11 Q1428.6 1532.65 1431.02 1533.76 Z\" fill=\"#000000\" fill-rule=\"nonzero\" fill-opacity=\"1\" /><path clip-path=\"url(#clip410)\" d=\"M1471.69 1548.76 L1471.69 1551.62 L1444.77 1551.62 Q1445.15 1557.67 1448.39 1560.85 Q1451.67 1564 1457.5 1564 Q1460.87 1564 1464.02 1563.17 Q1467.2 1562.35 1470.32 1560.69 L1470.32 1566.23 Q1467.17 1567.57 1463.86 1568.27 Q1460.55 1568.97 1457.15 1568.97 Q1448.62 1568.97 1443.62 1564 Q1438.65 1559.04 1438.65 1550.57 Q1438.65 1541.82 1443.36 1536.69 Q1448.11 1531.54 1456.13 1531.54 Q1463.32 1531.54 1467.49 1536.18 Q1471.69 1540.8 1471.69 1548.76 M1465.84 1547.04 Q1465.77 1542.23 1463.13 1539.37 Q1460.52 1536.5 1456.19 1536.5 Q1451.29 1536.5 1448.33 1539.27 Q1445.4 1542.04 1444.96 1547.07 L1465.84 1547.04 Z\" fill=\"#000000\" fill-rule=\"nonzero\" fill-opacity=\"1\" /><path clip-path=\"url(#clip410)\" d=\"M1507.82 1522.27 L1507.82 1532.4 L1519.88 1532.4 L1519.88 1536.95 L1507.82 1536.95 L1507.82 1556.3 Q1507.82 1560.66 1509 1561.9 Q1510.2 1563.14 1513.86 1563.14 L1519.88 1563.14 L1519.88 1568.04 L1513.86 1568.04 Q1507.09 1568.04 1504.51 1565.53 Q1501.93 1562.98 1501.93 1556.3 L1501.93 1536.95 L1497.63 1536.95 L1497.63 1532.4 L1501.93 1532.4 L1501.93 1522.27 L1507.82 1522.27 Z\" fill=\"#000000\" fill-rule=\"nonzero\" fill-opacity=\"1\" /><path clip-path=\"url(#clip410)\" d=\"M1541.4 1536.5 Q1536.69 1536.5 1533.95 1540.19 Q1531.21 1543.85 1531.21 1550.25 Q1531.21 1556.65 1533.92 1560.34 Q1536.65 1564 1541.4 1564 Q1546.08 1564 1548.81 1560.31 Q1551.55 1556.62 1551.55 1550.25 Q1551.55 1543.92 1548.81 1540.23 Q1546.08 1536.5 1541.4 1536.5 M1541.4 1531.54 Q1549.04 1531.54 1553.4 1536.5 Q1557.76 1541.47 1557.76 1550.25 Q1557.76 1559 1553.4 1564 Q1549.04 1568.97 1541.4 1568.97 Q1533.73 1568.97 1529.37 1564 Q1525.04 1559 1525.04 1550.25 Q1525.04 1541.47 1529.37 1536.5 Q1533.73 1531.54 1541.4 1531.54 Z\" fill=\"#000000\" fill-rule=\"nonzero\" fill-opacity=\"1\" /><path clip-path=\"url(#clip410)\" d=\"M1588.18 1532.4 L1594.04 1532.4 L1594.04 1568.04 L1588.18 1568.04 L1588.18 1532.4 M1588.18 1518.52 L1594.04 1518.52 L1594.04 1525.93 L1588.18 1525.93 L1588.18 1518.52 Z\" fill=\"#000000\" fill-rule=\"nonzero\" fill-opacity=\"1\" /><path clip-path=\"url(#clip410)\" d=\"M1633.38 1578.87 L1633.38 1583.42 L1599.52 1583.42 L1599.52 1578.87 L1633.38 1578.87 Z\" fill=\"#000000\" fill-rule=\"nonzero\" fill-opacity=\"1\" /><path clip-path=\"url(#clip410)\" d=\"M1653.46 1524.76 Q1648.5 1524.76 1645.99 1529.66 Q1643.5 1534.53 1643.5 1544.33 Q1643.5 1554.1 1645.99 1559 Q1648.5 1563.87 1653.46 1563.87 Q1658.46 1563.87 1660.94 1559 Q1663.46 1554.1 1663.46 1544.33 Q1663.46 1534.53 1660.94 1529.66 Q1658.46 1524.76 1653.46 1524.76 M1653.46 1519.66 Q1661.45 1519.66 1665.66 1526 Q1669.89 1532.3 1669.89 1544.33 Q1669.89 1556.33 1665.66 1562.66 Q1661.45 1568.97 1653.46 1568.97 Q1645.48 1568.97 1641.24 1562.66 Q1637.04 1556.33 1637.04 1544.33 Q1637.04 1532.3 1641.24 1526 Q1645.48 1519.66 1653.46 1519.66 Z\" fill=\"#000000\" fill-rule=\"nonzero\" fill-opacity=\"1\" /><polyline clip-path=\"url(#clip412)\" style=\"stroke:#000000; stroke-linecap:round; stroke-linejoin:round; stroke-width:2; stroke-opacity:0.1; fill:none\" points=\"219.38,1384.25 2352.76,1384.25 \"/>\n",
       "<polyline clip-path=\"url(#clip412)\" style=\"stroke:#000000; stroke-linecap:round; stroke-linejoin:round; stroke-width:2; stroke-opacity:0.1; fill:none\" points=\"219.38,952.655 2352.76,952.655 \"/>\n",
       "<polyline clip-path=\"url(#clip412)\" style=\"stroke:#000000; stroke-linecap:round; stroke-linejoin:round; stroke-width:2; stroke-opacity:0.1; fill:none\" points=\"219.38,521.061 2352.76,521.061 \"/>\n",
       "<polyline clip-path=\"url(#clip412)\" style=\"stroke:#000000; stroke-linecap:round; stroke-linejoin:round; stroke-width:2; stroke-opacity:0.1; fill:none\" points=\"219.38,89.4667 2352.76,89.4667 \"/>\n",
       "<polyline clip-path=\"url(#clip410)\" style=\"stroke:#000000; stroke-linecap:round; stroke-linejoin:round; stroke-width:4; stroke-opacity:1; fill:none\" points=\"219.38,1423.18 219.38,47.2441 \"/>\n",
       "<polyline clip-path=\"url(#clip410)\" style=\"stroke:#000000; stroke-linecap:round; stroke-linejoin:round; stroke-width:4; stroke-opacity:1; fill:none\" points=\"219.38,1384.25 238.278,1384.25 \"/>\n",
       "<polyline clip-path=\"url(#clip410)\" style=\"stroke:#000000; stroke-linecap:round; stroke-linejoin:round; stroke-width:4; stroke-opacity:1; fill:none\" points=\"219.38,952.655 238.278,952.655 \"/>\n",
       "<polyline clip-path=\"url(#clip410)\" style=\"stroke:#000000; stroke-linecap:round; stroke-linejoin:round; stroke-width:4; stroke-opacity:1; fill:none\" points=\"219.38,521.061 238.278,521.061 \"/>\n",
       "<polyline clip-path=\"url(#clip410)\" style=\"stroke:#000000; stroke-linecap:round; stroke-linejoin:round; stroke-width:4; stroke-opacity:1; fill:none\" points=\"219.38,89.4667 238.278,89.4667 \"/>\n",
       "<path clip-path=\"url(#clip410)\" d=\"M126.205 1370.05 Q122.593 1370.05 120.765 1373.61 Q118.959 1377.15 118.959 1384.28 Q118.959 1391.39 120.765 1394.96 Q122.593 1398.5 126.205 1398.5 Q129.839 1398.5 131.644 1394.96 Q133.473 1391.39 133.473 1384.28 Q133.473 1377.15 131.644 1373.61 Q129.839 1370.05 126.205 1370.05 M126.205 1366.34 Q132.015 1366.34 135.07 1370.95 Q138.149 1375.53 138.149 1384.28 Q138.149 1393.01 135.07 1397.62 Q132.015 1402.2 126.205 1402.2 Q120.394 1402.2 117.316 1397.62 Q114.26 1393.01 114.26 1384.28 Q114.26 1375.53 117.316 1370.95 Q120.394 1366.34 126.205 1366.34 Z\" fill=\"#000000\" fill-rule=\"nonzero\" fill-opacity=\"1\" /><path clip-path=\"url(#clip410)\" d=\"M146.366 1395.65 L151.251 1395.65 L151.251 1401.53 L146.366 1401.53 L146.366 1395.65 Z\" fill=\"#000000\" fill-rule=\"nonzero\" fill-opacity=\"1\" /><path clip-path=\"url(#clip410)\" d=\"M171.436 1370.05 Q167.825 1370.05 165.996 1373.61 Q164.19 1377.15 164.19 1384.28 Q164.19 1391.39 165.996 1394.96 Q167.825 1398.5 171.436 1398.5 Q175.07 1398.5 176.876 1394.96 Q178.704 1391.39 178.704 1384.28 Q178.704 1377.15 176.876 1373.61 Q175.07 1370.05 171.436 1370.05 M171.436 1366.34 Q177.246 1366.34 180.301 1370.95 Q183.38 1375.53 183.38 1384.28 Q183.38 1393.01 180.301 1397.62 Q177.246 1402.2 171.436 1402.2 Q165.626 1402.2 162.547 1397.62 Q159.491 1393.01 159.491 1384.28 Q159.491 1375.53 162.547 1370.95 Q165.626 1366.34 171.436 1366.34 Z\" fill=\"#000000\" fill-rule=\"nonzero\" fill-opacity=\"1\" /><path clip-path=\"url(#clip410)\" d=\"M127.431 938.454 Q123.82 938.454 121.992 942.019 Q120.186 945.56 120.186 952.69 Q120.186 959.796 121.992 963.361 Q123.82 966.903 127.431 966.903 Q131.066 966.903 132.871 963.361 Q134.7 959.796 134.7 952.69 Q134.7 945.56 132.871 942.019 Q131.066 938.454 127.431 938.454 M127.431 934.75 Q133.242 934.75 136.297 939.357 Q139.376 943.94 139.376 952.69 Q139.376 961.417 136.297 966.023 Q133.242 970.606 127.431 970.606 Q121.621 970.606 118.543 966.023 Q115.487 961.417 115.487 952.69 Q115.487 943.94 118.543 939.357 Q121.621 934.75 127.431 934.75 Z\" fill=\"#000000\" fill-rule=\"nonzero\" fill-opacity=\"1\" /><path clip-path=\"url(#clip410)\" d=\"M147.593 964.056 L152.478 964.056 L152.478 969.935 L147.593 969.935 L147.593 964.056 Z\" fill=\"#000000\" fill-rule=\"nonzero\" fill-opacity=\"1\" /><path clip-path=\"url(#clip410)\" d=\"M163.473 966 L171.112 966 L171.112 939.634 L162.802 941.301 L162.802 937.042 L171.065 935.375 L175.741 935.375 L175.741 966 L183.38 966 L183.38 969.935 L163.473 969.935 L163.473 966 Z\" fill=\"#000000\" fill-rule=\"nonzero\" fill-opacity=\"1\" /><path clip-path=\"url(#clip410)\" d=\"M127.802 506.86 Q124.191 506.86 122.362 510.424 Q120.556 513.966 120.556 521.096 Q120.556 528.202 122.362 531.767 Q124.191 535.309 127.802 535.309 Q131.436 535.309 133.242 531.767 Q135.07 528.202 135.07 521.096 Q135.07 513.966 133.242 510.424 Q131.436 506.86 127.802 506.86 M127.802 503.156 Q133.612 503.156 136.667 507.762 Q139.746 512.346 139.746 521.096 Q139.746 529.822 136.667 534.429 Q133.612 539.012 127.802 539.012 Q121.992 539.012 118.913 534.429 Q115.857 529.822 115.857 521.096 Q115.857 512.346 118.913 507.762 Q121.992 503.156 127.802 503.156 Z\" fill=\"#000000\" fill-rule=\"nonzero\" fill-opacity=\"1\" /><path clip-path=\"url(#clip410)\" d=\"M147.964 532.461 L152.848 532.461 L152.848 538.341 L147.964 538.341 L147.964 532.461 Z\" fill=\"#000000\" fill-rule=\"nonzero\" fill-opacity=\"1\" /><path clip-path=\"url(#clip410)\" d=\"M167.061 534.406 L183.38 534.406 L183.38 538.341 L161.436 538.341 L161.436 534.406 Q164.098 531.651 168.681 527.022 Q173.288 522.369 174.468 521.026 Q176.714 518.503 177.593 516.767 Q178.496 515.008 178.496 513.318 Q178.496 510.563 176.551 508.827 Q174.63 507.091 171.528 507.091 Q169.329 507.091 166.876 507.855 Q164.445 508.619 161.667 510.17 L161.667 505.448 Q164.491 504.313 166.945 503.735 Q169.399 503.156 171.436 503.156 Q176.806 503.156 180.001 505.841 Q183.195 508.526 183.195 513.017 Q183.195 515.147 182.385 517.068 Q181.598 518.966 179.491 521.559 Q178.913 522.23 175.811 525.447 Q172.709 528.642 167.061 534.406 Z\" fill=\"#000000\" fill-rule=\"nonzero\" fill-opacity=\"1\" /><path clip-path=\"url(#clip410)\" d=\"M126.853 75.2654 Q123.242 75.2654 121.413 78.8302 Q119.607 82.3718 119.607 89.5014 Q119.607 96.6078 121.413 100.173 Q123.242 103.714 126.853 103.714 Q130.487 103.714 132.292 100.173 Q134.121 96.6078 134.121 89.5014 Q134.121 82.3718 132.292 78.8302 Q130.487 75.2654 126.853 75.2654 M126.853 71.5617 Q132.663 71.5617 135.718 76.1681 Q138.797 80.7514 138.797 89.5014 Q138.797 98.2282 135.718 102.835 Q132.663 107.418 126.853 107.418 Q121.043 107.418 117.964 102.835 Q114.908 98.2282 114.908 89.5014 Q114.908 80.7514 117.964 76.1681 Q121.043 71.5617 126.853 71.5617 Z\" fill=\"#000000\" fill-rule=\"nonzero\" fill-opacity=\"1\" /><path clip-path=\"url(#clip410)\" d=\"M147.015 100.867 L151.899 100.867 L151.899 106.747 L147.015 106.747 L147.015 100.867 Z\" fill=\"#000000\" fill-rule=\"nonzero\" fill-opacity=\"1\" /><path clip-path=\"url(#clip410)\" d=\"M176.251 88.1125 Q179.607 88.8301 181.482 91.0986 Q183.38 93.3671 183.38 96.7004 Q183.38 101.816 179.862 104.617 Q176.343 107.418 169.862 107.418 Q167.686 107.418 165.371 106.978 Q163.079 106.561 160.626 105.705 L160.626 101.191 Q162.57 102.325 164.885 102.904 Q167.2 103.483 169.723 103.483 Q174.121 103.483 176.413 101.747 Q178.727 100.011 178.727 96.7004 Q178.727 93.6449 176.575 91.9319 Q174.445 90.1958 170.626 90.1958 L166.598 90.1958 L166.598 86.3533 L170.811 86.3533 Q174.26 86.3533 176.089 84.9875 Q177.917 83.5986 177.917 81.0061 Q177.917 78.344 176.019 76.932 Q174.144 75.4968 170.626 75.4968 Q168.704 75.4968 166.505 75.9135 Q164.306 76.3302 161.667 77.2098 L161.667 73.0431 Q164.329 72.3024 166.644 71.932 Q168.982 71.5617 171.042 71.5617 Q176.366 71.5617 179.468 73.9922 Q182.57 76.3996 182.57 80.52 Q182.57 83.3903 180.926 85.381 Q179.283 87.3486 176.251 88.1125 Z\" fill=\"#000000\" fill-rule=\"nonzero\" fill-opacity=\"1\" /><path clip-path=\"url(#clip410)\" d=\"M16.4842 1250.44 L16.4842 1240.86 L48.8219 1228.73 L16.4842 1216.54 L16.4842 1206.96 L64.0042 1206.96 L64.0042 1213.23 L22.277 1213.23 L54.8694 1225.48 L54.8694 1231.94 L22.277 1244.2 L64.0042 1244.2 L64.0042 1250.44 L16.4842 1250.44 Z\" fill=\"#000000\" fill-rule=\"nonzero\" fill-opacity=\"1\" /><path clip-path=\"url(#clip410)\" d=\"M46.0847 1178.25 Q46.0847 1185.35 47.7079 1188.08 Q49.3312 1190.82 53.2461 1190.82 Q56.3653 1190.82 58.2114 1188.78 Q60.0256 1186.72 60.0256 1183.18 Q60.0256 1178.31 56.5881 1175.38 Q53.1188 1172.42 47.3897 1172.42 L46.0847 1172.42 L46.0847 1178.25 M43.6657 1166.57 L64.0042 1166.57 L64.0042 1172.42 L58.5933 1172.42 Q61.8398 1174.43 63.3994 1177.42 Q64.9272 1180.41 64.9272 1184.74 Q64.9272 1190.22 61.8716 1193.46 Q58.7843 1196.68 53.6281 1196.68 Q47.6125 1196.68 44.5569 1192.67 Q41.5014 1188.63 41.5014 1180.64 L41.5014 1172.42 L40.9285 1172.42 Q36.8862 1172.42 34.6901 1175.1 Q32.4621 1177.74 32.4621 1182.55 Q32.4621 1185.6 33.1941 1188.5 Q33.9262 1191.39 35.3903 1194.07 L29.9795 1194.07 Q28.7381 1190.85 28.1334 1187.83 Q27.4968 1184.81 27.4968 1181.94 Q27.4968 1174.21 31.5072 1170.39 Q35.5176 1166.57 43.6657 1166.57 Z\" fill=\"#000000\" fill-rule=\"nonzero\" fill-opacity=\"1\" /><path clip-path=\"url(#clip410)\" d=\"M28.3562 1124.87 L45.7028 1137.76 L64.0042 1124.2 L64.0042 1131.11 L49.9996 1141.49 L64.0042 1151.86 L64.0042 1158.77 L45.3526 1144.92 L28.3562 1157.59 L28.3562 1150.69 L41.0558 1141.23 L28.3562 1131.78 L28.3562 1124.87 Z\" fill=\"#000000\" fill-rule=\"nonzero\" fill-opacity=\"1\" /><path clip-path=\"url(#clip410)\" d=\"M28.3562 1115.93 L28.3562 1110.07 L64.0042 1110.07 L64.0042 1115.93 L28.3562 1115.93 M14.479 1115.93 L14.479 1110.07 L21.895 1110.07 L21.895 1115.93 L14.479 1115.93 Z\" fill=\"#000000\" fill-rule=\"nonzero\" fill-opacity=\"1\" /><path clip-path=\"url(#clip410)\" d=\"M35.1993 1070.06 Q31.2526 1067.87 29.3747 1064.81 Q27.4968 1061.76 27.4968 1057.62 Q27.4968 1052.05 31.4117 1049.03 Q35.2948 1046 42.4881 1046 L64.0042 1046 L64.0042 1051.89 L42.679 1051.89 Q37.5546 1051.89 35.072 1053.7 Q32.5894 1055.52 32.5894 1059.24 Q32.5894 1063.79 35.6131 1066.44 Q38.6368 1069.08 43.8567 1069.08 L64.0042 1069.08 L64.0042 1074.97 L42.679 1074.97 Q37.5228 1074.97 35.072 1076.78 Q32.5894 1078.59 32.5894 1082.38 Q32.5894 1086.87 35.6449 1089.51 Q38.6686 1092.15 43.8567 1092.15 L64.0042 1092.15 L64.0042 1098.04 L28.3562 1098.04 L28.3562 1092.15 L33.8944 1092.15 Q30.616 1090.15 29.0564 1087.35 Q27.4968 1084.55 27.4968 1080.69 Q27.4968 1076.81 29.4702 1074.11 Q31.4436 1071.37 35.1993 1070.06 Z\" fill=\"#000000\" fill-rule=\"nonzero\" fill-opacity=\"1\" /><path clip-path=\"url(#clip410)\" d=\"M49.9359 1034.93 L28.3562 1034.93 L28.3562 1029.07 L49.7131 1029.07 Q54.7739 1029.07 57.3202 1027.1 Q59.8346 1025.12 59.8346 1021.18 Q59.8346 1016.43 56.8109 1013.7 Q53.7872 1010.93 48.5673 1010.93 L28.3562 1010.93 L28.3562 1005.07 L64.0042 1005.07 L64.0042 1010.93 L58.5296 1010.93 Q61.7762 1013.06 63.3676 1015.89 Q64.9272 1018.69 64.9272 1022.42 Q64.9272 1028.56 61.1078 1031.74 Q57.2883 1034.93 49.9359 1034.93 M27.4968 1020.19 L27.4968 1020.19 Z\" fill=\"#000000\" fill-rule=\"nonzero\" fill-opacity=\"1\" /><path clip-path=\"url(#clip410)\" d=\"M35.1993 965.253 Q31.2526 963.057 29.3747 960.001 Q27.4968 956.945 27.4968 952.808 Q27.4968 947.238 31.4117 944.214 Q35.2948 941.19 42.4881 941.19 L64.0042 941.19 L64.0042 947.079 L42.679 947.079 Q37.5546 947.079 35.072 948.893 Q32.5894 950.707 32.5894 954.431 Q32.5894 958.982 35.6131 961.624 Q38.6368 964.266 43.8567 964.266 L64.0042 964.266 L64.0042 970.154 L42.679 970.154 Q37.5228 970.154 35.072 971.969 Q32.5894 973.783 32.5894 977.57 Q32.5894 982.058 35.6449 984.7 Q38.6686 987.342 43.8567 987.342 L64.0042 987.342 L64.0042 993.23 L28.3562 993.23 L28.3562 987.342 L33.8944 987.342 Q30.616 985.336 29.0564 982.536 Q27.4968 979.735 27.4968 975.883 Q27.4968 972 29.4702 969.295 Q31.4436 966.558 35.1993 965.253 Z\" fill=\"#000000\" fill-rule=\"nonzero\" fill-opacity=\"1\" /><path clip-path=\"url(#clip410)\" d=\"M32.4621 894.975 Q32.4621 899.686 36.1542 902.423 Q39.8145 905.16 46.212 905.16 Q52.6095 905.16 56.3017 902.455 Q59.9619 899.718 59.9619 894.975 Q59.9619 890.296 56.2698 887.559 Q52.5777 884.822 46.212 884.822 Q39.8781 884.822 36.186 887.559 Q32.4621 890.296 32.4621 894.975 M27.4968 894.975 Q27.4968 887.336 32.4621 882.976 Q37.4273 878.615 46.212 878.615 Q54.9649 878.615 59.9619 882.976 Q64.9272 887.336 64.9272 894.975 Q64.9272 902.646 59.9619 907.006 Q54.9649 911.335 46.212 911.335 Q37.4273 911.335 32.4621 907.006 Q27.4968 902.646 27.4968 894.975 Z\" fill=\"#000000\" fill-rule=\"nonzero\" fill-opacity=\"1\" /><path clip-path=\"url(#clip410)\" d=\"M14.479 850.861 L19.3487 850.861 L19.3487 856.463 Q19.3487 859.614 20.6219 860.855 Q21.895 862.065 25.2052 862.065 L28.3562 862.065 L28.3562 852.421 L32.9077 852.421 L32.9077 862.065 L64.0042 862.065 L64.0042 867.953 L32.9077 867.953 L32.9077 873.555 L28.3562 873.555 L28.3562 867.953 L25.8736 867.953 Q19.9216 867.953 17.2162 865.184 Q14.479 862.415 14.479 856.399 L14.479 850.861 Z\" fill=\"#000000\" fill-rule=\"nonzero\" fill-opacity=\"1\" /><path clip-path=\"url(#clip410)\" d=\"M42.4881 795.607 L64.0042 795.607 L64.0042 801.463 L42.679 801.463 Q37.6183 801.463 35.1038 803.436 Q32.5894 805.41 32.5894 809.357 Q32.5894 814.099 35.6131 816.836 Q38.6368 819.573 43.8567 819.573 L64.0042 819.573 L64.0042 825.462 L14.479 825.462 L14.479 819.573 L33.8944 819.573 Q30.6797 817.473 29.0883 814.64 Q27.4968 811.776 27.4968 808.052 Q27.4968 801.909 31.3163 798.758 Q35.1038 795.607 42.4881 795.607 Z\" fill=\"#000000\" fill-rule=\"nonzero\" fill-opacity=\"1\" /><path clip-path=\"url(#clip410)\" d=\"M32.4621 770.112 Q32.4621 774.823 36.1542 777.56 Q39.8145 780.297 46.212 780.297 Q52.6095 780.297 56.3017 777.592 Q59.9619 774.854 59.9619 770.112 Q59.9619 765.433 56.2698 762.696 Q52.5777 759.959 46.212 759.959 Q39.8781 759.959 36.186 762.696 Q32.4621 765.433 32.4621 770.112 M27.4968 770.112 Q27.4968 762.473 32.4621 758.113 Q37.4273 753.752 46.212 753.752 Q54.9649 753.752 59.9619 758.113 Q64.9272 762.473 64.9272 770.112 Q64.9272 777.783 59.9619 782.143 Q54.9649 786.472 46.212 786.472 Q37.4273 786.472 32.4621 782.143 Q27.4968 777.783 27.4968 770.112 Z\" fill=\"#000000\" fill-rule=\"nonzero\" fill-opacity=\"1\" /><path clip-path=\"url(#clip410)\" d=\"M58.657 738.379 L77.5631 738.379 L77.5631 744.267 L28.3562 744.267 L28.3562 738.379 L33.7671 738.379 Q30.5842 736.533 29.0564 733.732 Q27.4968 730.899 27.4968 726.984 Q27.4968 720.491 32.6531 716.449 Q37.8093 712.375 46.212 712.375 Q54.6147 712.375 59.771 716.449 Q64.9272 720.491 64.9272 726.984 Q64.9272 730.899 63.3994 733.732 Q61.8398 736.533 58.657 738.379 M46.212 718.454 Q39.7508 718.454 36.0905 721.128 Q32.3984 723.77 32.3984 728.417 Q32.3984 733.064 36.0905 735.737 Q39.7508 738.379 46.212 738.379 Q52.6732 738.379 56.3653 735.737 Q60.0256 733.064 60.0256 728.417 Q60.0256 723.77 56.3653 721.128 Q52.6732 718.454 46.212 718.454 Z\" fill=\"#000000\" fill-rule=\"nonzero\" fill-opacity=\"1\" /><path clip-path=\"url(#clip410)\" d=\"M58.657 697.002 L77.5631 697.002 L77.5631 702.89 L28.3562 702.89 L28.3562 697.002 L33.7671 697.002 Q30.5842 695.156 29.0564 692.355 Q27.4968 689.522 27.4968 685.607 Q27.4968 679.114 32.6531 675.072 Q37.8093 670.998 46.212 670.998 Q54.6147 670.998 59.771 675.072 Q64.9272 679.114 64.9272 685.607 Q64.9272 689.522 63.3994 692.355 Q61.8398 695.156 58.657 697.002 M46.212 677.077 Q39.7508 677.077 36.0905 679.751 Q32.3984 682.393 32.3984 687.039 Q32.3984 691.686 36.0905 694.36 Q39.7508 697.002 46.212 697.002 Q52.6732 697.002 56.3653 694.36 Q60.0256 691.686 60.0256 687.039 Q60.0256 682.393 56.3653 679.751 Q52.6732 677.077 46.212 677.077 Z\" fill=\"#000000\" fill-rule=\"nonzero\" fill-opacity=\"1\" /><path clip-path=\"url(#clip410)\" d=\"M28.3562 661.29 L28.3562 655.434 L64.0042 655.434 L64.0042 661.29 L28.3562 661.29 M14.479 661.29 L14.479 655.434 L21.895 655.434 L21.895 661.29 L14.479 661.29 Z\" fill=\"#000000\" fill-rule=\"nonzero\" fill-opacity=\"1\" /><path clip-path=\"url(#clip410)\" d=\"M42.4881 613.547 L64.0042 613.547 L64.0042 619.404 L42.679 619.404 Q37.6183 619.404 35.1038 621.377 Q32.5894 623.351 32.5894 627.297 Q32.5894 632.04 35.6131 634.777 Q38.6368 637.514 43.8567 637.514 L64.0042 637.514 L64.0042 643.403 L28.3562 643.403 L28.3562 637.514 L33.8944 637.514 Q30.6797 635.414 29.0883 632.581 Q27.4968 629.716 27.4968 625.992 Q27.4968 619.849 31.3163 616.698 Q35.1038 613.547 42.4881 613.547 Z\" fill=\"#000000\" fill-rule=\"nonzero\" fill-opacity=\"1\" /><path clip-path=\"url(#clip410)\" d=\"M45.7664 578.409 Q39.4007 578.409 35.8996 581.05 Q32.3984 583.66 32.3984 588.403 Q32.3984 593.113 35.8996 595.755 Q39.4007 598.365 45.7664 598.365 Q52.1003 598.365 55.6014 595.755 Q59.1026 593.113 59.1026 588.403 Q59.1026 583.66 55.6014 581.05 Q52.1003 578.409 45.7664 578.409 M59.58 572.552 Q68.683 572.552 73.1071 576.594 Q77.5631 580.637 77.5631 588.976 Q77.5631 592.063 77.0857 594.8 Q76.6401 597.538 75.6852 600.116 L69.9879 600.116 Q71.3884 597.538 72.0568 595.023 Q72.7252 592.509 72.7252 589.899 Q72.7252 584.138 69.7015 581.273 Q66.7096 578.409 60.6303 578.409 L57.7339 578.409 Q60.885 580.223 62.4446 583.056 Q64.0042 585.888 64.0042 589.835 Q64.0042 596.392 59.0071 600.402 Q54.01 604.413 45.7664 604.413 Q37.491 604.413 32.4939 600.402 Q27.4968 596.392 27.4968 589.835 Q27.4968 585.888 29.0564 583.056 Q30.616 580.223 33.7671 578.409 L28.3562 578.409 L28.3562 572.552 L59.58 572.552 Z\" fill=\"#000000\" fill-rule=\"nonzero\" fill-opacity=\"1\" /><path clip-path=\"url(#clip410)\" d=\"M46.0847 523.568 Q46.0847 530.666 47.7079 533.403 Q49.3312 536.14 53.2461 536.14 Q56.3653 536.14 58.2114 534.103 Q60.0256 532.035 60.0256 528.502 Q60.0256 523.632 56.5881 520.704 Q53.1188 517.744 47.3897 517.744 L46.0847 517.744 L46.0847 523.568 M43.6657 511.887 L64.0042 511.887 L64.0042 517.744 L58.5933 517.744 Q61.8398 519.749 63.3994 522.741 Q64.9272 525.732 64.9272 530.061 Q64.9272 535.536 61.8716 538.782 Q58.7843 541.997 53.6281 541.997 Q47.6125 541.997 44.5569 537.986 Q41.5014 533.944 41.5014 525.955 L41.5014 517.744 L40.9285 517.744 Q36.8862 517.744 34.6901 520.417 Q32.4621 523.059 32.4621 527.865 Q32.4621 530.921 33.1941 533.817 Q33.9262 536.713 35.3903 539.387 L29.9795 539.387 Q28.7381 536.172 28.1334 533.149 Q27.4968 530.125 27.4968 527.26 Q27.4968 519.526 31.5072 515.706 Q35.5176 511.887 43.6657 511.887 Z\" fill=\"#000000\" fill-rule=\"nonzero\" fill-opacity=\"1\" /><path clip-path=\"url(#clip410)\" d=\"M35.1993 472.07 Q31.2526 469.873 29.3747 466.818 Q27.4968 463.762 27.4968 459.625 Q27.4968 454.055 31.4117 451.031 Q35.2948 448.007 42.4881 448.007 L64.0042 448.007 L64.0042 453.895 L42.679 453.895 Q37.5546 453.895 35.072 455.71 Q32.5894 457.524 32.5894 461.248 Q32.5894 465.799 35.6131 468.441 Q38.6368 471.083 43.8567 471.083 L64.0042 471.083 L64.0042 476.971 L42.679 476.971 Q37.5228 476.971 35.072 478.785 Q32.5894 480.6 32.5894 484.387 Q32.5894 488.875 35.6449 491.517 Q38.6686 494.159 43.8567 494.159 L64.0042 494.159 L64.0042 500.047 L28.3562 500.047 L28.3562 494.159 L33.8944 494.159 Q30.616 492.153 29.0564 489.352 Q27.4968 486.552 27.4968 482.7 Q27.4968 478.817 29.4702 476.112 Q31.4436 473.375 35.1993 472.07 Z\" fill=\"#000000\" fill-rule=\"nonzero\" fill-opacity=\"1\" /><path clip-path=\"url(#clip410)\" d=\"M58.657 430.661 L77.5631 430.661 L77.5631 436.549 L28.3562 436.549 L28.3562 430.661 L33.7671 430.661 Q30.5842 428.815 29.0564 426.014 Q27.4968 423.181 27.4968 419.266 Q27.4968 412.773 32.6531 408.731 Q37.8093 404.657 46.212 404.657 Q54.6147 404.657 59.771 408.731 Q64.9272 412.773 64.9272 419.266 Q64.9272 423.181 63.3994 426.014 Q61.8398 428.815 58.657 430.661 M46.212 410.736 Q39.7508 410.736 36.0905 413.41 Q32.3984 416.051 32.3984 420.698 Q32.3984 425.345 36.0905 428.019 Q39.7508 430.661 46.212 430.661 Q52.6732 430.661 56.3653 428.019 Q60.0256 425.345 60.0256 420.698 Q60.0256 416.051 56.3653 413.41 Q52.6732 410.736 46.212 410.736 Z\" fill=\"#000000\" fill-rule=\"nonzero\" fill-opacity=\"1\" /><path clip-path=\"url(#clip410)\" d=\"M14.479 394.949 L14.479 389.093 L64.0042 389.093 L64.0042 394.949 L14.479 394.949 Z\" fill=\"#000000\" fill-rule=\"nonzero\" fill-opacity=\"1\" /><path clip-path=\"url(#clip410)\" d=\"M28.3562 376.839 L28.3562 370.982 L64.0042 370.982 L64.0042 376.839 L28.3562 376.839 M14.479 376.839 L14.479 370.982 L21.895 370.982 L21.895 376.839 L14.479 376.839 Z\" fill=\"#000000\" fill-rule=\"nonzero\" fill-opacity=\"1\" /><path clip-path=\"url(#clip410)\" d=\"M18.2347 352.935 L28.3562 352.935 L28.3562 340.872 L32.9077 340.872 L32.9077 352.935 L52.2594 352.935 Q56.6199 352.935 57.8613 351.758 Q59.1026 350.548 59.1026 346.888 L59.1026 340.872 L64.0042 340.872 L64.0042 346.888 Q64.0042 353.667 61.4897 356.246 Q58.9434 358.824 52.2594 358.824 L32.9077 358.824 L32.9077 363.121 L28.3562 363.121 L28.3562 358.824 L18.2347 358.824 L18.2347 352.935 Z\" fill=\"#000000\" fill-rule=\"nonzero\" fill-opacity=\"1\" /><path clip-path=\"url(#clip410)\" d=\"M49.9359 333.775 L28.3562 333.775 L28.3562 327.918 L49.7131 327.918 Q54.7739 327.918 57.3202 325.945 Q59.8346 323.971 59.8346 320.025 Q59.8346 315.282 56.8109 312.545 Q53.7872 309.776 48.5673 309.776 L28.3562 309.776 L28.3562 303.919 L64.0042 303.919 L64.0042 309.776 L58.5296 309.776 Q61.7762 311.908 63.3676 314.741 Q64.9272 317.542 64.9272 321.266 Q64.9272 327.409 61.1078 330.592 Q57.2883 333.775 49.9359 333.775 M27.4968 319.038 L27.4968 319.038 Z\" fill=\"#000000\" fill-rule=\"nonzero\" fill-opacity=\"1\" /><path clip-path=\"url(#clip410)\" d=\"M33.7671 268.399 L14.479 268.399 L14.479 262.542 L64.0042 262.542 L64.0042 268.399 L58.657 268.399 Q61.8398 270.245 63.3994 273.078 Q64.9272 275.878 64.9272 279.825 Q64.9272 286.286 59.771 290.36 Q54.6147 294.403 46.212 294.403 Q37.8093 294.403 32.6531 290.36 Q27.4968 286.286 27.4968 279.825 Q27.4968 275.878 29.0564 273.078 Q30.5842 270.245 33.7671 268.399 M46.212 288.355 Q52.6732 288.355 56.3653 285.714 Q60.0256 283.04 60.0256 278.393 Q60.0256 273.746 56.3653 271.072 Q52.6732 268.399 46.212 268.399 Q39.7508 268.399 36.0905 271.072 Q32.3984 273.746 32.3984 278.393 Q32.3984 283.04 36.0905 285.714 Q39.7508 288.355 46.212 288.355 Z\" fill=\"#000000\" fill-rule=\"nonzero\" fill-opacity=\"1\" /><path clip-path=\"url(#clip410)\" d=\"M44.7161 219.988 L47.5806 219.988 L47.5806 246.915 Q53.6281 246.533 56.8109 243.286 Q59.9619 240.008 59.9619 234.183 Q59.9619 230.809 59.1344 227.658 Q58.3069 224.475 56.6518 221.356 L62.1899 221.356 Q63.5267 224.507 64.227 227.817 Q64.9272 231.128 64.9272 234.533 Q64.9272 243.063 59.9619 248.06 Q54.9967 253.026 46.5303 253.026 Q37.7774 253.026 32.6531 248.315 Q27.4968 243.573 27.4968 235.552 Q27.4968 228.358 32.1438 224.189 Q36.7589 219.988 44.7161 219.988 M42.9973 225.844 Q38.1912 225.908 35.3266 228.549 Q32.4621 231.159 32.4621 235.488 Q32.4621 240.39 35.2312 243.35 Q38.0002 246.278 43.0292 246.724 L42.9973 225.844 Z\" fill=\"#000000\" fill-rule=\"nonzero\" fill-opacity=\"1\" /><polyline clip-path=\"url(#clip412)\" style=\"stroke:#473c6b; stroke-linecap:round; stroke-linejoin:round; stroke-width:8; stroke-opacity:1; fill:none\" points=\"279.759,1045.7 615.195,1328.67 950.632,1383.08 1286.07,1383.7 1621.5,1384.17 1956.94,1384.11 2292.38,1384.24 \"/>\n",
       "<polyline clip-path=\"url(#clip412)\" style=\"stroke:#6f618c; stroke-linecap:round; stroke-linejoin:round; stroke-width:8; stroke-opacity:1; fill:none\" points=\"279.759,314.511 615.195,1269.78 950.632,1343.42 1286.07,1327.88 1621.5,1378.42 1956.94,1380.67 2292.38,1357.78 \"/>\n",
       "<polyline clip-path=\"url(#clip412)\" style=\"stroke:#a6668f; stroke-linecap:round; stroke-linejoin:round; stroke-width:8; stroke-opacity:1; fill:none\" points=\"279.759,1044.77 615.195,716.191 950.632,740.43 1286.07,1013.58 1621.5,530.807 1956.94,813.114 2292.38,1383.8 \"/>\n",
       "<polyline clip-path=\"url(#clip412)\" style=\"stroke:#d484a9; stroke-linecap:round; stroke-linejoin:round; stroke-width:8; stroke-opacity:1; fill:none\" points=\"279.759,446.632 615.195,792.063 950.632,1011.77 1286.07,1029.75 1621.5,1193.63 1956.94,1302.41 2292.38,1337.92 \"/>\n",
       "<polyline clip-path=\"url(#clip412)\" style=\"stroke:#e4bcd7; stroke-linecap:round; stroke-linejoin:round; stroke-width:8; stroke-opacity:1; fill:none\" points=\"279.759,331.23 615.195,752.616 950.632,827.034 1286.07,859.769 1621.5,1158.25 1956.94,1254.56 2292.38,1314.39 \"/>\n",
       "<polyline clip-path=\"url(#clip412)\" style=\"stroke:#efeaf9; stroke-linecap:round; stroke-linejoin:round; stroke-width:8; stroke-opacity:1; fill:none\" points=\"279.759,500.997 615.195,86.1857 950.632,459.877 1286.07,832.082 1621.5,506.854 1956.94,1075.97 2292.38,1171.02 \"/>\n",
       "<path clip-path=\"url(#clip410)\" d=\"M1910.74 455.989 L2281.64 455.989 L2281.64 93.1086 L1910.74 93.1086  Z\" fill=\"#ffffff\" fill-rule=\"evenodd\" fill-opacity=\"1\"/>\n",
       "<polyline clip-path=\"url(#clip410)\" style=\"stroke:#000000; stroke-linecap:round; stroke-linejoin:round; stroke-width:4; stroke-opacity:1; fill:none\" points=\"1910.74,455.989 2281.64,455.989 2281.64,93.1086 1910.74,93.1086 1910.74,455.989 \"/>\n",
       "<polyline clip-path=\"url(#clip410)\" style=\"stroke:#473c6b; stroke-linecap:round; stroke-linejoin:round; stroke-width:8; stroke-opacity:1; fill:none\" points=\"1934.44,144.949 2076.67,144.949 \"/>\n",
       "<path clip-path=\"url(#clip410)\" d=\"M2107.48 127.669 L2112.15 127.669 L2112.15 159.821 Q2112.15 166.071 2109.77 168.895 Q2107.41 171.719 2102.15 171.719 L2100.37 171.719 L2100.37 167.784 L2101.83 167.784 Q2104.93 167.784 2106.2 166.048 Q2107.48 164.312 2107.48 159.821 L2107.48 127.669 Z\" fill=\"#000000\" fill-rule=\"nonzero\" fill-opacity=\"1\" /><path clip-path=\"url(#clip410)\" d=\"M2121.83 140.701 L2151.5 140.701 L2151.5 144.59 L2121.83 144.59 L2121.83 140.701 M2121.83 150.145 L2151.5 150.145 L2151.5 154.081 L2121.83 154.081 L2121.83 150.145 Z\" fill=\"#000000\" fill-rule=\"nonzero\" fill-opacity=\"1\" /><path clip-path=\"url(#clip410)\" d=\"M2171.6 130.747 Q2167.99 130.747 2166.16 134.312 Q2164.35 137.854 2164.35 144.983 Q2164.35 152.09 2166.16 155.655 Q2167.99 159.196 2171.6 159.196 Q2175.23 159.196 2177.04 155.655 Q2178.87 152.09 2178.87 144.983 Q2178.87 137.854 2177.04 134.312 Q2175.23 130.747 2171.6 130.747 M2171.6 127.044 Q2177.41 127.044 2180.46 131.65 Q2183.54 136.233 2183.54 144.983 Q2183.54 153.71 2180.46 158.317 Q2177.41 162.9 2171.6 162.9 Q2165.79 162.9 2162.71 158.317 Q2159.65 153.71 2159.65 144.983 Q2159.65 136.233 2162.71 131.65 Q2165.79 127.044 2171.6 127.044 Z\" fill=\"#000000\" fill-rule=\"nonzero\" fill-opacity=\"1\" /><path clip-path=\"url(#clip410)\" d=\"M2191.76 156.349 L2196.64 156.349 L2196.64 162.229 L2191.76 162.229 L2191.76 156.349 Z\" fill=\"#000000\" fill-rule=\"nonzero\" fill-opacity=\"1\" /><path clip-path=\"url(#clip410)\" d=\"M2216.83 130.747 Q2213.22 130.747 2211.39 134.312 Q2209.58 137.854 2209.58 144.983 Q2209.58 152.09 2211.39 155.655 Q2213.22 159.196 2216.83 159.196 Q2220.46 159.196 2222.27 155.655 Q2224.1 152.09 2224.1 144.983 Q2224.1 137.854 2222.27 134.312 Q2220.46 130.747 2216.83 130.747 M2216.83 127.044 Q2222.64 127.044 2225.69 131.65 Q2228.77 136.233 2228.77 144.983 Q2228.77 153.71 2225.69 158.317 Q2222.64 162.9 2216.83 162.9 Q2211.02 162.9 2207.94 158.317 Q2204.88 153.71 2204.88 144.983 Q2204.88 136.233 2207.94 131.65 Q2211.02 127.044 2216.83 127.044 Z\" fill=\"#000000\" fill-rule=\"nonzero\" fill-opacity=\"1\" /><path clip-path=\"url(#clip410)\" d=\"M2237.8 158.293 L2245.44 158.293 L2245.44 131.928 L2237.13 133.595 L2237.13 129.335 L2245.39 127.669 L2250.07 127.669 L2250.07 158.293 L2257.71 158.293 L2257.71 162.229 L2237.8 162.229 L2237.8 158.293 Z\" fill=\"#000000\" fill-rule=\"nonzero\" fill-opacity=\"1\" /><polyline clip-path=\"url(#clip410)\" style=\"stroke:#6f618c; stroke-linecap:round; stroke-linejoin:round; stroke-width:8; stroke-opacity:1; fill:none\" points=\"1934.44,196.789 2076.67,196.789 \"/>\n",
       "<path clip-path=\"url(#clip410)\" d=\"M2107.48 179.509 L2112.15 179.509 L2112.15 211.661 Q2112.15 217.911 2109.77 220.735 Q2107.41 223.559 2102.15 223.559 L2100.37 223.559 L2100.37 219.624 L2101.83 219.624 Q2104.93 219.624 2106.2 217.888 Q2107.48 216.152 2107.48 211.661 L2107.48 179.509 Z\" fill=\"#000000\" fill-rule=\"nonzero\" fill-opacity=\"1\" /><path clip-path=\"url(#clip410)\" d=\"M2121.83 192.541 L2151.5 192.541 L2151.5 196.43 L2121.83 196.43 L2121.83 192.541 M2121.83 201.985 L2151.5 201.985 L2151.5 205.921 L2121.83 205.921 L2121.83 201.985 Z\" fill=\"#000000\" fill-rule=\"nonzero\" fill-opacity=\"1\" /><path clip-path=\"url(#clip410)\" d=\"M2171.6 182.587 Q2167.99 182.587 2166.16 186.152 Q2164.35 189.694 2164.35 196.823 Q2164.35 203.93 2166.16 207.495 Q2167.99 211.036 2171.6 211.036 Q2175.23 211.036 2177.04 207.495 Q2178.87 203.93 2178.87 196.823 Q2178.87 189.694 2177.04 186.152 Q2175.23 182.587 2171.6 182.587 M2171.6 178.884 Q2177.41 178.884 2180.46 183.49 Q2183.54 188.073 2183.54 196.823 Q2183.54 205.55 2180.46 210.157 Q2177.41 214.74 2171.6 214.74 Q2165.79 214.74 2162.71 210.157 Q2159.65 205.55 2159.65 196.823 Q2159.65 188.073 2162.71 183.49 Q2165.79 178.884 2171.6 178.884 Z\" fill=\"#000000\" fill-rule=\"nonzero\" fill-opacity=\"1\" /><path clip-path=\"url(#clip410)\" d=\"M2191.76 208.189 L2196.64 208.189 L2196.64 214.069 L2191.76 214.069 L2191.76 208.189 Z\" fill=\"#000000\" fill-rule=\"nonzero\" fill-opacity=\"1\" /><path clip-path=\"url(#clip410)\" d=\"M2216.83 182.587 Q2213.22 182.587 2211.39 186.152 Q2209.58 189.694 2209.58 196.823 Q2209.58 203.93 2211.39 207.495 Q2213.22 211.036 2216.83 211.036 Q2220.46 211.036 2222.27 207.495 Q2224.1 203.93 2224.1 196.823 Q2224.1 189.694 2222.27 186.152 Q2220.46 182.587 2216.83 182.587 M2216.83 178.884 Q2222.64 178.884 2225.69 183.49 Q2228.77 188.073 2228.77 196.823 Q2228.77 205.55 2225.69 210.157 Q2222.64 214.74 2216.83 214.74 Q2211.02 214.74 2207.94 210.157 Q2204.88 205.55 2204.88 196.823 Q2204.88 188.073 2207.94 183.49 Q2211.02 178.884 2216.83 178.884 Z\" fill=\"#000000\" fill-rule=\"nonzero\" fill-opacity=\"1\" /><path clip-path=\"url(#clip410)\" d=\"M2237.04 179.509 L2255.39 179.509 L2255.39 183.444 L2241.32 183.444 L2241.32 191.916 Q2242.34 191.569 2243.36 191.407 Q2244.37 191.222 2245.39 191.222 Q2251.18 191.222 2254.56 194.393 Q2257.94 197.564 2257.94 202.981 Q2257.94 208.559 2254.47 211.661 Q2250.99 214.74 2244.68 214.74 Q2242.5 214.74 2240.23 214.37 Q2237.99 213.999 2235.58 213.258 L2235.58 208.559 Q2237.66 209.694 2239.88 210.249 Q2242.11 210.805 2244.58 210.805 Q2248.59 210.805 2250.93 208.698 Q2253.26 206.592 2253.26 202.981 Q2253.26 199.37 2250.93 197.263 Q2248.59 195.157 2244.58 195.157 Q2242.71 195.157 2240.83 195.573 Q2238.98 195.99 2237.04 196.87 L2237.04 179.509 Z\" fill=\"#000000\" fill-rule=\"nonzero\" fill-opacity=\"1\" /><polyline clip-path=\"url(#clip410)\" style=\"stroke:#a6668f; stroke-linecap:round; stroke-linejoin:round; stroke-width:8; stroke-opacity:1; fill:none\" points=\"1934.44,248.629 2076.67,248.629 \"/>\n",
       "<path clip-path=\"url(#clip410)\" d=\"M2107.48 231.349 L2112.15 231.349 L2112.15 263.501 Q2112.15 269.751 2109.77 272.575 Q2107.41 275.399 2102.15 275.399 L2100.37 275.399 L2100.37 271.464 L2101.83 271.464 Q2104.93 271.464 2106.2 269.728 Q2107.48 267.992 2107.48 263.501 L2107.48 231.349 Z\" fill=\"#000000\" fill-rule=\"nonzero\" fill-opacity=\"1\" /><path clip-path=\"url(#clip410)\" d=\"M2121.83 244.381 L2151.5 244.381 L2151.5 248.27 L2121.83 248.27 L2121.83 244.381 M2121.83 253.825 L2151.5 253.825 L2151.5 257.761 L2121.83 257.761 L2121.83 253.825 Z\" fill=\"#000000\" fill-rule=\"nonzero\" fill-opacity=\"1\" /><path clip-path=\"url(#clip410)\" d=\"M2171.6 234.427 Q2167.99 234.427 2166.16 237.992 Q2164.35 241.534 2164.35 248.663 Q2164.35 255.77 2166.16 259.335 Q2167.99 262.876 2171.6 262.876 Q2175.23 262.876 2177.04 259.335 Q2178.87 255.77 2178.87 248.663 Q2178.87 241.534 2177.04 237.992 Q2175.23 234.427 2171.6 234.427 M2171.6 230.724 Q2177.41 230.724 2180.46 235.33 Q2183.54 239.913 2183.54 248.663 Q2183.54 257.39 2180.46 261.997 Q2177.41 266.58 2171.6 266.58 Q2165.79 266.58 2162.71 261.997 Q2159.65 257.39 2159.65 248.663 Q2159.65 239.913 2162.71 235.33 Q2165.79 230.724 2171.6 230.724 Z\" fill=\"#000000\" fill-rule=\"nonzero\" fill-opacity=\"1\" /><path clip-path=\"url(#clip410)\" d=\"M2191.76 260.029 L2196.64 260.029 L2196.64 265.909 L2191.76 265.909 L2191.76 260.029 Z\" fill=\"#000000\" fill-rule=\"nonzero\" fill-opacity=\"1\" /><path clip-path=\"url(#clip410)\" d=\"M2207.64 261.973 L2215.28 261.973 L2215.28 235.608 L2206.97 237.275 L2206.97 233.015 L2215.23 231.349 L2219.91 231.349 L2219.91 261.973 L2227.55 261.973 L2227.55 265.909 L2207.64 265.909 L2207.64 261.973 Z\" fill=\"#000000\" fill-rule=\"nonzero\" fill-opacity=\"1\" /><polyline clip-path=\"url(#clip410)\" style=\"stroke:#d484a9; stroke-linecap:round; stroke-linejoin:round; stroke-width:8; stroke-opacity:1; fill:none\" points=\"1934.44,300.469 2076.67,300.469 \"/>\n",
       "<path clip-path=\"url(#clip410)\" d=\"M2107.48 283.189 L2112.15 283.189 L2112.15 315.341 Q2112.15 321.591 2109.77 324.415 Q2107.41 327.239 2102.15 327.239 L2100.37 327.239 L2100.37 323.304 L2101.83 323.304 Q2104.93 323.304 2106.2 321.568 Q2107.48 319.832 2107.48 315.341 L2107.48 283.189 Z\" fill=\"#000000\" fill-rule=\"nonzero\" fill-opacity=\"1\" /><path clip-path=\"url(#clip410)\" d=\"M2121.83 296.221 L2151.5 296.221 L2151.5 300.11 L2121.83 300.11 L2121.83 296.221 M2121.83 305.665 L2151.5 305.665 L2151.5 309.601 L2121.83 309.601 L2121.83 305.665 Z\" fill=\"#000000\" fill-rule=\"nonzero\" fill-opacity=\"1\" /><path clip-path=\"url(#clip410)\" d=\"M2171.6 286.267 Q2167.99 286.267 2166.16 289.832 Q2164.35 293.374 2164.35 300.503 Q2164.35 307.61 2166.16 311.175 Q2167.99 314.716 2171.6 314.716 Q2175.23 314.716 2177.04 311.175 Q2178.87 307.61 2178.87 300.503 Q2178.87 293.374 2177.04 289.832 Q2175.23 286.267 2171.6 286.267 M2171.6 282.564 Q2177.41 282.564 2180.46 287.17 Q2183.54 291.753 2183.54 300.503 Q2183.54 309.23 2180.46 313.837 Q2177.41 318.42 2171.6 318.42 Q2165.79 318.42 2162.71 313.837 Q2159.65 309.23 2159.65 300.503 Q2159.65 291.753 2162.71 287.17 Q2165.79 282.564 2171.6 282.564 Z\" fill=\"#000000\" fill-rule=\"nonzero\" fill-opacity=\"1\" /><path clip-path=\"url(#clip410)\" d=\"M2191.76 311.869 L2196.64 311.869 L2196.64 317.749 L2191.76 317.749 L2191.76 311.869 Z\" fill=\"#000000\" fill-rule=\"nonzero\" fill-opacity=\"1\" /><path clip-path=\"url(#clip410)\" d=\"M2210.86 313.813 L2227.18 313.813 L2227.18 317.749 L2205.23 317.749 L2205.23 313.813 Q2207.89 311.059 2212.48 306.429 Q2217.08 301.776 2218.26 300.434 Q2220.51 297.911 2221.39 296.175 Q2222.29 294.415 2222.29 292.726 Q2222.29 289.971 2220.35 288.235 Q2218.43 286.499 2215.32 286.499 Q2213.12 286.499 2210.67 287.263 Q2208.24 288.027 2205.46 289.577 L2205.46 284.855 Q2208.29 283.721 2210.74 283.142 Q2213.19 282.564 2215.23 282.564 Q2220.6 282.564 2223.8 285.249 Q2226.99 287.934 2226.99 292.425 Q2226.99 294.554 2226.18 296.476 Q2225.39 298.374 2223.29 300.966 Q2222.71 301.638 2219.61 304.855 Q2216.5 308.05 2210.86 313.813 Z\" fill=\"#000000\" fill-rule=\"nonzero\" fill-opacity=\"1\" /><polyline clip-path=\"url(#clip410)\" style=\"stroke:#e4bcd7; stroke-linecap:round; stroke-linejoin:round; stroke-width:8; stroke-opacity:1; fill:none\" points=\"1934.44,352.309 2076.67,352.309 \"/>\n",
       "<path clip-path=\"url(#clip410)\" d=\"M2107.48 335.029 L2112.15 335.029 L2112.15 367.181 Q2112.15 373.431 2109.77 376.255 Q2107.41 379.079 2102.15 379.079 L2100.37 379.079 L2100.37 375.144 L2101.83 375.144 Q2104.93 375.144 2106.2 373.408 Q2107.48 371.672 2107.48 367.181 L2107.48 335.029 Z\" fill=\"#000000\" fill-rule=\"nonzero\" fill-opacity=\"1\" /><path clip-path=\"url(#clip410)\" d=\"M2121.83 348.061 L2151.5 348.061 L2151.5 351.95 L2121.83 351.95 L2121.83 348.061 M2121.83 357.505 L2151.5 357.505 L2151.5 361.441 L2121.83 361.441 L2121.83 357.505 Z\" fill=\"#000000\" fill-rule=\"nonzero\" fill-opacity=\"1\" /><path clip-path=\"url(#clip410)\" d=\"M2171.6 338.107 Q2167.99 338.107 2166.16 341.672 Q2164.35 345.214 2164.35 352.343 Q2164.35 359.45 2166.16 363.015 Q2167.99 366.556 2171.6 366.556 Q2175.23 366.556 2177.04 363.015 Q2178.87 359.45 2178.87 352.343 Q2178.87 345.214 2177.04 341.672 Q2175.23 338.107 2171.6 338.107 M2171.6 334.404 Q2177.41 334.404 2180.46 339.01 Q2183.54 343.593 2183.54 352.343 Q2183.54 361.07 2180.46 365.677 Q2177.41 370.26 2171.6 370.26 Q2165.79 370.26 2162.71 365.677 Q2159.65 361.07 2159.65 352.343 Q2159.65 343.593 2162.71 339.01 Q2165.79 334.404 2171.6 334.404 Z\" fill=\"#000000\" fill-rule=\"nonzero\" fill-opacity=\"1\" /><path clip-path=\"url(#clip410)\" d=\"M2191.76 363.709 L2196.64 363.709 L2196.64 369.589 L2191.76 369.589 L2191.76 363.709 Z\" fill=\"#000000\" fill-rule=\"nonzero\" fill-opacity=\"1\" /><path clip-path=\"url(#clip410)\" d=\"M2206.87 335.029 L2225.23 335.029 L2225.23 338.964 L2211.16 338.964 L2211.16 347.436 Q2212.18 347.089 2213.19 346.927 Q2214.21 346.742 2215.23 346.742 Q2221.02 346.742 2224.4 349.913 Q2227.78 353.084 2227.78 358.501 Q2227.78 364.079 2224.31 367.181 Q2220.83 370.26 2214.51 370.26 Q2212.34 370.26 2210.07 369.89 Q2207.82 369.519 2205.42 368.778 L2205.42 364.079 Q2207.5 365.214 2209.72 365.769 Q2211.94 366.325 2214.42 366.325 Q2218.43 366.325 2220.76 364.218 Q2223.1 362.112 2223.1 358.501 Q2223.1 354.89 2220.76 352.783 Q2218.43 350.677 2214.42 350.677 Q2212.55 350.677 2210.67 351.093 Q2208.82 351.51 2206.87 352.39 L2206.87 335.029 Z\" fill=\"#000000\" fill-rule=\"nonzero\" fill-opacity=\"1\" /><polyline clip-path=\"url(#clip410)\" style=\"stroke:#efeaf9; stroke-linecap:round; stroke-linejoin:round; stroke-width:8; stroke-opacity:1; fill:none\" points=\"1934.44,404.149 2076.67,404.149 \"/>\n",
       "<path clip-path=\"url(#clip410)\" d=\"M2107.48 386.869 L2112.15 386.869 L2112.15 419.021 Q2112.15 425.271 2109.77 428.095 Q2107.41 430.919 2102.15 430.919 L2100.37 430.919 L2100.37 426.984 L2101.83 426.984 Q2104.93 426.984 2106.2 425.248 Q2107.48 423.512 2107.48 419.021 L2107.48 386.869 Z\" fill=\"#000000\" fill-rule=\"nonzero\" fill-opacity=\"1\" /><path clip-path=\"url(#clip410)\" d=\"M2121.83 399.901 L2151.5 399.901 L2151.5 403.79 L2121.83 403.79 L2121.83 399.901 M2121.83 409.345 L2151.5 409.345 L2151.5 413.281 L2121.83 413.281 L2121.83 409.345 Z\" fill=\"#000000\" fill-rule=\"nonzero\" fill-opacity=\"1\" /><path clip-path=\"url(#clip410)\" d=\"M2162.41 417.493 L2170.05 417.493 L2170.05 391.128 L2161.74 392.795 L2161.74 388.535 L2170 386.869 L2174.68 386.869 L2174.68 417.493 L2182.31 417.493 L2182.31 421.429 L2162.41 421.429 L2162.41 417.493 Z\" fill=\"#000000\" fill-rule=\"nonzero\" fill-opacity=\"1\" /><path clip-path=\"url(#clip410)\" d=\"M2191.76 415.549 L2196.64 415.549 L2196.64 421.429 L2191.76 421.429 L2191.76 415.549 Z\" fill=\"#000000\" fill-rule=\"nonzero\" fill-opacity=\"1\" /><path clip-path=\"url(#clip410)\" d=\"M2216.83 389.947 Q2213.22 389.947 2211.39 393.512 Q2209.58 397.054 2209.58 404.183 Q2209.58 411.29 2211.39 414.855 Q2213.22 418.396 2216.83 418.396 Q2220.46 418.396 2222.27 414.855 Q2224.1 411.29 2224.1 404.183 Q2224.1 397.054 2222.27 393.512 Q2220.46 389.947 2216.83 389.947 M2216.83 386.244 Q2222.64 386.244 2225.69 390.85 Q2228.77 395.433 2228.77 404.183 Q2228.77 412.91 2225.69 417.517 Q2222.64 422.1 2216.83 422.1 Q2211.02 422.1 2207.94 417.517 Q2204.88 412.91 2204.88 404.183 Q2204.88 395.433 2207.94 390.85 Q2211.02 386.244 2216.83 386.244 Z\" fill=\"#000000\" fill-rule=\"nonzero\" fill-opacity=\"1\" /></svg>\n"
      ],
      "text/html": [
       "<?xml version=\"1.0\" encoding=\"utf-8\"?>\n",
       "<svg xmlns=\"http://www.w3.org/2000/svg\" xmlns:xlink=\"http://www.w3.org/1999/xlink\" width=\"600\" height=\"400\" viewBox=\"0 0 2400 1600\">\n",
       "<defs>\n",
       "  <clipPath id=\"clip460\">\n",
       "    <rect x=\"0\" y=\"0\" width=\"2400\" height=\"1600\"/>\n",
       "  </clipPath>\n",
       "</defs>\n",
       "<path clip-path=\"url(#clip460)\" d=\"M0 1600 L2400 1600 L2400 8.88178e-14 L0 8.88178e-14  Z\" fill=\"#ffffff\" fill-rule=\"evenodd\" fill-opacity=\"1\"/>\n",
       "<defs>\n",
       "  <clipPath id=\"clip461\">\n",
       "    <rect x=\"480\" y=\"0\" width=\"1681\" height=\"1600\"/>\n",
       "  </clipPath>\n",
       "</defs>\n",
       "<path clip-path=\"url(#clip460)\" d=\"M219.38 1423.18 L2352.76 1423.18 L2352.76 47.2441 L219.38 47.2441  Z\" fill=\"#ffffff\" fill-rule=\"evenodd\" fill-opacity=\"1\"/>\n",
       "<defs>\n",
       "  <clipPath id=\"clip462\">\n",
       "    <rect x=\"219\" y=\"47\" width=\"2134\" height=\"1377\"/>\n",
       "  </clipPath>\n",
       "</defs>\n",
       "<polyline clip-path=\"url(#clip462)\" style=\"stroke:#000000; stroke-linecap:round; stroke-linejoin:round; stroke-width:2; stroke-opacity:0.1; fill:none\" points=\"279.759,1423.18 279.759,47.2441 \"/>\n",
       "<polyline clip-path=\"url(#clip462)\" style=\"stroke:#000000; stroke-linecap:round; stroke-linejoin:round; stroke-width:2; stroke-opacity:0.1; fill:none\" points=\"615.195,1423.18 615.195,47.2441 \"/>\n",
       "<polyline clip-path=\"url(#clip462)\" style=\"stroke:#000000; stroke-linecap:round; stroke-linejoin:round; stroke-width:2; stroke-opacity:0.1; fill:none\" points=\"950.632,1423.18 950.632,47.2441 \"/>\n",
       "<polyline clip-path=\"url(#clip462)\" style=\"stroke:#000000; stroke-linecap:round; stroke-linejoin:round; stroke-width:2; stroke-opacity:0.1; fill:none\" points=\"1286.07,1423.18 1286.07,47.2441 \"/>\n",
       "<polyline clip-path=\"url(#clip462)\" style=\"stroke:#000000; stroke-linecap:round; stroke-linejoin:round; stroke-width:2; stroke-opacity:0.1; fill:none\" points=\"1621.5,1423.18 1621.5,47.2441 \"/>\n",
       "<polyline clip-path=\"url(#clip462)\" style=\"stroke:#000000; stroke-linecap:round; stroke-linejoin:round; stroke-width:2; stroke-opacity:0.1; fill:none\" points=\"1956.94,1423.18 1956.94,47.2441 \"/>\n",
       "<polyline clip-path=\"url(#clip462)\" style=\"stroke:#000000; stroke-linecap:round; stroke-linejoin:round; stroke-width:2; stroke-opacity:0.1; fill:none\" points=\"2292.38,1423.18 2292.38,47.2441 \"/>\n",
       "<polyline clip-path=\"url(#clip460)\" style=\"stroke:#000000; stroke-linecap:round; stroke-linejoin:round; stroke-width:4; stroke-opacity:1; fill:none\" points=\"219.38,1423.18 2352.76,1423.18 \"/>\n",
       "<polyline clip-path=\"url(#clip460)\" style=\"stroke:#000000; stroke-linecap:round; stroke-linejoin:round; stroke-width:4; stroke-opacity:1; fill:none\" points=\"279.759,1423.18 279.759,1404.28 \"/>\n",
       "<polyline clip-path=\"url(#clip460)\" style=\"stroke:#000000; stroke-linecap:round; stroke-linejoin:round; stroke-width:4; stroke-opacity:1; fill:none\" points=\"615.195,1423.18 615.195,1404.28 \"/>\n",
       "<polyline clip-path=\"url(#clip460)\" style=\"stroke:#000000; stroke-linecap:round; stroke-linejoin:round; stroke-width:4; stroke-opacity:1; fill:none\" points=\"950.632,1423.18 950.632,1404.28 \"/>\n",
       "<polyline clip-path=\"url(#clip460)\" style=\"stroke:#000000; stroke-linecap:round; stroke-linejoin:round; stroke-width:4; stroke-opacity:1; fill:none\" points=\"1286.07,1423.18 1286.07,1404.28 \"/>\n",
       "<polyline clip-path=\"url(#clip460)\" style=\"stroke:#000000; stroke-linecap:round; stroke-linejoin:round; stroke-width:4; stroke-opacity:1; fill:none\" points=\"1621.5,1423.18 1621.5,1404.28 \"/>\n",
       "<polyline clip-path=\"url(#clip460)\" style=\"stroke:#000000; stroke-linecap:round; stroke-linejoin:round; stroke-width:4; stroke-opacity:1; fill:none\" points=\"1956.94,1423.18 1956.94,1404.28 \"/>\n",
       "<polyline clip-path=\"url(#clip460)\" style=\"stroke:#000000; stroke-linecap:round; stroke-linejoin:round; stroke-width:4; stroke-opacity:1; fill:none\" points=\"2292.38,1423.18 2292.38,1404.28 \"/>\n",
       "<path clip-path=\"url(#clip460)\" d=\"M270.141 1481.64 L277.78 1481.64 L277.78 1455.28 L269.469 1456.95 L269.469 1452.69 L277.733 1451.02 L282.409 1451.02 L282.409 1481.64 L290.048 1481.64 L290.048 1485.58 L270.141 1485.58 L270.141 1481.64 Z\" fill=\"#000000\" fill-rule=\"nonzero\" fill-opacity=\"1\" /><path clip-path=\"url(#clip460)\" d=\"M609.848 1481.64 L626.167 1481.64 L626.167 1485.58 L604.223 1485.58 L604.223 1481.64 Q606.885 1478.89 611.468 1474.26 Q616.075 1469.61 617.255 1468.27 Q619.501 1465.74 620.38 1464.01 Q621.283 1462.25 621.283 1460.56 Q621.283 1457.8 619.339 1456.07 Q617.417 1454.33 614.316 1454.33 Q612.116 1454.33 609.663 1455.09 Q607.232 1455.86 604.454 1457.41 L604.454 1452.69 Q607.279 1451.55 609.732 1450.97 Q612.186 1450.39 614.223 1450.39 Q619.593 1450.39 622.788 1453.08 Q625.982 1455.77 625.982 1460.26 Q625.982 1462.39 625.172 1464.31 Q624.385 1466.2 622.278 1468.8 Q621.7 1469.47 618.598 1472.69 Q615.496 1475.88 609.848 1481.64 Z\" fill=\"#000000\" fill-rule=\"nonzero\" fill-opacity=\"1\" /><path clip-path=\"url(#clip460)\" d=\"M954.879 1466.95 Q958.236 1467.66 960.111 1469.93 Q962.009 1472.2 962.009 1475.53 Q962.009 1480.65 958.49 1483.45 Q954.972 1486.25 948.49 1486.25 Q946.314 1486.25 944 1485.81 Q941.708 1485.39 939.254 1484.54 L939.254 1480.02 Q941.199 1481.16 943.514 1481.74 Q945.828 1482.32 948.352 1482.32 Q952.75 1482.32 955.041 1480.58 Q957.356 1478.84 957.356 1475.53 Q957.356 1472.48 955.203 1470.77 Q953.074 1469.03 949.254 1469.03 L945.227 1469.03 L945.227 1465.19 L949.439 1465.19 Q952.889 1465.19 954.717 1463.82 Q956.546 1462.43 956.546 1459.84 Q956.546 1457.18 954.648 1455.77 Q952.773 1454.33 949.254 1454.33 Q947.333 1454.33 945.134 1454.75 Q942.935 1455.16 940.296 1456.04 L940.296 1451.88 Q942.958 1451.14 945.273 1450.77 Q947.611 1450.39 949.671 1450.39 Q954.995 1450.39 958.097 1452.83 Q961.199 1455.23 961.199 1459.35 Q961.199 1462.22 959.555 1464.21 Q957.912 1466.18 954.879 1466.95 Z\" fill=\"#000000\" fill-rule=\"nonzero\" fill-opacity=\"1\" /><path clip-path=\"url(#clip460)\" d=\"M1289.08 1455.09 L1277.27 1473.54 L1289.08 1473.54 L1289.08 1455.09 M1287.85 1451.02 L1293.73 1451.02 L1293.73 1473.54 L1298.66 1473.54 L1298.66 1477.43 L1293.73 1477.43 L1293.73 1485.58 L1289.08 1485.58 L1289.08 1477.43 L1273.48 1477.43 L1273.48 1472.92 L1287.85 1451.02 Z\" fill=\"#000000\" fill-rule=\"nonzero\" fill-opacity=\"1\" /><path clip-path=\"url(#clip460)\" d=\"M1611.78 1451.02 L1630.14 1451.02 L1630.14 1454.96 L1616.06 1454.96 L1616.06 1463.43 Q1617.08 1463.08 1618.1 1462.92 Q1619.12 1462.73 1620.14 1462.73 Q1625.93 1462.73 1629.31 1465.9 Q1632.68 1469.08 1632.68 1474.49 Q1632.68 1480.07 1629.21 1483.17 Q1625.74 1486.25 1619.42 1486.25 Q1617.25 1486.25 1614.98 1485.88 Q1612.73 1485.51 1610.32 1484.77 L1610.32 1480.07 Q1612.41 1481.2 1614.63 1481.76 Q1616.85 1482.32 1619.33 1482.32 Q1623.33 1482.32 1625.67 1480.21 Q1628.01 1478.1 1628.01 1474.49 Q1628.01 1470.88 1625.67 1468.77 Q1623.33 1466.67 1619.33 1466.67 Q1617.45 1466.67 1615.58 1467.08 Q1613.73 1467.5 1611.78 1468.38 L1611.78 1451.02 Z\" fill=\"#000000\" fill-rule=\"nonzero\" fill-opacity=\"1\" /><path clip-path=\"url(#clip460)\" d=\"M1957.35 1466.44 Q1954.2 1466.44 1952.35 1468.59 Q1950.52 1470.74 1950.52 1474.49 Q1950.52 1478.22 1952.35 1480.39 Q1954.2 1482.55 1957.35 1482.55 Q1960.49 1482.55 1962.32 1480.39 Q1964.17 1478.22 1964.17 1474.49 Q1964.17 1470.74 1962.32 1468.59 Q1960.49 1466.44 1957.35 1466.44 M1966.63 1451.78 L1966.63 1456.04 Q1964.87 1455.21 1963.06 1454.77 Q1961.28 1454.33 1959.52 1454.33 Q1954.89 1454.33 1952.44 1457.45 Q1950.01 1460.58 1949.66 1466.9 Q1951.03 1464.89 1953.09 1463.82 Q1955.15 1462.73 1957.62 1462.73 Q1962.83 1462.73 1965.84 1465.9 Q1968.87 1469.05 1968.87 1474.49 Q1968.87 1479.82 1965.73 1483.03 Q1962.58 1486.25 1957.35 1486.25 Q1951.35 1486.25 1948.18 1481.67 Q1945.01 1477.06 1945.01 1468.33 Q1945.01 1460.14 1948.9 1455.28 Q1952.79 1450.39 1959.34 1450.39 Q1961.1 1450.39 1962.88 1450.74 Q1964.68 1451.09 1966.63 1451.78 Z\" fill=\"#000000\" fill-rule=\"nonzero\" fill-opacity=\"1\" /><path clip-path=\"url(#clip460)\" d=\"M2281.27 1451.02 L2303.49 1451.02 L2303.49 1453.01 L2290.94 1485.58 L2286.06 1485.58 L2297.86 1454.96 L2281.27 1454.96 L2281.27 1451.02 Z\" fill=\"#000000\" fill-rule=\"nonzero\" fill-opacity=\"1\" /><path clip-path=\"url(#clip460)\" d=\"M924.018 1526.86 L915.297 1550.51 L932.771 1550.51 L924.018 1526.86 M920.39 1520.52 L927.679 1520.52 L945.789 1568.04 L939.105 1568.04 L934.777 1555.85 L913.356 1555.85 L909.027 1568.04 L902.248 1568.04 L920.39 1520.52 Z\" fill=\"#000000\" fill-rule=\"nonzero\" fill-opacity=\"1\" /><path clip-path=\"url(#clip460)\" d=\"M944.452 1532.4 L950.659 1532.4 L961.799 1562.31 L972.939 1532.4 L979.145 1532.4 L965.778 1568.04 L957.82 1568.04 L944.452 1532.4 Z\" fill=\"#000000\" fill-rule=\"nonzero\" fill-opacity=\"1\" /><path clip-path=\"url(#clip460)\" d=\"M1017.72 1548.76 L1017.72 1551.62 L990.795 1551.62 Q991.177 1557.67 994.423 1560.85 Q997.702 1564 1003.53 1564 Q1006.9 1564 1010.05 1563.17 Q1013.23 1562.35 1016.35 1560.69 L1016.35 1566.23 Q1013.2 1567.57 1009.89 1568.27 Q1006.58 1568.97 1003.18 1568.97 Q994.646 1568.97 989.649 1564 Q984.684 1559.04 984.684 1550.57 Q984.684 1541.82 989.394 1536.69 Q994.137 1531.54 1002.16 1531.54 Q1009.35 1531.54 1013.52 1536.18 Q1017.72 1540.8 1017.72 1548.76 M1011.87 1547.04 Q1011.8 1542.23 1009.16 1539.37 Q1006.55 1536.5 1002.22 1536.5 Q997.32 1536.5 994.36 1539.27 Q991.431 1542.04 990.986 1547.07 L1011.87 1547.04 Z\" fill=\"#000000\" fill-rule=\"nonzero\" fill-opacity=\"1\" /><path clip-path=\"url(#clip460)\" d=\"M1047.99 1537.87 Q1047 1537.3 1045.83 1537.04 Q1044.68 1536.76 1043.28 1536.76 Q1038.31 1536.76 1035.64 1540 Q1033 1543.22 1033 1549.27 L1033 1568.04 L1027.11 1568.04 L1027.11 1532.4 L1033 1532.4 L1033 1537.93 Q1034.85 1534.69 1037.81 1533.13 Q1040.77 1531.54 1045 1531.54 Q1045.6 1531.54 1046.34 1531.63 Q1047.07 1531.7 1047.96 1531.85 L1047.99 1537.87 Z\" fill=\"#000000\" fill-rule=\"nonzero\" fill-opacity=\"1\" /><path clip-path=\"url(#clip460)\" d=\"M1070.33 1550.12 Q1063.24 1550.12 1060.5 1551.75 Q1057.76 1553.37 1057.76 1557.29 Q1057.76 1560.4 1059.8 1562.25 Q1061.87 1564.07 1065.4 1564.07 Q1070.27 1564.07 1073.2 1560.63 Q1076.16 1557.16 1076.16 1551.43 L1076.16 1550.12 L1070.33 1550.12 M1082.02 1547.71 L1082.02 1568.04 L1076.16 1568.04 L1076.16 1562.63 Q1074.15 1565.88 1071.16 1567.44 Q1068.17 1568.97 1063.84 1568.97 Q1058.37 1568.97 1055.12 1565.91 Q1051.91 1562.82 1051.91 1557.67 Q1051.91 1551.65 1055.92 1548.6 Q1059.96 1545.54 1067.95 1545.54 L1076.16 1545.54 L1076.16 1544.97 Q1076.16 1540.93 1073.49 1538.73 Q1070.84 1536.5 1066.04 1536.5 Q1062.98 1536.5 1060.09 1537.23 Q1057.19 1537.97 1054.52 1539.43 L1054.52 1534.02 Q1057.73 1532.78 1060.75 1532.17 Q1063.78 1531.54 1066.64 1531.54 Q1074.38 1531.54 1078.2 1535.55 Q1082.02 1539.56 1082.02 1547.71 Z\" fill=\"#000000\" fill-rule=\"nonzero\" fill-opacity=\"1\" /><path clip-path=\"url(#clip460)\" d=\"M1117.54 1549.81 Q1117.54 1543.44 1114.89 1539.94 Q1112.28 1536.44 1107.54 1536.44 Q1102.83 1536.44 1100.19 1539.94 Q1097.58 1543.44 1097.58 1549.81 Q1097.58 1556.14 1100.19 1559.64 Q1102.83 1563.14 1107.54 1563.14 Q1112.28 1563.14 1114.89 1559.64 Q1117.54 1556.14 1117.54 1549.81 M1123.39 1563.62 Q1123.39 1572.72 1119.35 1577.15 Q1115.31 1581.6 1106.97 1581.6 Q1103.88 1581.6 1101.14 1581.13 Q1098.41 1580.68 1095.83 1579.72 L1095.83 1574.03 Q1098.41 1575.43 1100.92 1576.1 Q1103.44 1576.76 1106.05 1576.76 Q1111.81 1576.76 1114.67 1573.74 Q1117.54 1570.75 1117.54 1564.67 L1117.54 1561.77 Q1115.72 1564.92 1112.89 1566.48 Q1110.06 1568.04 1106.11 1568.04 Q1099.55 1568.04 1095.54 1563.05 Q1091.53 1558.05 1091.53 1549.81 Q1091.53 1541.53 1095.54 1536.53 Q1099.55 1531.54 1106.11 1531.54 Q1110.06 1531.54 1112.89 1533.1 Q1115.72 1534.66 1117.54 1537.81 L1117.54 1532.4 L1123.39 1532.4 L1123.39 1563.62 Z\" fill=\"#000000\" fill-rule=\"nonzero\" fill-opacity=\"1\" /><path clip-path=\"url(#clip460)\" d=\"M1165.95 1548.76 L1165.95 1551.62 L1139.02 1551.62 Q1139.4 1557.67 1142.65 1560.85 Q1145.93 1564 1151.75 1564 Q1155.13 1564 1158.28 1563.17 Q1161.46 1562.35 1164.58 1560.69 L1164.58 1566.23 Q1161.43 1567.57 1158.12 1568.27 Q1154.81 1568.97 1151.4 1568.97 Q1142.87 1568.97 1137.87 1564 Q1132.91 1559.04 1132.91 1550.57 Q1132.91 1541.82 1137.62 1536.69 Q1142.36 1531.54 1150.38 1531.54 Q1157.58 1531.54 1161.75 1536.18 Q1165.95 1540.8 1165.95 1548.76 M1160.09 1547.04 Q1160.03 1542.23 1157.39 1539.37 Q1154.78 1536.5 1150.45 1536.5 Q1145.55 1536.5 1142.59 1539.27 Q1139.66 1542.04 1139.21 1547.07 L1160.09 1547.04 Z\" fill=\"#000000\" fill-rule=\"nonzero\" fill-opacity=\"1\" /><path clip-path=\"url(#clip460)\" d=\"M1202.96 1525.81 L1202.96 1562.76 L1210.73 1562.76 Q1220.56 1562.76 1225.12 1558.3 Q1229.7 1553.85 1229.7 1544.24 Q1229.7 1534.69 1225.12 1530.26 Q1220.56 1525.81 1210.73 1525.81 L1202.96 1525.81 M1196.53 1520.52 L1209.74 1520.52 Q1223.56 1520.52 1230.02 1526.28 Q1236.48 1532.01 1236.48 1544.24 Q1236.48 1556.52 1229.99 1562.28 Q1223.49 1568.04 1209.74 1568.04 L1196.53 1568.04 L1196.53 1520.52 Z\" fill=\"#000000\" fill-rule=\"nonzero\" fill-opacity=\"1\" /><path clip-path=\"url(#clip460)\" d=\"M1246.47 1532.4 L1252.33 1532.4 L1252.33 1568.04 L1246.47 1568.04 L1246.47 1532.4 M1246.47 1518.52 L1252.33 1518.52 L1252.33 1525.93 L1246.47 1525.93 L1246.47 1518.52 Z\" fill=\"#000000\" fill-rule=\"nonzero\" fill-opacity=\"1\" /><path clip-path=\"url(#clip460)\" d=\"M1287.31 1533.45 L1287.31 1538.98 Q1284.83 1537.71 1282.15 1537.07 Q1279.48 1536.44 1276.61 1536.44 Q1272.25 1536.44 1270.06 1537.77 Q1267.89 1539.11 1267.89 1541.79 Q1267.89 1543.82 1269.45 1545 Q1271.01 1546.15 1275.72 1547.2 L1277.73 1547.64 Q1283.97 1548.98 1286.58 1551.43 Q1289.22 1553.85 1289.22 1558.21 Q1289.22 1563.17 1285.27 1566.07 Q1281.36 1568.97 1274.48 1568.97 Q1271.62 1568.97 1268.5 1568.39 Q1265.41 1567.85 1261.97 1566.74 L1261.97 1560.69 Q1265.22 1562.38 1268.37 1563.24 Q1271.52 1564.07 1274.61 1564.07 Q1278.75 1564.07 1280.98 1562.66 Q1283.2 1561.23 1283.2 1558.65 Q1283.2 1556.27 1281.58 1554.99 Q1279.99 1553.72 1274.55 1552.54 L1272.51 1552.07 Q1267.07 1550.92 1264.65 1548.56 Q1262.23 1546.18 1262.23 1542.04 Q1262.23 1537.01 1265.79 1534.27 Q1269.36 1531.54 1275.91 1531.54 Q1279.16 1531.54 1282.03 1532.01 Q1284.89 1532.49 1287.31 1533.45 Z\" fill=\"#000000\" fill-rule=\"nonzero\" fill-opacity=\"1\" /><path clip-path=\"url(#clip460)\" d=\"M1304.34 1522.27 L1304.34 1532.4 L1316.4 1532.4 L1316.4 1536.95 L1304.34 1536.95 L1304.34 1556.3 Q1304.34 1560.66 1305.52 1561.9 Q1306.72 1563.14 1310.39 1563.14 L1316.4 1563.14 L1316.4 1568.04 L1310.39 1568.04 Q1303.61 1568.04 1301.03 1565.53 Q1298.45 1562.98 1298.45 1556.3 L1298.45 1536.95 L1294.15 1536.95 L1294.15 1532.4 L1298.45 1532.4 L1298.45 1522.27 L1304.34 1522.27 Z\" fill=\"#000000\" fill-rule=\"nonzero\" fill-opacity=\"1\" /><path clip-path=\"url(#clip460)\" d=\"M1340.3 1550.12 Q1333.21 1550.12 1330.47 1551.75 Q1327.73 1553.37 1327.73 1557.29 Q1327.73 1560.4 1329.77 1562.25 Q1331.84 1564.07 1335.37 1564.07 Q1340.24 1564.07 1343.17 1560.63 Q1346.13 1557.16 1346.13 1551.43 L1346.13 1550.12 L1340.3 1550.12 M1351.98 1547.71 L1351.98 1568.04 L1346.13 1568.04 L1346.13 1562.63 Q1344.12 1565.88 1341.13 1567.44 Q1338.14 1568.97 1333.81 1568.97 Q1328.34 1568.97 1325.09 1565.91 Q1321.88 1562.82 1321.88 1557.67 Q1321.88 1551.65 1325.89 1548.6 Q1329.93 1545.54 1337.92 1545.54 L1346.13 1545.54 L1346.13 1544.97 Q1346.13 1540.93 1343.45 1538.73 Q1340.81 1536.5 1336.01 1536.5 Q1332.95 1536.5 1330.06 1537.23 Q1327.16 1537.97 1324.49 1539.43 L1324.49 1534.02 Q1327.7 1532.78 1330.72 1532.17 Q1333.75 1531.54 1336.61 1531.54 Q1344.35 1531.54 1348.17 1535.55 Q1351.98 1539.56 1351.98 1547.71 Z\" fill=\"#000000\" fill-rule=\"nonzero\" fill-opacity=\"1\" /><path clip-path=\"url(#clip460)\" d=\"M1393.68 1546.53 L1393.68 1568.04 L1387.82 1568.04 L1387.82 1546.72 Q1387.82 1541.66 1385.85 1539.14 Q1383.88 1536.63 1379.93 1536.63 Q1375.19 1536.63 1372.45 1539.65 Q1369.71 1542.68 1369.71 1547.9 L1369.71 1568.04 L1363.83 1568.04 L1363.83 1532.4 L1369.71 1532.4 L1369.71 1537.93 Q1371.81 1534.72 1374.65 1533.13 Q1377.51 1531.54 1381.24 1531.54 Q1387.38 1531.54 1390.53 1535.36 Q1393.68 1539.14 1393.68 1546.53 Z\" fill=\"#000000\" fill-rule=\"nonzero\" fill-opacity=\"1\" /><path clip-path=\"url(#clip460)\" d=\"M1431.02 1533.76 L1431.02 1539.24 Q1428.53 1537.87 1426.02 1537.2 Q1423.54 1536.5 1420.99 1536.5 Q1415.29 1536.5 1412.14 1540.13 Q1408.99 1543.73 1408.99 1550.25 Q1408.99 1556.78 1412.14 1560.4 Q1415.29 1564 1420.99 1564 Q1423.54 1564 1426.02 1563.33 Q1428.53 1562.63 1431.02 1561.26 L1431.02 1566.68 Q1428.56 1567.82 1425.92 1568.39 Q1423.31 1568.97 1420.35 1568.97 Q1412.3 1568.97 1407.56 1563.91 Q1402.82 1558.85 1402.82 1550.25 Q1402.82 1541.53 1407.59 1536.53 Q1412.4 1531.54 1420.73 1531.54 Q1423.44 1531.54 1426.02 1532.11 Q1428.6 1532.65 1431.02 1533.76 Z\" fill=\"#000000\" fill-rule=\"nonzero\" fill-opacity=\"1\" /><path clip-path=\"url(#clip460)\" d=\"M1471.69 1548.76 L1471.69 1551.62 L1444.77 1551.62 Q1445.15 1557.67 1448.39 1560.85 Q1451.67 1564 1457.5 1564 Q1460.87 1564 1464.02 1563.17 Q1467.2 1562.35 1470.32 1560.69 L1470.32 1566.23 Q1467.17 1567.57 1463.86 1568.27 Q1460.55 1568.97 1457.15 1568.97 Q1448.62 1568.97 1443.62 1564 Q1438.65 1559.04 1438.65 1550.57 Q1438.65 1541.82 1443.36 1536.69 Q1448.11 1531.54 1456.13 1531.54 Q1463.32 1531.54 1467.49 1536.18 Q1471.69 1540.8 1471.69 1548.76 M1465.84 1547.04 Q1465.77 1542.23 1463.13 1539.37 Q1460.52 1536.5 1456.19 1536.5 Q1451.29 1536.5 1448.33 1539.27 Q1445.4 1542.04 1444.96 1547.07 L1465.84 1547.04 Z\" fill=\"#000000\" fill-rule=\"nonzero\" fill-opacity=\"1\" /><path clip-path=\"url(#clip460)\" d=\"M1507.82 1522.27 L1507.82 1532.4 L1519.88 1532.4 L1519.88 1536.95 L1507.82 1536.95 L1507.82 1556.3 Q1507.82 1560.66 1509 1561.9 Q1510.2 1563.14 1513.86 1563.14 L1519.88 1563.14 L1519.88 1568.04 L1513.86 1568.04 Q1507.09 1568.04 1504.51 1565.53 Q1501.93 1562.98 1501.93 1556.3 L1501.93 1536.95 L1497.63 1536.95 L1497.63 1532.4 L1501.93 1532.4 L1501.93 1522.27 L1507.82 1522.27 Z\" fill=\"#000000\" fill-rule=\"nonzero\" fill-opacity=\"1\" /><path clip-path=\"url(#clip460)\" d=\"M1541.4 1536.5 Q1536.69 1536.5 1533.95 1540.19 Q1531.21 1543.85 1531.21 1550.25 Q1531.21 1556.65 1533.92 1560.34 Q1536.65 1564 1541.4 1564 Q1546.08 1564 1548.81 1560.31 Q1551.55 1556.62 1551.55 1550.25 Q1551.55 1543.92 1548.81 1540.23 Q1546.08 1536.5 1541.4 1536.5 M1541.4 1531.54 Q1549.04 1531.54 1553.4 1536.5 Q1557.76 1541.47 1557.76 1550.25 Q1557.76 1559 1553.4 1564 Q1549.04 1568.97 1541.4 1568.97 Q1533.73 1568.97 1529.37 1564 Q1525.04 1559 1525.04 1550.25 Q1525.04 1541.47 1529.37 1536.5 Q1533.73 1531.54 1541.4 1531.54 Z\" fill=\"#000000\" fill-rule=\"nonzero\" fill-opacity=\"1\" /><path clip-path=\"url(#clip460)\" d=\"M1588.18 1532.4 L1594.04 1532.4 L1594.04 1568.04 L1588.18 1568.04 L1588.18 1532.4 M1588.18 1518.52 L1594.04 1518.52 L1594.04 1525.93 L1588.18 1525.93 L1588.18 1518.52 Z\" fill=\"#000000\" fill-rule=\"nonzero\" fill-opacity=\"1\" /><path clip-path=\"url(#clip460)\" d=\"M1633.38 1578.87 L1633.38 1583.42 L1599.52 1583.42 L1599.52 1578.87 L1633.38 1578.87 Z\" fill=\"#000000\" fill-rule=\"nonzero\" fill-opacity=\"1\" /><path clip-path=\"url(#clip460)\" d=\"M1653.46 1524.76 Q1648.5 1524.76 1645.99 1529.66 Q1643.5 1534.53 1643.5 1544.33 Q1643.5 1554.1 1645.99 1559 Q1648.5 1563.87 1653.46 1563.87 Q1658.46 1563.87 1660.94 1559 Q1663.46 1554.1 1663.46 1544.33 Q1663.46 1534.53 1660.94 1529.66 Q1658.46 1524.76 1653.46 1524.76 M1653.46 1519.66 Q1661.45 1519.66 1665.66 1526 Q1669.89 1532.3 1669.89 1544.33 Q1669.89 1556.33 1665.66 1562.66 Q1661.45 1568.97 1653.46 1568.97 Q1645.48 1568.97 1641.24 1562.66 Q1637.04 1556.33 1637.04 1544.33 Q1637.04 1532.3 1641.24 1526 Q1645.48 1519.66 1653.46 1519.66 Z\" fill=\"#000000\" fill-rule=\"nonzero\" fill-opacity=\"1\" /><polyline clip-path=\"url(#clip462)\" style=\"stroke:#000000; stroke-linecap:round; stroke-linejoin:round; stroke-width:2; stroke-opacity:0.1; fill:none\" points=\"219.38,1384.25 2352.76,1384.25 \"/>\n",
       "<polyline clip-path=\"url(#clip462)\" style=\"stroke:#000000; stroke-linecap:round; stroke-linejoin:round; stroke-width:2; stroke-opacity:0.1; fill:none\" points=\"219.38,952.655 2352.76,952.655 \"/>\n",
       "<polyline clip-path=\"url(#clip462)\" style=\"stroke:#000000; stroke-linecap:round; stroke-linejoin:round; stroke-width:2; stroke-opacity:0.1; fill:none\" points=\"219.38,521.061 2352.76,521.061 \"/>\n",
       "<polyline clip-path=\"url(#clip462)\" style=\"stroke:#000000; stroke-linecap:round; stroke-linejoin:round; stroke-width:2; stroke-opacity:0.1; fill:none\" points=\"219.38,89.4667 2352.76,89.4667 \"/>\n",
       "<polyline clip-path=\"url(#clip460)\" style=\"stroke:#000000; stroke-linecap:round; stroke-linejoin:round; stroke-width:4; stroke-opacity:1; fill:none\" points=\"219.38,1423.18 219.38,47.2441 \"/>\n",
       "<polyline clip-path=\"url(#clip460)\" style=\"stroke:#000000; stroke-linecap:round; stroke-linejoin:round; stroke-width:4; stroke-opacity:1; fill:none\" points=\"219.38,1384.25 238.278,1384.25 \"/>\n",
       "<polyline clip-path=\"url(#clip460)\" style=\"stroke:#000000; stroke-linecap:round; stroke-linejoin:round; stroke-width:4; stroke-opacity:1; fill:none\" points=\"219.38,952.655 238.278,952.655 \"/>\n",
       "<polyline clip-path=\"url(#clip460)\" style=\"stroke:#000000; stroke-linecap:round; stroke-linejoin:round; stroke-width:4; stroke-opacity:1; fill:none\" points=\"219.38,521.061 238.278,521.061 \"/>\n",
       "<polyline clip-path=\"url(#clip460)\" style=\"stroke:#000000; stroke-linecap:round; stroke-linejoin:round; stroke-width:4; stroke-opacity:1; fill:none\" points=\"219.38,89.4667 238.278,89.4667 \"/>\n",
       "<path clip-path=\"url(#clip460)\" d=\"M126.205 1370.05 Q122.593 1370.05 120.765 1373.61 Q118.959 1377.15 118.959 1384.28 Q118.959 1391.39 120.765 1394.96 Q122.593 1398.5 126.205 1398.5 Q129.839 1398.5 131.644 1394.96 Q133.473 1391.39 133.473 1384.28 Q133.473 1377.15 131.644 1373.61 Q129.839 1370.05 126.205 1370.05 M126.205 1366.34 Q132.015 1366.34 135.07 1370.95 Q138.149 1375.53 138.149 1384.28 Q138.149 1393.01 135.07 1397.62 Q132.015 1402.2 126.205 1402.2 Q120.394 1402.2 117.316 1397.62 Q114.26 1393.01 114.26 1384.28 Q114.26 1375.53 117.316 1370.95 Q120.394 1366.34 126.205 1366.34 Z\" fill=\"#000000\" fill-rule=\"nonzero\" fill-opacity=\"1\" /><path clip-path=\"url(#clip460)\" d=\"M146.366 1395.65 L151.251 1395.65 L151.251 1401.53 L146.366 1401.53 L146.366 1395.65 Z\" fill=\"#000000\" fill-rule=\"nonzero\" fill-opacity=\"1\" /><path clip-path=\"url(#clip460)\" d=\"M171.436 1370.05 Q167.825 1370.05 165.996 1373.61 Q164.19 1377.15 164.19 1384.28 Q164.19 1391.39 165.996 1394.96 Q167.825 1398.5 171.436 1398.5 Q175.07 1398.5 176.876 1394.96 Q178.704 1391.39 178.704 1384.28 Q178.704 1377.15 176.876 1373.61 Q175.07 1370.05 171.436 1370.05 M171.436 1366.34 Q177.246 1366.34 180.301 1370.95 Q183.38 1375.53 183.38 1384.28 Q183.38 1393.01 180.301 1397.62 Q177.246 1402.2 171.436 1402.2 Q165.626 1402.2 162.547 1397.62 Q159.491 1393.01 159.491 1384.28 Q159.491 1375.53 162.547 1370.95 Q165.626 1366.34 171.436 1366.34 Z\" fill=\"#000000\" fill-rule=\"nonzero\" fill-opacity=\"1\" /><path clip-path=\"url(#clip460)\" d=\"M127.431 938.454 Q123.82 938.454 121.992 942.019 Q120.186 945.56 120.186 952.69 Q120.186 959.796 121.992 963.361 Q123.82 966.903 127.431 966.903 Q131.066 966.903 132.871 963.361 Q134.7 959.796 134.7 952.69 Q134.7 945.56 132.871 942.019 Q131.066 938.454 127.431 938.454 M127.431 934.75 Q133.242 934.75 136.297 939.357 Q139.376 943.94 139.376 952.69 Q139.376 961.417 136.297 966.023 Q133.242 970.606 127.431 970.606 Q121.621 970.606 118.543 966.023 Q115.487 961.417 115.487 952.69 Q115.487 943.94 118.543 939.357 Q121.621 934.75 127.431 934.75 Z\" fill=\"#000000\" fill-rule=\"nonzero\" fill-opacity=\"1\" /><path clip-path=\"url(#clip460)\" d=\"M147.593 964.056 L152.478 964.056 L152.478 969.935 L147.593 969.935 L147.593 964.056 Z\" fill=\"#000000\" fill-rule=\"nonzero\" fill-opacity=\"1\" /><path clip-path=\"url(#clip460)\" d=\"M163.473 966 L171.112 966 L171.112 939.634 L162.802 941.301 L162.802 937.042 L171.065 935.375 L175.741 935.375 L175.741 966 L183.38 966 L183.38 969.935 L163.473 969.935 L163.473 966 Z\" fill=\"#000000\" fill-rule=\"nonzero\" fill-opacity=\"1\" /><path clip-path=\"url(#clip460)\" d=\"M127.802 506.86 Q124.191 506.86 122.362 510.424 Q120.556 513.966 120.556 521.096 Q120.556 528.202 122.362 531.767 Q124.191 535.309 127.802 535.309 Q131.436 535.309 133.242 531.767 Q135.07 528.202 135.07 521.096 Q135.07 513.966 133.242 510.424 Q131.436 506.86 127.802 506.86 M127.802 503.156 Q133.612 503.156 136.667 507.762 Q139.746 512.346 139.746 521.096 Q139.746 529.822 136.667 534.429 Q133.612 539.012 127.802 539.012 Q121.992 539.012 118.913 534.429 Q115.857 529.822 115.857 521.096 Q115.857 512.346 118.913 507.762 Q121.992 503.156 127.802 503.156 Z\" fill=\"#000000\" fill-rule=\"nonzero\" fill-opacity=\"1\" /><path clip-path=\"url(#clip460)\" d=\"M147.964 532.461 L152.848 532.461 L152.848 538.341 L147.964 538.341 L147.964 532.461 Z\" fill=\"#000000\" fill-rule=\"nonzero\" fill-opacity=\"1\" /><path clip-path=\"url(#clip460)\" d=\"M167.061 534.406 L183.38 534.406 L183.38 538.341 L161.436 538.341 L161.436 534.406 Q164.098 531.651 168.681 527.022 Q173.288 522.369 174.468 521.026 Q176.714 518.503 177.593 516.767 Q178.496 515.008 178.496 513.318 Q178.496 510.563 176.551 508.827 Q174.63 507.091 171.528 507.091 Q169.329 507.091 166.876 507.855 Q164.445 508.619 161.667 510.17 L161.667 505.448 Q164.491 504.313 166.945 503.735 Q169.399 503.156 171.436 503.156 Q176.806 503.156 180.001 505.841 Q183.195 508.526 183.195 513.017 Q183.195 515.147 182.385 517.068 Q181.598 518.966 179.491 521.559 Q178.913 522.23 175.811 525.447 Q172.709 528.642 167.061 534.406 Z\" fill=\"#000000\" fill-rule=\"nonzero\" fill-opacity=\"1\" /><path clip-path=\"url(#clip460)\" d=\"M126.853 75.2654 Q123.242 75.2654 121.413 78.8302 Q119.607 82.3718 119.607 89.5014 Q119.607 96.6078 121.413 100.173 Q123.242 103.714 126.853 103.714 Q130.487 103.714 132.292 100.173 Q134.121 96.6078 134.121 89.5014 Q134.121 82.3718 132.292 78.8302 Q130.487 75.2654 126.853 75.2654 M126.853 71.5617 Q132.663 71.5617 135.718 76.1681 Q138.797 80.7514 138.797 89.5014 Q138.797 98.2282 135.718 102.835 Q132.663 107.418 126.853 107.418 Q121.043 107.418 117.964 102.835 Q114.908 98.2282 114.908 89.5014 Q114.908 80.7514 117.964 76.1681 Q121.043 71.5617 126.853 71.5617 Z\" fill=\"#000000\" fill-rule=\"nonzero\" fill-opacity=\"1\" /><path clip-path=\"url(#clip460)\" d=\"M147.015 100.867 L151.899 100.867 L151.899 106.747 L147.015 106.747 L147.015 100.867 Z\" fill=\"#000000\" fill-rule=\"nonzero\" fill-opacity=\"1\" /><path clip-path=\"url(#clip460)\" d=\"M176.251 88.1125 Q179.607 88.8301 181.482 91.0986 Q183.38 93.3671 183.38 96.7004 Q183.38 101.816 179.862 104.617 Q176.343 107.418 169.862 107.418 Q167.686 107.418 165.371 106.978 Q163.079 106.561 160.626 105.705 L160.626 101.191 Q162.57 102.325 164.885 102.904 Q167.2 103.483 169.723 103.483 Q174.121 103.483 176.413 101.747 Q178.727 100.011 178.727 96.7004 Q178.727 93.6449 176.575 91.9319 Q174.445 90.1958 170.626 90.1958 L166.598 90.1958 L166.598 86.3533 L170.811 86.3533 Q174.26 86.3533 176.089 84.9875 Q177.917 83.5986 177.917 81.0061 Q177.917 78.344 176.019 76.932 Q174.144 75.4968 170.626 75.4968 Q168.704 75.4968 166.505 75.9135 Q164.306 76.3302 161.667 77.2098 L161.667 73.0431 Q164.329 72.3024 166.644 71.932 Q168.982 71.5617 171.042 71.5617 Q176.366 71.5617 179.468 73.9922 Q182.57 76.3996 182.57 80.52 Q182.57 83.3903 180.926 85.381 Q179.283 87.3486 176.251 88.1125 Z\" fill=\"#000000\" fill-rule=\"nonzero\" fill-opacity=\"1\" /><path clip-path=\"url(#clip460)\" d=\"M16.4842 1250.44 L16.4842 1240.86 L48.8219 1228.73 L16.4842 1216.54 L16.4842 1206.96 L64.0042 1206.96 L64.0042 1213.23 L22.277 1213.23 L54.8694 1225.48 L54.8694 1231.94 L22.277 1244.2 L64.0042 1244.2 L64.0042 1250.44 L16.4842 1250.44 Z\" fill=\"#000000\" fill-rule=\"nonzero\" fill-opacity=\"1\" /><path clip-path=\"url(#clip460)\" d=\"M46.0847 1178.25 Q46.0847 1185.35 47.7079 1188.08 Q49.3312 1190.82 53.2461 1190.82 Q56.3653 1190.82 58.2114 1188.78 Q60.0256 1186.72 60.0256 1183.18 Q60.0256 1178.31 56.5881 1175.38 Q53.1188 1172.42 47.3897 1172.42 L46.0847 1172.42 L46.0847 1178.25 M43.6657 1166.57 L64.0042 1166.57 L64.0042 1172.42 L58.5933 1172.42 Q61.8398 1174.43 63.3994 1177.42 Q64.9272 1180.41 64.9272 1184.74 Q64.9272 1190.22 61.8716 1193.46 Q58.7843 1196.68 53.6281 1196.68 Q47.6125 1196.68 44.5569 1192.67 Q41.5014 1188.63 41.5014 1180.64 L41.5014 1172.42 L40.9285 1172.42 Q36.8862 1172.42 34.6901 1175.1 Q32.4621 1177.74 32.4621 1182.55 Q32.4621 1185.6 33.1941 1188.5 Q33.9262 1191.39 35.3903 1194.07 L29.9795 1194.07 Q28.7381 1190.85 28.1334 1187.83 Q27.4968 1184.81 27.4968 1181.94 Q27.4968 1174.21 31.5072 1170.39 Q35.5176 1166.57 43.6657 1166.57 Z\" fill=\"#000000\" fill-rule=\"nonzero\" fill-opacity=\"1\" /><path clip-path=\"url(#clip460)\" d=\"M28.3562 1124.87 L45.7028 1137.76 L64.0042 1124.2 L64.0042 1131.11 L49.9996 1141.49 L64.0042 1151.86 L64.0042 1158.77 L45.3526 1144.92 L28.3562 1157.59 L28.3562 1150.69 L41.0558 1141.23 L28.3562 1131.78 L28.3562 1124.87 Z\" fill=\"#000000\" fill-rule=\"nonzero\" fill-opacity=\"1\" /><path clip-path=\"url(#clip460)\" d=\"M28.3562 1115.93 L28.3562 1110.07 L64.0042 1110.07 L64.0042 1115.93 L28.3562 1115.93 M14.479 1115.93 L14.479 1110.07 L21.895 1110.07 L21.895 1115.93 L14.479 1115.93 Z\" fill=\"#000000\" fill-rule=\"nonzero\" fill-opacity=\"1\" /><path clip-path=\"url(#clip460)\" d=\"M35.1993 1070.06 Q31.2526 1067.87 29.3747 1064.81 Q27.4968 1061.76 27.4968 1057.62 Q27.4968 1052.05 31.4117 1049.03 Q35.2948 1046 42.4881 1046 L64.0042 1046 L64.0042 1051.89 L42.679 1051.89 Q37.5546 1051.89 35.072 1053.7 Q32.5894 1055.52 32.5894 1059.24 Q32.5894 1063.79 35.6131 1066.44 Q38.6368 1069.08 43.8567 1069.08 L64.0042 1069.08 L64.0042 1074.97 L42.679 1074.97 Q37.5228 1074.97 35.072 1076.78 Q32.5894 1078.59 32.5894 1082.38 Q32.5894 1086.87 35.6449 1089.51 Q38.6686 1092.15 43.8567 1092.15 L64.0042 1092.15 L64.0042 1098.04 L28.3562 1098.04 L28.3562 1092.15 L33.8944 1092.15 Q30.616 1090.15 29.0564 1087.35 Q27.4968 1084.55 27.4968 1080.69 Q27.4968 1076.81 29.4702 1074.11 Q31.4436 1071.37 35.1993 1070.06 Z\" fill=\"#000000\" fill-rule=\"nonzero\" fill-opacity=\"1\" /><path clip-path=\"url(#clip460)\" d=\"M49.9359 1034.93 L28.3562 1034.93 L28.3562 1029.07 L49.7131 1029.07 Q54.7739 1029.07 57.3202 1027.1 Q59.8346 1025.12 59.8346 1021.18 Q59.8346 1016.43 56.8109 1013.7 Q53.7872 1010.93 48.5673 1010.93 L28.3562 1010.93 L28.3562 1005.07 L64.0042 1005.07 L64.0042 1010.93 L58.5296 1010.93 Q61.7762 1013.06 63.3676 1015.89 Q64.9272 1018.69 64.9272 1022.42 Q64.9272 1028.56 61.1078 1031.74 Q57.2883 1034.93 49.9359 1034.93 M27.4968 1020.19 L27.4968 1020.19 Z\" fill=\"#000000\" fill-rule=\"nonzero\" fill-opacity=\"1\" /><path clip-path=\"url(#clip460)\" d=\"M35.1993 965.253 Q31.2526 963.057 29.3747 960.001 Q27.4968 956.945 27.4968 952.808 Q27.4968 947.238 31.4117 944.214 Q35.2948 941.19 42.4881 941.19 L64.0042 941.19 L64.0042 947.079 L42.679 947.079 Q37.5546 947.079 35.072 948.893 Q32.5894 950.707 32.5894 954.431 Q32.5894 958.982 35.6131 961.624 Q38.6368 964.266 43.8567 964.266 L64.0042 964.266 L64.0042 970.154 L42.679 970.154 Q37.5228 970.154 35.072 971.969 Q32.5894 973.783 32.5894 977.57 Q32.5894 982.058 35.6449 984.7 Q38.6686 987.342 43.8567 987.342 L64.0042 987.342 L64.0042 993.23 L28.3562 993.23 L28.3562 987.342 L33.8944 987.342 Q30.616 985.336 29.0564 982.536 Q27.4968 979.735 27.4968 975.883 Q27.4968 972 29.4702 969.295 Q31.4436 966.558 35.1993 965.253 Z\" fill=\"#000000\" fill-rule=\"nonzero\" fill-opacity=\"1\" /><path clip-path=\"url(#clip460)\" d=\"M32.4621 894.975 Q32.4621 899.686 36.1542 902.423 Q39.8145 905.16 46.212 905.16 Q52.6095 905.16 56.3017 902.455 Q59.9619 899.718 59.9619 894.975 Q59.9619 890.296 56.2698 887.559 Q52.5777 884.822 46.212 884.822 Q39.8781 884.822 36.186 887.559 Q32.4621 890.296 32.4621 894.975 M27.4968 894.975 Q27.4968 887.336 32.4621 882.976 Q37.4273 878.615 46.212 878.615 Q54.9649 878.615 59.9619 882.976 Q64.9272 887.336 64.9272 894.975 Q64.9272 902.646 59.9619 907.006 Q54.9649 911.335 46.212 911.335 Q37.4273 911.335 32.4621 907.006 Q27.4968 902.646 27.4968 894.975 Z\" fill=\"#000000\" fill-rule=\"nonzero\" fill-opacity=\"1\" /><path clip-path=\"url(#clip460)\" d=\"M14.479 850.861 L19.3487 850.861 L19.3487 856.463 Q19.3487 859.614 20.6219 860.855 Q21.895 862.065 25.2052 862.065 L28.3562 862.065 L28.3562 852.421 L32.9077 852.421 L32.9077 862.065 L64.0042 862.065 L64.0042 867.953 L32.9077 867.953 L32.9077 873.555 L28.3562 873.555 L28.3562 867.953 L25.8736 867.953 Q19.9216 867.953 17.2162 865.184 Q14.479 862.415 14.479 856.399 L14.479 850.861 Z\" fill=\"#000000\" fill-rule=\"nonzero\" fill-opacity=\"1\" /><path clip-path=\"url(#clip460)\" d=\"M42.4881 795.607 L64.0042 795.607 L64.0042 801.463 L42.679 801.463 Q37.6183 801.463 35.1038 803.436 Q32.5894 805.41 32.5894 809.357 Q32.5894 814.099 35.6131 816.836 Q38.6368 819.573 43.8567 819.573 L64.0042 819.573 L64.0042 825.462 L14.479 825.462 L14.479 819.573 L33.8944 819.573 Q30.6797 817.473 29.0883 814.64 Q27.4968 811.776 27.4968 808.052 Q27.4968 801.909 31.3163 798.758 Q35.1038 795.607 42.4881 795.607 Z\" fill=\"#000000\" fill-rule=\"nonzero\" fill-opacity=\"1\" /><path clip-path=\"url(#clip460)\" d=\"M32.4621 770.112 Q32.4621 774.823 36.1542 777.56 Q39.8145 780.297 46.212 780.297 Q52.6095 780.297 56.3017 777.592 Q59.9619 774.854 59.9619 770.112 Q59.9619 765.433 56.2698 762.696 Q52.5777 759.959 46.212 759.959 Q39.8781 759.959 36.186 762.696 Q32.4621 765.433 32.4621 770.112 M27.4968 770.112 Q27.4968 762.473 32.4621 758.113 Q37.4273 753.752 46.212 753.752 Q54.9649 753.752 59.9619 758.113 Q64.9272 762.473 64.9272 770.112 Q64.9272 777.783 59.9619 782.143 Q54.9649 786.472 46.212 786.472 Q37.4273 786.472 32.4621 782.143 Q27.4968 777.783 27.4968 770.112 Z\" fill=\"#000000\" fill-rule=\"nonzero\" fill-opacity=\"1\" /><path clip-path=\"url(#clip460)\" d=\"M58.657 738.379 L77.5631 738.379 L77.5631 744.267 L28.3562 744.267 L28.3562 738.379 L33.7671 738.379 Q30.5842 736.533 29.0564 733.732 Q27.4968 730.899 27.4968 726.984 Q27.4968 720.491 32.6531 716.449 Q37.8093 712.375 46.212 712.375 Q54.6147 712.375 59.771 716.449 Q64.9272 720.491 64.9272 726.984 Q64.9272 730.899 63.3994 733.732 Q61.8398 736.533 58.657 738.379 M46.212 718.454 Q39.7508 718.454 36.0905 721.128 Q32.3984 723.77 32.3984 728.417 Q32.3984 733.064 36.0905 735.737 Q39.7508 738.379 46.212 738.379 Q52.6732 738.379 56.3653 735.737 Q60.0256 733.064 60.0256 728.417 Q60.0256 723.77 56.3653 721.128 Q52.6732 718.454 46.212 718.454 Z\" fill=\"#000000\" fill-rule=\"nonzero\" fill-opacity=\"1\" /><path clip-path=\"url(#clip460)\" d=\"M58.657 697.002 L77.5631 697.002 L77.5631 702.89 L28.3562 702.89 L28.3562 697.002 L33.7671 697.002 Q30.5842 695.156 29.0564 692.355 Q27.4968 689.522 27.4968 685.607 Q27.4968 679.114 32.6531 675.072 Q37.8093 670.998 46.212 670.998 Q54.6147 670.998 59.771 675.072 Q64.9272 679.114 64.9272 685.607 Q64.9272 689.522 63.3994 692.355 Q61.8398 695.156 58.657 697.002 M46.212 677.077 Q39.7508 677.077 36.0905 679.751 Q32.3984 682.393 32.3984 687.039 Q32.3984 691.686 36.0905 694.36 Q39.7508 697.002 46.212 697.002 Q52.6732 697.002 56.3653 694.36 Q60.0256 691.686 60.0256 687.039 Q60.0256 682.393 56.3653 679.751 Q52.6732 677.077 46.212 677.077 Z\" fill=\"#000000\" fill-rule=\"nonzero\" fill-opacity=\"1\" /><path clip-path=\"url(#clip460)\" d=\"M28.3562 661.29 L28.3562 655.434 L64.0042 655.434 L64.0042 661.29 L28.3562 661.29 M14.479 661.29 L14.479 655.434 L21.895 655.434 L21.895 661.29 L14.479 661.29 Z\" fill=\"#000000\" fill-rule=\"nonzero\" fill-opacity=\"1\" /><path clip-path=\"url(#clip460)\" d=\"M42.4881 613.547 L64.0042 613.547 L64.0042 619.404 L42.679 619.404 Q37.6183 619.404 35.1038 621.377 Q32.5894 623.351 32.5894 627.297 Q32.5894 632.04 35.6131 634.777 Q38.6368 637.514 43.8567 637.514 L64.0042 637.514 L64.0042 643.403 L28.3562 643.403 L28.3562 637.514 L33.8944 637.514 Q30.6797 635.414 29.0883 632.581 Q27.4968 629.716 27.4968 625.992 Q27.4968 619.849 31.3163 616.698 Q35.1038 613.547 42.4881 613.547 Z\" fill=\"#000000\" fill-rule=\"nonzero\" fill-opacity=\"1\" /><path clip-path=\"url(#clip460)\" d=\"M45.7664 578.409 Q39.4007 578.409 35.8996 581.05 Q32.3984 583.66 32.3984 588.403 Q32.3984 593.113 35.8996 595.755 Q39.4007 598.365 45.7664 598.365 Q52.1003 598.365 55.6014 595.755 Q59.1026 593.113 59.1026 588.403 Q59.1026 583.66 55.6014 581.05 Q52.1003 578.409 45.7664 578.409 M59.58 572.552 Q68.683 572.552 73.1071 576.594 Q77.5631 580.637 77.5631 588.976 Q77.5631 592.063 77.0857 594.8 Q76.6401 597.538 75.6852 600.116 L69.9879 600.116 Q71.3884 597.538 72.0568 595.023 Q72.7252 592.509 72.7252 589.899 Q72.7252 584.138 69.7015 581.273 Q66.7096 578.409 60.6303 578.409 L57.7339 578.409 Q60.885 580.223 62.4446 583.056 Q64.0042 585.888 64.0042 589.835 Q64.0042 596.392 59.0071 600.402 Q54.01 604.413 45.7664 604.413 Q37.491 604.413 32.4939 600.402 Q27.4968 596.392 27.4968 589.835 Q27.4968 585.888 29.0564 583.056 Q30.616 580.223 33.7671 578.409 L28.3562 578.409 L28.3562 572.552 L59.58 572.552 Z\" fill=\"#000000\" fill-rule=\"nonzero\" fill-opacity=\"1\" /><path clip-path=\"url(#clip460)\" d=\"M46.0847 523.568 Q46.0847 530.666 47.7079 533.403 Q49.3312 536.14 53.2461 536.14 Q56.3653 536.14 58.2114 534.103 Q60.0256 532.035 60.0256 528.502 Q60.0256 523.632 56.5881 520.704 Q53.1188 517.744 47.3897 517.744 L46.0847 517.744 L46.0847 523.568 M43.6657 511.887 L64.0042 511.887 L64.0042 517.744 L58.5933 517.744 Q61.8398 519.749 63.3994 522.741 Q64.9272 525.732 64.9272 530.061 Q64.9272 535.536 61.8716 538.782 Q58.7843 541.997 53.6281 541.997 Q47.6125 541.997 44.5569 537.986 Q41.5014 533.944 41.5014 525.955 L41.5014 517.744 L40.9285 517.744 Q36.8862 517.744 34.6901 520.417 Q32.4621 523.059 32.4621 527.865 Q32.4621 530.921 33.1941 533.817 Q33.9262 536.713 35.3903 539.387 L29.9795 539.387 Q28.7381 536.172 28.1334 533.149 Q27.4968 530.125 27.4968 527.26 Q27.4968 519.526 31.5072 515.706 Q35.5176 511.887 43.6657 511.887 Z\" fill=\"#000000\" fill-rule=\"nonzero\" fill-opacity=\"1\" /><path clip-path=\"url(#clip460)\" d=\"M35.1993 472.07 Q31.2526 469.873 29.3747 466.818 Q27.4968 463.762 27.4968 459.625 Q27.4968 454.055 31.4117 451.031 Q35.2948 448.007 42.4881 448.007 L64.0042 448.007 L64.0042 453.895 L42.679 453.895 Q37.5546 453.895 35.072 455.71 Q32.5894 457.524 32.5894 461.248 Q32.5894 465.799 35.6131 468.441 Q38.6368 471.083 43.8567 471.083 L64.0042 471.083 L64.0042 476.971 L42.679 476.971 Q37.5228 476.971 35.072 478.785 Q32.5894 480.6 32.5894 484.387 Q32.5894 488.875 35.6449 491.517 Q38.6686 494.159 43.8567 494.159 L64.0042 494.159 L64.0042 500.047 L28.3562 500.047 L28.3562 494.159 L33.8944 494.159 Q30.616 492.153 29.0564 489.352 Q27.4968 486.552 27.4968 482.7 Q27.4968 478.817 29.4702 476.112 Q31.4436 473.375 35.1993 472.07 Z\" fill=\"#000000\" fill-rule=\"nonzero\" fill-opacity=\"1\" /><path clip-path=\"url(#clip460)\" d=\"M58.657 430.661 L77.5631 430.661 L77.5631 436.549 L28.3562 436.549 L28.3562 430.661 L33.7671 430.661 Q30.5842 428.815 29.0564 426.014 Q27.4968 423.181 27.4968 419.266 Q27.4968 412.773 32.6531 408.731 Q37.8093 404.657 46.212 404.657 Q54.6147 404.657 59.771 408.731 Q64.9272 412.773 64.9272 419.266 Q64.9272 423.181 63.3994 426.014 Q61.8398 428.815 58.657 430.661 M46.212 410.736 Q39.7508 410.736 36.0905 413.41 Q32.3984 416.051 32.3984 420.698 Q32.3984 425.345 36.0905 428.019 Q39.7508 430.661 46.212 430.661 Q52.6732 430.661 56.3653 428.019 Q60.0256 425.345 60.0256 420.698 Q60.0256 416.051 56.3653 413.41 Q52.6732 410.736 46.212 410.736 Z\" fill=\"#000000\" fill-rule=\"nonzero\" fill-opacity=\"1\" /><path clip-path=\"url(#clip460)\" d=\"M14.479 394.949 L14.479 389.093 L64.0042 389.093 L64.0042 394.949 L14.479 394.949 Z\" fill=\"#000000\" fill-rule=\"nonzero\" fill-opacity=\"1\" /><path clip-path=\"url(#clip460)\" d=\"M28.3562 376.839 L28.3562 370.982 L64.0042 370.982 L64.0042 376.839 L28.3562 376.839 M14.479 376.839 L14.479 370.982 L21.895 370.982 L21.895 376.839 L14.479 376.839 Z\" fill=\"#000000\" fill-rule=\"nonzero\" fill-opacity=\"1\" /><path clip-path=\"url(#clip460)\" d=\"M18.2347 352.935 L28.3562 352.935 L28.3562 340.872 L32.9077 340.872 L32.9077 352.935 L52.2594 352.935 Q56.6199 352.935 57.8613 351.758 Q59.1026 350.548 59.1026 346.888 L59.1026 340.872 L64.0042 340.872 L64.0042 346.888 Q64.0042 353.667 61.4897 356.246 Q58.9434 358.824 52.2594 358.824 L32.9077 358.824 L32.9077 363.121 L28.3562 363.121 L28.3562 358.824 L18.2347 358.824 L18.2347 352.935 Z\" fill=\"#000000\" fill-rule=\"nonzero\" fill-opacity=\"1\" /><path clip-path=\"url(#clip460)\" d=\"M49.9359 333.775 L28.3562 333.775 L28.3562 327.918 L49.7131 327.918 Q54.7739 327.918 57.3202 325.945 Q59.8346 323.971 59.8346 320.025 Q59.8346 315.282 56.8109 312.545 Q53.7872 309.776 48.5673 309.776 L28.3562 309.776 L28.3562 303.919 L64.0042 303.919 L64.0042 309.776 L58.5296 309.776 Q61.7762 311.908 63.3676 314.741 Q64.9272 317.542 64.9272 321.266 Q64.9272 327.409 61.1078 330.592 Q57.2883 333.775 49.9359 333.775 M27.4968 319.038 L27.4968 319.038 Z\" fill=\"#000000\" fill-rule=\"nonzero\" fill-opacity=\"1\" /><path clip-path=\"url(#clip460)\" d=\"M33.7671 268.399 L14.479 268.399 L14.479 262.542 L64.0042 262.542 L64.0042 268.399 L58.657 268.399 Q61.8398 270.245 63.3994 273.078 Q64.9272 275.878 64.9272 279.825 Q64.9272 286.286 59.771 290.36 Q54.6147 294.403 46.212 294.403 Q37.8093 294.403 32.6531 290.36 Q27.4968 286.286 27.4968 279.825 Q27.4968 275.878 29.0564 273.078 Q30.5842 270.245 33.7671 268.399 M46.212 288.355 Q52.6732 288.355 56.3653 285.714 Q60.0256 283.04 60.0256 278.393 Q60.0256 273.746 56.3653 271.072 Q52.6732 268.399 46.212 268.399 Q39.7508 268.399 36.0905 271.072 Q32.3984 273.746 32.3984 278.393 Q32.3984 283.04 36.0905 285.714 Q39.7508 288.355 46.212 288.355 Z\" fill=\"#000000\" fill-rule=\"nonzero\" fill-opacity=\"1\" /><path clip-path=\"url(#clip460)\" d=\"M44.7161 219.988 L47.5806 219.988 L47.5806 246.915 Q53.6281 246.533 56.8109 243.286 Q59.9619 240.008 59.9619 234.183 Q59.9619 230.809 59.1344 227.658 Q58.3069 224.475 56.6518 221.356 L62.1899 221.356 Q63.5267 224.507 64.227 227.817 Q64.9272 231.128 64.9272 234.533 Q64.9272 243.063 59.9619 248.06 Q54.9967 253.026 46.5303 253.026 Q37.7774 253.026 32.6531 248.315 Q27.4968 243.573 27.4968 235.552 Q27.4968 228.358 32.1438 224.189 Q36.7589 219.988 44.7161 219.988 M42.9973 225.844 Q38.1912 225.908 35.3266 228.549 Q32.4621 231.159 32.4621 235.488 Q32.4621 240.39 35.2312 243.35 Q38.0002 246.278 43.0292 246.724 L42.9973 225.844 Z\" fill=\"#000000\" fill-rule=\"nonzero\" fill-opacity=\"1\" /><polyline clip-path=\"url(#clip462)\" style=\"stroke:#473c6b; stroke-linecap:round; stroke-linejoin:round; stroke-width:8; stroke-opacity:1; fill:none\" points=\"279.759,1045.7 615.195,1328.67 950.632,1383.08 1286.07,1383.7 1621.5,1384.17 1956.94,1384.11 2292.38,1384.24 \"/>\n",
       "<polyline clip-path=\"url(#clip462)\" style=\"stroke:#6f618c; stroke-linecap:round; stroke-linejoin:round; stroke-width:8; stroke-opacity:1; fill:none\" points=\"279.759,314.511 615.195,1269.78 950.632,1343.42 1286.07,1327.88 1621.5,1378.42 1956.94,1380.67 2292.38,1357.78 \"/>\n",
       "<polyline clip-path=\"url(#clip462)\" style=\"stroke:#a6668f; stroke-linecap:round; stroke-linejoin:round; stroke-width:8; stroke-opacity:1; fill:none\" points=\"279.759,1044.77 615.195,716.191 950.632,740.43 1286.07,1013.58 1621.5,530.807 1956.94,813.114 2292.38,1383.8 \"/>\n",
       "<polyline clip-path=\"url(#clip462)\" style=\"stroke:#d484a9; stroke-linecap:round; stroke-linejoin:round; stroke-width:8; stroke-opacity:1; fill:none\" points=\"279.759,446.632 615.195,792.063 950.632,1011.77 1286.07,1029.75 1621.5,1193.63 1956.94,1302.41 2292.38,1337.92 \"/>\n",
       "<polyline clip-path=\"url(#clip462)\" style=\"stroke:#e4bcd7; stroke-linecap:round; stroke-linejoin:round; stroke-width:8; stroke-opacity:1; fill:none\" points=\"279.759,331.23 615.195,752.616 950.632,827.034 1286.07,859.769 1621.5,1158.25 1956.94,1254.56 2292.38,1314.39 \"/>\n",
       "<polyline clip-path=\"url(#clip462)\" style=\"stroke:#efeaf9; stroke-linecap:round; stroke-linejoin:round; stroke-width:8; stroke-opacity:1; fill:none\" points=\"279.759,500.997 615.195,86.1857 950.632,459.877 1286.07,832.082 1621.5,506.854 1956.94,1075.97 2292.38,1171.02 \"/>\n",
       "<path clip-path=\"url(#clip460)\" d=\"M1910.74 455.989 L2281.64 455.989 L2281.64 93.1086 L1910.74 93.1086  Z\" fill=\"#ffffff\" fill-rule=\"evenodd\" fill-opacity=\"1\"/>\n",
       "<polyline clip-path=\"url(#clip460)\" style=\"stroke:#000000; stroke-linecap:round; stroke-linejoin:round; stroke-width:4; stroke-opacity:1; fill:none\" points=\"1910.74,455.989 2281.64,455.989 2281.64,93.1086 1910.74,93.1086 1910.74,455.989 \"/>\n",
       "<polyline clip-path=\"url(#clip460)\" style=\"stroke:#473c6b; stroke-linecap:round; stroke-linejoin:round; stroke-width:8; stroke-opacity:1; fill:none\" points=\"1934.44,144.949 2076.67,144.949 \"/>\n",
       "<path clip-path=\"url(#clip460)\" d=\"M2107.48 127.669 L2112.15 127.669 L2112.15 159.821 Q2112.15 166.071 2109.77 168.895 Q2107.41 171.719 2102.15 171.719 L2100.37 171.719 L2100.37 167.784 L2101.83 167.784 Q2104.93 167.784 2106.2 166.048 Q2107.48 164.312 2107.48 159.821 L2107.48 127.669 Z\" fill=\"#000000\" fill-rule=\"nonzero\" fill-opacity=\"1\" /><path clip-path=\"url(#clip460)\" d=\"M2121.83 140.701 L2151.5 140.701 L2151.5 144.59 L2121.83 144.59 L2121.83 140.701 M2121.83 150.145 L2151.5 150.145 L2151.5 154.081 L2121.83 154.081 L2121.83 150.145 Z\" fill=\"#000000\" fill-rule=\"nonzero\" fill-opacity=\"1\" /><path clip-path=\"url(#clip460)\" d=\"M2171.6 130.747 Q2167.99 130.747 2166.16 134.312 Q2164.35 137.854 2164.35 144.983 Q2164.35 152.09 2166.16 155.655 Q2167.99 159.196 2171.6 159.196 Q2175.23 159.196 2177.04 155.655 Q2178.87 152.09 2178.87 144.983 Q2178.87 137.854 2177.04 134.312 Q2175.23 130.747 2171.6 130.747 M2171.6 127.044 Q2177.41 127.044 2180.46 131.65 Q2183.54 136.233 2183.54 144.983 Q2183.54 153.71 2180.46 158.317 Q2177.41 162.9 2171.6 162.9 Q2165.79 162.9 2162.71 158.317 Q2159.65 153.71 2159.65 144.983 Q2159.65 136.233 2162.71 131.65 Q2165.79 127.044 2171.6 127.044 Z\" fill=\"#000000\" fill-rule=\"nonzero\" fill-opacity=\"1\" /><path clip-path=\"url(#clip460)\" d=\"M2191.76 156.349 L2196.64 156.349 L2196.64 162.229 L2191.76 162.229 L2191.76 156.349 Z\" fill=\"#000000\" fill-rule=\"nonzero\" fill-opacity=\"1\" /><path clip-path=\"url(#clip460)\" d=\"M2216.83 130.747 Q2213.22 130.747 2211.39 134.312 Q2209.58 137.854 2209.58 144.983 Q2209.58 152.09 2211.39 155.655 Q2213.22 159.196 2216.83 159.196 Q2220.46 159.196 2222.27 155.655 Q2224.1 152.09 2224.1 144.983 Q2224.1 137.854 2222.27 134.312 Q2220.46 130.747 2216.83 130.747 M2216.83 127.044 Q2222.64 127.044 2225.69 131.65 Q2228.77 136.233 2228.77 144.983 Q2228.77 153.71 2225.69 158.317 Q2222.64 162.9 2216.83 162.9 Q2211.02 162.9 2207.94 158.317 Q2204.88 153.71 2204.88 144.983 Q2204.88 136.233 2207.94 131.65 Q2211.02 127.044 2216.83 127.044 Z\" fill=\"#000000\" fill-rule=\"nonzero\" fill-opacity=\"1\" /><path clip-path=\"url(#clip460)\" d=\"M2237.8 158.293 L2245.44 158.293 L2245.44 131.928 L2237.13 133.595 L2237.13 129.335 L2245.39 127.669 L2250.07 127.669 L2250.07 158.293 L2257.71 158.293 L2257.71 162.229 L2237.8 162.229 L2237.8 158.293 Z\" fill=\"#000000\" fill-rule=\"nonzero\" fill-opacity=\"1\" /><polyline clip-path=\"url(#clip460)\" style=\"stroke:#6f618c; stroke-linecap:round; stroke-linejoin:round; stroke-width:8; stroke-opacity:1; fill:none\" points=\"1934.44,196.789 2076.67,196.789 \"/>\n",
       "<path clip-path=\"url(#clip460)\" d=\"M2107.48 179.509 L2112.15 179.509 L2112.15 211.661 Q2112.15 217.911 2109.77 220.735 Q2107.41 223.559 2102.15 223.559 L2100.37 223.559 L2100.37 219.624 L2101.83 219.624 Q2104.93 219.624 2106.2 217.888 Q2107.48 216.152 2107.48 211.661 L2107.48 179.509 Z\" fill=\"#000000\" fill-rule=\"nonzero\" fill-opacity=\"1\" /><path clip-path=\"url(#clip460)\" d=\"M2121.83 192.541 L2151.5 192.541 L2151.5 196.43 L2121.83 196.43 L2121.83 192.541 M2121.83 201.985 L2151.5 201.985 L2151.5 205.921 L2121.83 205.921 L2121.83 201.985 Z\" fill=\"#000000\" fill-rule=\"nonzero\" fill-opacity=\"1\" /><path clip-path=\"url(#clip460)\" d=\"M2171.6 182.587 Q2167.99 182.587 2166.16 186.152 Q2164.35 189.694 2164.35 196.823 Q2164.35 203.93 2166.16 207.495 Q2167.99 211.036 2171.6 211.036 Q2175.23 211.036 2177.04 207.495 Q2178.87 203.93 2178.87 196.823 Q2178.87 189.694 2177.04 186.152 Q2175.23 182.587 2171.6 182.587 M2171.6 178.884 Q2177.41 178.884 2180.46 183.49 Q2183.54 188.073 2183.54 196.823 Q2183.54 205.55 2180.46 210.157 Q2177.41 214.74 2171.6 214.74 Q2165.79 214.74 2162.71 210.157 Q2159.65 205.55 2159.65 196.823 Q2159.65 188.073 2162.71 183.49 Q2165.79 178.884 2171.6 178.884 Z\" fill=\"#000000\" fill-rule=\"nonzero\" fill-opacity=\"1\" /><path clip-path=\"url(#clip460)\" d=\"M2191.76 208.189 L2196.64 208.189 L2196.64 214.069 L2191.76 214.069 L2191.76 208.189 Z\" fill=\"#000000\" fill-rule=\"nonzero\" fill-opacity=\"1\" /><path clip-path=\"url(#clip460)\" d=\"M2216.83 182.587 Q2213.22 182.587 2211.39 186.152 Q2209.58 189.694 2209.58 196.823 Q2209.58 203.93 2211.39 207.495 Q2213.22 211.036 2216.83 211.036 Q2220.46 211.036 2222.27 207.495 Q2224.1 203.93 2224.1 196.823 Q2224.1 189.694 2222.27 186.152 Q2220.46 182.587 2216.83 182.587 M2216.83 178.884 Q2222.64 178.884 2225.69 183.49 Q2228.77 188.073 2228.77 196.823 Q2228.77 205.55 2225.69 210.157 Q2222.64 214.74 2216.83 214.74 Q2211.02 214.74 2207.94 210.157 Q2204.88 205.55 2204.88 196.823 Q2204.88 188.073 2207.94 183.49 Q2211.02 178.884 2216.83 178.884 Z\" fill=\"#000000\" fill-rule=\"nonzero\" fill-opacity=\"1\" /><path clip-path=\"url(#clip460)\" d=\"M2237.04 179.509 L2255.39 179.509 L2255.39 183.444 L2241.32 183.444 L2241.32 191.916 Q2242.34 191.569 2243.36 191.407 Q2244.37 191.222 2245.39 191.222 Q2251.18 191.222 2254.56 194.393 Q2257.94 197.564 2257.94 202.981 Q2257.94 208.559 2254.47 211.661 Q2250.99 214.74 2244.68 214.74 Q2242.5 214.74 2240.23 214.37 Q2237.99 213.999 2235.58 213.258 L2235.58 208.559 Q2237.66 209.694 2239.88 210.249 Q2242.11 210.805 2244.58 210.805 Q2248.59 210.805 2250.93 208.698 Q2253.26 206.592 2253.26 202.981 Q2253.26 199.37 2250.93 197.263 Q2248.59 195.157 2244.58 195.157 Q2242.71 195.157 2240.83 195.573 Q2238.98 195.99 2237.04 196.87 L2237.04 179.509 Z\" fill=\"#000000\" fill-rule=\"nonzero\" fill-opacity=\"1\" /><polyline clip-path=\"url(#clip460)\" style=\"stroke:#a6668f; stroke-linecap:round; stroke-linejoin:round; stroke-width:8; stroke-opacity:1; fill:none\" points=\"1934.44,248.629 2076.67,248.629 \"/>\n",
       "<path clip-path=\"url(#clip460)\" d=\"M2107.48 231.349 L2112.15 231.349 L2112.15 263.501 Q2112.15 269.751 2109.77 272.575 Q2107.41 275.399 2102.15 275.399 L2100.37 275.399 L2100.37 271.464 L2101.83 271.464 Q2104.93 271.464 2106.2 269.728 Q2107.48 267.992 2107.48 263.501 L2107.48 231.349 Z\" fill=\"#000000\" fill-rule=\"nonzero\" fill-opacity=\"1\" /><path clip-path=\"url(#clip460)\" d=\"M2121.83 244.381 L2151.5 244.381 L2151.5 248.27 L2121.83 248.27 L2121.83 244.381 M2121.83 253.825 L2151.5 253.825 L2151.5 257.761 L2121.83 257.761 L2121.83 253.825 Z\" fill=\"#000000\" fill-rule=\"nonzero\" fill-opacity=\"1\" /><path clip-path=\"url(#clip460)\" d=\"M2171.6 234.427 Q2167.99 234.427 2166.16 237.992 Q2164.35 241.534 2164.35 248.663 Q2164.35 255.77 2166.16 259.335 Q2167.99 262.876 2171.6 262.876 Q2175.23 262.876 2177.04 259.335 Q2178.87 255.77 2178.87 248.663 Q2178.87 241.534 2177.04 237.992 Q2175.23 234.427 2171.6 234.427 M2171.6 230.724 Q2177.41 230.724 2180.46 235.33 Q2183.54 239.913 2183.54 248.663 Q2183.54 257.39 2180.46 261.997 Q2177.41 266.58 2171.6 266.58 Q2165.79 266.58 2162.71 261.997 Q2159.65 257.39 2159.65 248.663 Q2159.65 239.913 2162.71 235.33 Q2165.79 230.724 2171.6 230.724 Z\" fill=\"#000000\" fill-rule=\"nonzero\" fill-opacity=\"1\" /><path clip-path=\"url(#clip460)\" d=\"M2191.76 260.029 L2196.64 260.029 L2196.64 265.909 L2191.76 265.909 L2191.76 260.029 Z\" fill=\"#000000\" fill-rule=\"nonzero\" fill-opacity=\"1\" /><path clip-path=\"url(#clip460)\" d=\"M2207.64 261.973 L2215.28 261.973 L2215.28 235.608 L2206.97 237.275 L2206.97 233.015 L2215.23 231.349 L2219.91 231.349 L2219.91 261.973 L2227.55 261.973 L2227.55 265.909 L2207.64 265.909 L2207.64 261.973 Z\" fill=\"#000000\" fill-rule=\"nonzero\" fill-opacity=\"1\" /><polyline clip-path=\"url(#clip460)\" style=\"stroke:#d484a9; stroke-linecap:round; stroke-linejoin:round; stroke-width:8; stroke-opacity:1; fill:none\" points=\"1934.44,300.469 2076.67,300.469 \"/>\n",
       "<path clip-path=\"url(#clip460)\" d=\"M2107.48 283.189 L2112.15 283.189 L2112.15 315.341 Q2112.15 321.591 2109.77 324.415 Q2107.41 327.239 2102.15 327.239 L2100.37 327.239 L2100.37 323.304 L2101.83 323.304 Q2104.93 323.304 2106.2 321.568 Q2107.48 319.832 2107.48 315.341 L2107.48 283.189 Z\" fill=\"#000000\" fill-rule=\"nonzero\" fill-opacity=\"1\" /><path clip-path=\"url(#clip460)\" d=\"M2121.83 296.221 L2151.5 296.221 L2151.5 300.11 L2121.83 300.11 L2121.83 296.221 M2121.83 305.665 L2151.5 305.665 L2151.5 309.601 L2121.83 309.601 L2121.83 305.665 Z\" fill=\"#000000\" fill-rule=\"nonzero\" fill-opacity=\"1\" /><path clip-path=\"url(#clip460)\" d=\"M2171.6 286.267 Q2167.99 286.267 2166.16 289.832 Q2164.35 293.374 2164.35 300.503 Q2164.35 307.61 2166.16 311.175 Q2167.99 314.716 2171.6 314.716 Q2175.23 314.716 2177.04 311.175 Q2178.87 307.61 2178.87 300.503 Q2178.87 293.374 2177.04 289.832 Q2175.23 286.267 2171.6 286.267 M2171.6 282.564 Q2177.41 282.564 2180.46 287.17 Q2183.54 291.753 2183.54 300.503 Q2183.54 309.23 2180.46 313.837 Q2177.41 318.42 2171.6 318.42 Q2165.79 318.42 2162.71 313.837 Q2159.65 309.23 2159.65 300.503 Q2159.65 291.753 2162.71 287.17 Q2165.79 282.564 2171.6 282.564 Z\" fill=\"#000000\" fill-rule=\"nonzero\" fill-opacity=\"1\" /><path clip-path=\"url(#clip460)\" d=\"M2191.76 311.869 L2196.64 311.869 L2196.64 317.749 L2191.76 317.749 L2191.76 311.869 Z\" fill=\"#000000\" fill-rule=\"nonzero\" fill-opacity=\"1\" /><path clip-path=\"url(#clip460)\" d=\"M2210.86 313.813 L2227.18 313.813 L2227.18 317.749 L2205.23 317.749 L2205.23 313.813 Q2207.89 311.059 2212.48 306.429 Q2217.08 301.776 2218.26 300.434 Q2220.51 297.911 2221.39 296.175 Q2222.29 294.415 2222.29 292.726 Q2222.29 289.971 2220.35 288.235 Q2218.43 286.499 2215.32 286.499 Q2213.12 286.499 2210.67 287.263 Q2208.24 288.027 2205.46 289.577 L2205.46 284.855 Q2208.29 283.721 2210.74 283.142 Q2213.19 282.564 2215.23 282.564 Q2220.6 282.564 2223.8 285.249 Q2226.99 287.934 2226.99 292.425 Q2226.99 294.554 2226.18 296.476 Q2225.39 298.374 2223.29 300.966 Q2222.71 301.638 2219.61 304.855 Q2216.5 308.05 2210.86 313.813 Z\" fill=\"#000000\" fill-rule=\"nonzero\" fill-opacity=\"1\" /><polyline clip-path=\"url(#clip460)\" style=\"stroke:#e4bcd7; stroke-linecap:round; stroke-linejoin:round; stroke-width:8; stroke-opacity:1; fill:none\" points=\"1934.44,352.309 2076.67,352.309 \"/>\n",
       "<path clip-path=\"url(#clip460)\" d=\"M2107.48 335.029 L2112.15 335.029 L2112.15 367.181 Q2112.15 373.431 2109.77 376.255 Q2107.41 379.079 2102.15 379.079 L2100.37 379.079 L2100.37 375.144 L2101.83 375.144 Q2104.93 375.144 2106.2 373.408 Q2107.48 371.672 2107.48 367.181 L2107.48 335.029 Z\" fill=\"#000000\" fill-rule=\"nonzero\" fill-opacity=\"1\" /><path clip-path=\"url(#clip460)\" d=\"M2121.83 348.061 L2151.5 348.061 L2151.5 351.95 L2121.83 351.95 L2121.83 348.061 M2121.83 357.505 L2151.5 357.505 L2151.5 361.441 L2121.83 361.441 L2121.83 357.505 Z\" fill=\"#000000\" fill-rule=\"nonzero\" fill-opacity=\"1\" /><path clip-path=\"url(#clip460)\" d=\"M2171.6 338.107 Q2167.99 338.107 2166.16 341.672 Q2164.35 345.214 2164.35 352.343 Q2164.35 359.45 2166.16 363.015 Q2167.99 366.556 2171.6 366.556 Q2175.23 366.556 2177.04 363.015 Q2178.87 359.45 2178.87 352.343 Q2178.87 345.214 2177.04 341.672 Q2175.23 338.107 2171.6 338.107 M2171.6 334.404 Q2177.41 334.404 2180.46 339.01 Q2183.54 343.593 2183.54 352.343 Q2183.54 361.07 2180.46 365.677 Q2177.41 370.26 2171.6 370.26 Q2165.79 370.26 2162.71 365.677 Q2159.65 361.07 2159.65 352.343 Q2159.65 343.593 2162.71 339.01 Q2165.79 334.404 2171.6 334.404 Z\" fill=\"#000000\" fill-rule=\"nonzero\" fill-opacity=\"1\" /><path clip-path=\"url(#clip460)\" d=\"M2191.76 363.709 L2196.64 363.709 L2196.64 369.589 L2191.76 369.589 L2191.76 363.709 Z\" fill=\"#000000\" fill-rule=\"nonzero\" fill-opacity=\"1\" /><path clip-path=\"url(#clip460)\" d=\"M2206.87 335.029 L2225.23 335.029 L2225.23 338.964 L2211.16 338.964 L2211.16 347.436 Q2212.18 347.089 2213.19 346.927 Q2214.21 346.742 2215.23 346.742 Q2221.02 346.742 2224.4 349.913 Q2227.78 353.084 2227.78 358.501 Q2227.78 364.079 2224.31 367.181 Q2220.83 370.26 2214.51 370.26 Q2212.34 370.26 2210.07 369.89 Q2207.82 369.519 2205.42 368.778 L2205.42 364.079 Q2207.5 365.214 2209.72 365.769 Q2211.94 366.325 2214.42 366.325 Q2218.43 366.325 2220.76 364.218 Q2223.1 362.112 2223.1 358.501 Q2223.1 354.89 2220.76 352.783 Q2218.43 350.677 2214.42 350.677 Q2212.55 350.677 2210.67 351.093 Q2208.82 351.51 2206.87 352.39 L2206.87 335.029 Z\" fill=\"#000000\" fill-rule=\"nonzero\" fill-opacity=\"1\" /><polyline clip-path=\"url(#clip460)\" style=\"stroke:#efeaf9; stroke-linecap:round; stroke-linejoin:round; stroke-width:8; stroke-opacity:1; fill:none\" points=\"1934.44,404.149 2076.67,404.149 \"/>\n",
       "<path clip-path=\"url(#clip460)\" d=\"M2107.48 386.869 L2112.15 386.869 L2112.15 419.021 Q2112.15 425.271 2109.77 428.095 Q2107.41 430.919 2102.15 430.919 L2100.37 430.919 L2100.37 426.984 L2101.83 426.984 Q2104.93 426.984 2106.2 425.248 Q2107.48 423.512 2107.48 419.021 L2107.48 386.869 Z\" fill=\"#000000\" fill-rule=\"nonzero\" fill-opacity=\"1\" /><path clip-path=\"url(#clip460)\" d=\"M2121.83 399.901 L2151.5 399.901 L2151.5 403.79 L2121.83 403.79 L2121.83 399.901 M2121.83 409.345 L2151.5 409.345 L2151.5 413.281 L2121.83 413.281 L2121.83 409.345 Z\" fill=\"#000000\" fill-rule=\"nonzero\" fill-opacity=\"1\" /><path clip-path=\"url(#clip460)\" d=\"M2162.41 417.493 L2170.05 417.493 L2170.05 391.128 L2161.74 392.795 L2161.74 388.535 L2170 386.869 L2174.68 386.869 L2174.68 417.493 L2182.31 417.493 L2182.31 421.429 L2162.41 421.429 L2162.41 417.493 Z\" fill=\"#000000\" fill-rule=\"nonzero\" fill-opacity=\"1\" /><path clip-path=\"url(#clip460)\" d=\"M2191.76 415.549 L2196.64 415.549 L2196.64 421.429 L2191.76 421.429 L2191.76 415.549 Z\" fill=\"#000000\" fill-rule=\"nonzero\" fill-opacity=\"1\" /><path clip-path=\"url(#clip460)\" d=\"M2216.83 389.947 Q2213.22 389.947 2211.39 393.512 Q2209.58 397.054 2209.58 404.183 Q2209.58 411.29 2211.39 414.855 Q2213.22 418.396 2216.83 418.396 Q2220.46 418.396 2222.27 414.855 Q2224.1 411.29 2224.1 404.183 Q2224.1 397.054 2222.27 393.512 Q2220.46 389.947 2216.83 389.947 M2216.83 386.244 Q2222.64 386.244 2225.69 390.85 Q2228.77 395.433 2228.77 404.183 Q2228.77 412.91 2225.69 417.517 Q2222.64 422.1 2216.83 422.1 Q2211.02 422.1 2207.94 417.517 Q2204.88 412.91 2204.88 404.183 Q2204.88 395.433 2207.94 390.85 Q2211.02 386.244 2216.83 386.244 Z\" fill=\"#000000\" fill-rule=\"nonzero\" fill-opacity=\"1\" /></svg>\n"
      ]
     },
     "metadata": {},
     "output_type": "display_data"
    },
    {
     "data": {
      "text/plain": [
       "\"/Users/jessica/git/Square-Spin-Ice/New code/hopping_amplitude_vs_distance_i_0.png\""
      ]
     },
     "execution_count": 27,
     "metadata": {},
     "output_type": "execute_result"
    }
   ],
   "source": [
    "include(\"unitTests.jl\")\n",
    "# 500 disorder realizations\n",
    "J_mags=[0.01, 0.05, 0.1, 0.2,0.5, 1]\n",
    "\n",
    "gradient = cgrad(:acton, length(J_mags))  # Use a perceptually uniform colormap\n",
    "\n",
    "\n",
    "p=plot(linewidth=2, xlabel=\"Average Distance to i_0\", ylabel=\"Maximum of hopping amplitude\")\n",
    "\n",
    "count=1\n",
    "for J_mag in J_mags\n",
    "    iterations=1\n",
    "    L= 14; # system size\n",
    "    T = 1 # random hopping strength\n",
    "    t = T*ones(Float64, L); #hopping\n",
    "    #t = ones(L)\n",
    "    W = 10; # disorder strength\n",
    "    the_map=construct_map_of_n_filling_states(L, div(L,2))\n",
    "    d=Uniform(-1,1)\n",
    "    i_0=div(L,2)\n",
    "    J = J_mag*ones(Float64, L); # interactions\n",
    "    all_data=[]\n",
    "    max_time=10\n",
    "\n",
    "    h=W*rand(d, L)\n",
    "    H_half_filling, max_index_half=construct_disordered_interacting_hamiltonian_nearest_neighbor_half_filling(L, J, h, t,the_map, false, \"full\")\n",
    "    eigtemp=eigen(H_half_filling);\n",
    "    N_L=get_N_L_operator(L,the_map, i_0)\n",
    "    N_L=eigtemp.vectors'*N_L*eigtemp.vectors\n",
    "    particle_number=[]\n",
    "    the_states=prepare_half_filling_state(eigtemp.vectors, the_map, L, i_0)\n",
    "    \n",
    "        time_evolved=time_evolve_state(the_states, eigtemp.values, max_time)\n",
    "        number_particles_left=measure_number_particles_left_of_i_0(time_evolved, the_map,eigtemp.vectors, L, i_0).re\n",
    "        number_particles_right=measure_number_particles_right_of_i_0(time_evolved, the_map,eigtemp.vectors, L, i_0).re\n",
    "\n",
    "means=[]\n",
    "    N_R_no_diag_computational_basis=eigtemp.vectors * get_N_R_operator_eigenstate_basis(L, the_map, eigtemp.vectors, i_0) * eigtemp.vectors'\n",
    "    the_list=find_hopping_norms_sorted_by_distance_average_from_i0_sector(N_R_no_diag_computational_basis, L, L, div(L,2), the_map, false)\n",
    "    for i in the_list\n",
    "        push!(means,maximum(i))\n",
    "    end\n",
    "        index = trunc(Int, (count / length(J_mags)) * length(gradient))\n",
    "plot!(p, 1:div(L,2), means, label=\"J=\"*string(J_mag), color=gradient[index],linewidth=2)\n",
    "    count+=1\n",
    "end\n",
    "\n",
    "\n",
    "display(p)\n",
    "savefig(p, \"hopping_amplitude_vs_distance_i_0.png\")"
   ]
  },
  {
   "cell_type": "code",
   "execution_count": 171,
   "id": "fc7f0ca4-a245-4a5b-9e63-c7bb9dfd103c",
   "metadata": {},
   "outputs": [
    {
     "name": "stdout",
     "output_type": "stream",
     "text": [
      "[6.584814815302098, 3.186789206873506, -1.2068843227373804, 2.0510773472415345, -5.6137153511181985]"
     ]
    }
   ],
   "source": [
    "include(\"unitTests.jl\")\n",
    "iterations=1\n",
    "    L= 5; # system size\n",
    "    T = 1 # random hopping strength\n",
    "    t = T*ones(Float64, L); #hopping\n",
    "    #t = ones(L)\n",
    "    W = 10; # disorder strength\n",
    "    the_map=construct_map_of_n_filling_states(L, div(L,2))\n",
    "    d=Uniform(-1,1)\n",
    "    i_0=div(L,2)\n",
    "J_mag=0.1\n",
    "    J = J_mag*ones(Float64, L); # interactions\n",
    "    all_data=[]\n",
    "    max_time=10\n",
    "\n",
    "    h=W*rand(d, L)\n",
    "\n",
    "H, max_index_half=construct_disordered_interacting_hamiltonian_next_nearest_neighbor(L, J, h, t, true, \"full\")\n",
    "print(h)"
   ]
  },
  {
   "cell_type": "code",
   "execution_count": 170,
   "id": "849df93a-ab2a-485f-8bac-6e88cc983eb1",
   "metadata": {},
   "outputs": [
    {
     "data": {
      "text/plain": [
       "4-element Vector{Float64}:\n",
       "  9.048464868226379\n",
       "  6.901671199980218\n",
       " -1.553885141545981\n",
       " -3.740901090619957"
      ]
     },
     "execution_count": 170,
     "metadata": {},
     "output_type": "execute_result"
    }
   ],
   "source": [
    "h"
   ]
  },
  {
   "cell_type": "code",
   "execution_count": 169,
   "id": "d3f748a7-cb86-4f49-9aa7-f90f9e0af11f",
   "metadata": {},
   "outputs": [
    {
     "data": {
      "text/plain": [
       "7.694579726680397"
      ]
     },
     "execution_count": 169,
     "metadata": {},
     "output_type": "execute_result"
    }
   ],
   "source": [
    "H[6,6]"
   ]
  },
  {
   "cell_type": "code",
   "execution_count": 155,
   "id": "ada3febd-0551-45de-abd5-064ce33492f4",
   "metadata": {},
   "outputs": [
    {
     "data": {
      "text/plain": [
       "each_configs_with_ones (generic function with 1 method)"
      ]
     },
     "execution_count": 155,
     "metadata": {},
     "output_type": "execute_result"
    }
   ],
   "source": [
    "function each_configs_with_ones(L::Int, ones::AbstractVector{Int})\n",
    "    base = zero(UInt)\n",
    "    @inbounds for i in ones\n",
    "        base |= UInt(1) << (i-1)\n",
    "    end\n",
    "    free = setdiff(1:L, ones)\n",
    "    n = length(free)\n",
    "    return collect(begin\n",
    "        x = base\n",
    "        @inbounds for k in 1:n\n",
    "            if (m >> (k-1)) & 0x1 == 1\n",
    "                x |= UInt(1) << (free[k]-1)\n",
    "            end\n",
    "        end\n",
    "        Int(x)\n",
    "    end for m in UInt(0):(UInt(1)<<n)-UInt(1))\n",
    "end"
   ]
  },
  {
   "cell_type": "code",
   "execution_count": 151,
   "id": "9b413392-5c1f-421d-b0fd-07aade667be2",
   "metadata": {},
   "outputs": [
    {
     "data": {
      "text/plain": [
       "get_interaction_term (generic function with 2 methods)"
      ]
     },
     "execution_count": 151,
     "metadata": {},
     "output_type": "execute_result"
    }
   ],
   "source": [
    "function get_interaction_term(sites, H)\n",
    "    possible_sites=collect(combinations(sites))\n",
    "    push!(possible_sites,[])\n",
    "    sum=0\n",
    "    println(possible_sites)\n",
    "    for s in possible_sites\n",
    "        state=0\n",
    "        for i in s\n",
    "            state = flipBit(i-1,state)\n",
    "        end\n",
    "        sum+=H[state+1, state+1]*(-1)^(length(sites)-length(s))\n",
    "        #println(H[state+1, state+1]*(-1)^(length(sites)-length(s)))\n",
    "    end\n",
    "    return sum\n",
    "end"
   ]
  },
  {
   "cell_type": "code",
   "execution_count": 145,
   "id": "3598f22f-b333-4733-af1b-0e81dc9d70e7",
   "metadata": {},
   "outputs": [
    {
     "data": {
      "text/plain": [
       "4-element Vector{Float64}:\n",
       " 0.1\n",
       " 0.1\n",
       " 0.1\n",
       " 0.1"
      ]
     },
     "execution_count": 145,
     "metadata": {},
     "output_type": "execute_result"
    }
   ],
   "source": [
    "J"
   ]
  },
  {
   "cell_type": "code",
   "execution_count": 193,
   "id": "52de36e2-fa14-4613-9b80-b8da5aae78a9",
   "metadata": {},
   "outputs": [
    {
     "name": "stdout",
     "output_type": "stream",
     "text": [
      "J\n",
      "0.05\n"
     ]
    },
    {
     "ename": "LoadError",
     "evalue": "BoundsError: attempt to access 6-element Vector{Vector{Float64}} at index [7]",
     "output_type": "error",
     "traceback": [
      "BoundsError: attempt to access 6-element Vector{Vector{Float64}} at index [7]",
      "",
      "Stacktrace:",
      " [1] getindex(A::Vector{Vector{Float64}}, i1::Int64)",
      "   @ Base ./essentials.jl:13",
      " [2] top-level scope",
      "   @ In[193]:36"
     ]
    }
   ],
   "source": [
    "include(\"unitTests.jl\")\n",
    "# 500 disorder realizations\n",
    "J_mags=[0.05, 0.1, 0.5, 1]\n",
    "\n",
    "gradient = cgrad(:acton, length(J_mags))  # Use a perceptually uniform colormap\n",
    "\n",
    "\n",
    "p=plot(linewidth=2, xlabel=\"Average Distance to i_0\", ylabel=\"Maximum of hopping amplitude\")\n",
    "all_all_data=[]\n",
    "count=1\n",
    "L= 12; # system size\n",
    "for J_mag in J_mags\n",
    "    all_data=[Float64[] for i=0:div(L,2)]\n",
    "    println(\"J\")\n",
    "    println(J_mag)\n",
    "    for i=1:500\n",
    "        L= 12; # system size\n",
    "        T = 1 # random hopping strength\n",
    "        t = T*ones(Float64, L); #hopping\n",
    "        #t = ones(L)\n",
    "        W = 10; # disorder strength\n",
    "        the_map=construct_map_of_n_filling_states(L, div(L,2))\n",
    "        d=Uniform(-1,1)\n",
    "        i_0=div(L,2)\n",
    "        J = J_mag*ones(Float64, L); # interactions\n",
    "    \n",
    "        h=W*rand(d, L)\n",
    "        H_half_filling, max_index_half=construct_disordered_interacting_hamiltonian_nearest_neighbor(L, J, h, t, false, \"full\")\n",
    "        eigtemp=eigen(H_half_filling);\n",
    "        N_L=get_N_L_operator(L, i_0)\n",
    "        N_L=eigtemp.vectors'*N_L*eigtemp.vectors\n",
    "    \n",
    "        N_R_no_diag_computational_basis=eigtemp.vectors * get_N_R_operator_eigenstate_basis(L, eigtemp.vectors, i_0) * eigtemp.vectors'\n",
    "        the_list=find_all_terms_sorted_by_distance_average_from_i_0(N_R_no_diag_computational_basis, L, L, div(L,2), false)\n",
    "        count1=1\n",
    "        for i in the_list\n",
    "            push!(all_data[count1],maximum(i))\n",
    "            count1+=1\n",
    "        end\n",
    "    end\n",
    "    push!(all_all_data, all_data)\n",
    "\n",
    "    means=[mean(a) for a in all_data]\n",
    "    \n",
    "        index = trunc(Int, (count / length(J_mags)) * length(gradient))\n",
    "    plot!(p, 0:div(L,2), means, label=\"J=\"*string(J_mag), color=gradient[index],linewidth=2)\n",
    "    count+=1\n",
    "end\n",
    "save_object(\"L=12_operator_support=\"*string(W)*\", J=\"*string(J_mag)*\", t=\"*string(T)*\".jld2\", all_all_data)\n",
    "display(p)\n",
    "savefig(p, \"support_amplitude_vs_distance_i_0_larger_L.png\")"
   ]
  },
  {
   "cell_type": "code",
   "execution_count": 192,
   "id": "afaec8c3-4e88-4804-a535-b3a4b1f784a1",
   "metadata": {},
   "outputs": [
    {
     "data": {
      "text/plain": [
       "\"/Users/jessica/git/Square-Spin-Ice/New code/support_amplitude_vs_distance_i_0.png\""
      ]
     },
     "execution_count": 192,
     "metadata": {},
     "output_type": "execute_result"
    }
   ],
   "source": [
    "plot!(p, dpi=300)\n",
    "savefig(\"support_amplitude_vs_distance_i_0.png\")"
   ]
  },
  {
   "cell_type": "code",
   "execution_count": 210,
   "id": "6afcfce4-624b-483a-9c50-992be7459d6a",
   "metadata": {},
   "outputs": [
    {
     "data": {
      "text/plain": [
       "6-element Vector{Any}:\n",
       " 0.09313487267856474\n",
       " 0.1324231015661931\n",
       " 0.17285605384228028\n",
       " 0.0549192293041899\n",
       " 0.1326836658238877\n",
       " 0.0824761179517085"
      ]
     },
     "execution_count": 210,
     "metadata": {},
     "output_type": "execute_result"
    }
   ],
   "source": [
    "means"
   ]
  },
  {
   "cell_type": "code",
   "execution_count": 203,
   "id": "da7bbe72-dbbc-46be-a081-041df399b42b",
   "metadata": {},
   "outputs": [
    {
     "data": {
      "text/plain": [
       "924×924 Matrix{Float64}:\n",
       "  0.0101645     0.056712     -0.00175094   …  -8.36033e-18   7.41491e-19\n",
       "  0.056712     -0.00503285   -0.000590093      1.10763e-16   6.7581e-20\n",
       " -0.00175094   -0.000590093   0.000391128     -5.53612e-16   7.25677e-17\n",
       "  0.00114604   -0.000164456  -0.000115993     -6.18316e-15   4.11653e-16\n",
       "  0.000412886  -3.32713e-5   -0.000151078     -1.88776e-14   1.42482e-15\n",
       " -0.000222838  -5.51069e-6    0.000105101  …  -7.73603e-14   5.92624e-15\n",
       "  0.000117874   1.30666e-5   -9.80738e-5      -3.84265e-14   1.99194e-15\n",
       " -0.00600371   -0.00675775   -0.00179829      -5.24894e-18   4.01845e-17\n",
       " -0.0353689    -0.000510397   0.000146155     -8.77489e-15   1.05694e-15\n",
       " -0.00985969    0.000121283   8.75618e-5      -7.30199e-14   5.24976e-15\n",
       " -0.00605776    0.000181006  -4.82996e-5   …  -1.60797e-13   1.56703e-14\n",
       "  0.0030458    -0.000206203  -2.36172e-5      -7.13974e-13   6.7213e-14\n",
       " -0.00159687   -7.47102e-6   -1.15693e-5      -1.50958e-13   6.43497e-15\n",
       "  ⋮                                        ⋱                \n",
       "  6.02106e-14   4.92419e-13  -4.34879e-12      1.72096e-5    0.00135511\n",
       " -9.11642e-15  -4.18475e-14   9.10527e-13      0.00193796    0.00224364\n",
       "  2.15569e-15   2.34233e-14  -9.57461e-14     -0.00230915   -0.00148079\n",
       " -1.77604e-16   2.67076e-16   2.61588e-14  …   0.00662954   -0.00180752\n",
       " -6.21641e-18  -4.35921e-16  -2.93739e-15      0.00270123    0.0202164\n",
       "  8.94526e-15   1.23995e-13  -1.83365e-13     -0.00295625    0.000324318\n",
       " -2.75388e-15   3.25137e-16   4.12765e-13     -0.00904019    0.000851653\n",
       "  1.3671e-16   -8.06029e-15  -9.41334e-14     -0.0230593     0.00211889\n",
       " -1.00063e-16  -1.45778e-15  -8.72151e-16  …   0.0310001    -0.00209412\n",
       " -7.49063e-17  -8.92018e-16  -5.70722e-15     -0.090722      0.0122953\n",
       " -8.36033e-18   1.10763e-16  -5.53612e-16     -0.0160912     0.0629494\n",
       "  7.41491e-19   6.7581e-20    7.25677e-17      0.0629494    -0.0098296"
      ]
     },
     "execution_count": 203,
     "metadata": {},
     "output_type": "execute_result"
    }
   ],
   "source": [
    "N_R_no_diag_computational_basis=eigtemp.vectors * get_N_R_operator_eigenstate_basis(L, the_map, eigtemp.vectors, i_0) * eigtemp.vectors'"
   ]
  },
  {
   "cell_type": "code",
   "execution_count": 204,
   "id": "ee0b3c23-71de-4c7d-80c9-0752dfc6c72d",
   "metadata": {},
   "outputs": [
    {
     "data": {
      "text/plain": [
       "6-element Vector{Vector{Any}}:\n",
       " [0.09313487267856474, 0.012295319187712964, 0.06499519817813508]\n",
       " [0.1324231015661931, 0.03100005393334688, 0.0025302309767783675, 0.01772468886481861, 0.03956204110464543, 0.04386404393168609, 0.02764258499065412, 0.0003219793952537553, 0.002910321386802086, 0.0020914841006431134  …  0.008091142790000554, 0.0002808764526088915, 0.009089866515586435, 0.009173661335298986, 0.0008544778929049118, 0.002309154224263255, 0.002312411887054136, 0.0015896238502540632, 0.006629537335620288, 0.006786661079539914]\n",
       " [0.05674179530069815, 0.12656840808266823, 0.03753763696032828, 0.0032670050246448477, 0.04436906067872535, 0.08431585249299603, 0.033387053989953, 0.04107011825554393, 0.014609277969039412, 0.014603796890161096  …  0.00032823521459328446, 0.0006580639595232092, 0.000674034988242616, 5.054087030844838e-5, 0.00135680104534506, 0.00131038001684622, 0.000811085561526109, 0.0008187532047439423, 0.0009029299189016488, 0.0007498195435338417]\n",
       " [0.04093014058037636, 0.0246490226431031, 0.05491044402074379, 0.02476567403348887, 0.0038299611415053727, 0.0531570649799049, 0.026270734149618315, 0.00273445154007917, 0.009006781804655537, 0.003403600083656431  …  1.2026806559181051e-5, 9.519719897351012e-5, 7.688323096557738e-5, 0.0002226373266755615, 0.00016629528570922438, 1.3425561451244425e-5, 0.00022351928625942248, 0.00016506295805494029, 1.417267237977287e-5, 8.04773882015893e-6]\n",
       " [0.1326836658238877, 0.0486943866974106, 0.011909524399077664, 0.018321249499518005, 0.030001951207520375, 0.004572103149709081, 0.06261131060640285, 0.033926798397615254, 0.0030459638883010808, 0.009067996978319814  …  2.3430125586317988e-6, 9.594062199857374e-6, 1.9574476087739145e-6, 1.3444164993287807e-6, 7.612550967230794e-8, 4.6432346549373965e-6, 3.298448614903563e-6, 9.143240918590711e-7, 3.501548805289906e-8, 7.499930844082497e-9]\n",
       " [0.00219544681215301, 0.0015611339108078225, 0.006612326788455957, 0.0031105201247916344, 0.002086953894282242, 0.0005202414005985366, 0.0014044548693258466, 0.0032575727751383227, 0.00797008452326316, 0.06080341976299884  …  3.384304206675605e-8, 7.461290152878549e-7, 3.145661763103568e-8, 4.488634371144534e-9, 3.422776078735849e-7, 4.086228830220502e-9, 1.6092822412707258e-8, 1.9487510561316333e-11, 3.28471591994242e-11, 1.4094135283355337e-12]"
      ]
     },
     "execution_count": 204,
     "metadata": {},
     "output_type": "execute_result"
    }
   ],
   "source": [
    "the_list=find_hopping_norms_sorted_by_distance_maximum_from_i0_sector(N_R_no_diag_computational_basis, L, L, div(L,2), the_map, false)"
   ]
  },
  {
   "cell_type": "code",
   "execution_count": 205,
   "id": "e7f9b234-b3aa-4851-9302-09e076b8360d",
   "metadata": {},
   "outputs": [
    {
     "data": {
      "image/png": "[encoded data removed]",
      "image/svg+xml": [
       "<?xml version=\"1.0\" encoding=\"utf-8\"?>\n",
       "<svg xmlns=\"http://www.w3.org/2000/svg\" xmlns:xlink=\"http://www.w3.org/1999/xlink\" width=\"600\" height=\"400\" viewBox=\"0 0 2400 1600\">\n",
       "<defs>\n",
       "  <clipPath id=\"clip040\">\n",
       "    <rect x=\"0\" y=\"0\" width=\"2400\" height=\"1600\"/>\n",
       "  </clipPath>\n",
       "</defs>\n",
       "<path clip-path=\"url(#clip040)\" d=\"M0 1600 L2400 1600 L2400 8.88178e-14 L0 8.88178e-14  Z\" fill=\"#ffffff\" fill-rule=\"evenodd\" fill-opacity=\"1\"/>\n",
       "<defs>\n",
       "  <clipPath id=\"clip041\">\n",
       "    <rect x=\"480\" y=\"0\" width=\"1681\" height=\"1600\"/>\n",
       "  </clipPath>\n",
       "</defs>\n",
       "<path clip-path=\"url(#clip040)\" d=\"M279.704 1423.18 L2352.76 1423.18 L2352.76 123.472 L279.704 123.472  Z\" fill=\"#ffffff\" fill-rule=\"evenodd\" fill-opacity=\"1\"/>\n",
       "<defs>\n",
       "  <clipPath id=\"clip042\">\n",
       "    <rect x=\"279\" y=\"123\" width=\"2074\" height=\"1301\"/>\n",
       "  </clipPath>\n",
       "</defs>\n",
       "<polyline clip-path=\"url(#clip042)\" style=\"stroke:#000000; stroke-linecap:round; stroke-linejoin:round; stroke-width:2; stroke-opacity:0.1; fill:none\" points=\"338.375,1423.18 338.375,123.472 \"/>\n",
       "<polyline clip-path=\"url(#clip042)\" style=\"stroke:#000000; stroke-linecap:round; stroke-linejoin:round; stroke-width:2; stroke-opacity:0.1; fill:none\" points=\"729.517,1423.18 729.517,123.472 \"/>\n",
       "<polyline clip-path=\"url(#clip042)\" style=\"stroke:#000000; stroke-linecap:round; stroke-linejoin:round; stroke-width:2; stroke-opacity:0.1; fill:none\" points=\"1120.66,1423.18 1120.66,123.472 \"/>\n",
       "<polyline clip-path=\"url(#clip042)\" style=\"stroke:#000000; stroke-linecap:round; stroke-linejoin:round; stroke-width:2; stroke-opacity:0.1; fill:none\" points=\"1511.8,1423.18 1511.8,123.472 \"/>\n",
       "<polyline clip-path=\"url(#clip042)\" style=\"stroke:#000000; stroke-linecap:round; stroke-linejoin:round; stroke-width:2; stroke-opacity:0.1; fill:none\" points=\"1902.94,1423.18 1902.94,123.472 \"/>\n",
       "<polyline clip-path=\"url(#clip042)\" style=\"stroke:#000000; stroke-linecap:round; stroke-linejoin:round; stroke-width:2; stroke-opacity:0.1; fill:none\" points=\"2294.08,1423.18 2294.08,123.472 \"/>\n",
       "<polyline clip-path=\"url(#clip040)\" style=\"stroke:#000000; stroke-linecap:round; stroke-linejoin:round; stroke-width:4; stroke-opacity:1; fill:none\" points=\"279.704,1423.18 2352.76,1423.18 \"/>\n",
       "<polyline clip-path=\"url(#clip040)\" style=\"stroke:#000000; stroke-linecap:round; stroke-linejoin:round; stroke-width:4; stroke-opacity:1; fill:none\" points=\"338.375,1423.18 338.375,1404.28 \"/>\n",
       "<polyline clip-path=\"url(#clip040)\" style=\"stroke:#000000; stroke-linecap:round; stroke-linejoin:round; stroke-width:4; stroke-opacity:1; fill:none\" points=\"729.517,1423.18 729.517,1404.28 \"/>\n",
       "<polyline clip-path=\"url(#clip040)\" style=\"stroke:#000000; stroke-linecap:round; stroke-linejoin:round; stroke-width:4; stroke-opacity:1; fill:none\" points=\"1120.66,1423.18 1120.66,1404.28 \"/>\n",
       "<polyline clip-path=\"url(#clip040)\" style=\"stroke:#000000; stroke-linecap:round; stroke-linejoin:round; stroke-width:4; stroke-opacity:1; fill:none\" points=\"1511.8,1423.18 1511.8,1404.28 \"/>\n",
       "<polyline clip-path=\"url(#clip040)\" style=\"stroke:#000000; stroke-linecap:round; stroke-linejoin:round; stroke-width:4; stroke-opacity:1; fill:none\" points=\"1902.94,1423.18 1902.94,1404.28 \"/>\n",
       "<polyline clip-path=\"url(#clip040)\" style=\"stroke:#000000; stroke-linecap:round; stroke-linejoin:round; stroke-width:4; stroke-opacity:1; fill:none\" points=\"2294.08,1423.18 2294.08,1404.28 \"/>\n",
       "<path clip-path=\"url(#clip040)\" d=\"M328.757 1481.64 L336.396 1481.64 L336.396 1455.28 L328.086 1456.95 L328.086 1452.69 L336.35 1451.02 L341.026 1451.02 L341.026 1481.64 L348.664 1481.64 L348.664 1485.58 L328.757 1485.58 L328.757 1481.64 Z\" fill=\"#000000\" fill-rule=\"nonzero\" fill-opacity=\"1\" /><path clip-path=\"url(#clip040)\" d=\"M724.17 1481.64 L740.489 1481.64 L740.489 1485.58 L718.545 1485.58 L718.545 1481.64 Q721.207 1478.89 725.79 1474.26 Q730.397 1469.61 731.577 1468.27 Q733.823 1465.74 734.702 1464.01 Q735.605 1462.25 735.605 1460.56 Q735.605 1457.8 733.661 1456.07 Q731.739 1454.33 728.637 1454.33 Q726.438 1454.33 723.985 1455.09 Q721.554 1455.86 718.776 1457.41 L718.776 1452.69 Q721.6 1451.55 724.054 1450.97 Q726.508 1450.39 728.545 1450.39 Q733.915 1450.39 737.11 1453.08 Q740.304 1455.77 740.304 1460.26 Q740.304 1462.39 739.494 1464.31 Q738.707 1466.2 736.6 1468.8 Q736.022 1469.47 732.92 1472.69 Q729.818 1475.88 724.17 1481.64 Z\" fill=\"#000000\" fill-rule=\"nonzero\" fill-opacity=\"1\" /><path clip-path=\"url(#clip040)\" d=\"M1124.91 1466.95 Q1128.26 1467.66 1130.14 1469.93 Q1132.04 1472.2 1132.04 1475.53 Q1132.04 1480.65 1128.52 1483.45 Q1125 1486.25 1118.52 1486.25 Q1116.34 1486.25 1114.03 1485.81 Q1111.74 1485.39 1109.28 1484.54 L1109.28 1480.02 Q1111.23 1481.16 1113.54 1481.74 Q1115.86 1482.32 1118.38 1482.32 Q1122.78 1482.32 1125.07 1480.58 Q1127.38 1478.84 1127.38 1475.53 Q1127.38 1472.48 1125.23 1470.77 Q1123.1 1469.03 1119.28 1469.03 L1115.25 1469.03 L1115.25 1465.19 L1119.47 1465.19 Q1122.92 1465.19 1124.74 1463.82 Q1126.57 1462.43 1126.57 1459.84 Q1126.57 1457.18 1124.68 1455.77 Q1122.8 1454.33 1119.28 1454.33 Q1117.36 1454.33 1115.16 1454.75 Q1112.96 1455.16 1110.32 1456.04 L1110.32 1451.88 Q1112.99 1451.14 1115.3 1450.77 Q1117.64 1450.39 1119.7 1450.39 Q1125.02 1450.39 1128.12 1452.83 Q1131.23 1455.23 1131.23 1459.35 Q1131.23 1462.22 1129.58 1464.21 Q1127.94 1466.18 1124.91 1466.95 Z\" fill=\"#000000\" fill-rule=\"nonzero\" fill-opacity=\"1\" /><path clip-path=\"url(#clip040)\" d=\"M1514.81 1455.09 L1503 1473.54 L1514.81 1473.54 L1514.81 1455.09 M1513.58 1451.02 L1519.46 1451.02 L1519.46 1473.54 L1524.39 1473.54 L1524.39 1477.43 L1519.46 1477.43 L1519.46 1485.58 L1514.81 1485.58 L1514.81 1477.43 L1499.21 1477.43 L1499.21 1472.92 L1513.58 1451.02 Z\" fill=\"#000000\" fill-rule=\"nonzero\" fill-opacity=\"1\" /><path clip-path=\"url(#clip040)\" d=\"M1893.22 1451.02 L1911.58 1451.02 L1911.58 1454.96 L1897.5 1454.96 L1897.5 1463.43 Q1898.52 1463.08 1899.54 1462.92 Q1900.56 1462.73 1901.58 1462.73 Q1907.36 1462.73 1910.74 1465.9 Q1914.12 1469.08 1914.12 1474.49 Q1914.12 1480.07 1910.65 1483.17 Q1907.18 1486.25 1900.86 1486.25 Q1898.68 1486.25 1896.41 1485.88 Q1894.17 1485.51 1891.76 1484.77 L1891.76 1480.07 Q1893.85 1481.2 1896.07 1481.76 Q1898.29 1482.32 1900.77 1482.32 Q1904.77 1482.32 1907.11 1480.21 Q1909.45 1478.1 1909.45 1474.49 Q1909.45 1470.88 1907.11 1468.77 Q1904.77 1466.67 1900.77 1466.67 Q1898.89 1466.67 1897.02 1467.08 Q1895.17 1467.5 1893.22 1468.38 L1893.22 1451.02 Z\" fill=\"#000000\" fill-rule=\"nonzero\" fill-opacity=\"1\" /><path clip-path=\"url(#clip040)\" d=\"M2294.49 1466.44 Q2291.34 1466.44 2289.49 1468.59 Q2287.66 1470.74 2287.66 1474.49 Q2287.66 1478.22 2289.49 1480.39 Q2291.34 1482.55 2294.49 1482.55 Q2297.64 1482.55 2299.47 1480.39 Q2301.32 1478.22 2301.32 1474.49 Q2301.32 1470.74 2299.47 1468.59 Q2297.64 1466.44 2294.49 1466.44 M2303.77 1451.78 L2303.77 1456.04 Q2302.01 1455.21 2300.21 1454.77 Q2298.42 1454.33 2296.67 1454.33 Q2292.04 1454.33 2289.58 1457.45 Q2287.15 1460.58 2286.8 1466.9 Q2288.17 1464.89 2290.23 1463.82 Q2292.29 1462.73 2294.77 1462.73 Q2299.98 1462.73 2302.99 1465.9 Q2306.02 1469.05 2306.02 1474.49 Q2306.02 1479.82 2302.87 1483.03 Q2299.72 1486.25 2294.49 1486.25 Q2288.49 1486.25 2285.32 1481.67 Q2282.15 1477.06 2282.15 1468.33 Q2282.15 1460.14 2286.04 1455.28 Q2289.93 1450.39 2296.48 1450.39 Q2298.24 1450.39 2300.02 1450.74 Q2301.83 1451.09 2303.77 1451.78 Z\" fill=\"#000000\" fill-rule=\"nonzero\" fill-opacity=\"1\" /><path clip-path=\"url(#clip040)\" d=\"M1085.98 1525.81 L1085.98 1562.76 L1093.75 1562.76 Q1103.58 1562.76 1108.13 1558.3 Q1112.72 1553.85 1112.72 1544.24 Q1112.72 1534.69 1108.13 1530.26 Q1103.58 1525.81 1093.75 1525.81 L1085.98 1525.81 M1079.55 1520.52 L1092.76 1520.52 Q1106.58 1520.52 1113.04 1526.28 Q1119.5 1532.01 1119.5 1544.24 Q1119.5 1556.52 1113 1562.28 Q1106.51 1568.04 1092.76 1568.04 L1079.55 1568.04 L1079.55 1520.52 Z\" fill=\"#000000\" fill-rule=\"nonzero\" fill-opacity=\"1\" /><path clip-path=\"url(#clip040)\" d=\"M1129.49 1532.4 L1135.35 1532.4 L1135.35 1568.04 L1129.49 1568.04 L1129.49 1532.4 M1129.49 1518.52 L1135.35 1518.52 L1135.35 1525.93 L1129.49 1525.93 L1129.49 1518.52 Z\" fill=\"#000000\" fill-rule=\"nonzero\" fill-opacity=\"1\" /><path clip-path=\"url(#clip040)\" d=\"M1170.33 1533.45 L1170.33 1538.98 Q1167.85 1537.71 1165.17 1537.07 Q1162.5 1536.44 1159.63 1536.44 Q1155.27 1536.44 1153.08 1537.77 Q1150.91 1539.11 1150.91 1541.79 Q1150.91 1543.82 1152.47 1545 Q1154.03 1546.15 1158.74 1547.2 L1160.75 1547.64 Q1166.99 1548.98 1169.6 1551.43 Q1172.24 1553.85 1172.24 1558.21 Q1172.24 1563.17 1168.29 1566.07 Q1164.38 1568.97 1157.5 1568.97 Q1154.64 1568.97 1151.52 1568.39 Q1148.43 1567.85 1144.99 1566.74 L1144.99 1560.69 Q1148.24 1562.38 1151.39 1563.24 Q1154.54 1564.07 1157.63 1564.07 Q1161.77 1564.07 1163.99 1562.66 Q1166.22 1561.23 1166.22 1558.65 Q1166.22 1556.27 1164.6 1554.99 Q1163.01 1553.72 1157.56 1552.54 L1155.53 1552.07 Q1150.08 1550.92 1147.67 1548.56 Q1145.25 1546.18 1145.25 1542.04 Q1145.25 1537.01 1148.81 1534.27 Q1152.38 1531.54 1158.93 1531.54 Q1162.18 1531.54 1165.04 1532.01 Q1167.91 1532.49 1170.33 1533.45 Z\" fill=\"#000000\" fill-rule=\"nonzero\" fill-opacity=\"1\" /><path clip-path=\"url(#clip040)\" d=\"M1187.36 1522.27 L1187.36 1532.4 L1199.42 1532.4 L1199.42 1536.95 L1187.36 1536.95 L1187.36 1556.3 Q1187.36 1560.66 1188.53 1561.9 Q1189.74 1563.14 1193.4 1563.14 L1199.42 1563.14 L1199.42 1568.04 L1193.4 1568.04 Q1186.62 1568.04 1184.05 1565.53 Q1181.47 1562.98 1181.47 1556.3 L1181.47 1536.95 L1177.17 1536.95 L1177.17 1532.4 L1181.47 1532.4 L1181.47 1522.27 L1187.36 1522.27 Z\" fill=\"#000000\" fill-rule=\"nonzero\" fill-opacity=\"1\" /><path clip-path=\"url(#clip040)\" d=\"M1223.32 1550.12 Q1216.22 1550.12 1213.49 1551.75 Q1210.75 1553.37 1210.75 1557.29 Q1210.75 1560.4 1212.79 1562.25 Q1214.86 1564.07 1218.39 1564.07 Q1223.26 1564.07 1226.19 1560.63 Q1229.15 1557.16 1229.15 1551.43 L1229.15 1550.12 L1223.32 1550.12 M1235 1547.71 L1235 1568.04 L1229.15 1568.04 L1229.15 1562.63 Q1227.14 1565.88 1224.15 1567.44 Q1221.16 1568.97 1216.83 1568.97 Q1211.35 1568.97 1208.11 1565.91 Q1204.89 1562.82 1204.89 1557.67 Q1204.89 1551.65 1208.9 1548.6 Q1212.95 1545.54 1220.94 1545.54 L1229.15 1545.54 L1229.15 1544.97 Q1229.15 1540.93 1226.47 1538.73 Q1223.83 1536.5 1219.03 1536.5 Q1215.97 1536.5 1213.07 1537.23 Q1210.18 1537.97 1207.5 1539.43 L1207.5 1534.02 Q1210.72 1532.78 1213.74 1532.17 Q1216.77 1531.54 1219.63 1531.54 Q1227.36 1531.54 1231.18 1535.55 Q1235 1539.56 1235 1547.71 Z\" fill=\"#000000\" fill-rule=\"nonzero\" fill-opacity=\"1\" /><path clip-path=\"url(#clip040)\" d=\"M1276.7 1546.53 L1276.7 1568.04 L1270.84 1568.04 L1270.84 1546.72 Q1270.84 1541.66 1268.87 1539.14 Q1266.9 1536.63 1262.95 1536.63 Q1258.21 1536.63 1255.47 1539.65 Q1252.73 1542.68 1252.73 1547.9 L1252.73 1568.04 L1246.84 1568.04 L1246.84 1532.4 L1252.73 1532.4 L1252.73 1537.93 Q1254.83 1534.72 1257.67 1533.13 Q1260.53 1531.54 1264.25 1531.54 Q1270.4 1531.54 1273.55 1535.36 Q1276.7 1539.14 1276.7 1546.53 Z\" fill=\"#000000\" fill-rule=\"nonzero\" fill-opacity=\"1\" /><path clip-path=\"url(#clip040)\" d=\"M1314.03 1533.76 L1314.03 1539.24 Q1311.55 1537.87 1309.04 1537.2 Q1306.55 1536.5 1304.01 1536.5 Q1298.31 1536.5 1295.16 1540.13 Q1292.01 1543.73 1292.01 1550.25 Q1292.01 1556.78 1295.16 1560.4 Q1298.31 1564 1304.01 1564 Q1306.55 1564 1309.04 1563.33 Q1311.55 1562.63 1314.03 1561.26 L1314.03 1566.68 Q1311.58 1567.82 1308.94 1568.39 Q1306.33 1568.97 1303.37 1568.97 Q1295.32 1568.97 1290.58 1563.91 Q1285.83 1558.85 1285.83 1550.25 Q1285.83 1541.53 1290.61 1536.53 Q1295.41 1531.54 1303.75 1531.54 Q1306.46 1531.54 1309.04 1532.11 Q1311.61 1532.65 1314.03 1533.76 Z\" fill=\"#000000\" fill-rule=\"nonzero\" fill-opacity=\"1\" /><path clip-path=\"url(#clip040)\" d=\"M1354.71 1548.76 L1354.71 1551.62 L1327.78 1551.62 Q1328.17 1557.67 1331.41 1560.85 Q1334.69 1564 1340.52 1564 Q1343.89 1564 1347.04 1563.17 Q1350.22 1562.35 1353.34 1560.69 L1353.34 1566.23 Q1350.19 1567.57 1346.88 1568.27 Q1343.57 1568.97 1340.16 1568.97 Q1331.63 1568.97 1326.64 1564 Q1321.67 1559.04 1321.67 1550.57 Q1321.67 1541.82 1326.38 1536.69 Q1331.13 1531.54 1339.15 1531.54 Q1346.34 1531.54 1350.51 1536.18 Q1354.71 1540.8 1354.71 1548.76 M1348.85 1547.04 Q1348.79 1542.23 1346.15 1539.37 Q1343.54 1536.5 1339.21 1536.5 Q1334.31 1536.5 1331.35 1539.27 Q1328.42 1542.04 1327.97 1547.07 L1348.85 1547.04 Z\" fill=\"#000000\" fill-rule=\"nonzero\" fill-opacity=\"1\" /><path clip-path=\"url(#clip040)\" d=\"M1390.84 1522.27 L1390.84 1532.4 L1402.9 1532.4 L1402.9 1536.95 L1390.84 1536.95 L1390.84 1556.3 Q1390.84 1560.66 1392.01 1561.9 Q1393.22 1563.14 1396.88 1563.14 L1402.9 1563.14 L1402.9 1568.04 L1396.88 1568.04 Q1390.1 1568.04 1387.53 1565.53 Q1384.95 1562.98 1384.95 1556.3 L1384.95 1536.95 L1380.65 1536.95 L1380.65 1532.4 L1384.95 1532.4 L1384.95 1522.27 L1390.84 1522.27 Z\" fill=\"#000000\" fill-rule=\"nonzero\" fill-opacity=\"1\" /><path clip-path=\"url(#clip040)\" d=\"M1424.42 1536.5 Q1419.7 1536.5 1416.97 1540.19 Q1414.23 1543.85 1414.23 1550.25 Q1414.23 1556.65 1416.94 1560.34 Q1419.67 1564 1424.42 1564 Q1429.09 1564 1431.83 1560.31 Q1434.57 1556.62 1434.57 1550.25 Q1434.57 1543.92 1431.83 1540.23 Q1429.09 1536.5 1424.42 1536.5 M1424.42 1531.54 Q1432.05 1531.54 1436.41 1536.5 Q1440.77 1541.47 1440.77 1550.25 Q1440.77 1559 1436.41 1564 Q1432.05 1568.97 1424.42 1568.97 Q1416.74 1568.97 1412.38 1564 Q1408.06 1559 1408.06 1550.25 Q1408.06 1541.47 1412.38 1536.5 Q1416.74 1531.54 1424.42 1531.54 Z\" fill=\"#000000\" fill-rule=\"nonzero\" fill-opacity=\"1\" /><path clip-path=\"url(#clip040)\" d=\"M1471.2 1532.4 L1477.06 1532.4 L1477.06 1568.04 L1471.2 1568.04 L1471.2 1532.4 M1471.2 1518.52 L1477.06 1518.52 L1477.06 1525.93 L1471.2 1525.93 L1471.2 1518.52 Z\" fill=\"#000000\" fill-rule=\"nonzero\" fill-opacity=\"1\" /><path clip-path=\"url(#clip040)\" d=\"M1516.4 1578.87 L1516.4 1583.42 L1482.53 1583.42 L1482.53 1578.87 L1516.4 1578.87 Z\" fill=\"#000000\" fill-rule=\"nonzero\" fill-opacity=\"1\" /><path clip-path=\"url(#clip040)\" d=\"M1536.48 1524.76 Q1531.52 1524.76 1529 1529.66 Q1526.52 1534.53 1526.52 1544.33 Q1526.52 1554.1 1529 1559 Q1531.52 1563.87 1536.48 1563.87 Q1541.48 1563.87 1543.96 1559 Q1546.48 1554.1 1546.48 1544.33 Q1546.48 1534.53 1543.96 1529.66 Q1541.48 1524.76 1536.48 1524.76 M1536.48 1519.66 Q1544.47 1519.66 1548.67 1526 Q1552.91 1532.3 1552.91 1544.33 Q1552.91 1556.33 1548.67 1562.66 Q1544.47 1568.97 1536.48 1568.97 Q1528.49 1568.97 1524.26 1562.66 Q1520.06 1556.33 1520.06 1544.33 Q1520.06 1532.3 1524.26 1526 Q1528.49 1519.66 1536.48 1519.66 Z\" fill=\"#000000\" fill-rule=\"nonzero\" fill-opacity=\"1\" /><polyline clip-path=\"url(#clip042)\" style=\"stroke:#000000; stroke-linecap:round; stroke-linejoin:round; stroke-width:2; stroke-opacity:0.1; fill:none\" points=\"279.704,1177.62 2352.76,1177.62 \"/>\n",
       "<polyline clip-path=\"url(#clip042)\" style=\"stroke:#000000; stroke-linecap:round; stroke-linejoin:round; stroke-width:2; stroke-opacity:0.1; fill:none\" points=\"279.704,917.71 2352.76,917.71 \"/>\n",
       "<polyline clip-path=\"url(#clip042)\" style=\"stroke:#000000; stroke-linecap:round; stroke-linejoin:round; stroke-width:2; stroke-opacity:0.1; fill:none\" points=\"279.704,657.795 2352.76,657.795 \"/>\n",
       "<polyline clip-path=\"url(#clip042)\" style=\"stroke:#000000; stroke-linecap:round; stroke-linejoin:round; stroke-width:2; stroke-opacity:0.1; fill:none\" points=\"279.704,397.881 2352.76,397.881 \"/>\n",
       "<polyline clip-path=\"url(#clip042)\" style=\"stroke:#000000; stroke-linecap:round; stroke-linejoin:round; stroke-width:2; stroke-opacity:0.1; fill:none\" points=\"279.704,137.967 2352.76,137.967 \"/>\n",
       "<polyline clip-path=\"url(#clip040)\" style=\"stroke:#000000; stroke-linecap:round; stroke-linejoin:round; stroke-width:4; stroke-opacity:1; fill:none\" points=\"279.704,1423.18 279.704,123.472 \"/>\n",
       "<polyline clip-path=\"url(#clip040)\" style=\"stroke:#000000; stroke-linecap:round; stroke-linejoin:round; stroke-width:4; stroke-opacity:1; fill:none\" points=\"279.704,1177.62 298.602,1177.62 \"/>\n",
       "<polyline clip-path=\"url(#clip040)\" style=\"stroke:#000000; stroke-linecap:round; stroke-linejoin:round; stroke-width:4; stroke-opacity:1; fill:none\" points=\"279.704,917.71 298.602,917.71 \"/>\n",
       "<polyline clip-path=\"url(#clip040)\" style=\"stroke:#000000; stroke-linecap:round; stroke-linejoin:round; stroke-width:4; stroke-opacity:1; fill:none\" points=\"279.704,657.795 298.602,657.795 \"/>\n",
       "<polyline clip-path=\"url(#clip040)\" style=\"stroke:#000000; stroke-linecap:round; stroke-linejoin:round; stroke-width:4; stroke-opacity:1; fill:none\" points=\"279.704,397.881 298.602,397.881 \"/>\n",
       "<polyline clip-path=\"url(#clip040)\" style=\"stroke:#000000; stroke-linecap:round; stroke-linejoin:round; stroke-width:4; stroke-opacity:1; fill:none\" points=\"279.704,137.967 298.602,137.967 \"/>\n",
       "<path clip-path=\"url(#clip040)\" d=\"M127.2 1163.42 Q123.589 1163.42 121.76 1166.99 Q119.955 1170.53 119.955 1177.66 Q119.955 1184.77 121.76 1188.33 Q123.589 1191.87 127.2 1191.87 Q130.834 1191.87 132.64 1188.33 Q134.468 1184.77 134.468 1177.66 Q134.468 1170.53 132.64 1166.99 Q130.834 1163.42 127.2 1163.42 M127.2 1159.72 Q133.01 1159.72 136.066 1164.33 Q139.144 1168.91 139.144 1177.66 Q139.144 1186.39 136.066 1190.99 Q133.01 1195.58 127.2 1195.58 Q121.39 1195.58 118.311 1190.99 Q115.256 1186.39 115.256 1177.66 Q115.256 1168.91 118.311 1164.33 Q121.39 1159.72 127.2 1159.72 Z\" fill=\"#000000\" fill-rule=\"nonzero\" fill-opacity=\"1\" /><path clip-path=\"url(#clip040)\" d=\"M147.362 1189.02 L152.246 1189.02 L152.246 1194.9 L147.362 1194.9 L147.362 1189.02 Z\" fill=\"#000000\" fill-rule=\"nonzero\" fill-opacity=\"1\" /><path clip-path=\"url(#clip040)\" d=\"M172.431 1163.42 Q168.82 1163.42 166.991 1166.99 Q165.186 1170.53 165.186 1177.66 Q165.186 1184.77 166.991 1188.33 Q168.82 1191.87 172.431 1191.87 Q176.065 1191.87 177.871 1188.33 Q179.7 1184.77 179.7 1177.66 Q179.7 1170.53 177.871 1166.99 Q176.065 1163.42 172.431 1163.42 M172.431 1159.72 Q178.241 1159.72 181.297 1164.33 Q184.376 1168.91 184.376 1177.66 Q184.376 1186.39 181.297 1190.99 Q178.241 1195.58 172.431 1195.58 Q166.621 1195.58 163.542 1190.99 Q160.487 1186.39 160.487 1177.66 Q160.487 1168.91 163.542 1164.33 Q166.621 1159.72 172.431 1159.72 Z\" fill=\"#000000\" fill-rule=\"nonzero\" fill-opacity=\"1\" /><path clip-path=\"url(#clip040)\" d=\"M191.413 1160.34 L213.635 1160.34 L213.635 1162.34 L201.088 1194.9 L196.204 1194.9 L208.01 1164.28 L191.413 1164.28 L191.413 1160.34 Z\" fill=\"#000000\" fill-rule=\"nonzero\" fill-opacity=\"1\" /><path clip-path=\"url(#clip040)\" d=\"M222.801 1160.34 L241.158 1160.34 L241.158 1164.28 L227.084 1164.28 L227.084 1172.75 Q228.102 1172.4 229.121 1172.24 Q230.139 1172.06 231.158 1172.06 Q236.945 1172.06 240.324 1175.23 Q243.704 1178.4 243.704 1183.82 Q243.704 1189.4 240.232 1192.5 Q236.76 1195.58 230.44 1195.58 Q228.264 1195.58 225.996 1195.21 Q223.75 1194.83 221.343 1194.09 L221.343 1189.4 Q223.426 1190.53 225.648 1191.08 Q227.871 1191.64 230.347 1191.64 Q234.352 1191.64 236.69 1189.53 Q239.028 1187.43 239.028 1183.82 Q239.028 1180.21 236.69 1178.1 Q234.352 1175.99 230.347 1175.99 Q228.473 1175.99 226.598 1176.41 Q224.746 1176.83 222.801 1177.71 L222.801 1160.34 Z\" fill=\"#000000\" fill-rule=\"nonzero\" fill-opacity=\"1\" /><path clip-path=\"url(#clip040)\" d=\"M126.205 903.509 Q122.593 903.509 120.765 907.073 Q118.959 910.615 118.959 917.745 Q118.959 924.851 120.765 928.416 Q122.593 931.958 126.205 931.958 Q129.839 931.958 131.644 928.416 Q133.473 924.851 133.473 917.745 Q133.473 910.615 131.644 907.073 Q129.839 903.509 126.205 903.509 M126.205 899.805 Q132.015 899.805 135.07 904.411 Q138.149 908.995 138.149 917.745 Q138.149 926.471 135.07 931.078 Q132.015 935.661 126.205 935.661 Q120.394 935.661 117.316 931.078 Q114.26 926.471 114.26 917.745 Q114.26 908.995 117.316 904.411 Q120.394 899.805 126.205 899.805 Z\" fill=\"#000000\" fill-rule=\"nonzero\" fill-opacity=\"1\" /><path clip-path=\"url(#clip040)\" d=\"M146.366 929.11 L151.251 929.11 L151.251 934.99 L146.366 934.99 L146.366 929.11 Z\" fill=\"#000000\" fill-rule=\"nonzero\" fill-opacity=\"1\" /><path clip-path=\"url(#clip040)\" d=\"M162.246 931.055 L169.885 931.055 L169.885 904.689 L161.575 906.356 L161.575 902.097 L169.839 900.43 L174.514 900.43 L174.514 931.055 L182.153 931.055 L182.153 934.99 L162.246 934.99 L162.246 931.055 Z\" fill=\"#000000\" fill-rule=\"nonzero\" fill-opacity=\"1\" /><path clip-path=\"url(#clip040)\" d=\"M201.598 903.509 Q197.987 903.509 196.158 907.073 Q194.352 910.615 194.352 917.745 Q194.352 924.851 196.158 928.416 Q197.987 931.958 201.598 931.958 Q205.232 931.958 207.037 928.416 Q208.866 924.851 208.866 917.745 Q208.866 910.615 207.037 907.073 Q205.232 903.509 201.598 903.509 M201.598 899.805 Q207.408 899.805 210.463 904.411 Q213.542 908.995 213.542 917.745 Q213.542 926.471 210.463 931.078 Q207.408 935.661 201.598 935.661 Q195.787 935.661 192.709 931.078 Q189.653 926.471 189.653 917.745 Q189.653 908.995 192.709 904.411 Q195.787 899.805 201.598 899.805 Z\" fill=\"#000000\" fill-rule=\"nonzero\" fill-opacity=\"1\" /><path clip-path=\"url(#clip040)\" d=\"M231.76 903.509 Q228.148 903.509 226.32 907.073 Q224.514 910.615 224.514 917.745 Q224.514 924.851 226.32 928.416 Q228.148 931.958 231.76 931.958 Q235.394 931.958 237.199 928.416 Q239.028 924.851 239.028 917.745 Q239.028 910.615 237.199 907.073 Q235.394 903.509 231.76 903.509 M231.76 899.805 Q237.57 899.805 240.625 904.411 Q243.704 908.995 243.704 917.745 Q243.704 926.471 240.625 931.078 Q237.57 935.661 231.76 935.661 Q225.949 935.661 222.871 931.078 Q219.815 926.471 219.815 917.745 Q219.815 908.995 222.871 904.411 Q225.949 899.805 231.76 899.805 Z\" fill=\"#000000\" fill-rule=\"nonzero\" fill-opacity=\"1\" /><path clip-path=\"url(#clip040)\" d=\"M127.2 643.594 Q123.589 643.594 121.76 647.159 Q119.955 650.701 119.955 657.83 Q119.955 664.937 121.76 668.501 Q123.589 672.043 127.2 672.043 Q130.834 672.043 132.64 668.501 Q134.468 664.937 134.468 657.83 Q134.468 650.701 132.64 647.159 Q130.834 643.594 127.2 643.594 M127.2 639.89 Q133.01 639.89 136.066 644.497 Q139.144 649.08 139.144 657.83 Q139.144 666.557 136.066 671.163 Q133.01 675.747 127.2 675.747 Q121.39 675.747 118.311 671.163 Q115.256 666.557 115.256 657.83 Q115.256 649.08 118.311 644.497 Q121.39 639.89 127.2 639.89 Z\" fill=\"#000000\" fill-rule=\"nonzero\" fill-opacity=\"1\" /><path clip-path=\"url(#clip040)\" d=\"M147.362 669.196 L152.246 669.196 L152.246 675.075 L147.362 675.075 L147.362 669.196 Z\" fill=\"#000000\" fill-rule=\"nonzero\" fill-opacity=\"1\" /><path clip-path=\"url(#clip040)\" d=\"M163.241 671.14 L170.88 671.14 L170.88 644.775 L162.57 646.441 L162.57 642.182 L170.834 640.515 L175.51 640.515 L175.51 671.14 L183.149 671.14 L183.149 675.075 L163.241 675.075 L163.241 671.14 Z\" fill=\"#000000\" fill-rule=\"nonzero\" fill-opacity=\"1\" /><path clip-path=\"url(#clip040)\" d=\"M196.621 671.14 L212.94 671.14 L212.94 675.075 L190.996 675.075 L190.996 671.14 Q193.658 668.386 198.241 663.756 Q202.848 659.103 204.028 657.761 Q206.274 655.238 207.153 653.502 Q208.056 651.742 208.056 650.052 Q208.056 647.298 206.112 645.562 Q204.19 643.826 201.088 643.826 Q198.889 643.826 196.436 644.59 Q194.005 645.353 191.227 646.904 L191.227 642.182 Q194.051 641.048 196.505 640.469 Q198.959 639.89 200.996 639.89 Q206.366 639.89 209.561 642.576 Q212.755 645.261 212.755 649.752 Q212.755 651.881 211.945 653.802 Q211.158 655.701 209.051 658.293 Q208.473 658.964 205.371 662.182 Q202.269 665.376 196.621 671.14 Z\" fill=\"#000000\" fill-rule=\"nonzero\" fill-opacity=\"1\" /><path clip-path=\"url(#clip040)\" d=\"M222.801 640.515 L241.158 640.515 L241.158 644.451 L227.084 644.451 L227.084 652.923 Q228.102 652.576 229.121 652.414 Q230.139 652.228 231.158 652.228 Q236.945 652.228 240.324 655.4 Q243.704 658.571 243.704 663.988 Q243.704 669.566 240.232 672.668 Q236.76 675.747 230.44 675.747 Q228.264 675.747 225.996 675.376 Q223.75 675.006 221.343 674.265 L221.343 669.566 Q223.426 670.701 225.648 671.256 Q227.871 671.812 230.347 671.812 Q234.352 671.812 236.69 669.705 Q239.028 667.599 239.028 663.988 Q239.028 660.376 236.69 658.27 Q234.352 656.164 230.347 656.164 Q228.473 656.164 226.598 656.58 Q224.746 656.997 222.801 657.877 L222.801 640.515 Z\" fill=\"#000000\" fill-rule=\"nonzero\" fill-opacity=\"1\" /><path clip-path=\"url(#clip040)\" d=\"M126.205 383.68 Q122.593 383.68 120.765 387.245 Q118.959 390.786 118.959 397.916 Q118.959 405.022 120.765 408.587 Q122.593 412.129 126.205 412.129 Q129.839 412.129 131.644 408.587 Q133.473 405.022 133.473 397.916 Q133.473 390.786 131.644 387.245 Q129.839 383.68 126.205 383.68 M126.205 379.976 Q132.015 379.976 135.07 384.583 Q138.149 389.166 138.149 397.916 Q138.149 406.643 135.07 411.249 Q132.015 415.832 126.205 415.832 Q120.394 415.832 117.316 411.249 Q114.26 406.643 114.26 397.916 Q114.26 389.166 117.316 384.583 Q120.394 379.976 126.205 379.976 Z\" fill=\"#000000\" fill-rule=\"nonzero\" fill-opacity=\"1\" /><path clip-path=\"url(#clip040)\" d=\"M146.366 409.281 L151.251 409.281 L151.251 415.161 L146.366 415.161 L146.366 409.281 Z\" fill=\"#000000\" fill-rule=\"nonzero\" fill-opacity=\"1\" /><path clip-path=\"url(#clip040)\" d=\"M162.246 411.226 L169.885 411.226 L169.885 384.86 L161.575 386.527 L161.575 382.268 L169.839 380.601 L174.514 380.601 L174.514 411.226 L182.153 411.226 L182.153 415.161 L162.246 415.161 L162.246 411.226 Z\" fill=\"#000000\" fill-rule=\"nonzero\" fill-opacity=\"1\" /><path clip-path=\"url(#clip040)\" d=\"M191.644 380.601 L210 380.601 L210 384.536 L195.926 384.536 L195.926 393.008 Q196.945 392.661 197.963 392.499 Q198.982 392.314 200 392.314 Q205.787 392.314 209.167 395.485 Q212.547 398.657 212.547 404.073 Q212.547 409.652 209.074 412.754 Q205.602 415.832 199.283 415.832 Q197.107 415.832 194.838 415.462 Q192.593 415.092 190.186 414.351 L190.186 409.652 Q192.269 410.786 194.491 411.342 Q196.713 411.897 199.19 411.897 Q203.195 411.897 205.533 409.791 Q207.871 407.684 207.871 404.073 Q207.871 400.462 205.533 398.356 Q203.195 396.249 199.19 396.249 Q197.315 396.249 195.44 396.666 Q193.588 397.082 191.644 397.962 L191.644 380.601 Z\" fill=\"#000000\" fill-rule=\"nonzero\" fill-opacity=\"1\" /><path clip-path=\"url(#clip040)\" d=\"M231.76 383.68 Q228.148 383.68 226.32 387.245 Q224.514 390.786 224.514 397.916 Q224.514 405.022 226.32 408.587 Q228.148 412.129 231.76 412.129 Q235.394 412.129 237.199 408.587 Q239.028 405.022 239.028 397.916 Q239.028 390.786 237.199 387.245 Q235.394 383.68 231.76 383.68 M231.76 379.976 Q237.57 379.976 240.625 384.583 Q243.704 389.166 243.704 397.916 Q243.704 406.643 240.625 411.249 Q237.57 415.832 231.76 415.832 Q225.949 415.832 222.871 411.249 Q219.815 406.643 219.815 397.916 Q219.815 389.166 222.871 384.583 Q225.949 379.976 231.76 379.976 Z\" fill=\"#000000\" fill-rule=\"nonzero\" fill-opacity=\"1\" /><path clip-path=\"url(#clip040)\" d=\"M127.2 123.765 Q123.589 123.765 121.76 127.33 Q119.955 130.872 119.955 138.001 Q119.955 145.108 121.76 148.673 Q123.589 152.214 127.2 152.214 Q130.834 152.214 132.64 148.673 Q134.468 145.108 134.468 138.001 Q134.468 130.872 132.64 127.33 Q130.834 123.765 127.2 123.765 M127.2 120.062 Q133.01 120.062 136.066 124.668 Q139.144 129.251 139.144 138.001 Q139.144 146.728 136.066 151.335 Q133.01 155.918 127.2 155.918 Q121.39 155.918 118.311 151.335 Q115.256 146.728 115.256 138.001 Q115.256 129.251 118.311 124.668 Q121.39 120.062 127.2 120.062 Z\" fill=\"#000000\" fill-rule=\"nonzero\" fill-opacity=\"1\" /><path clip-path=\"url(#clip040)\" d=\"M147.362 149.367 L152.246 149.367 L152.246 155.247 L147.362 155.247 L147.362 149.367 Z\" fill=\"#000000\" fill-rule=\"nonzero\" fill-opacity=\"1\" /><path clip-path=\"url(#clip040)\" d=\"M163.241 151.311 L170.88 151.311 L170.88 124.946 L162.57 126.612 L162.57 122.353 L170.834 120.687 L175.51 120.687 L175.51 151.311 L183.149 151.311 L183.149 155.247 L163.241 155.247 L163.241 151.311 Z\" fill=\"#000000\" fill-rule=\"nonzero\" fill-opacity=\"1\" /><path clip-path=\"url(#clip040)\" d=\"M191.413 120.687 L213.635 120.687 L213.635 122.677 L201.088 155.247 L196.204 155.247 L208.01 124.622 L191.413 124.622 L191.413 120.687 Z\" fill=\"#000000\" fill-rule=\"nonzero\" fill-opacity=\"1\" /><path clip-path=\"url(#clip040)\" d=\"M222.801 120.687 L241.158 120.687 L241.158 124.622 L227.084 124.622 L227.084 133.094 Q228.102 132.747 229.121 132.585 Q230.139 132.4 231.158 132.4 Q236.945 132.4 240.324 135.571 Q243.704 138.742 243.704 144.159 Q243.704 149.737 240.232 152.839 Q236.76 155.918 230.44 155.918 Q228.264 155.918 225.996 155.548 Q223.75 155.177 221.343 154.436 L221.343 149.737 Q223.426 150.872 225.648 151.427 Q227.871 151.983 230.347 151.983 Q234.352 151.983 236.69 149.876 Q239.028 147.77 239.028 144.159 Q239.028 140.548 236.69 138.441 Q234.352 136.335 230.347 136.335 Q228.473 136.335 226.598 136.751 Q224.746 137.168 222.801 138.048 L222.801 120.687 Z\" fill=\"#000000\" fill-rule=\"nonzero\" fill-opacity=\"1\" /><path clip-path=\"url(#clip040)\" d=\"M16.4842 1288.55 L16.4842 1278.97 L48.8219 1266.84 L16.4842 1254.65 L16.4842 1245.07 L64.0042 1245.07 L64.0042 1251.34 L22.277 1251.34 L54.8694 1263.6 L54.8694 1270.06 L22.277 1282.31 L64.0042 1282.31 L64.0042 1288.55 L16.4842 1288.55 Z\" fill=\"#000000\" fill-rule=\"nonzero\" fill-opacity=\"1\" /><path clip-path=\"url(#clip040)\" d=\"M46.0847 1216.36 Q46.0847 1223.46 47.7079 1226.2 Q49.3312 1228.94 53.2461 1228.94 Q56.3653 1228.94 58.2114 1226.9 Q60.0256 1224.83 60.0256 1221.3 Q60.0256 1216.43 56.5881 1213.5 Q53.1188 1210.54 47.3897 1210.54 L46.0847 1210.54 L46.0847 1216.36 M43.6657 1204.68 L64.0042 1204.68 L64.0042 1210.54 L58.5933 1210.54 Q61.8398 1212.54 63.3994 1215.54 Q64.9272 1218.53 64.9272 1222.86 Q64.9272 1228.33 61.8716 1231.58 Q58.7843 1234.79 53.6281 1234.79 Q47.6125 1234.79 44.5569 1230.78 Q41.5014 1226.74 41.5014 1218.75 L41.5014 1210.54 L40.9285 1210.54 Q36.8862 1210.54 34.6901 1213.21 Q32.4621 1215.85 32.4621 1220.66 Q32.4621 1223.72 33.1941 1226.61 Q33.9262 1229.51 35.3903 1232.18 L29.9795 1232.18 Q28.7381 1228.97 28.1334 1225.94 Q27.4968 1222.92 27.4968 1220.06 Q27.4968 1212.32 31.5072 1208.5 Q35.5176 1204.68 43.6657 1204.68 Z\" fill=\"#000000\" fill-rule=\"nonzero\" fill-opacity=\"1\" /><path clip-path=\"url(#clip040)\" d=\"M28.3562 1162.99 L45.7028 1175.88 L64.0042 1162.32 L64.0042 1169.23 L49.9996 1179.6 L64.0042 1189.98 L64.0042 1196.88 L45.3526 1183.04 L28.3562 1195.71 L28.3562 1188.8 L41.0558 1179.35 L28.3562 1169.89 L28.3562 1162.99 Z\" fill=\"#000000\" fill-rule=\"nonzero\" fill-opacity=\"1\" /><path clip-path=\"url(#clip040)\" d=\"M28.3562 1154.04 L28.3562 1148.19 L64.0042 1148.19 L64.0042 1154.04 L28.3562 1154.04 M14.479 1154.04 L14.479 1148.19 L21.895 1148.19 L21.895 1154.04 L14.479 1154.04 Z\" fill=\"#000000\" fill-rule=\"nonzero\" fill-opacity=\"1\" /><path clip-path=\"url(#clip040)\" d=\"M35.1993 1108.18 Q31.2526 1105.98 29.3747 1102.93 Q27.4968 1099.87 27.4968 1095.73 Q27.4968 1090.16 31.4117 1087.14 Q35.2948 1084.12 42.4881 1084.12 L64.0042 1084.12 L64.0042 1090 L42.679 1090 Q37.5546 1090 35.072 1091.82 Q32.5894 1093.63 32.5894 1097.36 Q32.5894 1101.91 35.6131 1104.55 Q38.6368 1107.19 43.8567 1107.19 L64.0042 1107.19 L64.0042 1113.08 L42.679 1113.08 Q37.5228 1113.08 35.072 1114.89 Q32.5894 1116.71 32.5894 1120.5 Q32.5894 1124.98 35.6449 1127.63 Q38.6686 1130.27 43.8567 1130.27 L64.0042 1130.27 L64.0042 1136.16 L28.3562 1136.16 L28.3562 1130.27 L33.8944 1130.27 Q30.616 1128.26 29.0564 1125.46 Q27.4968 1122.66 27.4968 1118.81 Q27.4968 1114.93 29.4702 1112.22 Q31.4436 1109.48 35.1993 1108.18 Z\" fill=\"#000000\" fill-rule=\"nonzero\" fill-opacity=\"1\" /><path clip-path=\"url(#clip040)\" d=\"M49.9359 1073.04 L28.3562 1073.04 L28.3562 1067.18 L49.7131 1067.18 Q54.7739 1067.18 57.3202 1065.21 Q59.8346 1063.24 59.8346 1059.29 Q59.8346 1054.55 56.8109 1051.81 Q53.7872 1049.04 48.5673 1049.04 L28.3562 1049.04 L28.3562 1043.18 L64.0042 1043.18 L64.0042 1049.04 L58.5296 1049.04 Q61.7762 1051.17 63.3676 1054.01 Q64.9272 1056.81 64.9272 1060.53 Q64.9272 1066.67 61.1078 1069.86 Q57.2883 1073.04 49.9359 1073.04 M27.4968 1058.3 L27.4968 1058.3 Z\" fill=\"#000000\" fill-rule=\"nonzero\" fill-opacity=\"1\" /><path clip-path=\"url(#clip040)\" d=\"M35.1993 1003.37 Q31.2526 1001.17 29.3747 998.115 Q27.4968 995.059 27.4968 990.922 Q27.4968 985.352 31.4117 982.328 Q35.2948 979.304 42.4881 979.304 L64.0042 979.304 L64.0042 985.193 L42.679 985.193 Q37.5546 985.193 35.072 987.007 Q32.5894 988.821 32.5894 992.545 Q32.5894 997.096 35.6131 999.738 Q38.6368 1002.38 43.8567 1002.38 L64.0042 1002.38 L64.0042 1008.27 L42.679 1008.27 Q37.5228 1008.27 35.072 1010.08 Q32.5894 1011.9 32.5894 1015.68 Q32.5894 1020.17 35.6449 1022.81 Q38.6686 1025.46 43.8567 1025.46 L64.0042 1025.46 L64.0042 1031.34 L28.3562 1031.34 L28.3562 1025.46 L33.8944 1025.46 Q30.616 1023.45 29.0564 1020.65 Q27.4968 1017.85 27.4968 1014 Q27.4968 1010.11 29.4702 1007.41 Q31.4436 1004.67 35.1993 1003.37 Z\" fill=\"#000000\" fill-rule=\"nonzero\" fill-opacity=\"1\" /><path clip-path=\"url(#clip040)\" d=\"M32.4621 933.089 Q32.4621 937.8 36.1542 940.537 Q39.8145 943.274 46.212 943.274 Q52.6095 943.274 56.3017 940.569 Q59.9619 937.832 59.9619 933.089 Q59.9619 928.411 56.2698 925.673 Q52.5777 922.936 46.212 922.936 Q39.8781 922.936 36.186 925.673 Q32.4621 928.411 32.4621 933.089 M27.4968 933.089 Q27.4968 925.45 32.4621 921.09 Q37.4273 916.729 46.212 916.729 Q54.9649 916.729 59.9619 921.09 Q64.9272 925.45 64.9272 933.089 Q64.9272 940.76 59.9619 945.12 Q54.9649 949.449 46.212 949.449 Q37.4273 949.449 32.4621 945.12 Q27.4968 940.76 27.4968 933.089 Z\" fill=\"#000000\" fill-rule=\"nonzero\" fill-opacity=\"1\" /><path clip-path=\"url(#clip040)\" d=\"M14.479 888.975 L19.3487 888.975 L19.3487 894.577 Q19.3487 897.728 20.6219 898.969 Q21.895 900.179 25.2052 900.179 L28.3562 900.179 L28.3562 890.535 L32.9077 890.535 L32.9077 900.179 L64.0042 900.179 L64.0042 906.067 L32.9077 906.067 L32.9077 911.669 L28.3562 911.669 L28.3562 906.067 L25.8736 906.067 Q19.9216 906.067 17.2162 903.298 Q14.479 900.529 14.479 894.513 L14.479 888.975 Z\" fill=\"#000000\" fill-rule=\"nonzero\" fill-opacity=\"1\" /><path clip-path=\"url(#clip040)\" d=\"M42.4881 833.721 L64.0042 833.721 L64.0042 839.577 L42.679 839.577 Q37.6183 839.577 35.1038 841.55 Q32.5894 843.524 32.5894 847.471 Q32.5894 852.213 35.6131 854.95 Q38.6368 857.688 43.8567 857.688 L64.0042 857.688 L64.0042 863.576 L14.479 863.576 L14.479 857.688 L33.8944 857.688 Q30.6797 855.587 29.0883 852.754 Q27.4968 849.89 27.4968 846.166 Q27.4968 840.023 31.3163 836.872 Q35.1038 833.721 42.4881 833.721 Z\" fill=\"#000000\" fill-rule=\"nonzero\" fill-opacity=\"1\" /><path clip-path=\"url(#clip040)\" d=\"M32.4621 808.226 Q32.4621 812.937 36.1542 815.674 Q39.8145 818.411 46.212 818.411 Q52.6095 818.411 56.3017 815.706 Q59.9619 812.968 59.9619 808.226 Q59.9619 803.547 56.2698 800.81 Q52.5777 798.073 46.212 798.073 Q39.8781 798.073 36.186 800.81 Q32.4621 803.547 32.4621 808.226 M27.4968 808.226 Q27.4968 800.587 32.4621 796.227 Q37.4273 791.866 46.212 791.866 Q54.9649 791.866 59.9619 796.227 Q64.9272 800.587 64.9272 808.226 Q64.9272 815.897 59.9619 820.257 Q54.9649 824.586 46.212 824.586 Q37.4273 824.586 32.4621 820.257 Q27.4968 815.897 27.4968 808.226 Z\" fill=\"#000000\" fill-rule=\"nonzero\" fill-opacity=\"1\" /><path clip-path=\"url(#clip040)\" d=\"M58.657 776.493 L77.5631 776.493 L77.5631 782.381 L28.3562 782.381 L28.3562 776.493 L33.7671 776.493 Q30.5842 774.647 29.0564 771.846 Q27.4968 769.013 27.4968 765.098 Q27.4968 758.605 32.6531 754.563 Q37.8093 750.489 46.212 750.489 Q54.6147 750.489 59.771 754.563 Q64.9272 758.605 64.9272 765.098 Q64.9272 769.013 63.3994 771.846 Q61.8398 774.647 58.657 776.493 M46.212 756.568 Q39.7508 756.568 36.0905 759.242 Q32.3984 761.884 32.3984 766.531 Q32.3984 771.178 36.0905 773.851 Q39.7508 776.493 46.212 776.493 Q52.6732 776.493 56.3653 773.851 Q60.0256 771.178 60.0256 766.531 Q60.0256 761.884 56.3653 759.242 Q52.6732 756.568 46.212 756.568 Z\" fill=\"#000000\" fill-rule=\"nonzero\" fill-opacity=\"1\" /><path clip-path=\"url(#clip040)\" d=\"M58.657 735.116 L77.5631 735.116 L77.5631 741.004 L28.3562 741.004 L28.3562 735.116 L33.7671 735.116 Q30.5842 733.27 29.0564 730.469 Q27.4968 727.636 27.4968 723.721 Q27.4968 717.228 32.6531 713.186 Q37.8093 709.112 46.212 709.112 Q54.6147 709.112 59.771 713.186 Q64.9272 717.228 64.9272 723.721 Q64.9272 727.636 63.3994 730.469 Q61.8398 733.27 58.657 735.116 M46.212 715.191 Q39.7508 715.191 36.0905 717.865 Q32.3984 720.507 32.3984 725.153 Q32.3984 729.8 36.0905 732.474 Q39.7508 735.116 46.212 735.116 Q52.6732 735.116 56.3653 732.474 Q60.0256 729.8 60.0256 725.153 Q60.0256 720.507 56.3653 717.865 Q52.6732 715.191 46.212 715.191 Z\" fill=\"#000000\" fill-rule=\"nonzero\" fill-opacity=\"1\" /><path clip-path=\"url(#clip040)\" d=\"M28.3562 699.404 L28.3562 693.548 L64.0042 693.548 L64.0042 699.404 L28.3562 699.404 M14.479 699.404 L14.479 693.548 L21.895 693.548 L21.895 699.404 L14.479 699.404 Z\" fill=\"#000000\" fill-rule=\"nonzero\" fill-opacity=\"1\" /><path clip-path=\"url(#clip040)\" d=\"M42.4881 651.661 L64.0042 651.661 L64.0042 657.518 L42.679 657.518 Q37.6183 657.518 35.1038 659.491 Q32.5894 661.465 32.5894 665.411 Q32.5894 670.154 35.6131 672.891 Q38.6368 675.628 43.8567 675.628 L64.0042 675.628 L64.0042 681.517 L28.3562 681.517 L28.3562 675.628 L33.8944 675.628 Q30.6797 673.528 29.0883 670.695 Q27.4968 667.83 27.4968 664.106 Q27.4968 657.963 31.3163 654.812 Q35.1038 651.661 42.4881 651.661 Z\" fill=\"#000000\" fill-rule=\"nonzero\" fill-opacity=\"1\" /><path clip-path=\"url(#clip040)\" d=\"M45.7664 616.523 Q39.4007 616.523 35.8996 619.164 Q32.3984 621.774 32.3984 626.517 Q32.3984 631.227 35.8996 633.869 Q39.4007 636.479 45.7664 636.479 Q52.1003 636.479 55.6014 633.869 Q59.1026 631.227 59.1026 626.517 Q59.1026 621.774 55.6014 619.164 Q52.1003 616.523 45.7664 616.523 M59.58 610.666 Q68.683 610.666 73.1071 614.708 Q77.5631 618.751 77.5631 627.09 Q77.5631 630.177 77.0857 632.914 Q76.6401 635.652 75.6852 638.23 L69.9879 638.23 Q71.3884 635.652 72.0568 633.137 Q72.7252 630.623 72.7252 628.013 Q72.7252 622.252 69.7015 619.387 Q66.7096 616.523 60.6303 616.523 L57.7339 616.523 Q60.885 618.337 62.4446 621.17 Q64.0042 624.002 64.0042 627.949 Q64.0042 634.506 59.0071 638.516 Q54.01 642.527 45.7664 642.527 Q37.491 642.527 32.4939 638.516 Q27.4968 634.506 27.4968 627.949 Q27.4968 624.002 29.0564 621.17 Q30.616 618.337 33.7671 616.523 L28.3562 616.523 L28.3562 610.666 L59.58 610.666 Z\" fill=\"#000000\" fill-rule=\"nonzero\" fill-opacity=\"1\" /><path clip-path=\"url(#clip040)\" d=\"M46.0847 561.682 Q46.0847 568.78 47.7079 571.517 Q49.3312 574.254 53.2461 574.254 Q56.3653 574.254 58.2114 572.217 Q60.0256 570.149 60.0256 566.616 Q60.0256 561.746 56.5881 558.818 Q53.1188 555.858 47.3897 555.858 L46.0847 555.858 L46.0847 561.682 M43.6657 550.001 L64.0042 550.001 L64.0042 555.858 L58.5933 555.858 Q61.8398 557.863 63.3994 560.855 Q64.9272 563.846 64.9272 568.175 Q64.9272 573.65 61.8716 576.896 Q58.7843 580.111 53.6281 580.111 Q47.6125 580.111 44.5569 576.1 Q41.5014 572.058 41.5014 564.069 L41.5014 555.858 L40.9285 555.858 Q36.8862 555.858 34.6901 558.531 Q32.4621 561.173 32.4621 565.979 Q32.4621 569.035 33.1941 571.931 Q33.9262 574.827 35.3903 577.501 L29.9795 577.501 Q28.7381 574.286 28.1334 571.263 Q27.4968 568.239 27.4968 565.374 Q27.4968 557.64 31.5072 553.821 Q35.5176 550.001 43.6657 550.001 Z\" fill=\"#000000\" fill-rule=\"nonzero\" fill-opacity=\"1\" /><path clip-path=\"url(#clip040)\" d=\"M35.1993 510.184 Q31.2526 507.987 29.3747 504.932 Q27.4968 501.876 27.4968 497.739 Q27.4968 492.169 31.4117 489.145 Q35.2948 486.121 42.4881 486.121 L64.0042 486.121 L64.0042 492.009 L42.679 492.009 Q37.5546 492.009 35.072 493.824 Q32.5894 495.638 32.5894 499.362 Q32.5894 503.913 35.6131 506.555 Q38.6368 509.197 43.8567 509.197 L64.0042 509.197 L64.0042 515.085 L42.679 515.085 Q37.5228 515.085 35.072 516.899 Q32.5894 518.714 32.5894 522.501 Q32.5894 526.989 35.6449 529.631 Q38.6686 532.273 43.8567 532.273 L64.0042 532.273 L64.0042 538.161 L28.3562 538.161 L28.3562 532.273 L33.8944 532.273 Q30.616 530.267 29.0564 527.466 Q27.4968 524.666 27.4968 520.814 Q27.4968 516.931 29.4702 514.226 Q31.4436 511.489 35.1993 510.184 Z\" fill=\"#000000\" fill-rule=\"nonzero\" fill-opacity=\"1\" /><path clip-path=\"url(#clip040)\" d=\"M58.657 468.775 L77.5631 468.775 L77.5631 474.663 L28.3562 474.663 L28.3562 468.775 L33.7671 468.775 Q30.5842 466.929 29.0564 464.128 Q27.4968 461.295 27.4968 457.38 Q27.4968 450.887 32.6531 446.845 Q37.8093 442.771 46.212 442.771 Q54.6147 442.771 59.771 446.845 Q64.9272 450.887 64.9272 457.38 Q64.9272 461.295 63.3994 464.128 Q61.8398 466.929 58.657 468.775 M46.212 448.85 Q39.7508 448.85 36.0905 451.524 Q32.3984 454.165 32.3984 458.812 Q32.3984 463.459 36.0905 466.133 Q39.7508 468.775 46.212 468.775 Q52.6732 468.775 56.3653 466.133 Q60.0256 463.459 60.0256 458.812 Q60.0256 454.165 56.3653 451.524 Q52.6732 448.85 46.212 448.85 Z\" fill=\"#000000\" fill-rule=\"nonzero\" fill-opacity=\"1\" /><path clip-path=\"url(#clip040)\" d=\"M14.479 433.063 L14.479 427.207 L64.0042 427.207 L64.0042 433.063 L14.479 433.063 Z\" fill=\"#000000\" fill-rule=\"nonzero\" fill-opacity=\"1\" /><path clip-path=\"url(#clip040)\" d=\"M28.3562 414.953 L28.3562 409.096 L64.0042 409.096 L64.0042 414.953 L28.3562 414.953 M14.479 414.953 L14.479 409.096 L21.895 409.096 L21.895 414.953 L14.479 414.953 Z\" fill=\"#000000\" fill-rule=\"nonzero\" fill-opacity=\"1\" /><path clip-path=\"url(#clip040)\" d=\"M18.2347 391.049 L28.3562 391.049 L28.3562 378.986 L32.9077 378.986 L32.9077 391.049 L52.2594 391.049 Q56.6199 391.049 57.8613 389.872 Q59.1026 388.662 59.1026 385.002 L59.1026 378.986 L64.0042 378.986 L64.0042 385.002 Q64.0042 391.781 61.4897 394.36 Q58.9434 396.938 52.2594 396.938 L32.9077 396.938 L32.9077 401.235 L28.3562 401.235 L28.3562 396.938 L18.2347 396.938 L18.2347 391.049 Z\" fill=\"#000000\" fill-rule=\"nonzero\" fill-opacity=\"1\" /><path clip-path=\"url(#clip040)\" d=\"M49.9359 371.889 L28.3562 371.889 L28.3562 366.032 L49.7131 366.032 Q54.7739 366.032 57.3202 364.059 Q59.8346 362.085 59.8346 358.139 Q59.8346 353.396 56.8109 350.659 Q53.7872 347.89 48.5673 347.89 L28.3562 347.89 L28.3562 342.033 L64.0042 342.033 L64.0042 347.89 L58.5296 347.89 Q61.7762 350.022 63.3676 352.855 Q64.9272 355.656 64.9272 359.38 Q64.9272 365.523 61.1078 368.706 Q57.2883 371.889 49.9359 371.889 M27.4968 357.152 L27.4968 357.152 Z\" fill=\"#000000\" fill-rule=\"nonzero\" fill-opacity=\"1\" /><path clip-path=\"url(#clip040)\" d=\"M33.7671 306.513 L14.479 306.513 L14.479 300.656 L64.0042 300.656 L64.0042 306.513 L58.657 306.513 Q61.8398 308.359 63.3994 311.192 Q64.9272 313.993 64.9272 317.939 Q64.9272 324.4 59.771 328.474 Q54.6147 332.517 46.212 332.517 Q37.8093 332.517 32.6531 328.474 Q27.4968 324.4 27.4968 317.939 Q27.4968 313.993 29.0564 311.192 Q30.5842 308.359 33.7671 306.513 M46.212 326.469 Q52.6732 326.469 56.3653 323.828 Q60.0256 321.154 60.0256 316.507 Q60.0256 311.86 56.3653 309.186 Q52.6732 306.513 46.212 306.513 Q39.7508 306.513 36.0905 309.186 Q32.3984 311.86 32.3984 316.507 Q32.3984 321.154 36.0905 323.828 Q39.7508 326.469 46.212 326.469 Z\" fill=\"#000000\" fill-rule=\"nonzero\" fill-opacity=\"1\" /><path clip-path=\"url(#clip040)\" d=\"M44.7161 258.102 L47.5806 258.102 L47.5806 285.029 Q53.6281 284.647 56.8109 281.4 Q59.9619 278.122 59.9619 272.297 Q59.9619 268.923 59.1344 265.772 Q58.3069 262.589 56.6518 259.47 L62.1899 259.47 Q63.5267 262.621 64.227 265.931 Q64.9272 269.242 64.9272 272.647 Q64.9272 281.177 59.9619 286.174 Q54.9967 291.14 46.5303 291.14 Q37.7774 291.14 32.6531 286.429 Q27.4968 281.687 27.4968 273.666 Q27.4968 266.473 32.1438 262.303 Q36.7589 258.102 44.7161 258.102 M42.9973 263.958 Q38.1912 264.022 35.3266 266.663 Q32.4621 269.273 32.4621 273.602 Q32.4621 278.504 35.2312 281.464 Q38.0002 284.392 43.0292 284.838 L42.9973 263.958 Z\" fill=\"#000000\" fill-rule=\"nonzero\" fill-opacity=\"1\" /><path clip-path=\"url(#clip040)\" d=\"M1061.39 12.096 L1069.57 12.096 L1069.57 68.3631 Q1069.57 79.3005 1065.4 84.2426 Q1061.27 89.1847 1052.07 89.1847 L1048.95 89.1847 L1048.95 82.2982 L1051.5 82.2982 Q1056.93 82.2982 1059.16 79.26 Q1061.39 76.2218 1061.39 68.3631 L1061.39 12.096 Z\" fill=\"#000000\" fill-rule=\"nonzero\" fill-opacity=\"1\" /><path clip-path=\"url(#clip040)\" d=\"M1086.5 34.9026 L1138.44 34.9026 L1138.44 41.7081 L1086.5 41.7081 L1086.5 34.9026 M1086.5 51.4303 L1138.44 51.4303 L1138.44 58.3168 L1086.5 58.3168 L1086.5 51.4303 Z\" fill=\"#000000\" fill-rule=\"nonzero\" fill-opacity=\"1\" /><path clip-path=\"url(#clip040)\" d=\"M1173.6 17.4837 Q1167.28 17.4837 1164.08 23.7221 Q1160.92 29.92 1160.92 42.3968 Q1160.92 54.833 1164.08 61.0714 Q1167.28 67.2693 1173.6 67.2693 Q1179.96 67.2693 1183.12 61.0714 Q1186.32 54.833 1186.32 42.3968 Q1186.32 29.92 1183.12 23.7221 Q1179.96 17.4837 1173.6 17.4837 M1173.6 11.0023 Q1183.77 11.0023 1189.11 19.0636 Q1194.5 27.0843 1194.5 42.3968 Q1194.5 57.6687 1189.11 65.73 Q1183.77 73.7508 1173.6 73.7508 Q1163.43 73.7508 1158.04 65.73 Q1152.69 57.6687 1152.69 42.3968 Q1152.69 27.0843 1158.04 19.0636 Q1163.43 11.0023 1173.6 11.0023 Z\" fill=\"#000000\" fill-rule=\"nonzero\" fill-opacity=\"1\" /><path clip-path=\"url(#clip040)\" d=\"M1208.88 62.2867 L1217.43 62.2867 L1217.43 72.576 L1208.88 72.576 L1208.88 62.2867 Z\" fill=\"#000000\" fill-rule=\"nonzero\" fill-opacity=\"1\" /><path clip-path=\"url(#clip040)\" d=\"M1235.33 12.096 L1267.46 12.096 L1267.46 18.9825 L1242.83 18.9825 L1242.83 33.8088 Q1244.61 33.2012 1246.39 32.9176 Q1248.17 32.5936 1249.96 32.5936 Q1260.08 32.5936 1266 38.1433 Q1271.91 43.6931 1271.91 53.1722 Q1271.91 62.9348 1265.84 68.3631 Q1259.76 73.7508 1248.7 73.7508 Q1244.89 73.7508 1240.92 73.1026 Q1236.99 72.4545 1232.78 71.1582 L1232.78 62.9348 Q1236.43 64.9198 1240.32 65.892 Q1244.2 66.8642 1248.54 66.8642 Q1255.55 66.8642 1259.64 63.1779 Q1263.73 59.4916 1263.73 53.1722 Q1263.73 46.8528 1259.64 43.1664 Q1255.55 39.4801 1248.54 39.4801 Q1245.26 39.4801 1241.98 40.2093 Q1238.74 40.9384 1235.33 42.4778 L1235.33 12.096 Z\" fill=\"#000000\" fill-rule=\"nonzero\" fill-opacity=\"1\" /><path clip-path=\"url(#clip040)\" d=\"M1288.89 62.2867 L1297.43 62.2867 L1297.43 69.2543 L1290.79 82.2172 L1285.56 82.2172 L1288.89 69.2543 L1288.89 62.2867 Z\" fill=\"#000000\" fill-rule=\"nonzero\" fill-opacity=\"1\" /><path clip-path=\"url(#clip040)\" d=\"M1334.66 12.096 L1342.93 12.096 L1355.65 63.2184 L1368.32 12.096 L1377.52 12.096 L1390.24 63.2184 L1402.92 12.096 L1411.22 12.096 L1396.03 72.576 L1385.74 72.576 L1372.98 20.0763 L1360.1 72.576 L1349.81 72.576 L1334.66 12.096 Z\" fill=\"#000000\" fill-rule=\"nonzero\" fill-opacity=\"1\" /><path clip-path=\"url(#clip040)\" d=\"M1422.73 34.9026 L1474.66 34.9026 L1474.66 41.7081 L1422.73 41.7081 L1422.73 34.9026 M1422.73 51.4303 L1474.66 51.4303 L1474.66 58.3168 L1422.73 58.3168 L1422.73 51.4303 Z\" fill=\"#000000\" fill-rule=\"nonzero\" fill-opacity=\"1\" /><path clip-path=\"url(#clip040)\" d=\"M1493.74 65.6895 L1507.11 65.6895 L1507.11 19.5497 L1492.57 22.4663 L1492.57 15.0127 L1507.03 12.096 L1515.21 12.096 L1515.21 65.6895 L1528.58 65.6895 L1528.58 72.576 L1493.74 72.576 L1493.74 65.6895 Z\" fill=\"#000000\" fill-rule=\"nonzero\" fill-opacity=\"1\" /><path clip-path=\"url(#clip040)\" d=\"M1562.61 17.4837 Q1556.29 17.4837 1553.09 23.7221 Q1549.93 29.92 1549.93 42.3968 Q1549.93 54.833 1553.09 61.0714 Q1556.29 67.2693 1562.61 67.2693 Q1568.97 67.2693 1572.13 61.0714 Q1575.33 54.833 1575.33 42.3968 Q1575.33 29.92 1572.13 23.7221 Q1568.97 17.4837 1562.61 17.4837 M1562.61 11.0023 Q1572.77 11.0023 1578.12 19.0636 Q1583.51 27.0843 1583.51 42.3968 Q1583.51 57.6687 1578.12 65.73 Q1572.77 73.7508 1562.61 73.7508 Q1552.44 73.7508 1547.05 65.73 Q1541.7 57.6687 1541.7 42.3968 Q1541.7 27.0843 1547.05 19.0636 Q1552.44 11.0023 1562.61 11.0023 Z\" fill=\"#000000\" fill-rule=\"nonzero\" fill-opacity=\"1\" /><polyline clip-path=\"url(#clip042)\" style=\"stroke:#009af9; stroke-linecap:round; stroke-linejoin:round; stroke-width:8; stroke-opacity:1; fill:none\" points=\"338.375,989.084 729.517,580.621 1120.66,160.256 1511.8,1386.4 1902.94,577.912 2294.08,1099.9 \"/>\n",
       "<path clip-path=\"url(#clip040)\" d=\"M2023.92 270.476 L2283.65 270.476 L2283.65 166.796 L2023.92 166.796  Z\" fill=\"#ffffff\" fill-rule=\"evenodd\" fill-opacity=\"1\"/>\n",
       "<polyline clip-path=\"url(#clip040)\" style=\"stroke:#000000; stroke-linecap:round; stroke-linejoin:round; stroke-width:4; stroke-opacity:1; fill:none\" points=\"2023.92,270.476 2283.65,270.476 2283.65,166.796 2023.92,166.796 2023.92,270.476 \"/>\n",
       "<polyline clip-path=\"url(#clip040)\" style=\"stroke:#009af9; stroke-linecap:round; stroke-linejoin:round; stroke-width:8; stroke-opacity:1; fill:none\" points=\"2046.95,218.636 2185.16,218.636 \"/>\n",
       "<path clip-path=\"url(#clip040)\" d=\"M2222.03 238.323 Q2220.23 242.953 2218.51 244.365 Q2216.8 245.777 2213.93 245.777 L2210.53 245.777 L2210.53 242.212 L2213.03 242.212 Q2214.79 242.212 2215.76 241.379 Q2216.73 240.545 2217.91 237.443 L2218.68 235.499 L2208.19 209.99 L2212.7 209.99 L2220.81 230.268 L2228.91 209.99 L2233.42 209.99 L2222.03 238.323 Z\" fill=\"#000000\" fill-rule=\"nonzero\" fill-opacity=\"1\" /><path clip-path=\"url(#clip040)\" d=\"M2240.71 231.981 L2248.35 231.981 L2248.35 205.615 L2240.04 207.282 L2240.04 203.022 L2248.31 201.356 L2252.98 201.356 L2252.98 231.981 L2260.62 231.981 L2260.62 235.916 L2240.71 235.916 L2240.71 231.981 Z\" fill=\"#000000\" fill-rule=\"nonzero\" fill-opacity=\"1\" /></svg>\n"
      ],
      "text/html": [
       "<?xml version=\"1.0\" encoding=\"utf-8\"?>\n",
       "<svg xmlns=\"http://www.w3.org/2000/svg\" xmlns:xlink=\"http://www.w3.org/1999/xlink\" width=\"600\" height=\"400\" viewBox=\"0 0 2400 1600\">\n",
       "<defs>\n",
       "  <clipPath id=\"clip090\">\n",
       "    <rect x=\"0\" y=\"0\" width=\"2400\" height=\"1600\"/>\n",
       "  </clipPath>\n",
       "</defs>\n",
       "<path clip-path=\"url(#clip090)\" d=\"M0 1600 L2400 1600 L2400 8.88178e-14 L0 8.88178e-14  Z\" fill=\"#ffffff\" fill-rule=\"evenodd\" fill-opacity=\"1\"/>\n",
       "<defs>\n",
       "  <clipPath id=\"clip091\">\n",
       "    <rect x=\"480\" y=\"0\" width=\"1681\" height=\"1600\"/>\n",
       "  </clipPath>\n",
       "</defs>\n",
       "<path clip-path=\"url(#clip090)\" d=\"M279.704 1423.18 L2352.76 1423.18 L2352.76 123.472 L279.704 123.472  Z\" fill=\"#ffffff\" fill-rule=\"evenodd\" fill-opacity=\"1\"/>\n",
       "<defs>\n",
       "  <clipPath id=\"clip092\">\n",
       "    <rect x=\"279\" y=\"123\" width=\"2074\" height=\"1301\"/>\n",
       "  </clipPath>\n",
       "</defs>\n",
       "<polyline clip-path=\"url(#clip092)\" style=\"stroke:#000000; stroke-linecap:round; stroke-linejoin:round; stroke-width:2; stroke-opacity:0.1; fill:none\" points=\"338.375,1423.18 338.375,123.472 \"/>\n",
       "<polyline clip-path=\"url(#clip092)\" style=\"stroke:#000000; stroke-linecap:round; stroke-linejoin:round; stroke-width:2; stroke-opacity:0.1; fill:none\" points=\"729.517,1423.18 729.517,123.472 \"/>\n",
       "<polyline clip-path=\"url(#clip092)\" style=\"stroke:#000000; stroke-linecap:round; stroke-linejoin:round; stroke-width:2; stroke-opacity:0.1; fill:none\" points=\"1120.66,1423.18 1120.66,123.472 \"/>\n",
       "<polyline clip-path=\"url(#clip092)\" style=\"stroke:#000000; stroke-linecap:round; stroke-linejoin:round; stroke-width:2; stroke-opacity:0.1; fill:none\" points=\"1511.8,1423.18 1511.8,123.472 \"/>\n",
       "<polyline clip-path=\"url(#clip092)\" style=\"stroke:#000000; stroke-linecap:round; stroke-linejoin:round; stroke-width:2; stroke-opacity:0.1; fill:none\" points=\"1902.94,1423.18 1902.94,123.472 \"/>\n",
       "<polyline clip-path=\"url(#clip092)\" style=\"stroke:#000000; stroke-linecap:round; stroke-linejoin:round; stroke-width:2; stroke-opacity:0.1; fill:none\" points=\"2294.08,1423.18 2294.08,123.472 \"/>\n",
       "<polyline clip-path=\"url(#clip090)\" style=\"stroke:#000000; stroke-linecap:round; stroke-linejoin:round; stroke-width:4; stroke-opacity:1; fill:none\" points=\"279.704,1423.18 2352.76,1423.18 \"/>\n",
       "<polyline clip-path=\"url(#clip090)\" style=\"stroke:#000000; stroke-linecap:round; stroke-linejoin:round; stroke-width:4; stroke-opacity:1; fill:none\" points=\"338.375,1423.18 338.375,1404.28 \"/>\n",
       "<polyline clip-path=\"url(#clip090)\" style=\"stroke:#000000; stroke-linecap:round; stroke-linejoin:round; stroke-width:4; stroke-opacity:1; fill:none\" points=\"729.517,1423.18 729.517,1404.28 \"/>\n",
       "<polyline clip-path=\"url(#clip090)\" style=\"stroke:#000000; stroke-linecap:round; stroke-linejoin:round; stroke-width:4; stroke-opacity:1; fill:none\" points=\"1120.66,1423.18 1120.66,1404.28 \"/>\n",
       "<polyline clip-path=\"url(#clip090)\" style=\"stroke:#000000; stroke-linecap:round; stroke-linejoin:round; stroke-width:4; stroke-opacity:1; fill:none\" points=\"1511.8,1423.18 1511.8,1404.28 \"/>\n",
       "<polyline clip-path=\"url(#clip090)\" style=\"stroke:#000000; stroke-linecap:round; stroke-linejoin:round; stroke-width:4; stroke-opacity:1; fill:none\" points=\"1902.94,1423.18 1902.94,1404.28 \"/>\n",
       "<polyline clip-path=\"url(#clip090)\" style=\"stroke:#000000; stroke-linecap:round; stroke-linejoin:round; stroke-width:4; stroke-opacity:1; fill:none\" points=\"2294.08,1423.18 2294.08,1404.28 \"/>\n",
       "<path clip-path=\"url(#clip090)\" d=\"M328.757 1481.64 L336.396 1481.64 L336.396 1455.28 L328.086 1456.95 L328.086 1452.69 L336.35 1451.02 L341.026 1451.02 L341.026 1481.64 L348.664 1481.64 L348.664 1485.58 L328.757 1485.58 L328.757 1481.64 Z\" fill=\"#000000\" fill-rule=\"nonzero\" fill-opacity=\"1\" /><path clip-path=\"url(#clip090)\" d=\"M724.17 1481.64 L740.489 1481.64 L740.489 1485.58 L718.545 1485.58 L718.545 1481.64 Q721.207 1478.89 725.79 1474.26 Q730.397 1469.61 731.577 1468.27 Q733.823 1465.74 734.702 1464.01 Q735.605 1462.25 735.605 1460.56 Q735.605 1457.8 733.661 1456.07 Q731.739 1454.33 728.637 1454.33 Q726.438 1454.33 723.985 1455.09 Q721.554 1455.86 718.776 1457.41 L718.776 1452.69 Q721.6 1451.55 724.054 1450.97 Q726.508 1450.39 728.545 1450.39 Q733.915 1450.39 737.11 1453.08 Q740.304 1455.77 740.304 1460.26 Q740.304 1462.39 739.494 1464.31 Q738.707 1466.2 736.6 1468.8 Q736.022 1469.47 732.92 1472.69 Q729.818 1475.88 724.17 1481.64 Z\" fill=\"#000000\" fill-rule=\"nonzero\" fill-opacity=\"1\" /><path clip-path=\"url(#clip090)\" d=\"M1124.91 1466.95 Q1128.26 1467.66 1130.14 1469.93 Q1132.04 1472.2 1132.04 1475.53 Q1132.04 1480.65 1128.52 1483.45 Q1125 1486.25 1118.52 1486.25 Q1116.34 1486.25 1114.03 1485.81 Q1111.74 1485.39 1109.28 1484.54 L1109.28 1480.02 Q1111.23 1481.16 1113.54 1481.74 Q1115.86 1482.32 1118.38 1482.32 Q1122.78 1482.32 1125.07 1480.58 Q1127.38 1478.84 1127.38 1475.53 Q1127.38 1472.48 1125.23 1470.77 Q1123.1 1469.03 1119.28 1469.03 L1115.25 1469.03 L1115.25 1465.19 L1119.47 1465.19 Q1122.92 1465.19 1124.74 1463.82 Q1126.57 1462.43 1126.57 1459.84 Q1126.57 1457.18 1124.68 1455.77 Q1122.8 1454.33 1119.28 1454.33 Q1117.36 1454.33 1115.16 1454.75 Q1112.96 1455.16 1110.32 1456.04 L1110.32 1451.88 Q1112.99 1451.14 1115.3 1450.77 Q1117.64 1450.39 1119.7 1450.39 Q1125.02 1450.39 1128.12 1452.83 Q1131.23 1455.23 1131.23 1459.35 Q1131.23 1462.22 1129.58 1464.21 Q1127.94 1466.18 1124.91 1466.95 Z\" fill=\"#000000\" fill-rule=\"nonzero\" fill-opacity=\"1\" /><path clip-path=\"url(#clip090)\" d=\"M1514.81 1455.09 L1503 1473.54 L1514.81 1473.54 L1514.81 1455.09 M1513.58 1451.02 L1519.46 1451.02 L1519.46 1473.54 L1524.39 1473.54 L1524.39 1477.43 L1519.46 1477.43 L1519.46 1485.58 L1514.81 1485.58 L1514.81 1477.43 L1499.21 1477.43 L1499.21 1472.92 L1513.58 1451.02 Z\" fill=\"#000000\" fill-rule=\"nonzero\" fill-opacity=\"1\" /><path clip-path=\"url(#clip090)\" d=\"M1893.22 1451.02 L1911.58 1451.02 L1911.58 1454.96 L1897.5 1454.96 L1897.5 1463.43 Q1898.52 1463.08 1899.54 1462.92 Q1900.56 1462.73 1901.58 1462.73 Q1907.36 1462.73 1910.74 1465.9 Q1914.12 1469.08 1914.12 1474.49 Q1914.12 1480.07 1910.65 1483.17 Q1907.18 1486.25 1900.86 1486.25 Q1898.68 1486.25 1896.41 1485.88 Q1894.17 1485.51 1891.76 1484.77 L1891.76 1480.07 Q1893.85 1481.2 1896.07 1481.76 Q1898.29 1482.32 1900.77 1482.32 Q1904.77 1482.32 1907.11 1480.21 Q1909.45 1478.1 1909.45 1474.49 Q1909.45 1470.88 1907.11 1468.77 Q1904.77 1466.67 1900.77 1466.67 Q1898.89 1466.67 1897.02 1467.08 Q1895.17 1467.5 1893.22 1468.38 L1893.22 1451.02 Z\" fill=\"#000000\" fill-rule=\"nonzero\" fill-opacity=\"1\" /><path clip-path=\"url(#clip090)\" d=\"M2294.49 1466.44 Q2291.34 1466.44 2289.49 1468.59 Q2287.66 1470.74 2287.66 1474.49 Q2287.66 1478.22 2289.49 1480.39 Q2291.34 1482.55 2294.49 1482.55 Q2297.64 1482.55 2299.47 1480.39 Q2301.32 1478.22 2301.32 1474.49 Q2301.32 1470.74 2299.47 1468.59 Q2297.64 1466.44 2294.49 1466.44 M2303.77 1451.78 L2303.77 1456.04 Q2302.01 1455.21 2300.21 1454.77 Q2298.42 1454.33 2296.67 1454.33 Q2292.04 1454.33 2289.58 1457.45 Q2287.15 1460.58 2286.8 1466.9 Q2288.17 1464.89 2290.23 1463.82 Q2292.29 1462.73 2294.77 1462.73 Q2299.98 1462.73 2302.99 1465.9 Q2306.02 1469.05 2306.02 1474.49 Q2306.02 1479.82 2302.87 1483.03 Q2299.72 1486.25 2294.49 1486.25 Q2288.49 1486.25 2285.32 1481.67 Q2282.15 1477.06 2282.15 1468.33 Q2282.15 1460.14 2286.04 1455.28 Q2289.93 1450.39 2296.48 1450.39 Q2298.24 1450.39 2300.02 1450.74 Q2301.83 1451.09 2303.77 1451.78 Z\" fill=\"#000000\" fill-rule=\"nonzero\" fill-opacity=\"1\" /><path clip-path=\"url(#clip090)\" d=\"M1085.98 1525.81 L1085.98 1562.76 L1093.75 1562.76 Q1103.58 1562.76 1108.13 1558.3 Q1112.72 1553.85 1112.72 1544.24 Q1112.72 1534.69 1108.13 1530.26 Q1103.58 1525.81 1093.75 1525.81 L1085.98 1525.81 M1079.55 1520.52 L1092.76 1520.52 Q1106.58 1520.52 1113.04 1526.28 Q1119.5 1532.01 1119.5 1544.24 Q1119.5 1556.52 1113 1562.28 Q1106.51 1568.04 1092.76 1568.04 L1079.55 1568.04 L1079.55 1520.52 Z\" fill=\"#000000\" fill-rule=\"nonzero\" fill-opacity=\"1\" /><path clip-path=\"url(#clip090)\" d=\"M1129.49 1532.4 L1135.35 1532.4 L1135.35 1568.04 L1129.49 1568.04 L1129.49 1532.4 M1129.49 1518.52 L1135.35 1518.52 L1135.35 1525.93 L1129.49 1525.93 L1129.49 1518.52 Z\" fill=\"#000000\" fill-rule=\"nonzero\" fill-opacity=\"1\" /><path clip-path=\"url(#clip090)\" d=\"M1170.33 1533.45 L1170.33 1538.98 Q1167.85 1537.71 1165.17 1537.07 Q1162.5 1536.44 1159.63 1536.44 Q1155.27 1536.44 1153.08 1537.77 Q1150.91 1539.11 1150.91 1541.79 Q1150.91 1543.82 1152.47 1545 Q1154.03 1546.15 1158.74 1547.2 L1160.75 1547.64 Q1166.99 1548.98 1169.6 1551.43 Q1172.24 1553.85 1172.24 1558.21 Q1172.24 1563.17 1168.29 1566.07 Q1164.38 1568.97 1157.5 1568.97 Q1154.64 1568.97 1151.52 1568.39 Q1148.43 1567.85 1144.99 1566.74 L1144.99 1560.69 Q1148.24 1562.38 1151.39 1563.24 Q1154.54 1564.07 1157.63 1564.07 Q1161.77 1564.07 1163.99 1562.66 Q1166.22 1561.23 1166.22 1558.65 Q1166.22 1556.27 1164.6 1554.99 Q1163.01 1553.72 1157.56 1552.54 L1155.53 1552.07 Q1150.08 1550.92 1147.67 1548.56 Q1145.25 1546.18 1145.25 1542.04 Q1145.25 1537.01 1148.81 1534.27 Q1152.38 1531.54 1158.93 1531.54 Q1162.18 1531.54 1165.04 1532.01 Q1167.91 1532.49 1170.33 1533.45 Z\" fill=\"#000000\" fill-rule=\"nonzero\" fill-opacity=\"1\" /><path clip-path=\"url(#clip090)\" d=\"M1187.36 1522.27 L1187.36 1532.4 L1199.42 1532.4 L1199.42 1536.95 L1187.36 1536.95 L1187.36 1556.3 Q1187.36 1560.66 1188.53 1561.9 Q1189.74 1563.14 1193.4 1563.14 L1199.42 1563.14 L1199.42 1568.04 L1193.4 1568.04 Q1186.62 1568.04 1184.05 1565.53 Q1181.47 1562.98 1181.47 1556.3 L1181.47 1536.95 L1177.17 1536.95 L1177.17 1532.4 L1181.47 1532.4 L1181.47 1522.27 L1187.36 1522.27 Z\" fill=\"#000000\" fill-rule=\"nonzero\" fill-opacity=\"1\" /><path clip-path=\"url(#clip090)\" d=\"M1223.32 1550.12 Q1216.22 1550.12 1213.49 1551.75 Q1210.75 1553.37 1210.75 1557.29 Q1210.75 1560.4 1212.79 1562.25 Q1214.86 1564.07 1218.39 1564.07 Q1223.26 1564.07 1226.19 1560.63 Q1229.15 1557.16 1229.15 1551.43 L1229.15 1550.12 L1223.32 1550.12 M1235 1547.71 L1235 1568.04 L1229.15 1568.04 L1229.15 1562.63 Q1227.14 1565.88 1224.15 1567.44 Q1221.16 1568.97 1216.83 1568.97 Q1211.35 1568.97 1208.11 1565.91 Q1204.89 1562.82 1204.89 1557.67 Q1204.89 1551.65 1208.9 1548.6 Q1212.95 1545.54 1220.94 1545.54 L1229.15 1545.54 L1229.15 1544.97 Q1229.15 1540.93 1226.47 1538.73 Q1223.83 1536.5 1219.03 1536.5 Q1215.97 1536.5 1213.07 1537.23 Q1210.18 1537.97 1207.5 1539.43 L1207.5 1534.02 Q1210.72 1532.78 1213.74 1532.17 Q1216.77 1531.54 1219.63 1531.54 Q1227.36 1531.54 1231.18 1535.55 Q1235 1539.56 1235 1547.71 Z\" fill=\"#000000\" fill-rule=\"nonzero\" fill-opacity=\"1\" /><path clip-path=\"url(#clip090)\" d=\"M1276.7 1546.53 L1276.7 1568.04 L1270.84 1568.04 L1270.84 1546.72 Q1270.84 1541.66 1268.87 1539.14 Q1266.9 1536.63 1262.95 1536.63 Q1258.21 1536.63 1255.47 1539.65 Q1252.73 1542.68 1252.73 1547.9 L1252.73 1568.04 L1246.84 1568.04 L1246.84 1532.4 L1252.73 1532.4 L1252.73 1537.93 Q1254.83 1534.72 1257.67 1533.13 Q1260.53 1531.54 1264.25 1531.54 Q1270.4 1531.54 1273.55 1535.36 Q1276.7 1539.14 1276.7 1546.53 Z\" fill=\"#000000\" fill-rule=\"nonzero\" fill-opacity=\"1\" /><path clip-path=\"url(#clip090)\" d=\"M1314.03 1533.76 L1314.03 1539.24 Q1311.55 1537.87 1309.04 1537.2 Q1306.55 1536.5 1304.01 1536.5 Q1298.31 1536.5 1295.16 1540.13 Q1292.01 1543.73 1292.01 1550.25 Q1292.01 1556.78 1295.16 1560.4 Q1298.31 1564 1304.01 1564 Q1306.55 1564 1309.04 1563.33 Q1311.55 1562.63 1314.03 1561.26 L1314.03 1566.68 Q1311.58 1567.82 1308.94 1568.39 Q1306.33 1568.97 1303.37 1568.97 Q1295.32 1568.97 1290.58 1563.91 Q1285.83 1558.85 1285.83 1550.25 Q1285.83 1541.53 1290.61 1536.53 Q1295.41 1531.54 1303.75 1531.54 Q1306.46 1531.54 1309.04 1532.11 Q1311.61 1532.65 1314.03 1533.76 Z\" fill=\"#000000\" fill-rule=\"nonzero\" fill-opacity=\"1\" /><path clip-path=\"url(#clip090)\" d=\"M1354.71 1548.76 L1354.71 1551.62 L1327.78 1551.62 Q1328.17 1557.67 1331.41 1560.85 Q1334.69 1564 1340.52 1564 Q1343.89 1564 1347.04 1563.17 Q1350.22 1562.35 1353.34 1560.69 L1353.34 1566.23 Q1350.19 1567.57 1346.88 1568.27 Q1343.57 1568.97 1340.16 1568.97 Q1331.63 1568.97 1326.64 1564 Q1321.67 1559.04 1321.67 1550.57 Q1321.67 1541.82 1326.38 1536.69 Q1331.13 1531.54 1339.15 1531.54 Q1346.34 1531.54 1350.51 1536.18 Q1354.71 1540.8 1354.71 1548.76 M1348.85 1547.04 Q1348.79 1542.23 1346.15 1539.37 Q1343.54 1536.5 1339.21 1536.5 Q1334.31 1536.5 1331.35 1539.27 Q1328.42 1542.04 1327.97 1547.07 L1348.85 1547.04 Z\" fill=\"#000000\" fill-rule=\"nonzero\" fill-opacity=\"1\" /><path clip-path=\"url(#clip090)\" d=\"M1390.84 1522.27 L1390.84 1532.4 L1402.9 1532.4 L1402.9 1536.95 L1390.84 1536.95 L1390.84 1556.3 Q1390.84 1560.66 1392.01 1561.9 Q1393.22 1563.14 1396.88 1563.14 L1402.9 1563.14 L1402.9 1568.04 L1396.88 1568.04 Q1390.1 1568.04 1387.53 1565.53 Q1384.95 1562.98 1384.95 1556.3 L1384.95 1536.95 L1380.65 1536.95 L1380.65 1532.4 L1384.95 1532.4 L1384.95 1522.27 L1390.84 1522.27 Z\" fill=\"#000000\" fill-rule=\"nonzero\" fill-opacity=\"1\" /><path clip-path=\"url(#clip090)\" d=\"M1424.42 1536.5 Q1419.7 1536.5 1416.97 1540.19 Q1414.23 1543.85 1414.23 1550.25 Q1414.23 1556.65 1416.94 1560.34 Q1419.67 1564 1424.42 1564 Q1429.09 1564 1431.83 1560.31 Q1434.57 1556.62 1434.57 1550.25 Q1434.57 1543.92 1431.83 1540.23 Q1429.09 1536.5 1424.42 1536.5 M1424.42 1531.54 Q1432.05 1531.54 1436.41 1536.5 Q1440.77 1541.47 1440.77 1550.25 Q1440.77 1559 1436.41 1564 Q1432.05 1568.97 1424.42 1568.97 Q1416.74 1568.97 1412.38 1564 Q1408.06 1559 1408.06 1550.25 Q1408.06 1541.47 1412.38 1536.5 Q1416.74 1531.54 1424.42 1531.54 Z\" fill=\"#000000\" fill-rule=\"nonzero\" fill-opacity=\"1\" /><path clip-path=\"url(#clip090)\" d=\"M1471.2 1532.4 L1477.06 1532.4 L1477.06 1568.04 L1471.2 1568.04 L1471.2 1532.4 M1471.2 1518.52 L1477.06 1518.52 L1477.06 1525.93 L1471.2 1525.93 L1471.2 1518.52 Z\" fill=\"#000000\" fill-rule=\"nonzero\" fill-opacity=\"1\" /><path clip-path=\"url(#clip090)\" d=\"M1516.4 1578.87 L1516.4 1583.42 L1482.53 1583.42 L1482.53 1578.87 L1516.4 1578.87 Z\" fill=\"#000000\" fill-rule=\"nonzero\" fill-opacity=\"1\" /><path clip-path=\"url(#clip090)\" d=\"M1536.48 1524.76 Q1531.52 1524.76 1529 1529.66 Q1526.52 1534.53 1526.52 1544.33 Q1526.52 1554.1 1529 1559 Q1531.52 1563.87 1536.48 1563.87 Q1541.48 1563.87 1543.96 1559 Q1546.48 1554.1 1546.48 1544.33 Q1546.48 1534.53 1543.96 1529.66 Q1541.48 1524.76 1536.48 1524.76 M1536.48 1519.66 Q1544.47 1519.66 1548.67 1526 Q1552.91 1532.3 1552.91 1544.33 Q1552.91 1556.33 1548.67 1562.66 Q1544.47 1568.97 1536.48 1568.97 Q1528.49 1568.97 1524.26 1562.66 Q1520.06 1556.33 1520.06 1544.33 Q1520.06 1532.3 1524.26 1526 Q1528.49 1519.66 1536.48 1519.66 Z\" fill=\"#000000\" fill-rule=\"nonzero\" fill-opacity=\"1\" /><polyline clip-path=\"url(#clip092)\" style=\"stroke:#000000; stroke-linecap:round; stroke-linejoin:round; stroke-width:2; stroke-opacity:0.1; fill:none\" points=\"279.704,1177.62 2352.76,1177.62 \"/>\n",
       "<polyline clip-path=\"url(#clip092)\" style=\"stroke:#000000; stroke-linecap:round; stroke-linejoin:round; stroke-width:2; stroke-opacity:0.1; fill:none\" points=\"279.704,917.71 2352.76,917.71 \"/>\n",
       "<polyline clip-path=\"url(#clip092)\" style=\"stroke:#000000; stroke-linecap:round; stroke-linejoin:round; stroke-width:2; stroke-opacity:0.1; fill:none\" points=\"279.704,657.795 2352.76,657.795 \"/>\n",
       "<polyline clip-path=\"url(#clip092)\" style=\"stroke:#000000; stroke-linecap:round; stroke-linejoin:round; stroke-width:2; stroke-opacity:0.1; fill:none\" points=\"279.704,397.881 2352.76,397.881 \"/>\n",
       "<polyline clip-path=\"url(#clip092)\" style=\"stroke:#000000; stroke-linecap:round; stroke-linejoin:round; stroke-width:2; stroke-opacity:0.1; fill:none\" points=\"279.704,137.967 2352.76,137.967 \"/>\n",
       "<polyline clip-path=\"url(#clip090)\" style=\"stroke:#000000; stroke-linecap:round; stroke-linejoin:round; stroke-width:4; stroke-opacity:1; fill:none\" points=\"279.704,1423.18 279.704,123.472 \"/>\n",
       "<polyline clip-path=\"url(#clip090)\" style=\"stroke:#000000; stroke-linecap:round; stroke-linejoin:round; stroke-width:4; stroke-opacity:1; fill:none\" points=\"279.704,1177.62 298.602,1177.62 \"/>\n",
       "<polyline clip-path=\"url(#clip090)\" style=\"stroke:#000000; stroke-linecap:round; stroke-linejoin:round; stroke-width:4; stroke-opacity:1; fill:none\" points=\"279.704,917.71 298.602,917.71 \"/>\n",
       "<polyline clip-path=\"url(#clip090)\" style=\"stroke:#000000; stroke-linecap:round; stroke-linejoin:round; stroke-width:4; stroke-opacity:1; fill:none\" points=\"279.704,657.795 298.602,657.795 \"/>\n",
       "<polyline clip-path=\"url(#clip090)\" style=\"stroke:#000000; stroke-linecap:round; stroke-linejoin:round; stroke-width:4; stroke-opacity:1; fill:none\" points=\"279.704,397.881 298.602,397.881 \"/>\n",
       "<polyline clip-path=\"url(#clip090)\" style=\"stroke:#000000; stroke-linecap:round; stroke-linejoin:round; stroke-width:4; stroke-opacity:1; fill:none\" points=\"279.704,137.967 298.602,137.967 \"/>\n",
       "<path clip-path=\"url(#clip090)\" d=\"M127.2 1163.42 Q123.589 1163.42 121.76 1166.99 Q119.955 1170.53 119.955 1177.66 Q119.955 1184.77 121.76 1188.33 Q123.589 1191.87 127.2 1191.87 Q130.834 1191.87 132.64 1188.33 Q134.468 1184.77 134.468 1177.66 Q134.468 1170.53 132.64 1166.99 Q130.834 1163.42 127.2 1163.42 M127.2 1159.72 Q133.01 1159.72 136.066 1164.33 Q139.144 1168.91 139.144 1177.66 Q139.144 1186.39 136.066 1190.99 Q133.01 1195.58 127.2 1195.58 Q121.39 1195.58 118.311 1190.99 Q115.256 1186.39 115.256 1177.66 Q115.256 1168.91 118.311 1164.33 Q121.39 1159.72 127.2 1159.72 Z\" fill=\"#000000\" fill-rule=\"nonzero\" fill-opacity=\"1\" /><path clip-path=\"url(#clip090)\" d=\"M147.362 1189.02 L152.246 1189.02 L152.246 1194.9 L147.362 1194.9 L147.362 1189.02 Z\" fill=\"#000000\" fill-rule=\"nonzero\" fill-opacity=\"1\" /><path clip-path=\"url(#clip090)\" d=\"M172.431 1163.42 Q168.82 1163.42 166.991 1166.99 Q165.186 1170.53 165.186 1177.66 Q165.186 1184.77 166.991 1188.33 Q168.82 1191.87 172.431 1191.87 Q176.065 1191.87 177.871 1188.33 Q179.7 1184.77 179.7 1177.66 Q179.7 1170.53 177.871 1166.99 Q176.065 1163.42 172.431 1163.42 M172.431 1159.72 Q178.241 1159.72 181.297 1164.33 Q184.376 1168.91 184.376 1177.66 Q184.376 1186.39 181.297 1190.99 Q178.241 1195.58 172.431 1195.58 Q166.621 1195.58 163.542 1190.99 Q160.487 1186.39 160.487 1177.66 Q160.487 1168.91 163.542 1164.33 Q166.621 1159.72 172.431 1159.72 Z\" fill=\"#000000\" fill-rule=\"nonzero\" fill-opacity=\"1\" /><path clip-path=\"url(#clip090)\" d=\"M191.413 1160.34 L213.635 1160.34 L213.635 1162.34 L201.088 1194.9 L196.204 1194.9 L208.01 1164.28 L191.413 1164.28 L191.413 1160.34 Z\" fill=\"#000000\" fill-rule=\"nonzero\" fill-opacity=\"1\" /><path clip-path=\"url(#clip090)\" d=\"M222.801 1160.34 L241.158 1160.34 L241.158 1164.28 L227.084 1164.28 L227.084 1172.75 Q228.102 1172.4 229.121 1172.24 Q230.139 1172.06 231.158 1172.06 Q236.945 1172.06 240.324 1175.23 Q243.704 1178.4 243.704 1183.82 Q243.704 1189.4 240.232 1192.5 Q236.76 1195.58 230.44 1195.58 Q228.264 1195.58 225.996 1195.21 Q223.75 1194.83 221.343 1194.09 L221.343 1189.4 Q223.426 1190.53 225.648 1191.08 Q227.871 1191.64 230.347 1191.64 Q234.352 1191.64 236.69 1189.53 Q239.028 1187.43 239.028 1183.82 Q239.028 1180.21 236.69 1178.1 Q234.352 1175.99 230.347 1175.99 Q228.473 1175.99 226.598 1176.41 Q224.746 1176.83 222.801 1177.71 L222.801 1160.34 Z\" fill=\"#000000\" fill-rule=\"nonzero\" fill-opacity=\"1\" /><path clip-path=\"url(#clip090)\" d=\"M126.205 903.509 Q122.593 903.509 120.765 907.073 Q118.959 910.615 118.959 917.745 Q118.959 924.851 120.765 928.416 Q122.593 931.958 126.205 931.958 Q129.839 931.958 131.644 928.416 Q133.473 924.851 133.473 917.745 Q133.473 910.615 131.644 907.073 Q129.839 903.509 126.205 903.509 M126.205 899.805 Q132.015 899.805 135.07 904.411 Q138.149 908.995 138.149 917.745 Q138.149 926.471 135.07 931.078 Q132.015 935.661 126.205 935.661 Q120.394 935.661 117.316 931.078 Q114.26 926.471 114.26 917.745 Q114.26 908.995 117.316 904.411 Q120.394 899.805 126.205 899.805 Z\" fill=\"#000000\" fill-rule=\"nonzero\" fill-opacity=\"1\" /><path clip-path=\"url(#clip090)\" d=\"M146.366 929.11 L151.251 929.11 L151.251 934.99 L146.366 934.99 L146.366 929.11 Z\" fill=\"#000000\" fill-rule=\"nonzero\" fill-opacity=\"1\" /><path clip-path=\"url(#clip090)\" d=\"M162.246 931.055 L169.885 931.055 L169.885 904.689 L161.575 906.356 L161.575 902.097 L169.839 900.43 L174.514 900.43 L174.514 931.055 L182.153 931.055 L182.153 934.99 L162.246 934.99 L162.246 931.055 Z\" fill=\"#000000\" fill-rule=\"nonzero\" fill-opacity=\"1\" /><path clip-path=\"url(#clip090)\" d=\"M201.598 903.509 Q197.987 903.509 196.158 907.073 Q194.352 910.615 194.352 917.745 Q194.352 924.851 196.158 928.416 Q197.987 931.958 201.598 931.958 Q205.232 931.958 207.037 928.416 Q208.866 924.851 208.866 917.745 Q208.866 910.615 207.037 907.073 Q205.232 903.509 201.598 903.509 M201.598 899.805 Q207.408 899.805 210.463 904.411 Q213.542 908.995 213.542 917.745 Q213.542 926.471 210.463 931.078 Q207.408 935.661 201.598 935.661 Q195.787 935.661 192.709 931.078 Q189.653 926.471 189.653 917.745 Q189.653 908.995 192.709 904.411 Q195.787 899.805 201.598 899.805 Z\" fill=\"#000000\" fill-rule=\"nonzero\" fill-opacity=\"1\" /><path clip-path=\"url(#clip090)\" d=\"M231.76 903.509 Q228.148 903.509 226.32 907.073 Q224.514 910.615 224.514 917.745 Q224.514 924.851 226.32 928.416 Q228.148 931.958 231.76 931.958 Q235.394 931.958 237.199 928.416 Q239.028 924.851 239.028 917.745 Q239.028 910.615 237.199 907.073 Q235.394 903.509 231.76 903.509 M231.76 899.805 Q237.57 899.805 240.625 904.411 Q243.704 908.995 243.704 917.745 Q243.704 926.471 240.625 931.078 Q237.57 935.661 231.76 935.661 Q225.949 935.661 222.871 931.078 Q219.815 926.471 219.815 917.745 Q219.815 908.995 222.871 904.411 Q225.949 899.805 231.76 899.805 Z\" fill=\"#000000\" fill-rule=\"nonzero\" fill-opacity=\"1\" /><path clip-path=\"url(#clip090)\" d=\"M127.2 643.594 Q123.589 643.594 121.76 647.159 Q119.955 650.701 119.955 657.83 Q119.955 664.937 121.76 668.501 Q123.589 672.043 127.2 672.043 Q130.834 672.043 132.64 668.501 Q134.468 664.937 134.468 657.83 Q134.468 650.701 132.64 647.159 Q130.834 643.594 127.2 643.594 M127.2 639.89 Q133.01 639.89 136.066 644.497 Q139.144 649.08 139.144 657.83 Q139.144 666.557 136.066 671.163 Q133.01 675.747 127.2 675.747 Q121.39 675.747 118.311 671.163 Q115.256 666.557 115.256 657.83 Q115.256 649.08 118.311 644.497 Q121.39 639.89 127.2 639.89 Z\" fill=\"#000000\" fill-rule=\"nonzero\" fill-opacity=\"1\" /><path clip-path=\"url(#clip090)\" d=\"M147.362 669.196 L152.246 669.196 L152.246 675.075 L147.362 675.075 L147.362 669.196 Z\" fill=\"#000000\" fill-rule=\"nonzero\" fill-opacity=\"1\" /><path clip-path=\"url(#clip090)\" d=\"M163.241 671.14 L170.88 671.14 L170.88 644.775 L162.57 646.441 L162.57 642.182 L170.834 640.515 L175.51 640.515 L175.51 671.14 L183.149 671.14 L183.149 675.075 L163.241 675.075 L163.241 671.14 Z\" fill=\"#000000\" fill-rule=\"nonzero\" fill-opacity=\"1\" /><path clip-path=\"url(#clip090)\" d=\"M196.621 671.14 L212.94 671.14 L212.94 675.075 L190.996 675.075 L190.996 671.14 Q193.658 668.386 198.241 663.756 Q202.848 659.103 204.028 657.761 Q206.274 655.238 207.153 653.502 Q208.056 651.742 208.056 650.052 Q208.056 647.298 206.112 645.562 Q204.19 643.826 201.088 643.826 Q198.889 643.826 196.436 644.59 Q194.005 645.353 191.227 646.904 L191.227 642.182 Q194.051 641.048 196.505 640.469 Q198.959 639.89 200.996 639.89 Q206.366 639.89 209.561 642.576 Q212.755 645.261 212.755 649.752 Q212.755 651.881 211.945 653.802 Q211.158 655.701 209.051 658.293 Q208.473 658.964 205.371 662.182 Q202.269 665.376 196.621 671.14 Z\" fill=\"#000000\" fill-rule=\"nonzero\" fill-opacity=\"1\" /><path clip-path=\"url(#clip090)\" d=\"M222.801 640.515 L241.158 640.515 L241.158 644.451 L227.084 644.451 L227.084 652.923 Q228.102 652.576 229.121 652.414 Q230.139 652.228 231.158 652.228 Q236.945 652.228 240.324 655.4 Q243.704 658.571 243.704 663.988 Q243.704 669.566 240.232 672.668 Q236.76 675.747 230.44 675.747 Q228.264 675.747 225.996 675.376 Q223.75 675.006 221.343 674.265 L221.343 669.566 Q223.426 670.701 225.648 671.256 Q227.871 671.812 230.347 671.812 Q234.352 671.812 236.69 669.705 Q239.028 667.599 239.028 663.988 Q239.028 660.376 236.69 658.27 Q234.352 656.164 230.347 656.164 Q228.473 656.164 226.598 656.58 Q224.746 656.997 222.801 657.877 L222.801 640.515 Z\" fill=\"#000000\" fill-rule=\"nonzero\" fill-opacity=\"1\" /><path clip-path=\"url(#clip090)\" d=\"M126.205 383.68 Q122.593 383.68 120.765 387.245 Q118.959 390.786 118.959 397.916 Q118.959 405.022 120.765 408.587 Q122.593 412.129 126.205 412.129 Q129.839 412.129 131.644 408.587 Q133.473 405.022 133.473 397.916 Q133.473 390.786 131.644 387.245 Q129.839 383.68 126.205 383.68 M126.205 379.976 Q132.015 379.976 135.07 384.583 Q138.149 389.166 138.149 397.916 Q138.149 406.643 135.07 411.249 Q132.015 415.832 126.205 415.832 Q120.394 415.832 117.316 411.249 Q114.26 406.643 114.26 397.916 Q114.26 389.166 117.316 384.583 Q120.394 379.976 126.205 379.976 Z\" fill=\"#000000\" fill-rule=\"nonzero\" fill-opacity=\"1\" /><path clip-path=\"url(#clip090)\" d=\"M146.366 409.281 L151.251 409.281 L151.251 415.161 L146.366 415.161 L146.366 409.281 Z\" fill=\"#000000\" fill-rule=\"nonzero\" fill-opacity=\"1\" /><path clip-path=\"url(#clip090)\" d=\"M162.246 411.226 L169.885 411.226 L169.885 384.86 L161.575 386.527 L161.575 382.268 L169.839 380.601 L174.514 380.601 L174.514 411.226 L182.153 411.226 L182.153 415.161 L162.246 415.161 L162.246 411.226 Z\" fill=\"#000000\" fill-rule=\"nonzero\" fill-opacity=\"1\" /><path clip-path=\"url(#clip090)\" d=\"M191.644 380.601 L210 380.601 L210 384.536 L195.926 384.536 L195.926 393.008 Q196.945 392.661 197.963 392.499 Q198.982 392.314 200 392.314 Q205.787 392.314 209.167 395.485 Q212.547 398.657 212.547 404.073 Q212.547 409.652 209.074 412.754 Q205.602 415.832 199.283 415.832 Q197.107 415.832 194.838 415.462 Q192.593 415.092 190.186 414.351 L190.186 409.652 Q192.269 410.786 194.491 411.342 Q196.713 411.897 199.19 411.897 Q203.195 411.897 205.533 409.791 Q207.871 407.684 207.871 404.073 Q207.871 400.462 205.533 398.356 Q203.195 396.249 199.19 396.249 Q197.315 396.249 195.44 396.666 Q193.588 397.082 191.644 397.962 L191.644 380.601 Z\" fill=\"#000000\" fill-rule=\"nonzero\" fill-opacity=\"1\" /><path clip-path=\"url(#clip090)\" d=\"M231.76 383.68 Q228.148 383.68 226.32 387.245 Q224.514 390.786 224.514 397.916 Q224.514 405.022 226.32 408.587 Q228.148 412.129 231.76 412.129 Q235.394 412.129 237.199 408.587 Q239.028 405.022 239.028 397.916 Q239.028 390.786 237.199 387.245 Q235.394 383.68 231.76 383.68 M231.76 379.976 Q237.57 379.976 240.625 384.583 Q243.704 389.166 243.704 397.916 Q243.704 406.643 240.625 411.249 Q237.57 415.832 231.76 415.832 Q225.949 415.832 222.871 411.249 Q219.815 406.643 219.815 397.916 Q219.815 389.166 222.871 384.583 Q225.949 379.976 231.76 379.976 Z\" fill=\"#000000\" fill-rule=\"nonzero\" fill-opacity=\"1\" /><path clip-path=\"url(#clip090)\" d=\"M127.2 123.765 Q123.589 123.765 121.76 127.33 Q119.955 130.872 119.955 138.001 Q119.955 145.108 121.76 148.673 Q123.589 152.214 127.2 152.214 Q130.834 152.214 132.64 148.673 Q134.468 145.108 134.468 138.001 Q134.468 130.872 132.64 127.33 Q130.834 123.765 127.2 123.765 M127.2 120.062 Q133.01 120.062 136.066 124.668 Q139.144 129.251 139.144 138.001 Q139.144 146.728 136.066 151.335 Q133.01 155.918 127.2 155.918 Q121.39 155.918 118.311 151.335 Q115.256 146.728 115.256 138.001 Q115.256 129.251 118.311 124.668 Q121.39 120.062 127.2 120.062 Z\" fill=\"#000000\" fill-rule=\"nonzero\" fill-opacity=\"1\" /><path clip-path=\"url(#clip090)\" d=\"M147.362 149.367 L152.246 149.367 L152.246 155.247 L147.362 155.247 L147.362 149.367 Z\" fill=\"#000000\" fill-rule=\"nonzero\" fill-opacity=\"1\" /><path clip-path=\"url(#clip090)\" d=\"M163.241 151.311 L170.88 151.311 L170.88 124.946 L162.57 126.612 L162.57 122.353 L170.834 120.687 L175.51 120.687 L175.51 151.311 L183.149 151.311 L183.149 155.247 L163.241 155.247 L163.241 151.311 Z\" fill=\"#000000\" fill-rule=\"nonzero\" fill-opacity=\"1\" /><path clip-path=\"url(#clip090)\" d=\"M191.413 120.687 L213.635 120.687 L213.635 122.677 L201.088 155.247 L196.204 155.247 L208.01 124.622 L191.413 124.622 L191.413 120.687 Z\" fill=\"#000000\" fill-rule=\"nonzero\" fill-opacity=\"1\" /><path clip-path=\"url(#clip090)\" d=\"M222.801 120.687 L241.158 120.687 L241.158 124.622 L227.084 124.622 L227.084 133.094 Q228.102 132.747 229.121 132.585 Q230.139 132.4 231.158 132.4 Q236.945 132.4 240.324 135.571 Q243.704 138.742 243.704 144.159 Q243.704 149.737 240.232 152.839 Q236.76 155.918 230.44 155.918 Q228.264 155.918 225.996 155.548 Q223.75 155.177 221.343 154.436 L221.343 149.737 Q223.426 150.872 225.648 151.427 Q227.871 151.983 230.347 151.983 Q234.352 151.983 236.69 149.876 Q239.028 147.77 239.028 144.159 Q239.028 140.548 236.69 138.441 Q234.352 136.335 230.347 136.335 Q228.473 136.335 226.598 136.751 Q224.746 137.168 222.801 138.048 L222.801 120.687 Z\" fill=\"#000000\" fill-rule=\"nonzero\" fill-opacity=\"1\" /><path clip-path=\"url(#clip090)\" d=\"M16.4842 1288.55 L16.4842 1278.97 L48.8219 1266.84 L16.4842 1254.65 L16.4842 1245.07 L64.0042 1245.07 L64.0042 1251.34 L22.277 1251.34 L54.8694 1263.6 L54.8694 1270.06 L22.277 1282.31 L64.0042 1282.31 L64.0042 1288.55 L16.4842 1288.55 Z\" fill=\"#000000\" fill-rule=\"nonzero\" fill-opacity=\"1\" /><path clip-path=\"url(#clip090)\" d=\"M46.0847 1216.36 Q46.0847 1223.46 47.7079 1226.2 Q49.3312 1228.94 53.2461 1228.94 Q56.3653 1228.94 58.2114 1226.9 Q60.0256 1224.83 60.0256 1221.3 Q60.0256 1216.43 56.5881 1213.5 Q53.1188 1210.54 47.3897 1210.54 L46.0847 1210.54 L46.0847 1216.36 M43.6657 1204.68 L64.0042 1204.68 L64.0042 1210.54 L58.5933 1210.54 Q61.8398 1212.54 63.3994 1215.54 Q64.9272 1218.53 64.9272 1222.86 Q64.9272 1228.33 61.8716 1231.58 Q58.7843 1234.79 53.6281 1234.79 Q47.6125 1234.79 44.5569 1230.78 Q41.5014 1226.74 41.5014 1218.75 L41.5014 1210.54 L40.9285 1210.54 Q36.8862 1210.54 34.6901 1213.21 Q32.4621 1215.85 32.4621 1220.66 Q32.4621 1223.72 33.1941 1226.61 Q33.9262 1229.51 35.3903 1232.18 L29.9795 1232.18 Q28.7381 1228.97 28.1334 1225.94 Q27.4968 1222.92 27.4968 1220.06 Q27.4968 1212.32 31.5072 1208.5 Q35.5176 1204.68 43.6657 1204.68 Z\" fill=\"#000000\" fill-rule=\"nonzero\" fill-opacity=\"1\" /><path clip-path=\"url(#clip090)\" d=\"M28.3562 1162.99 L45.7028 1175.88 L64.0042 1162.32 L64.0042 1169.23 L49.9996 1179.6 L64.0042 1189.98 L64.0042 1196.88 L45.3526 1183.04 L28.3562 1195.71 L28.3562 1188.8 L41.0558 1179.35 L28.3562 1169.89 L28.3562 1162.99 Z\" fill=\"#000000\" fill-rule=\"nonzero\" fill-opacity=\"1\" /><path clip-path=\"url(#clip090)\" d=\"M28.3562 1154.04 L28.3562 1148.19 L64.0042 1148.19 L64.0042 1154.04 L28.3562 1154.04 M14.479 1154.04 L14.479 1148.19 L21.895 1148.19 L21.895 1154.04 L14.479 1154.04 Z\" fill=\"#000000\" fill-rule=\"nonzero\" fill-opacity=\"1\" /><path clip-path=\"url(#clip090)\" d=\"M35.1993 1108.18 Q31.2526 1105.98 29.3747 1102.93 Q27.4968 1099.87 27.4968 1095.73 Q27.4968 1090.16 31.4117 1087.14 Q35.2948 1084.12 42.4881 1084.12 L64.0042 1084.12 L64.0042 1090 L42.679 1090 Q37.5546 1090 35.072 1091.82 Q32.5894 1093.63 32.5894 1097.36 Q32.5894 1101.91 35.6131 1104.55 Q38.6368 1107.19 43.8567 1107.19 L64.0042 1107.19 L64.0042 1113.08 L42.679 1113.08 Q37.5228 1113.08 35.072 1114.89 Q32.5894 1116.71 32.5894 1120.5 Q32.5894 1124.98 35.6449 1127.63 Q38.6686 1130.27 43.8567 1130.27 L64.0042 1130.27 L64.0042 1136.16 L28.3562 1136.16 L28.3562 1130.27 L33.8944 1130.27 Q30.616 1128.26 29.0564 1125.46 Q27.4968 1122.66 27.4968 1118.81 Q27.4968 1114.93 29.4702 1112.22 Q31.4436 1109.48 35.1993 1108.18 Z\" fill=\"#000000\" fill-rule=\"nonzero\" fill-opacity=\"1\" /><path clip-path=\"url(#clip090)\" d=\"M49.9359 1073.04 L28.3562 1073.04 L28.3562 1067.18 L49.7131 1067.18 Q54.7739 1067.18 57.3202 1065.21 Q59.8346 1063.24 59.8346 1059.29 Q59.8346 1054.55 56.8109 1051.81 Q53.7872 1049.04 48.5673 1049.04 L28.3562 1049.04 L28.3562 1043.18 L64.0042 1043.18 L64.0042 1049.04 L58.5296 1049.04 Q61.7762 1051.17 63.3676 1054.01 Q64.9272 1056.81 64.9272 1060.53 Q64.9272 1066.67 61.1078 1069.86 Q57.2883 1073.04 49.9359 1073.04 M27.4968 1058.3 L27.4968 1058.3 Z\" fill=\"#000000\" fill-rule=\"nonzero\" fill-opacity=\"1\" /><path clip-path=\"url(#clip090)\" d=\"M35.1993 1003.37 Q31.2526 1001.17 29.3747 998.115 Q27.4968 995.059 27.4968 990.922 Q27.4968 985.352 31.4117 982.328 Q35.2948 979.304 42.4881 979.304 L64.0042 979.304 L64.0042 985.193 L42.679 985.193 Q37.5546 985.193 35.072 987.007 Q32.5894 988.821 32.5894 992.545 Q32.5894 997.096 35.6131 999.738 Q38.6368 1002.38 43.8567 1002.38 L64.0042 1002.38 L64.0042 1008.27 L42.679 1008.27 Q37.5228 1008.27 35.072 1010.08 Q32.5894 1011.9 32.5894 1015.68 Q32.5894 1020.17 35.6449 1022.81 Q38.6686 1025.46 43.8567 1025.46 L64.0042 1025.46 L64.0042 1031.34 L28.3562 1031.34 L28.3562 1025.46 L33.8944 1025.46 Q30.616 1023.45 29.0564 1020.65 Q27.4968 1017.85 27.4968 1014 Q27.4968 1010.11 29.4702 1007.41 Q31.4436 1004.67 35.1993 1003.37 Z\" fill=\"#000000\" fill-rule=\"nonzero\" fill-opacity=\"1\" /><path clip-path=\"url(#clip090)\" d=\"M32.4621 933.089 Q32.4621 937.8 36.1542 940.537 Q39.8145 943.274 46.212 943.274 Q52.6095 943.274 56.3017 940.569 Q59.9619 937.832 59.9619 933.089 Q59.9619 928.411 56.2698 925.673 Q52.5777 922.936 46.212 922.936 Q39.8781 922.936 36.186 925.673 Q32.4621 928.411 32.4621 933.089 M27.4968 933.089 Q27.4968 925.45 32.4621 921.09 Q37.4273 916.729 46.212 916.729 Q54.9649 916.729 59.9619 921.09 Q64.9272 925.45 64.9272 933.089 Q64.9272 940.76 59.9619 945.12 Q54.9649 949.449 46.212 949.449 Q37.4273 949.449 32.4621 945.12 Q27.4968 940.76 27.4968 933.089 Z\" fill=\"#000000\" fill-rule=\"nonzero\" fill-opacity=\"1\" /><path clip-path=\"url(#clip090)\" d=\"M14.479 888.975 L19.3487 888.975 L19.3487 894.577 Q19.3487 897.728 20.6219 898.969 Q21.895 900.179 25.2052 900.179 L28.3562 900.179 L28.3562 890.535 L32.9077 890.535 L32.9077 900.179 L64.0042 900.179 L64.0042 906.067 L32.9077 906.067 L32.9077 911.669 L28.3562 911.669 L28.3562 906.067 L25.8736 906.067 Q19.9216 906.067 17.2162 903.298 Q14.479 900.529 14.479 894.513 L14.479 888.975 Z\" fill=\"#000000\" fill-rule=\"nonzero\" fill-opacity=\"1\" /><path clip-path=\"url(#clip090)\" d=\"M42.4881 833.721 L64.0042 833.721 L64.0042 839.577 L42.679 839.577 Q37.6183 839.577 35.1038 841.55 Q32.5894 843.524 32.5894 847.471 Q32.5894 852.213 35.6131 854.95 Q38.6368 857.688 43.8567 857.688 L64.0042 857.688 L64.0042 863.576 L14.479 863.576 L14.479 857.688 L33.8944 857.688 Q30.6797 855.587 29.0883 852.754 Q27.4968 849.89 27.4968 846.166 Q27.4968 840.023 31.3163 836.872 Q35.1038 833.721 42.4881 833.721 Z\" fill=\"#000000\" fill-rule=\"nonzero\" fill-opacity=\"1\" /><path clip-path=\"url(#clip090)\" d=\"M32.4621 808.226 Q32.4621 812.937 36.1542 815.674 Q39.8145 818.411 46.212 818.411 Q52.6095 818.411 56.3017 815.706 Q59.9619 812.968 59.9619 808.226 Q59.9619 803.547 56.2698 800.81 Q52.5777 798.073 46.212 798.073 Q39.8781 798.073 36.186 800.81 Q32.4621 803.547 32.4621 808.226 M27.4968 808.226 Q27.4968 800.587 32.4621 796.227 Q37.4273 791.866 46.212 791.866 Q54.9649 791.866 59.9619 796.227 Q64.9272 800.587 64.9272 808.226 Q64.9272 815.897 59.9619 820.257 Q54.9649 824.586 46.212 824.586 Q37.4273 824.586 32.4621 820.257 Q27.4968 815.897 27.4968 808.226 Z\" fill=\"#000000\" fill-rule=\"nonzero\" fill-opacity=\"1\" /><path clip-path=\"url(#clip090)\" d=\"M58.657 776.493 L77.5631 776.493 L77.5631 782.381 L28.3562 782.381 L28.3562 776.493 L33.7671 776.493 Q30.5842 774.647 29.0564 771.846 Q27.4968 769.013 27.4968 765.098 Q27.4968 758.605 32.6531 754.563 Q37.8093 750.489 46.212 750.489 Q54.6147 750.489 59.771 754.563 Q64.9272 758.605 64.9272 765.098 Q64.9272 769.013 63.3994 771.846 Q61.8398 774.647 58.657 776.493 M46.212 756.568 Q39.7508 756.568 36.0905 759.242 Q32.3984 761.884 32.3984 766.531 Q32.3984 771.178 36.0905 773.851 Q39.7508 776.493 46.212 776.493 Q52.6732 776.493 56.3653 773.851 Q60.0256 771.178 60.0256 766.531 Q60.0256 761.884 56.3653 759.242 Q52.6732 756.568 46.212 756.568 Z\" fill=\"#000000\" fill-rule=\"nonzero\" fill-opacity=\"1\" /><path clip-path=\"url(#clip090)\" d=\"M58.657 735.116 L77.5631 735.116 L77.5631 741.004 L28.3562 741.004 L28.3562 735.116 L33.7671 735.116 Q30.5842 733.27 29.0564 730.469 Q27.4968 727.636 27.4968 723.721 Q27.4968 717.228 32.6531 713.186 Q37.8093 709.112 46.212 709.112 Q54.6147 709.112 59.771 713.186 Q64.9272 717.228 64.9272 723.721 Q64.9272 727.636 63.3994 730.469 Q61.8398 733.27 58.657 735.116 M46.212 715.191 Q39.7508 715.191 36.0905 717.865 Q32.3984 720.507 32.3984 725.153 Q32.3984 729.8 36.0905 732.474 Q39.7508 735.116 46.212 735.116 Q52.6732 735.116 56.3653 732.474 Q60.0256 729.8 60.0256 725.153 Q60.0256 720.507 56.3653 717.865 Q52.6732 715.191 46.212 715.191 Z\" fill=\"#000000\" fill-rule=\"nonzero\" fill-opacity=\"1\" /><path clip-path=\"url(#clip090)\" d=\"M28.3562 699.404 L28.3562 693.548 L64.0042 693.548 L64.0042 699.404 L28.3562 699.404 M14.479 699.404 L14.479 693.548 L21.895 693.548 L21.895 699.404 L14.479 699.404 Z\" fill=\"#000000\" fill-rule=\"nonzero\" fill-opacity=\"1\" /><path clip-path=\"url(#clip090)\" d=\"M42.4881 651.661 L64.0042 651.661 L64.0042 657.518 L42.679 657.518 Q37.6183 657.518 35.1038 659.491 Q32.5894 661.465 32.5894 665.411 Q32.5894 670.154 35.6131 672.891 Q38.6368 675.628 43.8567 675.628 L64.0042 675.628 L64.0042 681.517 L28.3562 681.517 L28.3562 675.628 L33.8944 675.628 Q30.6797 673.528 29.0883 670.695 Q27.4968 667.83 27.4968 664.106 Q27.4968 657.963 31.3163 654.812 Q35.1038 651.661 42.4881 651.661 Z\" fill=\"#000000\" fill-rule=\"nonzero\" fill-opacity=\"1\" /><path clip-path=\"url(#clip090)\" d=\"M45.7664 616.523 Q39.4007 616.523 35.8996 619.164 Q32.3984 621.774 32.3984 626.517 Q32.3984 631.227 35.8996 633.869 Q39.4007 636.479 45.7664 636.479 Q52.1003 636.479 55.6014 633.869 Q59.1026 631.227 59.1026 626.517 Q59.1026 621.774 55.6014 619.164 Q52.1003 616.523 45.7664 616.523 M59.58 610.666 Q68.683 610.666 73.1071 614.708 Q77.5631 618.751 77.5631 627.09 Q77.5631 630.177 77.0857 632.914 Q76.6401 635.652 75.6852 638.23 L69.9879 638.23 Q71.3884 635.652 72.0568 633.137 Q72.7252 630.623 72.7252 628.013 Q72.7252 622.252 69.7015 619.387 Q66.7096 616.523 60.6303 616.523 L57.7339 616.523 Q60.885 618.337 62.4446 621.17 Q64.0042 624.002 64.0042 627.949 Q64.0042 634.506 59.0071 638.516 Q54.01 642.527 45.7664 642.527 Q37.491 642.527 32.4939 638.516 Q27.4968 634.506 27.4968 627.949 Q27.4968 624.002 29.0564 621.17 Q30.616 618.337 33.7671 616.523 L28.3562 616.523 L28.3562 610.666 L59.58 610.666 Z\" fill=\"#000000\" fill-rule=\"nonzero\" fill-opacity=\"1\" /><path clip-path=\"url(#clip090)\" d=\"M46.0847 561.682 Q46.0847 568.78 47.7079 571.517 Q49.3312 574.254 53.2461 574.254 Q56.3653 574.254 58.2114 572.217 Q60.0256 570.149 60.0256 566.616 Q60.0256 561.746 56.5881 558.818 Q53.1188 555.858 47.3897 555.858 L46.0847 555.858 L46.0847 561.682 M43.6657 550.001 L64.0042 550.001 L64.0042 555.858 L58.5933 555.858 Q61.8398 557.863 63.3994 560.855 Q64.9272 563.846 64.9272 568.175 Q64.9272 573.65 61.8716 576.896 Q58.7843 580.111 53.6281 580.111 Q47.6125 580.111 44.5569 576.1 Q41.5014 572.058 41.5014 564.069 L41.5014 555.858 L40.9285 555.858 Q36.8862 555.858 34.6901 558.531 Q32.4621 561.173 32.4621 565.979 Q32.4621 569.035 33.1941 571.931 Q33.9262 574.827 35.3903 577.501 L29.9795 577.501 Q28.7381 574.286 28.1334 571.263 Q27.4968 568.239 27.4968 565.374 Q27.4968 557.64 31.5072 553.821 Q35.5176 550.001 43.6657 550.001 Z\" fill=\"#000000\" fill-rule=\"nonzero\" fill-opacity=\"1\" /><path clip-path=\"url(#clip090)\" d=\"M35.1993 510.184 Q31.2526 507.987 29.3747 504.932 Q27.4968 501.876 27.4968 497.739 Q27.4968 492.169 31.4117 489.145 Q35.2948 486.121 42.4881 486.121 L64.0042 486.121 L64.0042 492.009 L42.679 492.009 Q37.5546 492.009 35.072 493.824 Q32.5894 495.638 32.5894 499.362 Q32.5894 503.913 35.6131 506.555 Q38.6368 509.197 43.8567 509.197 L64.0042 509.197 L64.0042 515.085 L42.679 515.085 Q37.5228 515.085 35.072 516.899 Q32.5894 518.714 32.5894 522.501 Q32.5894 526.989 35.6449 529.631 Q38.6686 532.273 43.8567 532.273 L64.0042 532.273 L64.0042 538.161 L28.3562 538.161 L28.3562 532.273 L33.8944 532.273 Q30.616 530.267 29.0564 527.466 Q27.4968 524.666 27.4968 520.814 Q27.4968 516.931 29.4702 514.226 Q31.4436 511.489 35.1993 510.184 Z\" fill=\"#000000\" fill-rule=\"nonzero\" fill-opacity=\"1\" /><path clip-path=\"url(#clip090)\" d=\"M58.657 468.775 L77.5631 468.775 L77.5631 474.663 L28.3562 474.663 L28.3562 468.775 L33.7671 468.775 Q30.5842 466.929 29.0564 464.128 Q27.4968 461.295 27.4968 457.38 Q27.4968 450.887 32.6531 446.845 Q37.8093 442.771 46.212 442.771 Q54.6147 442.771 59.771 446.845 Q64.9272 450.887 64.9272 457.38 Q64.9272 461.295 63.3994 464.128 Q61.8398 466.929 58.657 468.775 M46.212 448.85 Q39.7508 448.85 36.0905 451.524 Q32.3984 454.165 32.3984 458.812 Q32.3984 463.459 36.0905 466.133 Q39.7508 468.775 46.212 468.775 Q52.6732 468.775 56.3653 466.133 Q60.0256 463.459 60.0256 458.812 Q60.0256 454.165 56.3653 451.524 Q52.6732 448.85 46.212 448.85 Z\" fill=\"#000000\" fill-rule=\"nonzero\" fill-opacity=\"1\" /><path clip-path=\"url(#clip090)\" d=\"M14.479 433.063 L14.479 427.207 L64.0042 427.207 L64.0042 433.063 L14.479 433.063 Z\" fill=\"#000000\" fill-rule=\"nonzero\" fill-opacity=\"1\" /><path clip-path=\"url(#clip090)\" d=\"M28.3562 414.953 L28.3562 409.096 L64.0042 409.096 L64.0042 414.953 L28.3562 414.953 M14.479 414.953 L14.479 409.096 L21.895 409.096 L21.895 414.953 L14.479 414.953 Z\" fill=\"#000000\" fill-rule=\"nonzero\" fill-opacity=\"1\" /><path clip-path=\"url(#clip090)\" d=\"M18.2347 391.049 L28.3562 391.049 L28.3562 378.986 L32.9077 378.986 L32.9077 391.049 L52.2594 391.049 Q56.6199 391.049 57.8613 389.872 Q59.1026 388.662 59.1026 385.002 L59.1026 378.986 L64.0042 378.986 L64.0042 385.002 Q64.0042 391.781 61.4897 394.36 Q58.9434 396.938 52.2594 396.938 L32.9077 396.938 L32.9077 401.235 L28.3562 401.235 L28.3562 396.938 L18.2347 396.938 L18.2347 391.049 Z\" fill=\"#000000\" fill-rule=\"nonzero\" fill-opacity=\"1\" /><path clip-path=\"url(#clip090)\" d=\"M49.9359 371.889 L28.3562 371.889 L28.3562 366.032 L49.7131 366.032 Q54.7739 366.032 57.3202 364.059 Q59.8346 362.085 59.8346 358.139 Q59.8346 353.396 56.8109 350.659 Q53.7872 347.89 48.5673 347.89 L28.3562 347.89 L28.3562 342.033 L64.0042 342.033 L64.0042 347.89 L58.5296 347.89 Q61.7762 350.022 63.3676 352.855 Q64.9272 355.656 64.9272 359.38 Q64.9272 365.523 61.1078 368.706 Q57.2883 371.889 49.9359 371.889 M27.4968 357.152 L27.4968 357.152 Z\" fill=\"#000000\" fill-rule=\"nonzero\" fill-opacity=\"1\" /><path clip-path=\"url(#clip090)\" d=\"M33.7671 306.513 L14.479 306.513 L14.479 300.656 L64.0042 300.656 L64.0042 306.513 L58.657 306.513 Q61.8398 308.359 63.3994 311.192 Q64.9272 313.993 64.9272 317.939 Q64.9272 324.4 59.771 328.474 Q54.6147 332.517 46.212 332.517 Q37.8093 332.517 32.6531 328.474 Q27.4968 324.4 27.4968 317.939 Q27.4968 313.993 29.0564 311.192 Q30.5842 308.359 33.7671 306.513 M46.212 326.469 Q52.6732 326.469 56.3653 323.828 Q60.0256 321.154 60.0256 316.507 Q60.0256 311.86 56.3653 309.186 Q52.6732 306.513 46.212 306.513 Q39.7508 306.513 36.0905 309.186 Q32.3984 311.86 32.3984 316.507 Q32.3984 321.154 36.0905 323.828 Q39.7508 326.469 46.212 326.469 Z\" fill=\"#000000\" fill-rule=\"nonzero\" fill-opacity=\"1\" /><path clip-path=\"url(#clip090)\" d=\"M44.7161 258.102 L47.5806 258.102 L47.5806 285.029 Q53.6281 284.647 56.8109 281.4 Q59.9619 278.122 59.9619 272.297 Q59.9619 268.923 59.1344 265.772 Q58.3069 262.589 56.6518 259.47 L62.1899 259.47 Q63.5267 262.621 64.227 265.931 Q64.9272 269.242 64.9272 272.647 Q64.9272 281.177 59.9619 286.174 Q54.9967 291.14 46.5303 291.14 Q37.7774 291.14 32.6531 286.429 Q27.4968 281.687 27.4968 273.666 Q27.4968 266.473 32.1438 262.303 Q36.7589 258.102 44.7161 258.102 M42.9973 263.958 Q38.1912 264.022 35.3266 266.663 Q32.4621 269.273 32.4621 273.602 Q32.4621 278.504 35.2312 281.464 Q38.0002 284.392 43.0292 284.838 L42.9973 263.958 Z\" fill=\"#000000\" fill-rule=\"nonzero\" fill-opacity=\"1\" /><path clip-path=\"url(#clip090)\" d=\"M1061.39 12.096 L1069.57 12.096 L1069.57 68.3631 Q1069.57 79.3005 1065.4 84.2426 Q1061.27 89.1847 1052.07 89.1847 L1048.95 89.1847 L1048.95 82.2982 L1051.5 82.2982 Q1056.93 82.2982 1059.16 79.26 Q1061.39 76.2218 1061.39 68.3631 L1061.39 12.096 Z\" fill=\"#000000\" fill-rule=\"nonzero\" fill-opacity=\"1\" /><path clip-path=\"url(#clip090)\" d=\"M1086.5 34.9026 L1138.44 34.9026 L1138.44 41.7081 L1086.5 41.7081 L1086.5 34.9026 M1086.5 51.4303 L1138.44 51.4303 L1138.44 58.3168 L1086.5 58.3168 L1086.5 51.4303 Z\" fill=\"#000000\" fill-rule=\"nonzero\" fill-opacity=\"1\" /><path clip-path=\"url(#clip090)\" d=\"M1173.6 17.4837 Q1167.28 17.4837 1164.08 23.7221 Q1160.92 29.92 1160.92 42.3968 Q1160.92 54.833 1164.08 61.0714 Q1167.28 67.2693 1173.6 67.2693 Q1179.96 67.2693 1183.12 61.0714 Q1186.32 54.833 1186.32 42.3968 Q1186.32 29.92 1183.12 23.7221 Q1179.96 17.4837 1173.6 17.4837 M1173.6 11.0023 Q1183.77 11.0023 1189.11 19.0636 Q1194.5 27.0843 1194.5 42.3968 Q1194.5 57.6687 1189.11 65.73 Q1183.77 73.7508 1173.6 73.7508 Q1163.43 73.7508 1158.04 65.73 Q1152.69 57.6687 1152.69 42.3968 Q1152.69 27.0843 1158.04 19.0636 Q1163.43 11.0023 1173.6 11.0023 Z\" fill=\"#000000\" fill-rule=\"nonzero\" fill-opacity=\"1\" /><path clip-path=\"url(#clip090)\" d=\"M1208.88 62.2867 L1217.43 62.2867 L1217.43 72.576 L1208.88 72.576 L1208.88 62.2867 Z\" fill=\"#000000\" fill-rule=\"nonzero\" fill-opacity=\"1\" /><path clip-path=\"url(#clip090)\" d=\"M1235.33 12.096 L1267.46 12.096 L1267.46 18.9825 L1242.83 18.9825 L1242.83 33.8088 Q1244.61 33.2012 1246.39 32.9176 Q1248.17 32.5936 1249.96 32.5936 Q1260.08 32.5936 1266 38.1433 Q1271.91 43.6931 1271.91 53.1722 Q1271.91 62.9348 1265.84 68.3631 Q1259.76 73.7508 1248.7 73.7508 Q1244.89 73.7508 1240.92 73.1026 Q1236.99 72.4545 1232.78 71.1582 L1232.78 62.9348 Q1236.43 64.9198 1240.32 65.892 Q1244.2 66.8642 1248.54 66.8642 Q1255.55 66.8642 1259.64 63.1779 Q1263.73 59.4916 1263.73 53.1722 Q1263.73 46.8528 1259.64 43.1664 Q1255.55 39.4801 1248.54 39.4801 Q1245.26 39.4801 1241.98 40.2093 Q1238.74 40.9384 1235.33 42.4778 L1235.33 12.096 Z\" fill=\"#000000\" fill-rule=\"nonzero\" fill-opacity=\"1\" /><path clip-path=\"url(#clip090)\" d=\"M1288.89 62.2867 L1297.43 62.2867 L1297.43 69.2543 L1290.79 82.2172 L1285.56 82.2172 L1288.89 69.2543 L1288.89 62.2867 Z\" fill=\"#000000\" fill-rule=\"nonzero\" fill-opacity=\"1\" /><path clip-path=\"url(#clip090)\" d=\"M1334.66 12.096 L1342.93 12.096 L1355.65 63.2184 L1368.32 12.096 L1377.52 12.096 L1390.24 63.2184 L1402.92 12.096 L1411.22 12.096 L1396.03 72.576 L1385.74 72.576 L1372.98 20.0763 L1360.1 72.576 L1349.81 72.576 L1334.66 12.096 Z\" fill=\"#000000\" fill-rule=\"nonzero\" fill-opacity=\"1\" /><path clip-path=\"url(#clip090)\" d=\"M1422.73 34.9026 L1474.66 34.9026 L1474.66 41.7081 L1422.73 41.7081 L1422.73 34.9026 M1422.73 51.4303 L1474.66 51.4303 L1474.66 58.3168 L1422.73 58.3168 L1422.73 51.4303 Z\" fill=\"#000000\" fill-rule=\"nonzero\" fill-opacity=\"1\" /><path clip-path=\"url(#clip090)\" d=\"M1493.74 65.6895 L1507.11 65.6895 L1507.11 19.5497 L1492.57 22.4663 L1492.57 15.0127 L1507.03 12.096 L1515.21 12.096 L1515.21 65.6895 L1528.58 65.6895 L1528.58 72.576 L1493.74 72.576 L1493.74 65.6895 Z\" fill=\"#000000\" fill-rule=\"nonzero\" fill-opacity=\"1\" /><path clip-path=\"url(#clip090)\" d=\"M1562.61 17.4837 Q1556.29 17.4837 1553.09 23.7221 Q1549.93 29.92 1549.93 42.3968 Q1549.93 54.833 1553.09 61.0714 Q1556.29 67.2693 1562.61 67.2693 Q1568.97 67.2693 1572.13 61.0714 Q1575.33 54.833 1575.33 42.3968 Q1575.33 29.92 1572.13 23.7221 Q1568.97 17.4837 1562.61 17.4837 M1562.61 11.0023 Q1572.77 11.0023 1578.12 19.0636 Q1583.51 27.0843 1583.51 42.3968 Q1583.51 57.6687 1578.12 65.73 Q1572.77 73.7508 1562.61 73.7508 Q1552.44 73.7508 1547.05 65.73 Q1541.7 57.6687 1541.7 42.3968 Q1541.7 27.0843 1547.05 19.0636 Q1552.44 11.0023 1562.61 11.0023 Z\" fill=\"#000000\" fill-rule=\"nonzero\" fill-opacity=\"1\" /><polyline clip-path=\"url(#clip092)\" style=\"stroke:#009af9; stroke-linecap:round; stroke-linejoin:round; stroke-width:8; stroke-opacity:1; fill:none\" points=\"338.375,989.084 729.517,580.621 1120.66,160.256 1511.8,1386.4 1902.94,577.912 2294.08,1099.9 \"/>\n",
       "<path clip-path=\"url(#clip090)\" d=\"M2023.92 270.476 L2283.65 270.476 L2283.65 166.796 L2023.92 166.796  Z\" fill=\"#ffffff\" fill-rule=\"evenodd\" fill-opacity=\"1\"/>\n",
       "<polyline clip-path=\"url(#clip090)\" style=\"stroke:#000000; stroke-linecap:round; stroke-linejoin:round; stroke-width:4; stroke-opacity:1; fill:none\" points=\"2023.92,270.476 2283.65,270.476 2283.65,166.796 2023.92,166.796 2023.92,270.476 \"/>\n",
       "<polyline clip-path=\"url(#clip090)\" style=\"stroke:#009af9; stroke-linecap:round; stroke-linejoin:round; stroke-width:8; stroke-opacity:1; fill:none\" points=\"2046.95,218.636 2185.16,218.636 \"/>\n",
       "<path clip-path=\"url(#clip090)\" d=\"M2222.03 238.323 Q2220.23 242.953 2218.51 244.365 Q2216.8 245.777 2213.93 245.777 L2210.53 245.777 L2210.53 242.212 L2213.03 242.212 Q2214.79 242.212 2215.76 241.379 Q2216.73 240.545 2217.91 237.443 L2218.68 235.499 L2208.19 209.99 L2212.7 209.99 L2220.81 230.268 L2228.91 209.99 L2233.42 209.99 L2222.03 238.323 Z\" fill=\"#000000\" fill-rule=\"nonzero\" fill-opacity=\"1\" /><path clip-path=\"url(#clip090)\" d=\"M2240.71 231.981 L2248.35 231.981 L2248.35 205.615 L2240.04 207.282 L2240.04 203.022 L2248.31 201.356 L2252.98 201.356 L2252.98 231.981 L2260.62 231.981 L2260.62 235.916 L2240.71 235.916 L2240.71 231.981 Z\" fill=\"#000000\" fill-rule=\"nonzero\" fill-opacity=\"1\" /></svg>\n"
      ]
     },
     "metadata": {},
     "output_type": "display_data"
    },
    {
     "data": {
      "text/plain": [
       "\"/Users/jessica/git/Square-Spin-Ice/New code/hopping_amplitude_vs_distance_i_0_W=10,J=0.5.png\""
      ]
     },
     "execution_count": 205,
     "metadata": {},
     "output_type": "execute_result"
    }
   ],
   "source": [
    "means=[]\n",
    "for i in the_list\n",
    "    push!(means,maximum(i))\n",
    "end\n",
    "p=plot(1:div(L,2), means, linewidth=2, xlabel=\"Distance to i_0\", ylabel=\"Maximum of hopping amplitude\", title=\"J=\"*string(J_mag)*\", W=\"*string(W))\n",
    "\n",
    "display(p)\n",
    "savefig(p, \"hopping_amplitude_vs_distance_i_0_W=\"*string(W)*\",J=\"*string(J_mag)*\".png\")"
   ]
  },
  {
   "cell_type": "code",
   "execution_count": 20,
   "id": "49921683-95fe-433e-8176-7e689c87e75c",
   "metadata": {},
   "outputs": [
    {
     "data": {
      "text/plain": [
       "17.833333333333332"
      ]
     },
     "execution_count": 20,
     "metadata": {},
     "output_type": "execute_result"
    }
   ],
   "source": [
    "include(\"unitTests.jl\")\n",
    "average_hopping_distance_from_i_0_obc(([1,2,100],[5,6,7]), 4)\n"
   ]
  },
  {
   "cell_type": "code",
   "execution_count": 68,
   "id": "6180643e-422d-4c7f-82a6-ee7ef955e49f",
   "metadata": {},
   "outputs": [
    {
     "data": {
      "text/plain": [
       "252-element Vector{Any}:\n",
       " (2262, 2263)\n",
       " (1954, 1955)\n",
       " (2842, 2843)\n",
       " (3474, 3475)\n",
       " (366, 367)\n",
       " (2502, 2503)\n",
       " (1086, 1087)\n",
       " (2142, 2143)\n",
       " (686, 687)\n",
       " (1626, 1627)\n",
       " (1746, 1747)\n",
       " (1118, 1119)\n",
       " (486, 487)\n",
       " ⋮\n",
       " (2914, 2915)\n",
       " (2606, 2607)\n",
       " (870, 871)\n",
       " (462, 463)\n",
       " (1818, 1819)\n",
       " (1182, 1183)\n",
       " (3282, 3283)\n",
       " (606, 607)\n",
       " (3274, 3275)\n",
       " (222, 223)\n",
       " (3858, 3859)\n",
       " (3226, 3227)"
      ]
     },
     "execution_count": 68,
     "metadata": {},
     "output_type": "execute_result"
    }
   ],
   "source": [
    "find_possible_pivots_sector([1], [2], the_map)"
   ]
  },
  {
   "cell_type": "code",
   "execution_count": 307,
   "id": "0185466d-0d09-449a-b656-737f4aef807f",
   "metadata": {},
   "outputs": [
    {
     "data": {
      "text/plain": [
       "1.143862027726409"
      ]
     },
     "execution_count": 307,
     "metadata": {},
     "output_type": "execute_result"
    }
   ],
   "source": [
    "the_states' * get_N_R_operator_eigenstate_basis(L, the_map, eigtemp.vectors, i_0) * the_states"
   ]
  },
  {
   "cell_type": "code",
   "execution_count": 308,
   "id": "0e4607ac-a920-4d40-a1fc-7bf1d1d69c2c",
   "metadata": {},
   "outputs": [
    {
     "data": {
      "text/plain": [
       "5.999999999999974"
      ]
     },
     "execution_count": 308,
     "metadata": {},
     "output_type": "execute_result"
    }
   ],
   "source": [
    "the_states' * eigtemp.vectors' * get_N_R_operator(L, the_map, i_0) * eigtemp.vectors * the_states"
   ]
  },
  {
   "cell_type": "code",
   "execution_count": 235,
   "id": "195d4a22-a6ae-4673-80a5-86dde8059e20",
   "metadata": {},
   "outputs": [
    {
     "data": {
      "text/plain": [
       "([0.0 0.0 … 0.0 0.0; 0.0 0.0 … 0.0 0.0; … ; 0.0 0.0 … 4.0 0.0; 0.0 0.0 … 0.0 6.0], Vector{Any}[[(2, 3), (6, 7), (10, 11), (14, 15), (18, 19), (22, 23), (26, 27), (30, 31), (34, 35), (38, 39), (42, 43), (46, 47), (50, 51), (54, 55), (58, 59), (62, 63)], [(3, 5), (4, 6), (11, 13), (12, 14), (19, 21), (20, 22), (27, 29), (28, 30), (35, 37), (36, 38), (43, 45), (44, 46), (51, 53), (52, 54), (59, 61), (60, 62)], [(5, 9), (6, 10), (7, 11), (8, 12), (21, 25), (22, 26), (23, 27), (24, 28), (37, 41), (38, 42), (39, 43), (40, 44), (53, 57), (54, 58), (55, 59), (56, 60)], [(9, 17), (10, 18), (11, 19), (12, 20), (13, 21), (14, 22), (15, 23), (16, 24), (41, 49), (42, 50), (43, 51), (44, 52), (45, 53), (46, 54), (47, 55), (48, 56)], [(17, 33), (18, 34), (19, 35), (20, 36), (21, 37), (22, 38), (23, 39), (24, 40), (25, 41), (26, 42), (27, 43), (28, 44), (29, 45), (30, 46), (31, 47), (32, 48)], [(2, 33), (4, 35), (6, 37), (8, 39), (10, 41), (12, 43), (14, 45), (16, 47), (18, 49), (20, 51), (22, 53), (24, 55), (26, 57), (28, 59), (30, 61), (32, 63)]])"
      ]
     },
     "execution_count": 235,
     "metadata": {},
     "output_type": "execute_result"
    }
   ],
   "source": [
    "T = 1 # random hopping strength\n",
    "L=6\n",
    "W=0\n",
    "JJ=1\n",
    "t = T*ones(Float64, L); #hopping\n",
    "#t = ones(L)\n",
    "d=Uniform(-1,1)\n",
    "h = W*rand(d, L); # disordered onsite potentials\n",
    "J = JJ*ones(Float64, L); # interactions\n",
    "H,max_index=construct_disordered_interacting_hamiltonian_next_nearest_neighbor(L, J, h, t, true,\"full\")"
   ]
  },
  {
   "cell_type": "code",
   "execution_count": null,
   "id": "efd41211-4126-42ab-a5fa-645b2ae0a361",
   "metadata": {},
   "outputs": [],
   "source": []
  },
  {
   "cell_type": "code",
   "execution_count": 145,
   "id": "4556cc94-6ac6-4628-b8b3-612c9b7b08d3",
   "metadata": {},
   "outputs": [
    {
     "data": {
      "text/plain": [
       "([0.0 0.0 … 0.0 0.0; 0.0 0.0 … 0.0 0.0; … ; 0.0 0.0 … 2.0 0.0; 0.0 0.0 … 0.0 4.0], Vector{Any}[[(2, 3), (5, 8), (10, 11), (13, 16)], [(3, 5), (4, 6), (9, 15), (10, 16)], [(2, 14), (4, 16), (5, 9), (7, 11)], [(3, 12), (4, 11), (7, 16), (8, 15)]])"
      ]
     },
     "execution_count": 145,
     "metadata": {},
     "output_type": "execute_result"
    }
   ],
   "source": [
    "T = 1 # random hopping strength\n",
    "L=4\n",
    "JJ=1\n",
    "t = T*ones(Float64, L); #hopping\n",
    "#t = ones(L)\n",
    "d=Uniform(-1,1)\n",
    "h = W*rand(d, L); # disordered onsite potentials\n",
    "J = JJ*ones(Float64, L); # interactions\n",
    "#H,max_index=construct_disordered_interacting_hamiltonian_nearest_neighbor(L, J, h, t, false, \"full\")\n",
    "H,max_index=construct_disordered_interacting_hamiltonian_next_nearest_neighbor(L, J, h, t, true, \"full\")"
   ]
  },
  {
   "cell_type": "code",
   "execution_count": 168,
   "id": "84f2db60-4e4e-4234-a1f9-358d24d1c12c",
   "metadata": {},
   "outputs": [
    {
     "data": {
      "text/plain": [
       "2.0"
      ]
     },
     "execution_count": 168,
     "metadata": {},
     "output_type": "execute_result"
    }
   ],
   "source": [
    "H[6,6]"
   ]
  },
  {
   "cell_type": "code",
   "execution_count": 204,
   "id": "11b94a8d-8d5d-4137-a777-76f3883ef9e7",
   "metadata": {},
   "outputs": [
    {
     "name": "stdout",
     "output_type": "stream",
     "text": [
      "1.0524745977440797\n",
      "0.4961680102804943\n"
     ]
    }
   ],
   "source": [
    "L= 5; # system size\n",
    "T = 1 # random hopping strength\n",
    "t = T*ones(Float64, L); #hopping\n",
    "#t = ones(L)\n",
    "W = 3.1; # disorder strength\n",
    "\n",
    "d=Uniform(-1,1)\n",
    "h=W*rand(d, L)\n",
    "J_mag=0\n",
    "J = J_mag*ones(Float64, L); # interactions\n",
    "H, max_index=construct_disordered_interacting_hamiltonian_next_nearest_neighbor(L, J, h, t, false, \"full\");\n",
    "max_index = max_index[sortperm(t, rev=true)];\n",
    "\n",
    "eigtemp=eigen(H)\n",
    "eigenvectors=eigtemp.vectors\n",
    "\n",
    "N_R_nodiag=get_N_R_operator_eigenstate_basis(L, eigenvectors, div(L, 2))\n",
    "println(sqrt(maximum(abs,eigen(N_R_nodiag'*N_R_nodiag).values)))\n",
    "println(sqrt(norm(N_R_nodiag)^2/(2^L)))"
   ]
  },
  {
   "cell_type": "code",
   "execution_count": 205,
   "id": "6392e9f9-0e95-4343-8896-1bc0d676efd1",
   "metadata": {},
   "outputs": [
    {
     "name": "stdout",
     "output_type": "stream",
     "text": [
      "(10, 10)\n",
      "1.0524745977440086\n",
      "0.543524823086167\n"
     ]
    }
   ],
   "source": [
    "the_map=construct_map_of_n_filling_states(L, div(L,2))\n",
    "H_half_filling, max_index_half=construct_disordered_interacting_hamiltonian_next_nearest_neighbor_half_filling(L, J, h, t,the_map, false, \"full\")\n",
    "eigtemp=eigen(H_half_filling)\n",
    "\n",
    "eigtemp=eigen(H_half_filling)\n",
    "eigenvectors=eigtemp.vectors\n",
    "println(size(eigenvectors))\n",
    "N_R_nodiag=get_N_R_operator_eigenstate_basis(L, the_map, eigenvectors, div(L, 2))\n",
    "println(sqrt(maximum(abs,eigen(N_R_nodiag'*N_R_nodiag).values)))\n",
    "println(sqrt(norm(N_R_nodiag)^2/(binomial(L, div(L,2)))))"
   ]
  },
  {
   "cell_type": "code",
   "execution_count": 229,
   "id": "3756f286-fd07-4d75-97ea-19b858e59dd7",
   "metadata": {},
   "outputs": [
    {
     "data": {
      "text/plain": [
       "5-element Vector{Int64}:\n",
       " 1\n",
       " 2\n",
       " 1\n",
       " 2\n",
       " 1"
      ]
     },
     "execution_count": 229,
     "metadata": {},
     "output_type": "execute_result"
    }
   ],
   "source": [
    "t = T .* (1 .+ (0:L-1) .% 2)"
   ]
  },
  {
   "cell_type": "code",
   "execution_count": 164,
   "id": "a220e02b-6ffb-4384-bf0e-a0d6439e0d32",
   "metadata": {},
   "outputs": [
    {
     "ename": "LoadError",
     "evalue": "UndefVarError: `construct_disordered_interacting_hamiltonian_next_nearest_neighbor_half_filling` not defined",
     "output_type": "error",
     "traceback": [
      "UndefVarError: `construct_disordered_interacting_hamiltonian_next_nearest_neighbor_half_filling` not defined",
      ""
     ]
    }
   ],
   "source": [
    "construct_disordered_interacting_hamiltonian_next_nearest_neighbor_half_filling"
   ]
  },
  {
   "cell_type": "code",
   "execution_count": 230,
   "id": "1bb0bf77-51fc-4eb0-976c-42ef6ec29877",
   "metadata": {},
   "outputs": [
    {
     "name": "stdout",
     "output_type": "stream",
     "text": [
      "W=0\n",
      "L=4\n",
      "L=6\n",
      "L=8\n",
      "L=10\n",
      "L=12\n",
      "L=14\n"
     ]
    }
   ],
   "source": [
    "Ls=[4,6,8,10,12,14]\n",
    "Ws=collect(range(start=0, stop=0, step=1))\n",
    "disorder_realizations=1\n",
    "T = 1 # random hopping strength\n",
    "JJ=0.05\n",
    "norms=[]\n",
    "norms_frobenius=[]\n",
    "\n",
    "the_norms=[]\n",
    "\n",
    "for W in Ws\n",
    "    println(\"W=\"*string(W))\n",
    "    norms_W=[]\n",
    "    \n",
    "    norms_frobenius_W=[]\n",
    "for L in Ls\n",
    "    println(\"L=\"*string(L))\n",
    "    disorder_realizations_data_L=[]\n",
    "    disorder_realizations_data_L_f=[]\n",
    "    the_map=construct_map_of_n_filling_states(L, div(L,2))\n",
    "\n",
    "    for i=1:disorder_realizations\n",
    "        t = T*ones(Float64, L); #hopping\n",
    "\n",
    "        # alernating hopping\n",
    "        t = T .* (1 .+ (0:L-1) .% 2)\n",
    "\n",
    "        #t = ones(L)\n",
    "        d=Uniform(-1,1)\n",
    "        h = W*rand(d, L); # disordered onsite potentials\n",
    "        J = JJ*ones(Float64, L); # interactions\n",
    "        H_half_filling, max_index_half=construct_disordered_interacting_hamiltonian_next_nearest_neighbor_half_filling(L, J, h, t,the_map, false, \"full\")        \n",
    "        eigenvalues, eigenvectors=eigen(H_half_filling);\n",
    "        N_R_nodiag=get_N_R_operator_eigenstate_basis(L, the_map, eigenvectors, div(L, 2))\n",
    "        norm_M=sqrt(maximum(abs, eigvals(N_R_nodiag*N_R_nodiag')))\n",
    "        push!(disorder_realizations_data_L,norm_M)\n",
    "        push!(the_norms, norm_M)\n",
    "        push!(disorder_realizations_data_L_f,norm(N_R_nodiag))\n",
    "    end\n",
    "    push!(norms_W,disorder_realizations_data_L)\n",
    "    push!(norms_frobenius_W,disorder_realizations_data_L_f)\n",
    "end\n",
    "    #save_object(\"8_4_nonintegrable_M_operator_norm_W=\"*string(W)*\", J=\"*string(JJ)*\", t=\"*string(T)*\".jld2\", norms_W)\n",
    "    #save_object(\"8_4_nonintegrable_M_frobenius_norm_W=\"*string(W)*\", J=\"*string(JJ)*\", t=\"*string(T)*\".jld2\", norms_frobenius_W)\n",
    "\n",
    "    push!(norms, norms_W)\n",
    "    push!(norms_frobenius, norms_frobenius_W)\n",
    "end"
   ]
  },
  {
   "cell_type": "code",
   "execution_count": null,
   "id": "8569ab3a-623d-45fa-b9be-fa7c2d6e2954",
   "metadata": {},
   "outputs": [],
   "source": []
  },
  {
   "cell_type": "code",
   "execution_count": 231,
   "id": "4143a330-6b14-4a8c-a53e-9ce73400a2b1",
   "metadata": {},
   "outputs": [
    {
     "data": {
      "text/plain": [
       "6-element Vector{Float64}:\n",
       "  4.000000000000002\n",
       "  6.000000000000006\n",
       "  8.000000000000002\n",
       " 10.0\n",
       " 12.000000000000005\n",
       " 14.0000000000003"
      ]
     },
     "execution_count": 231,
     "metadata": {},
     "output_type": "execute_result"
    }
   ],
   "source": [
    "4 .* the_norms"
   ]
  },
  {
   "cell_type": "code",
   "execution_count": 232,
   "id": "c41565b0-96ee-4e92-9d86-8859242418b3",
   "metadata": {},
   "outputs": [
    {
     "data": {
      "text/plain": [
       "\"/Users/jessica/git/Square-Spin-Ice/New code/nonintegrable_alternating_hopping_free_M.png\""
      ]
     },
     "execution_count": 232,
     "metadata": {},
     "output_type": "execute_result"
    }
   ],
   "source": [
    "p=plot(Ls,the_norms, linewidth=2, markers=:circle, xticks=(Ls, Ls), ylabel=L\"|\\!|\\hat M|\\!|_{\\mathrm{op}}\",xlabel=L\"L\",label=\"\",dpi=300)\n",
    "savefig(p,\"nonintegrable_alternating_hopping_free_M.png\")"
   ]
  },
  {
   "cell_type": "code",
   "execution_count": 55,
   "id": "7cfb24c1-4db2-43a0-8c9b-69e0ab949720",
   "metadata": {},
   "outputs": [
    {
     "data": {
      "text/plain": [
       "3432×3432 Matrix{Float64}:\n",
       "  0.0           0.0431035     0.00647092   …  -7.31797e-18  -1.45117e-18\n",
       "  0.0431035     0.0           0.000834724      1.87852e-16  -3.8775e-17\n",
       "  0.00647092    0.000834724   0.0             -3.32124e-16  -1.79875e-16\n",
       " -0.024015     -0.00366067   -0.00100403       4.21192e-16  -4.13187e-17\n",
       " -1.80019e-5    8.42862e-5    5.65659e-5       1.6416e-18    9.64846e-19\n",
       "  0.00355437    0.000271836  -1.35453e-7   …  -1.65045e-16   7.86988e-16\n",
       "  6.78494e-5    5.2293e-6    -2.31728e-9      -2.95266e-17   1.46547e-16\n",
       " -0.00101595   -2.23169e-7   -0.000271583     -2.09722e-17   8.32361e-17\n",
       " -0.000603178  -0.000132708  -3.8799e-5        2.65447e-17   1.15409e-17\n",
       "  1.96386e-5    6.65361e-9    5.21048e-6       6.62333e-19  -4.13115e-19\n",
       "  4.92836e-6   -4.26317e-5   -2.01943e-5   …   9.91167e-16   3.36609e-16\n",
       "  4.8869e-6     3.88779e-7    1.55027e-9      -9.81989e-20   1.00118e-18\n",
       "  0.00454205    2.9927e-6    -1.38774e-6      -6.3383e-18   -6.31347e-18\n",
       "  ⋮                                        ⋱   ⋮            \n",
       "  3.42808e-19   3.67687e-18  -5.16057e-18  …   3.79601e-7   -4.85452e-6\n",
       " -6.08892e-19  -1.2384e-19    1.45243e-19      4.26054e-5    5.06739e-6\n",
       "  4.63616e-19  -5.99696e-18  -2.54618e-17      0.000135089  -0.000596415\n",
       " -4.646e-18     2.08546e-15   9.43852e-16     -7.70933e-9   -1.94183e-5\n",
       "  1.71323e-18  -4.36984e-17  -4.30658e-17     -2.05686e-7   -0.00101898\n",
       " -2.31019e-17   1.60475e-15  -8.90618e-16  …  -5.04816e-6    6.72546e-5\n",
       "  1.48667e-18  -3.69498e-17   4.34819e-17     -0.000266142   0.00357422\n",
       " -5.22769e-19  -4.17663e-20  -3.13242e-19      8.43708e-5    1.78458e-5\n",
       "  1.00242e-19   1.44674e-17  -2.56866e-16     -0.00363981    0.0237983\n",
       "  1.31186e-18  -4.2811e-16    5.71752e-16     -0.000828741   0.00643041\n",
       " -7.31797e-18   1.87852e-16  -3.32124e-16  …   0.0           0.0420009\n",
       " -1.45117e-18  -3.8775e-17   -1.79875e-16      0.0420009     0.0"
      ]
     },
     "execution_count": 55,
     "metadata": {},
     "output_type": "execute_result"
    }
   ],
   "source": [
    "L=14\n",
    "W=10\n",
    "JJ=0.01\n",
    "t = T*ones(Float64, L); #hopping\n",
    "#t = ones(L)\n",
    "d=Uniform(-1,1)\n",
    "the_map=construct_map_of_n_filling_states(L, div(L,2))\n",
    "h = W*rand(d, L); # disordered onsite potentials\n",
    "J = JJ*ones(Float64, L); # interactions\n",
    "H_half_filling, max_index_half=construct_disordered_interacting_hamiltonian_nearest_neighbor_half_filling(L, J, h, t,the_map, false, \"full\")        \n",
    "eigenvalues, eigenvectors=eigen(H_half_filling);\n",
    "N_R_nodiag=get_N_R_operator_eigenstate_basis(L, the_map, eigenvectors, div(L, 2))"
   ]
  },
  {
   "cell_type": "code",
   "execution_count": 67,
   "id": "e89038f7-593b-4ffb-b3ed-9e81e404e280",
   "metadata": {},
   "outputs": [
    {
     "data": {
      "text/plain": [
       "3432×3432 Matrix{Float64}:\n",
       "  5.1264e-6    -0.000313365   0.000267452  …  -7.60012e-5   -4.70044e-6\n",
       " -0.000313365   0.00623453   -0.00268208      -4.10788e-6    9.92903e-5\n",
       "  0.000267452  -0.00268208   -0.00296469      -2.48767e-5    3.79429e-6\n",
       "  2.75852e-6   -0.0038703     0.00787594       9.48059e-7    5.41247e-5\n",
       " -5.02436e-6   -1.68263e-5    0.000131105      8.92098e-6   -7.2049e-7\n",
       " -8.20004e-5    0.00155193   -0.000655013  …  -2.56576e-5   -0.000391257\n",
       " -4.46913e-5    7.18536e-5    6.36554e-5       7.72595e-6   -3.70941e-6\n",
       " -5.63557e-5    0.000670641   0.000728194      4.68019e-6    3.01626e-5\n",
       "  0.00131558   -0.0173415    -0.00614722       3.65611e-6    2.32814e-5\n",
       "  0.000411169   6.04655e-5   -0.000112515     -3.2855e-5    -1.35384e-6\n",
       "  3.23413e-6    1.0165e-5     2.54005e-5   …  -7.15776e-6    1.32407e-6\n",
       "  5.09954e-5   -4.65422e-5    3.84806e-5      -3.78442e-6   -3.23465e-5\n",
       "  3.8943e-6     0.000937899  -0.00193509       1.39121e-5    0.00021136\n",
       "  ⋮                                        ⋱   ⋮            \n",
       " -5.12242e-5   -5.01854e-6    0.000102031  …  -1.7967e-5    -0.000532461\n",
       " -3.47887e-7    1.86489e-5   -3.87505e-5       1.77928e-5   -5.59296e-5\n",
       " -1.51105e-5    1.79875e-6   -9.74808e-6      -0.00140284   -9.1868e-5\n",
       " -3.44873e-6    7.40627e-5    0.000152787      1.92971e-5   -4.51297e-5\n",
       " -2.85739e-5    3.81203e-6   -7.43696e-6       6.01808e-5    1.86602e-5\n",
       "  1.60236e-5    1.89608e-5   -8.88577e-5   …   3.767e-5     -0.000494145\n",
       "  0.000377476  -8.73523e-6   -9.50971e-6       0.000160384  -0.000127799\n",
       " -6.77281e-7    2.48845e-5   -7.22811e-6       2.42147e-5   -3.02477e-5\n",
       "  4.20858e-5   -1.84133e-5    9.25306e-6       0.000314059  -1.79332e-5\n",
       " -4.94674e-6   -1.25795e-5    1.5935e-5       -0.000232666  -3.48268e-5\n",
       " -7.60012e-5   -4.10788e-6   -2.48767e-5   …   0.000482973   6.32135e-5\n",
       " -4.70044e-6    9.92903e-5    3.79429e-6       6.32135e-5    1.60471e-6"
      ]
     },
     "execution_count": 67,
     "metadata": {},
     "output_type": "execute_result"
    }
   ],
   "source": [
    "eigenvectors'*N_R_nodiag*eigenvectors"
   ]
  },
  {
   "cell_type": "code",
   "execution_count": 57,
   "id": "7cfa5e89-903e-4ca4-be40-375ec9b5eca6",
   "metadata": {},
   "outputs": [
    {
     "data": {
      "text/plain": [
       "3.9197261831146486"
      ]
     },
     "execution_count": 57,
     "metadata": {},
     "output_type": "execute_result"
    }
   ],
   "source": [
    "norm(N_R_nodiag)\n"
   ]
  },
  {
   "cell_type": "code",
   "execution_count": 66,
   "id": "d68d39c3-7610-4e1c-a62f-4b74f90dd9f9",
   "metadata": {},
   "outputs": [
    {
     "data": {
      "text/plain": [
       "3432×3432 Matrix{Float64}:\n",
       "  5.1264e-6    -0.000313365   0.000267452  …  -7.60012e-5   -4.70044e-6\n",
       " -0.000313365   0.00623453   -0.00268208      -4.10788e-6    9.92903e-5\n",
       "  0.000267452  -0.00268208   -0.00296469      -2.48767e-5    3.79429e-6\n",
       "  2.75852e-6   -0.0038703     0.00787594       9.48059e-7    5.41247e-5\n",
       " -5.02436e-6   -1.68263e-5    0.000131105      8.92098e-6   -7.2049e-7\n",
       " -8.20004e-5    0.00155193   -0.000655013  …  -2.56576e-5   -0.000391257\n",
       " -4.46913e-5    7.18536e-5    6.36554e-5       7.72595e-6   -3.70941e-6\n",
       " -5.63557e-5    0.000670641   0.000728194      4.68019e-6    3.01626e-5\n",
       "  0.00131558   -0.0173415    -0.00614722       3.65611e-6    2.32814e-5\n",
       "  0.000411169   6.04655e-5   -0.000112515     -3.2855e-5    -1.35384e-6\n",
       "  3.23413e-6    1.0165e-5     2.54005e-5   …  -7.15776e-6    1.32407e-6\n",
       "  5.09954e-5   -4.65422e-5    3.84806e-5      -3.78442e-6   -3.23465e-5\n",
       "  3.8943e-6     0.000937899  -0.00193509       1.39121e-5    0.00021136\n",
       "  ⋮                                        ⋱   ⋮            \n",
       " -5.12242e-5   -5.01854e-6    0.000102031  …  -1.7967e-5    -0.000532461\n",
       " -3.47887e-7    1.86489e-5   -3.87505e-5       1.77928e-5   -5.59296e-5\n",
       " -1.51105e-5    1.79875e-6   -9.74808e-6      -0.00140284   -9.1868e-5\n",
       " -3.44873e-6    7.40627e-5    0.000152787      1.92971e-5   -4.51297e-5\n",
       " -2.85739e-5    3.81203e-6   -7.43696e-6       6.01808e-5    1.86602e-5\n",
       "  1.60236e-5    1.89608e-5   -8.88577e-5   …   3.767e-5     -0.000494145\n",
       "  0.000377476  -8.73523e-6   -9.50971e-6       0.000160384  -0.000127799\n",
       " -6.77281e-7    2.48845e-5   -7.22811e-6       2.42147e-5   -3.02477e-5\n",
       "  4.20858e-5   -1.84133e-5    9.25306e-6       0.000314059  -1.79332e-5\n",
       " -4.94674e-6   -1.25795e-5    1.5935e-5       -0.000232666  -3.48268e-5\n",
       " -7.60012e-5   -4.10788e-6   -2.48767e-5   …   0.000482973   6.32135e-5\n",
       " -4.70044e-6    9.92903e-5    3.79429e-6       6.32135e-5    1.60471e-6"
      ]
     },
     "execution_count": 66,
     "metadata": {},
     "output_type": "execute_result"
    }
   ],
   "source": [
    "computational_basis_N_R=(eigenvectors'*N_R_nodiag*eigenvectors)"
   ]
  },
  {
   "cell_type": "code",
   "execution_count": 58,
   "id": "467fed1a-51b2-460f-a92e-20ab27f9caba",
   "metadata": {},
   "outputs": [
    {
     "data": {
      "text/plain": [
       "0.13382570557208998"
      ]
     },
     "execution_count": 58,
     "metadata": {},
     "output_type": "execute_result"
    }
   ],
   "source": [
    "computational_basis_N_R[1,2]"
   ]
  },
  {
   "cell_type": "code",
   "execution_count": 59,
   "id": "2c4af101-9220-4c20-91e3-1b4d3e0ae75a",
   "metadata": {},
   "outputs": [
    {
     "data": {
      "text/plain": [
       "3432×3432 Matrix{Float64}:\n",
       "  0.0           0.0431035     0.00647092   …  -7.31797e-18  -1.45117e-18\n",
       "  0.0431035     0.0           0.000834724      1.87852e-16  -3.8775e-17\n",
       "  0.00647092    0.000834724   0.0             -3.32124e-16  -1.79875e-16\n",
       " -0.024015     -0.00366067   -0.00100403       4.21192e-16  -4.13187e-17\n",
       " -1.80019e-5    8.42862e-5    5.65659e-5       1.6416e-18    9.64846e-19\n",
       "  0.00355437    0.000271836  -1.35453e-7   …  -1.65045e-16   7.86988e-16\n",
       "  6.78494e-5    5.2293e-6    -2.31728e-9      -2.95266e-17   1.46547e-16\n",
       " -0.00101595   -2.23169e-7   -0.000271583     -2.09722e-17   8.32361e-17\n",
       " -0.000603178  -0.000132708  -3.8799e-5        2.65447e-17   1.15409e-17\n",
       "  1.96386e-5    6.65361e-9    5.21048e-6       6.62333e-19  -4.13115e-19\n",
       "  4.92836e-6   -4.26317e-5   -2.01943e-5   …   9.91167e-16   3.36609e-16\n",
       "  4.8869e-6     3.88779e-7    1.55027e-9      -9.81989e-20   1.00118e-18\n",
       "  0.00454205    2.9927e-6    -1.38774e-6      -6.3383e-18   -6.31347e-18\n",
       "  ⋮                                        ⋱   ⋮            \n",
       "  3.42808e-19   3.67687e-18  -5.16057e-18  …   3.79601e-7   -4.85452e-6\n",
       " -6.08892e-19  -1.2384e-19    1.45243e-19      4.26054e-5    5.06739e-6\n",
       "  4.63616e-19  -5.99696e-18  -2.54618e-17      0.000135089  -0.000596415\n",
       " -4.646e-18     2.08546e-15   9.43852e-16     -7.70933e-9   -1.94183e-5\n",
       "  1.71323e-18  -4.36984e-17  -4.30658e-17     -2.05686e-7   -0.00101898\n",
       " -2.31019e-17   1.60475e-15  -8.90618e-16  …  -5.04816e-6    6.72546e-5\n",
       "  1.48667e-18  -3.69498e-17   4.34819e-17     -0.000266142   0.00357422\n",
       " -5.22769e-19  -4.17663e-20  -3.13242e-19      8.43708e-5    1.78458e-5\n",
       "  1.00242e-19   1.44674e-17  -2.56866e-16     -0.00363981    0.0237983\n",
       "  1.31186e-18  -4.2811e-16    5.71752e-16     -0.000828741   0.00643041\n",
       " -7.31797e-18   1.87852e-16  -3.32124e-16  …   0.0           0.0420009\n",
       " -1.45117e-18  -3.8775e-17   -1.79875e-16      0.0420009     0.0"
      ]
     },
     "execution_count": 59,
     "metadata": {},
     "output_type": "execute_result"
    }
   ],
   "source": [
    "N_R_nodiag"
   ]
  },
  {
   "cell_type": "code",
   "execution_count": 60,
   "id": "2cac3d61-bff8-4472-a54e-d90e6b65785d",
   "metadata": {},
   "outputs": [
    {
     "data": {
      "text/plain": [
       "3432×3432 Matrix{Float64}:\n",
       " 0.0  0.0  0.0  0.0  0.0  0.0  0.0  0.0  …  0.0  0.0  0.0  0.0  0.0  0.0  0.0\n",
       " 0.0  1.0  0.0  0.0  0.0  0.0  0.0  0.0     0.0  0.0  0.0  0.0  0.0  0.0  0.0\n",
       " 0.0  0.0  1.0  0.0  0.0  0.0  0.0  0.0     0.0  0.0  0.0  0.0  0.0  0.0  0.0\n",
       " 0.0  0.0  0.0  1.0  0.0  0.0  0.0  0.0     0.0  0.0  0.0  0.0  0.0  0.0  0.0\n",
       " 0.0  0.0  0.0  0.0  1.0  0.0  0.0  0.0     0.0  0.0  0.0  0.0  0.0  0.0  0.0\n",
       " 0.0  0.0  0.0  0.0  0.0  1.0  0.0  0.0  …  0.0  0.0  0.0  0.0  0.0  0.0  0.0\n",
       " 0.0  0.0  0.0  0.0  0.0  0.0  1.0  0.0     0.0  0.0  0.0  0.0  0.0  0.0  0.0\n",
       " 0.0  0.0  0.0  0.0  0.0  0.0  0.0  1.0     0.0  0.0  0.0  0.0  0.0  0.0  0.0\n",
       " 0.0  0.0  0.0  0.0  0.0  0.0  0.0  0.0     0.0  0.0  0.0  0.0  0.0  0.0  0.0\n",
       " 0.0  0.0  0.0  0.0  0.0  0.0  0.0  0.0     0.0  0.0  0.0  0.0  0.0  0.0  0.0\n",
       " 0.0  0.0  0.0  0.0  0.0  0.0  0.0  0.0  …  0.0  0.0  0.0  0.0  0.0  0.0  0.0\n",
       " 0.0  0.0  0.0  0.0  0.0  0.0  0.0  0.0     0.0  0.0  0.0  0.0  0.0  0.0  0.0\n",
       " 0.0  0.0  0.0  0.0  0.0  0.0  0.0  0.0     0.0  0.0  0.0  0.0  0.0  0.0  0.0\n",
       " ⋮                        ⋮              ⋱  ⋮                        ⋮    \n",
       " 0.0  0.0  0.0  0.0  0.0  0.0  0.0  0.0  …  0.0  0.0  0.0  0.0  0.0  0.0  0.0\n",
       " 0.0  0.0  0.0  0.0  0.0  0.0  0.0  0.0     0.0  0.0  0.0  0.0  0.0  0.0  0.0\n",
       " 0.0  0.0  0.0  0.0  0.0  0.0  0.0  0.0     0.0  0.0  0.0  0.0  0.0  0.0  0.0\n",
       " 0.0  0.0  0.0  0.0  0.0  0.0  0.0  0.0     0.0  0.0  0.0  0.0  0.0  0.0  0.0\n",
       " 0.0  0.0  0.0  0.0  0.0  0.0  0.0  0.0     0.0  0.0  0.0  0.0  0.0  0.0  0.0\n",
       " 0.0  0.0  0.0  0.0  0.0  0.0  0.0  0.0  …  6.0  0.0  0.0  0.0  0.0  0.0  0.0\n",
       " 0.0  0.0  0.0  0.0  0.0  0.0  0.0  0.0     0.0  6.0  0.0  0.0  0.0  0.0  0.0\n",
       " 0.0  0.0  0.0  0.0  0.0  0.0  0.0  0.0     0.0  0.0  6.0  0.0  0.0  0.0  0.0\n",
       " 0.0  0.0  0.0  0.0  0.0  0.0  0.0  0.0     0.0  0.0  0.0  6.0  0.0  0.0  0.0\n",
       " 0.0  0.0  0.0  0.0  0.0  0.0  0.0  0.0     0.0  0.0  0.0  0.0  6.0  0.0  0.0\n",
       " 0.0  0.0  0.0  0.0  0.0  0.0  0.0  0.0  …  0.0  0.0  0.0  0.0  0.0  6.0  0.0\n",
       " 0.0  0.0  0.0  0.0  0.0  0.0  0.0  0.0     0.0  0.0  0.0  0.0  0.0  0.0  7.0"
      ]
     },
     "execution_count": 60,
     "metadata": {},
     "output_type": "execute_result"
    }
   ],
   "source": [
    "get_N_R_operator(L, the_map, div(L, 2))"
   ]
  },
  {
   "cell_type": "code",
   "execution_count": 61,
   "id": "f5be4dc9-e23c-40d9-8b4c-e100426e9e6f",
   "metadata": {},
   "outputs": [
    {
     "data": {
      "text/plain": [
       "Dict{Int64, Int64} with 3432 entries:\n",
       "  15889 => 30\n",
       "  8690  => 1635\n",
       "  9773  => 1373\n",
       "  8437  => 1693\n",
       "  1703  => 3202\n",
       "  3406  => 2818\n",
       "  2876  => 2948\n",
       "  11335 => 987\n",
       "  687   => 3388\n",
       "  11081 => 1035\n",
       "  10631 => 1163\n",
       "  3719  => 2731\n",
       "  13701 => 434\n",
       "  12598 => 725\n",
       "  637   => 3391\n",
       "  9523  => 1441\n",
       "  3163  => 2884\n",
       "  1276  => 3285\n",
       "  14085 => 357\n",
       "  3762  => 2714\n",
       "  10454 => 1212\n",
       "  9387  => 1479\n",
       "  15688 => 46\n",
       "  9956  => 1313\n",
       "  2746  => 2984\n",
       "  ⋮     => ⋮"
      ]
     },
     "execution_count": 61,
     "metadata": {},
     "output_type": "execute_result"
    }
   ],
   "source": [
    "the_map"
   ]
  },
  {
   "cell_type": "code",
   "execution_count": 47,
   "id": "bd536381-91e1-4d76-9c9a-57a3d28ea63d",
   "metadata": {},
   "outputs": [
    {
     "data": {
      "text/plain": [
       "Dict{Int64, Int64} with 3432 entries:\n",
       "  15889 => 30\n",
       "  8690  => 1635\n",
       "  9773  => 1373\n",
       "  8437  => 1693\n",
       "  1703  => 3202\n",
       "  3406  => 2818\n",
       "  2876  => 2948\n",
       "  11335 => 987\n",
       "  687   => 3388\n",
       "  11081 => 1035\n",
       "  10631 => 1163\n",
       "  3719  => 2731\n",
       "  13701 => 434\n",
       "  12598 => 725\n",
       "  637   => 3391\n",
       "  9523  => 1441\n",
       "  3163  => 2884\n",
       "  1276  => 3285\n",
       "  14085 => 357\n",
       "  3762  => 2714\n",
       "  10454 => 1212\n",
       "  9387  => 1479\n",
       "  15688 => 46\n",
       "  9956  => 1313\n",
       "  2746  => 2984\n",
       "  ⋮     => ⋮"
      ]
     },
     "execution_count": 47,
     "metadata": {},
     "output_type": "execute_result"
    }
   ],
   "source": [
    "the_map=construct_map_of_n_filling_states(L, div(L,2))\n"
   ]
  },
  {
   "cell_type": "code",
   "execution_count": 51,
   "id": "d7ee2691-68a7-4ca5-bb0e-4233ecb06e97",
   "metadata": {},
   "outputs": [
    {
     "data": {
      "text/plain": [
       "3432×3432 Matrix{Float64}:\n",
       " 0.0  0.0  0.0  0.0  0.0  0.0  0.0  0.0  …  0.0  0.0  0.0  0.0  0.0  0.0  0.0\n",
       " 0.0  1.0  0.0  0.0  0.0  0.0  0.0  0.0     0.0  0.0  0.0  0.0  0.0  0.0  0.0\n",
       " 0.0  0.0  1.0  0.0  0.0  0.0  0.0  0.0     0.0  0.0  0.0  0.0  0.0  0.0  0.0\n",
       " 0.0  0.0  0.0  1.0  0.0  0.0  0.0  0.0     0.0  0.0  0.0  0.0  0.0  0.0  0.0\n",
       " 0.0  0.0  0.0  0.0  1.0  0.0  0.0  0.0     0.0  0.0  0.0  0.0  0.0  0.0  0.0\n",
       " 0.0  0.0  0.0  0.0  0.0  1.0  0.0  0.0  …  0.0  0.0  0.0  0.0  0.0  0.0  0.0\n",
       " 0.0  0.0  0.0  0.0  0.0  0.0  1.0  0.0     0.0  0.0  0.0  0.0  0.0  0.0  0.0\n",
       " 0.0  0.0  0.0  0.0  0.0  0.0  0.0  1.0     0.0  0.0  0.0  0.0  0.0  0.0  0.0\n",
       " 0.0  0.0  0.0  0.0  0.0  0.0  0.0  0.0     0.0  0.0  0.0  0.0  0.0  0.0  0.0\n",
       " 0.0  0.0  0.0  0.0  0.0  0.0  0.0  0.0     0.0  0.0  0.0  0.0  0.0  0.0  0.0\n",
       " 0.0  0.0  0.0  0.0  0.0  0.0  0.0  0.0  …  0.0  0.0  0.0  0.0  0.0  0.0  0.0\n",
       " 0.0  0.0  0.0  0.0  0.0  0.0  0.0  0.0     0.0  0.0  0.0  0.0  0.0  0.0  0.0\n",
       " 0.0  0.0  0.0  0.0  0.0  0.0  0.0  0.0     0.0  0.0  0.0  0.0  0.0  0.0  0.0\n",
       " ⋮                        ⋮              ⋱  ⋮                        ⋮    \n",
       " 0.0  0.0  0.0  0.0  0.0  0.0  0.0  0.0  …  0.0  0.0  0.0  0.0  0.0  0.0  0.0\n",
       " 0.0  0.0  0.0  0.0  0.0  0.0  0.0  0.0     0.0  0.0  0.0  0.0  0.0  0.0  0.0\n",
       " 0.0  0.0  0.0  0.0  0.0  0.0  0.0  0.0     0.0  0.0  0.0  0.0  0.0  0.0  0.0\n",
       " 0.0  0.0  0.0  0.0  0.0  0.0  0.0  0.0     0.0  0.0  0.0  0.0  0.0  0.0  0.0\n",
       " 0.0  0.0  0.0  0.0  0.0  0.0  0.0  0.0     0.0  0.0  0.0  0.0  0.0  0.0  0.0\n",
       " 0.0  0.0  0.0  0.0  0.0  0.0  0.0  0.0  …  6.0  0.0  0.0  0.0  0.0  0.0  0.0\n",
       " 0.0  0.0  0.0  0.0  0.0  0.0  0.0  0.0     0.0  6.0  0.0  0.0  0.0  0.0  0.0\n",
       " 0.0  0.0  0.0  0.0  0.0  0.0  0.0  0.0     0.0  0.0  6.0  0.0  0.0  0.0  0.0\n",
       " 0.0  0.0  0.0  0.0  0.0  0.0  0.0  0.0     0.0  0.0  0.0  6.0  0.0  0.0  0.0\n",
       " 0.0  0.0  0.0  0.0  0.0  0.0  0.0  0.0     0.0  0.0  0.0  0.0  6.0  0.0  0.0\n",
       " 0.0  0.0  0.0  0.0  0.0  0.0  0.0  0.0  …  0.0  0.0  0.0  0.0  0.0  6.0  0.0\n",
       " 0.0  0.0  0.0  0.0  0.0  0.0  0.0  0.0     0.0  0.0  0.0  0.0  0.0  0.0  7.0"
      ]
     },
     "execution_count": 51,
     "metadata": {},
     "output_type": "execute_result"
    }
   ],
   "source": [
    "get_N_R_operator(L, the_map, div(L, 2))"
   ]
  },
  {
   "cell_type": "code",
   "execution_count": 50,
   "id": "6f87c4b6-2adc-4c5c-b3da-a24baac9ab7c",
   "metadata": {},
   "outputs": [
    {
     "data": {
      "text/plain": [
       "Dict{Int64, Int64} with 3432 entries:\n",
       "  11279 => 1002\n",
       "  9676  => 1390\n",
       "  9923  => 1325\n",
       "  15889 => 30\n",
       "  8690  => 1635\n",
       "  9773  => 1373\n",
       "  8437  => 1693\n",
       "  1703  => 3202\n",
       "  12953 => 624\n",
       "  10453 => 1213\n",
       "  1438  => 3259\n",
       "  3406  => 2818\n",
       "  699   => 3386\n",
       "  12716 => 686\n",
       "  2876  => 2948\n",
       "  11335 => 987\n",
       "  687   => 3388\n",
       "  4978  => 2468\n",
       "  14930 => 177\n",
       "  11480 => 938\n",
       "  13404 => 516\n",
       "  638   => 3390\n",
       "  11081 => 1035\n",
       "  2398  => 3064\n",
       "  10631 => 1163\n",
       "  ⋮     => ⋮"
      ]
     },
     "execution_count": 50,
     "metadata": {},
     "output_type": "execute_result"
    }
   ],
   "source": [
    "N_R_nodiag=get_N_R_operator_eigenstate_basis(L, the_map, eigenvectors, div(L, 2))"
   ]
  },
  {
   "cell_type": "code",
   "execution_count": null,
   "id": "29173bad-e920-43c1-a9c6-690916bf6cea",
   "metadata": {},
   "outputs": [],
   "source": []
  }
 ],
 "metadata": {
  "kernelspec": {
   "display_name": "Julia 1.10.2",
   "language": "julia",
   "name": "julia-1.10"
  },
  "language_info": {
   "file_extension": ".jl",
   "mimetype": "application/julia",
   "name": "julia",
   "version": "1.10.2"
  }
 },
 "nbformat": 4,
 "nbformat_minor": 5
}
